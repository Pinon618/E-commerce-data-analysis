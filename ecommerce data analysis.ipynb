{
  "nbformat": 4,
  "nbformat_minor": 0,
  "metadata": {
    "colab": {
      "provenance": []
    },
    "kernelspec": {
      "name": "python3",
      "display_name": "Python 3"
    },
    "language_info": {
      "name": "python"
    }
  },
  "cells": [
    {
      "cell_type": "code",
      "execution_count": null,
      "metadata": {
        "id": "bHy1aQEg2Q_I"
      },
      "outputs": [],
      "source": [
        "import pandas as pd\n",
        "import numpy as np\n",
        "import matplotlib.pyplot as plt\n",
        "import seaborn as sns\n",
        "import scipy.stats as stats\n",
        "import plotly.express as px"
      ]
    },
    {
      "cell_type": "code",
      "source": [
        "from google.colab import drive\n",
        "drive.mount('/content/drive')"
      ],
      "metadata": {
        "colab": {
          "base_uri": "https://localhost:8080/"
        },
        "id": "0lxdtay3psPS",
        "outputId": "a495fa10-71d5-4fca-c5a7-bf102dd5cb22"
      },
      "execution_count": null,
      "outputs": [
        {
          "output_type": "stream",
          "name": "stdout",
          "text": [
            "Mounted at /content/drive\n"
          ]
        }
      ]
    },
    {
      "cell_type": "code",
      "source": [
        "df = pd.read_csv(\"/content/ecommerce_customer_behavior_dataset.csv\")"
      ],
      "metadata": {
        "id": "64ry2DVFe37e"
      },
      "execution_count": null,
      "outputs": []
    },
    {
      "cell_type": "code",
      "source": [
        "df = pd.read_csv(\"/content/drive/MyDrive/Colab Notebooks/ecommerce_customer_behavior_dataset.csv\")"
      ],
      "metadata": {
        "id": "A95eUiUgE-Ss"
      },
      "execution_count": null,
      "outputs": []
    },
    {
      "cell_type": "code",
      "source": [
        "df = pd.read_excel(\"/content/ecommerce_customer_behavior_dataset.xlsx\")"
      ],
      "metadata": {
        "id": "TWXnBXZsqUem"
      },
      "execution_count": null,
      "outputs": []
    },
    {
      "cell_type": "code",
      "source": [
        "df.info()"
      ],
      "metadata": {
        "colab": {
          "base_uri": "https://localhost:8080/"
        },
        "id": "Jy1iIRw048cK",
        "outputId": "994170d1-01eb-40a8-d4b9-25e89cdebe52"
      },
      "execution_count": null,
      "outputs": [
        {
          "output_type": "stream",
          "name": "stdout",
          "text": [
            "<class 'pandas.core.frame.DataFrame'>\n",
            "RangeIndex: 10000 entries, 0 to 9999\n",
            "Data columns (total 16 columns):\n",
            " #   Column                       Non-Null Count  Dtype  \n",
            "---  ------                       --------------  -----  \n",
            " 0   Customer ID                  10000 non-null  int64  \n",
            " 1   Age                          10000 non-null  int64  \n",
            " 2   Gender                       10000 non-null  object \n",
            " 3   Location                     10000 non-null  object \n",
            " 4   Product Category             10000 non-null  object \n",
            " 5   Purchase Amount ($)          10000 non-null  float64\n",
            " 6   Time Spent on Website (min)  10000 non-null  int64  \n",
            " 7   Device Type                  10000 non-null  object \n",
            " 8   Payment Method               10000 non-null  object \n",
            " 9   Discount Availed             10000 non-null  bool   \n",
            " 10  Number of Items Purchased    10000 non-null  int64  \n",
            " 11  Return Customer              10000 non-null  bool   \n",
            " 12  Review Score (1-5)           10000 non-null  int64  \n",
            " 13  Delivery Time (days)         10000 non-null  int64  \n",
            " 14  Subscription Status          10000 non-null  object \n",
            " 15  Customer Satisfaction        10000 non-null  object \n",
            "dtypes: bool(2), float64(1), int64(6), object(7)\n",
            "memory usage: 1.1+ MB\n"
          ]
        }
      ]
    },
    {
      "cell_type": "code",
      "source": [
        "df.head()"
      ],
      "metadata": {
        "colab": {
          "base_uri": "https://localhost:8080/",
          "height": 382
        },
        "id": "bSWsmldj3GEw",
        "outputId": "c9b68fae-7eaa-4277-fb4e-1628c04a921d"
      },
      "execution_count": null,
      "outputs": [
        {
          "output_type": "execute_result",
          "data": {
            "text/plain": [
              "   Customer ID  Age Gender  Location Product Category  Purchase Amount ($)  \\\n",
              "0            1   20  Other     Dhaka             Toys               202.54   \n",
              "1            2   39   Male   Rangpur           Sports               655.94   \n",
              "2            3   64   Male    Khulna             Home               963.65   \n",
              "3            4   65  Other  Rajshahi           Beauty               485.59   \n",
              "4            5   67   Male   Rangpur             Home               143.27   \n",
              "\n",
              "   Time Spent on Website (min) Device Type    Payment Method  \\\n",
              "0                           44      Mobile  Cash on Delivery   \n",
              "1                           27     Desktop     Bank Transfer   \n",
              "2                            9      Tablet     Bank Transfer   \n",
              "3                           39     Desktop     Bank Transfer   \n",
              "4                           17      Tablet        Debit Card   \n",
              "\n",
              "   Discount Availed  Number of Items Purchased  Return Customer  \\\n",
              "0              True                          4             True   \n",
              "1              True                          1            False   \n",
              "2             False                          8             True   \n",
              "3              True                          1             True   \n",
              "4             False                          8             True   \n",
              "\n",
              "   Review Score (1-5)  Delivery Time (days) Subscription Status  \\\n",
              "0                   5                     4                Free   \n",
              "1                   1                     7                Free   \n",
              "2                   4                     9             Premium   \n",
              "3                   5                    10               Trial   \n",
              "4                   4                     1             Premium   \n",
              "\n",
              "  Customer Satisfaction  \n",
              "0                   Low  \n",
              "1                Medium  \n",
              "2                Medium  \n",
              "3                Medium  \n",
              "4                  High  "
            ],
            "text/html": [
              "\n",
              "  <div id=\"df-bfcce147-5f97-4781-8d27-9e105de40ea2\" class=\"colab-df-container\">\n",
              "    <div>\n",
              "<style scoped>\n",
              "    .dataframe tbody tr th:only-of-type {\n",
              "        vertical-align: middle;\n",
              "    }\n",
              "\n",
              "    .dataframe tbody tr th {\n",
              "        vertical-align: top;\n",
              "    }\n",
              "\n",
              "    .dataframe thead th {\n",
              "        text-align: right;\n",
              "    }\n",
              "</style>\n",
              "<table border=\"1\" class=\"dataframe\">\n",
              "  <thead>\n",
              "    <tr style=\"text-align: right;\">\n",
              "      <th></th>\n",
              "      <th>Customer ID</th>\n",
              "      <th>Age</th>\n",
              "      <th>Gender</th>\n",
              "      <th>Location</th>\n",
              "      <th>Product Category</th>\n",
              "      <th>Purchase Amount ($)</th>\n",
              "      <th>Time Spent on Website (min)</th>\n",
              "      <th>Device Type</th>\n",
              "      <th>Payment Method</th>\n",
              "      <th>Discount Availed</th>\n",
              "      <th>Number of Items Purchased</th>\n",
              "      <th>Return Customer</th>\n",
              "      <th>Review Score (1-5)</th>\n",
              "      <th>Delivery Time (days)</th>\n",
              "      <th>Subscription Status</th>\n",
              "      <th>Customer Satisfaction</th>\n",
              "    </tr>\n",
              "  </thead>\n",
              "  <tbody>\n",
              "    <tr>\n",
              "      <th>0</th>\n",
              "      <td>1</td>\n",
              "      <td>20</td>\n",
              "      <td>Other</td>\n",
              "      <td>Dhaka</td>\n",
              "      <td>Toys</td>\n",
              "      <td>202.54</td>\n",
              "      <td>44</td>\n",
              "      <td>Mobile</td>\n",
              "      <td>Cash on Delivery</td>\n",
              "      <td>True</td>\n",
              "      <td>4</td>\n",
              "      <td>True</td>\n",
              "      <td>5</td>\n",
              "      <td>4</td>\n",
              "      <td>Free</td>\n",
              "      <td>Low</td>\n",
              "    </tr>\n",
              "    <tr>\n",
              "      <th>1</th>\n",
              "      <td>2</td>\n",
              "      <td>39</td>\n",
              "      <td>Male</td>\n",
              "      <td>Rangpur</td>\n",
              "      <td>Sports</td>\n",
              "      <td>655.94</td>\n",
              "      <td>27</td>\n",
              "      <td>Desktop</td>\n",
              "      <td>Bank Transfer</td>\n",
              "      <td>True</td>\n",
              "      <td>1</td>\n",
              "      <td>False</td>\n",
              "      <td>1</td>\n",
              "      <td>7</td>\n",
              "      <td>Free</td>\n",
              "      <td>Medium</td>\n",
              "    </tr>\n",
              "    <tr>\n",
              "      <th>2</th>\n",
              "      <td>3</td>\n",
              "      <td>64</td>\n",
              "      <td>Male</td>\n",
              "      <td>Khulna</td>\n",
              "      <td>Home</td>\n",
              "      <td>963.65</td>\n",
              "      <td>9</td>\n",
              "      <td>Tablet</td>\n",
              "      <td>Bank Transfer</td>\n",
              "      <td>False</td>\n",
              "      <td>8</td>\n",
              "      <td>True</td>\n",
              "      <td>4</td>\n",
              "      <td>9</td>\n",
              "      <td>Premium</td>\n",
              "      <td>Medium</td>\n",
              "    </tr>\n",
              "    <tr>\n",
              "      <th>3</th>\n",
              "      <td>4</td>\n",
              "      <td>65</td>\n",
              "      <td>Other</td>\n",
              "      <td>Rajshahi</td>\n",
              "      <td>Beauty</td>\n",
              "      <td>485.59</td>\n",
              "      <td>39</td>\n",
              "      <td>Desktop</td>\n",
              "      <td>Bank Transfer</td>\n",
              "      <td>True</td>\n",
              "      <td>1</td>\n",
              "      <td>True</td>\n",
              "      <td>5</td>\n",
              "      <td>10</td>\n",
              "      <td>Trial</td>\n",
              "      <td>Medium</td>\n",
              "    </tr>\n",
              "    <tr>\n",
              "      <th>4</th>\n",
              "      <td>5</td>\n",
              "      <td>67</td>\n",
              "      <td>Male</td>\n",
              "      <td>Rangpur</td>\n",
              "      <td>Home</td>\n",
              "      <td>143.27</td>\n",
              "      <td>17</td>\n",
              "      <td>Tablet</td>\n",
              "      <td>Debit Card</td>\n",
              "      <td>False</td>\n",
              "      <td>8</td>\n",
              "      <td>True</td>\n",
              "      <td>4</td>\n",
              "      <td>1</td>\n",
              "      <td>Premium</td>\n",
              "      <td>High</td>\n",
              "    </tr>\n",
              "  </tbody>\n",
              "</table>\n",
              "</div>\n",
              "    <div class=\"colab-df-buttons\">\n",
              "\n",
              "  <div class=\"colab-df-container\">\n",
              "    <button class=\"colab-df-convert\" onclick=\"convertToInteractive('df-bfcce147-5f97-4781-8d27-9e105de40ea2')\"\n",
              "            title=\"Convert this dataframe to an interactive table.\"\n",
              "            style=\"display:none;\">\n",
              "\n",
              "  <svg xmlns=\"http://www.w3.org/2000/svg\" height=\"24px\" viewBox=\"0 -960 960 960\">\n",
              "    <path d=\"M120-120v-720h720v720H120Zm60-500h600v-160H180v160Zm220 220h160v-160H400v160Zm0 220h160v-160H400v160ZM180-400h160v-160H180v160Zm440 0h160v-160H620v160ZM180-180h160v-160H180v160Zm440 0h160v-160H620v160Z\"/>\n",
              "  </svg>\n",
              "    </button>\n",
              "\n",
              "  <style>\n",
              "    .colab-df-container {\n",
              "      display:flex;\n",
              "      gap: 12px;\n",
              "    }\n",
              "\n",
              "    .colab-df-convert {\n",
              "      background-color: #E8F0FE;\n",
              "      border: none;\n",
              "      border-radius: 50%;\n",
              "      cursor: pointer;\n",
              "      display: none;\n",
              "      fill: #1967D2;\n",
              "      height: 32px;\n",
              "      padding: 0 0 0 0;\n",
              "      width: 32px;\n",
              "    }\n",
              "\n",
              "    .colab-df-convert:hover {\n",
              "      background-color: #E2EBFA;\n",
              "      box-shadow: 0px 1px 2px rgba(60, 64, 67, 0.3), 0px 1px 3px 1px rgba(60, 64, 67, 0.15);\n",
              "      fill: #174EA6;\n",
              "    }\n",
              "\n",
              "    .colab-df-buttons div {\n",
              "      margin-bottom: 4px;\n",
              "    }\n",
              "\n",
              "    [theme=dark] .colab-df-convert {\n",
              "      background-color: #3B4455;\n",
              "      fill: #D2E3FC;\n",
              "    }\n",
              "\n",
              "    [theme=dark] .colab-df-convert:hover {\n",
              "      background-color: #434B5C;\n",
              "      box-shadow: 0px 1px 3px 1px rgba(0, 0, 0, 0.15);\n",
              "      filter: drop-shadow(0px 1px 2px rgba(0, 0, 0, 0.3));\n",
              "      fill: #FFFFFF;\n",
              "    }\n",
              "  </style>\n",
              "\n",
              "    <script>\n",
              "      const buttonEl =\n",
              "        document.querySelector('#df-bfcce147-5f97-4781-8d27-9e105de40ea2 button.colab-df-convert');\n",
              "      buttonEl.style.display =\n",
              "        google.colab.kernel.accessAllowed ? 'block' : 'none';\n",
              "\n",
              "      async function convertToInteractive(key) {\n",
              "        const element = document.querySelector('#df-bfcce147-5f97-4781-8d27-9e105de40ea2');\n",
              "        const dataTable =\n",
              "          await google.colab.kernel.invokeFunction('convertToInteractive',\n",
              "                                                    [key], {});\n",
              "        if (!dataTable) return;\n",
              "\n",
              "        const docLinkHtml = 'Like what you see? Visit the ' +\n",
              "          '<a target=\"_blank\" href=https://colab.research.google.com/notebooks/data_table.ipynb>data table notebook</a>'\n",
              "          + ' to learn more about interactive tables.';\n",
              "        element.innerHTML = '';\n",
              "        dataTable['output_type'] = 'display_data';\n",
              "        await google.colab.output.renderOutput(dataTable, element);\n",
              "        const docLink = document.createElement('div');\n",
              "        docLink.innerHTML = docLinkHtml;\n",
              "        element.appendChild(docLink);\n",
              "      }\n",
              "    </script>\n",
              "  </div>\n",
              "\n",
              "\n",
              "<div id=\"df-64523560-59b0-46aa-9ff8-8b93dd1c344a\">\n",
              "  <button class=\"colab-df-quickchart\" onclick=\"quickchart('df-64523560-59b0-46aa-9ff8-8b93dd1c344a')\"\n",
              "            title=\"Suggest charts\"\n",
              "            style=\"display:none;\">\n",
              "\n",
              "<svg xmlns=\"http://www.w3.org/2000/svg\" height=\"24px\"viewBox=\"0 0 24 24\"\n",
              "     width=\"24px\">\n",
              "    <g>\n",
              "        <path d=\"M19 3H5c-1.1 0-2 .9-2 2v14c0 1.1.9 2 2 2h14c1.1 0 2-.9 2-2V5c0-1.1-.9-2-2-2zM9 17H7v-7h2v7zm4 0h-2V7h2v10zm4 0h-2v-4h2v4z\"/>\n",
              "    </g>\n",
              "</svg>\n",
              "  </button>\n",
              "\n",
              "<style>\n",
              "  .colab-df-quickchart {\n",
              "      --bg-color: #E8F0FE;\n",
              "      --fill-color: #1967D2;\n",
              "      --hover-bg-color: #E2EBFA;\n",
              "      --hover-fill-color: #174EA6;\n",
              "      --disabled-fill-color: #AAA;\n",
              "      --disabled-bg-color: #DDD;\n",
              "  }\n",
              "\n",
              "  [theme=dark] .colab-df-quickchart {\n",
              "      --bg-color: #3B4455;\n",
              "      --fill-color: #D2E3FC;\n",
              "      --hover-bg-color: #434B5C;\n",
              "      --hover-fill-color: #FFFFFF;\n",
              "      --disabled-bg-color: #3B4455;\n",
              "      --disabled-fill-color: #666;\n",
              "  }\n",
              "\n",
              "  .colab-df-quickchart {\n",
              "    background-color: var(--bg-color);\n",
              "    border: none;\n",
              "    border-radius: 50%;\n",
              "    cursor: pointer;\n",
              "    display: none;\n",
              "    fill: var(--fill-color);\n",
              "    height: 32px;\n",
              "    padding: 0;\n",
              "    width: 32px;\n",
              "  }\n",
              "\n",
              "  .colab-df-quickchart:hover {\n",
              "    background-color: var(--hover-bg-color);\n",
              "    box-shadow: 0 1px 2px rgba(60, 64, 67, 0.3), 0 1px 3px 1px rgba(60, 64, 67, 0.15);\n",
              "    fill: var(--button-hover-fill-color);\n",
              "  }\n",
              "\n",
              "  .colab-df-quickchart-complete:disabled,\n",
              "  .colab-df-quickchart-complete:disabled:hover {\n",
              "    background-color: var(--disabled-bg-color);\n",
              "    fill: var(--disabled-fill-color);\n",
              "    box-shadow: none;\n",
              "  }\n",
              "\n",
              "  .colab-df-spinner {\n",
              "    border: 2px solid var(--fill-color);\n",
              "    border-color: transparent;\n",
              "    border-bottom-color: var(--fill-color);\n",
              "    animation:\n",
              "      spin 1s steps(1) infinite;\n",
              "  }\n",
              "\n",
              "  @keyframes spin {\n",
              "    0% {\n",
              "      border-color: transparent;\n",
              "      border-bottom-color: var(--fill-color);\n",
              "      border-left-color: var(--fill-color);\n",
              "    }\n",
              "    20% {\n",
              "      border-color: transparent;\n",
              "      border-left-color: var(--fill-color);\n",
              "      border-top-color: var(--fill-color);\n",
              "    }\n",
              "    30% {\n",
              "      border-color: transparent;\n",
              "      border-left-color: var(--fill-color);\n",
              "      border-top-color: var(--fill-color);\n",
              "      border-right-color: var(--fill-color);\n",
              "    }\n",
              "    40% {\n",
              "      border-color: transparent;\n",
              "      border-right-color: var(--fill-color);\n",
              "      border-top-color: var(--fill-color);\n",
              "    }\n",
              "    60% {\n",
              "      border-color: transparent;\n",
              "      border-right-color: var(--fill-color);\n",
              "    }\n",
              "    80% {\n",
              "      border-color: transparent;\n",
              "      border-right-color: var(--fill-color);\n",
              "      border-bottom-color: var(--fill-color);\n",
              "    }\n",
              "    90% {\n",
              "      border-color: transparent;\n",
              "      border-bottom-color: var(--fill-color);\n",
              "    }\n",
              "  }\n",
              "</style>\n",
              "\n",
              "  <script>\n",
              "    async function quickchart(key) {\n",
              "      const quickchartButtonEl =\n",
              "        document.querySelector('#' + key + ' button');\n",
              "      quickchartButtonEl.disabled = true;  // To prevent multiple clicks.\n",
              "      quickchartButtonEl.classList.add('colab-df-spinner');\n",
              "      try {\n",
              "        const charts = await google.colab.kernel.invokeFunction(\n",
              "            'suggestCharts', [key], {});\n",
              "      } catch (error) {\n",
              "        console.error('Error during call to suggestCharts:', error);\n",
              "      }\n",
              "      quickchartButtonEl.classList.remove('colab-df-spinner');\n",
              "      quickchartButtonEl.classList.add('colab-df-quickchart-complete');\n",
              "    }\n",
              "    (() => {\n",
              "      let quickchartButtonEl =\n",
              "        document.querySelector('#df-64523560-59b0-46aa-9ff8-8b93dd1c344a button');\n",
              "      quickchartButtonEl.style.display =\n",
              "        google.colab.kernel.accessAllowed ? 'block' : 'none';\n",
              "    })();\n",
              "  </script>\n",
              "</div>\n",
              "\n",
              "    </div>\n",
              "  </div>\n"
            ],
            "application/vnd.google.colaboratory.intrinsic+json": {
              "type": "dataframe",
              "variable_name": "df",
              "summary": "{\n  \"name\": \"df\",\n  \"rows\": 10000,\n  \"fields\": [\n    {\n      \"column\": \"Customer ID\",\n      \"properties\": {\n        \"dtype\": \"number\",\n        \"std\": 2886,\n        \"min\": 1,\n        \"max\": 10000,\n        \"num_unique_values\": 10000,\n        \"samples\": [\n          6253,\n          4685,\n          1732\n        ],\n        \"semantic_type\": \"\",\n        \"description\": \"\"\n      }\n    },\n    {\n      \"column\": \"Age\",\n      \"properties\": {\n        \"dtype\": \"number\",\n        \"std\": 15,\n        \"min\": 18,\n        \"max\": 69,\n        \"num_unique_values\": 52,\n        \"samples\": [\n          62,\n          48,\n          24\n        ],\n        \"semantic_type\": \"\",\n        \"description\": \"\"\n      }\n    },\n    {\n      \"column\": \"Gender\",\n      \"properties\": {\n        \"dtype\": \"category\",\n        \"num_unique_values\": 3,\n        \"samples\": [\n          \"Other\",\n          \"Male\",\n          \"Female\"\n        ],\n        \"semantic_type\": \"\",\n        \"description\": \"\"\n      }\n    },\n    {\n      \"column\": \"Location\",\n      \"properties\": {\n        \"dtype\": \"category\",\n        \"num_unique_values\": 8,\n        \"samples\": [\n          \"Rangpur\",\n          \"Mymensingh\",\n          \"Dhaka\"\n        ],\n        \"semantic_type\": \"\",\n        \"description\": \"\"\n      }\n    },\n    {\n      \"column\": \"Product Category\",\n      \"properties\": {\n        \"dtype\": \"category\",\n        \"num_unique_values\": 8,\n        \"samples\": [\n          \"Sports\",\n          \"Groceries\",\n          \"Toys\"\n        ],\n        \"semantic_type\": \"\",\n        \"description\": \"\"\n      }\n    },\n    {\n      \"column\": \"Purchase Amount ($)\",\n      \"properties\": {\n        \"dtype\": \"number\",\n        \"std\": 286.23808399685873,\n        \"min\": 5.19,\n        \"max\": 999.98,\n        \"num_unique_values\": 9526,\n        \"samples\": [\n          311.53,\n          797.53,\n          153.34\n        ],\n        \"semantic_type\": \"\",\n        \"description\": \"\"\n      }\n    },\n    {\n      \"column\": \"Time Spent on Website (min)\",\n      \"properties\": {\n        \"dtype\": \"number\",\n        \"std\": 17,\n        \"min\": 1,\n        \"max\": 59,\n        \"num_unique_values\": 59,\n        \"samples\": [\n          44,\n          54,\n          22\n        ],\n        \"semantic_type\": \"\",\n        \"description\": \"\"\n      }\n    },\n    {\n      \"column\": \"Device Type\",\n      \"properties\": {\n        \"dtype\": \"category\",\n        \"num_unique_values\": 3,\n        \"samples\": [\n          \"Mobile\",\n          \"Desktop\",\n          \"Tablet\"\n        ],\n        \"semantic_type\": \"\",\n        \"description\": \"\"\n      }\n    },\n    {\n      \"column\": \"Payment Method\",\n      \"properties\": {\n        \"dtype\": \"category\",\n        \"num_unique_values\": 5,\n        \"samples\": [\n          \"Bank Transfer\",\n          \"Credit Card\",\n          \"Debit Card\"\n        ],\n        \"semantic_type\": \"\",\n        \"description\": \"\"\n      }\n    },\n    {\n      \"column\": \"Discount Availed\",\n      \"properties\": {\n        \"dtype\": \"boolean\",\n        \"num_unique_values\": 2,\n        \"samples\": [\n          false,\n          true\n        ],\n        \"semantic_type\": \"\",\n        \"description\": \"\"\n      }\n    },\n    {\n      \"column\": \"Number of Items Purchased\",\n      \"properties\": {\n        \"dtype\": \"number\",\n        \"std\": 2,\n        \"min\": 1,\n        \"max\": 9,\n        \"num_unique_values\": 9,\n        \"samples\": [\n          7,\n          1\n        ],\n        \"semantic_type\": \"\",\n        \"description\": \"\"\n      }\n    },\n    {\n      \"column\": \"Return Customer\",\n      \"properties\": {\n        \"dtype\": \"boolean\",\n        \"num_unique_values\": 2,\n        \"samples\": [\n          false,\n          true\n        ],\n        \"semantic_type\": \"\",\n        \"description\": \"\"\n      }\n    },\n    {\n      \"column\": \"Review Score (1-5)\",\n      \"properties\": {\n        \"dtype\": \"number\",\n        \"std\": 1,\n        \"min\": 1,\n        \"max\": 5,\n        \"num_unique_values\": 5,\n        \"samples\": [\n          1,\n          2\n        ],\n        \"semantic_type\": \"\",\n        \"description\": \"\"\n      }\n    },\n    {\n      \"column\": \"Delivery Time (days)\",\n      \"properties\": {\n        \"dtype\": \"number\",\n        \"std\": 3,\n        \"min\": 1,\n        \"max\": 13,\n        \"num_unique_values\": 13,\n        \"samples\": [\n          3,\n          8\n        ],\n        \"semantic_type\": \"\",\n        \"description\": \"\"\n      }\n    },\n    {\n      \"column\": \"Subscription Status\",\n      \"properties\": {\n        \"dtype\": \"category\",\n        \"num_unique_values\": 3,\n        \"samples\": [\n          \"Free\",\n          \"Premium\"\n        ],\n        \"semantic_type\": \"\",\n        \"description\": \"\"\n      }\n    },\n    {\n      \"column\": \"Customer Satisfaction\",\n      \"properties\": {\n        \"dtype\": \"category\",\n        \"num_unique_values\": 3,\n        \"samples\": [\n          \"Low\",\n          \"Medium\"\n        ],\n        \"semantic_type\": \"\",\n        \"description\": \"\"\n      }\n    }\n  ]\n}"
            }
          },
          "metadata": {},
          "execution_count": 36
        }
      ]
    },
    {
      "cell_type": "code",
      "source": [
        "df.shape"
      ],
      "metadata": {
        "colab": {
          "base_uri": "https://localhost:8080/"
        },
        "id": "TqLRAjnI5U8n",
        "outputId": "0c25613b-f0e9-4623-e2a3-d5a13ed30487"
      },
      "execution_count": null,
      "outputs": [
        {
          "output_type": "execute_result",
          "data": {
            "text/plain": [
              "(10000, 16)"
            ]
          },
          "metadata": {},
          "execution_count": 17
        }
      ]
    },
    {
      "cell_type": "code",
      "source": [
        "df.drop_duplicates(inplace = True)\n",
        "df.shape"
      ],
      "metadata": {
        "colab": {
          "base_uri": "https://localhost:8080/"
        },
        "id": "J8ECCeJy6x68",
        "outputId": "73ac220b-237e-4b45-cd44-277b009f2c0f"
      },
      "execution_count": null,
      "outputs": [
        {
          "output_type": "execute_result",
          "data": {
            "text/plain": [
              "(10000, 16)"
            ]
          },
          "metadata": {},
          "execution_count": 18
        }
      ]
    },
    {
      "cell_type": "code",
      "source": [
        "df.describe()"
      ],
      "metadata": {
        "colab": {
          "base_uri": "https://localhost:8080/",
          "height": 317
        },
        "id": "SKqWUm7O7-kC",
        "outputId": "d787f01c-1d64-40b6-ce02-5509aac85452"
      },
      "execution_count": null,
      "outputs": [
        {
          "output_type": "execute_result",
          "data": {
            "text/plain": [
              "       Customer ID           Age  Purchase Amount ($)  \\\n",
              "count  10000.00000  10000.000000         10000.000000   \n",
              "mean    5000.50000     43.789900           503.892494   \n",
              "std     2886.89568     15.005521           286.238084   \n",
              "min        1.00000     18.000000             5.190000   \n",
              "25%     2500.75000     31.000000           254.937500   \n",
              "50%     5000.50000     44.000000           506.195000   \n",
              "75%     7500.25000     57.000000           749.135000   \n",
              "max    10000.00000     69.000000           999.980000   \n",
              "\n",
              "       Time Spent on Website (min)  Number of Items Purchased  \\\n",
              "count                 10000.000000               10000.000000   \n",
              "mean                     29.918400                   4.998500   \n",
              "std                      17.002107                   2.574988   \n",
              "min                       1.000000                   1.000000   \n",
              "25%                      15.000000                   3.000000   \n",
              "50%                      30.000000                   5.000000   \n",
              "75%                      45.000000                   7.000000   \n",
              "max                      59.000000                   9.000000   \n",
              "\n",
              "       Review Score (1-5)  Delivery Time (days)  \n",
              "count        10000.000000          10000.000000  \n",
              "mean             2.995100              7.013000  \n",
              "std              1.404163              3.721561  \n",
              "min              1.000000              1.000000  \n",
              "25%              2.000000              4.000000  \n",
              "50%              3.000000              7.000000  \n",
              "75%              4.000000             10.000000  \n",
              "max              5.000000             13.000000  "
            ],
            "text/html": [
              "\n",
              "  <div id=\"df-1615981e-8a5c-4cfd-9fe6-9695fbf2cdd2\" class=\"colab-df-container\">\n",
              "    <div>\n",
              "<style scoped>\n",
              "    .dataframe tbody tr th:only-of-type {\n",
              "        vertical-align: middle;\n",
              "    }\n",
              "\n",
              "    .dataframe tbody tr th {\n",
              "        vertical-align: top;\n",
              "    }\n",
              "\n",
              "    .dataframe thead th {\n",
              "        text-align: right;\n",
              "    }\n",
              "</style>\n",
              "<table border=\"1\" class=\"dataframe\">\n",
              "  <thead>\n",
              "    <tr style=\"text-align: right;\">\n",
              "      <th></th>\n",
              "      <th>Customer ID</th>\n",
              "      <th>Age</th>\n",
              "      <th>Purchase Amount ($)</th>\n",
              "      <th>Time Spent on Website (min)</th>\n",
              "      <th>Number of Items Purchased</th>\n",
              "      <th>Review Score (1-5)</th>\n",
              "      <th>Delivery Time (days)</th>\n",
              "    </tr>\n",
              "  </thead>\n",
              "  <tbody>\n",
              "    <tr>\n",
              "      <th>count</th>\n",
              "      <td>10000.00000</td>\n",
              "      <td>10000.000000</td>\n",
              "      <td>10000.000000</td>\n",
              "      <td>10000.000000</td>\n",
              "      <td>10000.000000</td>\n",
              "      <td>10000.000000</td>\n",
              "      <td>10000.000000</td>\n",
              "    </tr>\n",
              "    <tr>\n",
              "      <th>mean</th>\n",
              "      <td>5000.50000</td>\n",
              "      <td>43.789900</td>\n",
              "      <td>503.892494</td>\n",
              "      <td>29.918400</td>\n",
              "      <td>4.998500</td>\n",
              "      <td>2.995100</td>\n",
              "      <td>7.013000</td>\n",
              "    </tr>\n",
              "    <tr>\n",
              "      <th>std</th>\n",
              "      <td>2886.89568</td>\n",
              "      <td>15.005521</td>\n",
              "      <td>286.238084</td>\n",
              "      <td>17.002107</td>\n",
              "      <td>2.574988</td>\n",
              "      <td>1.404163</td>\n",
              "      <td>3.721561</td>\n",
              "    </tr>\n",
              "    <tr>\n",
              "      <th>min</th>\n",
              "      <td>1.00000</td>\n",
              "      <td>18.000000</td>\n",
              "      <td>5.190000</td>\n",
              "      <td>1.000000</td>\n",
              "      <td>1.000000</td>\n",
              "      <td>1.000000</td>\n",
              "      <td>1.000000</td>\n",
              "    </tr>\n",
              "    <tr>\n",
              "      <th>25%</th>\n",
              "      <td>2500.75000</td>\n",
              "      <td>31.000000</td>\n",
              "      <td>254.937500</td>\n",
              "      <td>15.000000</td>\n",
              "      <td>3.000000</td>\n",
              "      <td>2.000000</td>\n",
              "      <td>4.000000</td>\n",
              "    </tr>\n",
              "    <tr>\n",
              "      <th>50%</th>\n",
              "      <td>5000.50000</td>\n",
              "      <td>44.000000</td>\n",
              "      <td>506.195000</td>\n",
              "      <td>30.000000</td>\n",
              "      <td>5.000000</td>\n",
              "      <td>3.000000</td>\n",
              "      <td>7.000000</td>\n",
              "    </tr>\n",
              "    <tr>\n",
              "      <th>75%</th>\n",
              "      <td>7500.25000</td>\n",
              "      <td>57.000000</td>\n",
              "      <td>749.135000</td>\n",
              "      <td>45.000000</td>\n",
              "      <td>7.000000</td>\n",
              "      <td>4.000000</td>\n",
              "      <td>10.000000</td>\n",
              "    </tr>\n",
              "    <tr>\n",
              "      <th>max</th>\n",
              "      <td>10000.00000</td>\n",
              "      <td>69.000000</td>\n",
              "      <td>999.980000</td>\n",
              "      <td>59.000000</td>\n",
              "      <td>9.000000</td>\n",
              "      <td>5.000000</td>\n",
              "      <td>13.000000</td>\n",
              "    </tr>\n",
              "  </tbody>\n",
              "</table>\n",
              "</div>\n",
              "    <div class=\"colab-df-buttons\">\n",
              "\n",
              "  <div class=\"colab-df-container\">\n",
              "    <button class=\"colab-df-convert\" onclick=\"convertToInteractive('df-1615981e-8a5c-4cfd-9fe6-9695fbf2cdd2')\"\n",
              "            title=\"Convert this dataframe to an interactive table.\"\n",
              "            style=\"display:none;\">\n",
              "\n",
              "  <svg xmlns=\"http://www.w3.org/2000/svg\" height=\"24px\" viewBox=\"0 -960 960 960\">\n",
              "    <path d=\"M120-120v-720h720v720H120Zm60-500h600v-160H180v160Zm220 220h160v-160H400v160Zm0 220h160v-160H400v160ZM180-400h160v-160H180v160Zm440 0h160v-160H620v160ZM180-180h160v-160H180v160Zm440 0h160v-160H620v160Z\"/>\n",
              "  </svg>\n",
              "    </button>\n",
              "\n",
              "  <style>\n",
              "    .colab-df-container {\n",
              "      display:flex;\n",
              "      gap: 12px;\n",
              "    }\n",
              "\n",
              "    .colab-df-convert {\n",
              "      background-color: #E8F0FE;\n",
              "      border: none;\n",
              "      border-radius: 50%;\n",
              "      cursor: pointer;\n",
              "      display: none;\n",
              "      fill: #1967D2;\n",
              "      height: 32px;\n",
              "      padding: 0 0 0 0;\n",
              "      width: 32px;\n",
              "    }\n",
              "\n",
              "    .colab-df-convert:hover {\n",
              "      background-color: #E2EBFA;\n",
              "      box-shadow: 0px 1px 2px rgba(60, 64, 67, 0.3), 0px 1px 3px 1px rgba(60, 64, 67, 0.15);\n",
              "      fill: #174EA6;\n",
              "    }\n",
              "\n",
              "    .colab-df-buttons div {\n",
              "      margin-bottom: 4px;\n",
              "    }\n",
              "\n",
              "    [theme=dark] .colab-df-convert {\n",
              "      background-color: #3B4455;\n",
              "      fill: #D2E3FC;\n",
              "    }\n",
              "\n",
              "    [theme=dark] .colab-df-convert:hover {\n",
              "      background-color: #434B5C;\n",
              "      box-shadow: 0px 1px 3px 1px rgba(0, 0, 0, 0.15);\n",
              "      filter: drop-shadow(0px 1px 2px rgba(0, 0, 0, 0.3));\n",
              "      fill: #FFFFFF;\n",
              "    }\n",
              "  </style>\n",
              "\n",
              "    <script>\n",
              "      const buttonEl =\n",
              "        document.querySelector('#df-1615981e-8a5c-4cfd-9fe6-9695fbf2cdd2 button.colab-df-convert');\n",
              "      buttonEl.style.display =\n",
              "        google.colab.kernel.accessAllowed ? 'block' : 'none';\n",
              "\n",
              "      async function convertToInteractive(key) {\n",
              "        const element = document.querySelector('#df-1615981e-8a5c-4cfd-9fe6-9695fbf2cdd2');\n",
              "        const dataTable =\n",
              "          await google.colab.kernel.invokeFunction('convertToInteractive',\n",
              "                                                    [key], {});\n",
              "        if (!dataTable) return;\n",
              "\n",
              "        const docLinkHtml = 'Like what you see? Visit the ' +\n",
              "          '<a target=\"_blank\" href=https://colab.research.google.com/notebooks/data_table.ipynb>data table notebook</a>'\n",
              "          + ' to learn more about interactive tables.';\n",
              "        element.innerHTML = '';\n",
              "        dataTable['output_type'] = 'display_data';\n",
              "        await google.colab.output.renderOutput(dataTable, element);\n",
              "        const docLink = document.createElement('div');\n",
              "        docLink.innerHTML = docLinkHtml;\n",
              "        element.appendChild(docLink);\n",
              "      }\n",
              "    </script>\n",
              "  </div>\n",
              "\n",
              "\n",
              "<div id=\"df-01e2df7c-5ea7-4a84-b6a5-4c83a52951aa\">\n",
              "  <button class=\"colab-df-quickchart\" onclick=\"quickchart('df-01e2df7c-5ea7-4a84-b6a5-4c83a52951aa')\"\n",
              "            title=\"Suggest charts\"\n",
              "            style=\"display:none;\">\n",
              "\n",
              "<svg xmlns=\"http://www.w3.org/2000/svg\" height=\"24px\"viewBox=\"0 0 24 24\"\n",
              "     width=\"24px\">\n",
              "    <g>\n",
              "        <path d=\"M19 3H5c-1.1 0-2 .9-2 2v14c0 1.1.9 2 2 2h14c1.1 0 2-.9 2-2V5c0-1.1-.9-2-2-2zM9 17H7v-7h2v7zm4 0h-2V7h2v10zm4 0h-2v-4h2v4z\"/>\n",
              "    </g>\n",
              "</svg>\n",
              "  </button>\n",
              "\n",
              "<style>\n",
              "  .colab-df-quickchart {\n",
              "      --bg-color: #E8F0FE;\n",
              "      --fill-color: #1967D2;\n",
              "      --hover-bg-color: #E2EBFA;\n",
              "      --hover-fill-color: #174EA6;\n",
              "      --disabled-fill-color: #AAA;\n",
              "      --disabled-bg-color: #DDD;\n",
              "  }\n",
              "\n",
              "  [theme=dark] .colab-df-quickchart {\n",
              "      --bg-color: #3B4455;\n",
              "      --fill-color: #D2E3FC;\n",
              "      --hover-bg-color: #434B5C;\n",
              "      --hover-fill-color: #FFFFFF;\n",
              "      --disabled-bg-color: #3B4455;\n",
              "      --disabled-fill-color: #666;\n",
              "  }\n",
              "\n",
              "  .colab-df-quickchart {\n",
              "    background-color: var(--bg-color);\n",
              "    border: none;\n",
              "    border-radius: 50%;\n",
              "    cursor: pointer;\n",
              "    display: none;\n",
              "    fill: var(--fill-color);\n",
              "    height: 32px;\n",
              "    padding: 0;\n",
              "    width: 32px;\n",
              "  }\n",
              "\n",
              "  .colab-df-quickchart:hover {\n",
              "    background-color: var(--hover-bg-color);\n",
              "    box-shadow: 0 1px 2px rgba(60, 64, 67, 0.3), 0 1px 3px 1px rgba(60, 64, 67, 0.15);\n",
              "    fill: var(--button-hover-fill-color);\n",
              "  }\n",
              "\n",
              "  .colab-df-quickchart-complete:disabled,\n",
              "  .colab-df-quickchart-complete:disabled:hover {\n",
              "    background-color: var(--disabled-bg-color);\n",
              "    fill: var(--disabled-fill-color);\n",
              "    box-shadow: none;\n",
              "  }\n",
              "\n",
              "  .colab-df-spinner {\n",
              "    border: 2px solid var(--fill-color);\n",
              "    border-color: transparent;\n",
              "    border-bottom-color: var(--fill-color);\n",
              "    animation:\n",
              "      spin 1s steps(1) infinite;\n",
              "  }\n",
              "\n",
              "  @keyframes spin {\n",
              "    0% {\n",
              "      border-color: transparent;\n",
              "      border-bottom-color: var(--fill-color);\n",
              "      border-left-color: var(--fill-color);\n",
              "    }\n",
              "    20% {\n",
              "      border-color: transparent;\n",
              "      border-left-color: var(--fill-color);\n",
              "      border-top-color: var(--fill-color);\n",
              "    }\n",
              "    30% {\n",
              "      border-color: transparent;\n",
              "      border-left-color: var(--fill-color);\n",
              "      border-top-color: var(--fill-color);\n",
              "      border-right-color: var(--fill-color);\n",
              "    }\n",
              "    40% {\n",
              "      border-color: transparent;\n",
              "      border-right-color: var(--fill-color);\n",
              "      border-top-color: var(--fill-color);\n",
              "    }\n",
              "    60% {\n",
              "      border-color: transparent;\n",
              "      border-right-color: var(--fill-color);\n",
              "    }\n",
              "    80% {\n",
              "      border-color: transparent;\n",
              "      border-right-color: var(--fill-color);\n",
              "      border-bottom-color: var(--fill-color);\n",
              "    }\n",
              "    90% {\n",
              "      border-color: transparent;\n",
              "      border-bottom-color: var(--fill-color);\n",
              "    }\n",
              "  }\n",
              "</style>\n",
              "\n",
              "  <script>\n",
              "    async function quickchart(key) {\n",
              "      const quickchartButtonEl =\n",
              "        document.querySelector('#' + key + ' button');\n",
              "      quickchartButtonEl.disabled = true;  // To prevent multiple clicks.\n",
              "      quickchartButtonEl.classList.add('colab-df-spinner');\n",
              "      try {\n",
              "        const charts = await google.colab.kernel.invokeFunction(\n",
              "            'suggestCharts', [key], {});\n",
              "      } catch (error) {\n",
              "        console.error('Error during call to suggestCharts:', error);\n",
              "      }\n",
              "      quickchartButtonEl.classList.remove('colab-df-spinner');\n",
              "      quickchartButtonEl.classList.add('colab-df-quickchart-complete');\n",
              "    }\n",
              "    (() => {\n",
              "      let quickchartButtonEl =\n",
              "        document.querySelector('#df-01e2df7c-5ea7-4a84-b6a5-4c83a52951aa button');\n",
              "      quickchartButtonEl.style.display =\n",
              "        google.colab.kernel.accessAllowed ? 'block' : 'none';\n",
              "    })();\n",
              "  </script>\n",
              "</div>\n",
              "\n",
              "    </div>\n",
              "  </div>\n"
            ],
            "application/vnd.google.colaboratory.intrinsic+json": {
              "type": "dataframe",
              "summary": "{\n  \"name\": \"df\",\n  \"rows\": 8,\n  \"fields\": [\n    {\n      \"column\": \"Customer ID\",\n      \"properties\": {\n        \"dtype\": \"number\",\n        \"std\": 3603.743586536124,\n        \"min\": 1.0,\n        \"max\": 10000.0,\n        \"num_unique_values\": 6,\n        \"samples\": [\n          10000.0,\n          5000.5,\n          7500.25\n        ],\n        \"semantic_type\": \"\",\n        \"description\": \"\"\n      }\n    },\n    {\n      \"column\": \"Age\",\n      \"properties\": {\n        \"dtype\": \"number\",\n        \"std\": 3521.5507720386154,\n        \"min\": 15.005521469027796,\n        \"max\": 10000.0,\n        \"num_unique_values\": 8,\n        \"samples\": [\n          43.7899,\n          44.0,\n          10000.0\n        ],\n        \"semantic_type\": \"\",\n        \"description\": \"\"\n      }\n    },\n    {\n      \"column\": \"Purchase Amount ($)\",\n      \"properties\": {\n        \"dtype\": \"number\",\n        \"std\": 3382.4861702413896,\n        \"min\": 5.19,\n        \"max\": 10000.0,\n        \"num_unique_values\": 8,\n        \"samples\": [\n          503.89249399999994,\n          506.195,\n          10000.0\n        ],\n        \"semantic_type\": \"\",\n        \"description\": \"\"\n      }\n    },\n    {\n      \"column\": \"Time Spent on Website (min)\",\n      \"properties\": {\n        \"dtype\": \"number\",\n        \"std\": 3525.634040314802,\n        \"min\": 1.0,\n        \"max\": 10000.0,\n        \"num_unique_values\": 8,\n        \"samples\": [\n          29.9184,\n          30.0,\n          10000.0\n        ],\n        \"semantic_type\": \"\",\n        \"description\": \"\"\n      }\n    },\n    {\n      \"column\": \"Number of Items Purchased\",\n      \"properties\": {\n        \"dtype\": \"number\",\n        \"std\": 3533.8896067266396,\n        \"min\": 1.0,\n        \"max\": 10000.0,\n        \"num_unique_values\": 8,\n        \"samples\": [\n          4.9985,\n          5.0,\n          10000.0\n        ],\n        \"semantic_type\": \"\",\n        \"description\": \"\"\n      }\n    },\n    {\n      \"column\": \"Review Score (1-5)\",\n      \"properties\": {\n        \"dtype\": \"number\",\n        \"std\": 3534.554341353838,\n        \"min\": 1.0,\n        \"max\": 10000.0,\n        \"num_unique_values\": 8,\n        \"samples\": [\n          2.9951,\n          3.0,\n          10000.0\n        ],\n        \"semantic_type\": \"\",\n        \"description\": \"\"\n      }\n    },\n    {\n      \"column\": \"Delivery Time (days)\",\n      \"properties\": {\n        \"dtype\": \"number\",\n        \"std\": 3533.2259677346074,\n        \"min\": 1.0,\n        \"max\": 10000.0,\n        \"num_unique_values\": 8,\n        \"samples\": [\n          7.013,\n          7.0,\n          10000.0\n        ],\n        \"semantic_type\": \"\",\n        \"description\": \"\"\n      }\n    }\n  ]\n}"
            }
          },
          "metadata": {},
          "execution_count": 19
        }
      ]
    },
    {
      "cell_type": "markdown",
      "source": [
        "All are adult customer, no kids are in consideration"
      ],
      "metadata": {
        "id": "TImBQs9q9V2i"
      }
    },
    {
      "cell_type": "markdown",
      "source": [
        "***Level 1***"
      ],
      "metadata": {
        "id": "Nkc1eIM7-7lz"
      }
    },
    {
      "cell_type": "markdown",
      "source": [
        "** Q1: Find Mean, Median, and Mode (Age)**"
      ],
      "metadata": {
        "id": "tcbhZRwmdxJR"
      }
    },
    {
      "cell_type": "code",
      "source": [
        "print(f\"Mean value of Age: {df['Age'].mean()}\")\n",
        "\n",
        "print(f\"Median value of Age: {df['Age'].median()}\")\n",
        "\n",
        "print(f\"Mode value of Age: {df['Age'].mode()}\")\n"
      ],
      "metadata": {
        "colab": {
          "base_uri": "https://localhost:8080/"
        },
        "id": "hmtLjX9KcY-n",
        "outputId": "d16d7848-dbf0-4725-aa5b-b733b83d22b7"
      },
      "execution_count": null,
      "outputs": [
        {
          "output_type": "stream",
          "name": "stdout",
          "text": [
            "Mean value of Age: 43.7899\n",
            "Median value of Age: 44.0\n",
            "Mode value of Age: 0    51\n",
            "Name: Age, dtype: int64\n"
          ]
        }
      ]
    },
    {
      "cell_type": "code",
      "source": [
        "\n",
        "import matplotlib.pyplot as plt\n",
        "\n",
        "mean_age = df['Age'].mean()\n",
        "median_age = df['Age'].median()\n",
        "mode_age = df['Age'].mode()[0]\n",
        "measures = ['Mean', 'Median', 'Mode']\n",
        "values = [mean_age, median_age, mode_age]\n",
        "\n",
        "plt.figure(figsize=(8, 6))\n",
        "plt.bar(measures, values, color=['skyblue', 'lightcoral', 'lightgreen'])\n",
        "plt.xlabel(\"Measure\")\n",
        "plt.ylabel(\"Age\")\n",
        "plt.title(\"Mean, Median, and Mode of Age\")\n",
        "\n",
        "for i, v in enumerate(values):\n",
        "    plt.text(i, v + 0.5, str(round(v, 2)), ha='center')\n",
        "\n",
        "plt.show()"
      ],
      "metadata": {
        "colab": {
          "base_uri": "https://localhost:8080/",
          "height": 564
        },
        "id": "flVrGA2rfSde",
        "outputId": "0a2de93f-25b8-4643-ef0e-50b4e5d9bdf4"
      },
      "execution_count": null,
      "outputs": [
        {
          "output_type": "display_data",
          "data": {
            "text/plain": [
              "<Figure size 800x600 with 1 Axes>"
            ],
            "image/png": "[encoded data removed]"
          },
          "metadata": {}
        }
      ]
    },
    {
      "cell_type": "markdown",
      "source": [
        "**Q2: Find variance, standard deviation, and z-score (Purchase Amount)**"
      ],
      "metadata": {
        "id": "pipYPXmd9_zE"
      }
    },
    {
      "cell_type": "code",
      "source": [
        "import scipy.stats as stats\n",
        "print(f'Variance = {df[\"Purchase Amount ($)\"].var()})')\n",
        "print(f'Standard Deviation = {df[\"Purchase Amount ($)\"].std()}')\n",
        "print(f'Z-score = {stats.zscore(df[\"Purchase Amount ($)\"])}')\n",
        "\n"
      ],
      "metadata": {
        "colab": {
          "base_uri": "https://localhost:8080/"
        },
        "id": "HUl07mAs_QX-",
        "outputId": "586b23f0-d670-4409-cb40-d71e13d9b06e"
      },
      "execution_count": null,
      "outputs": [
        {
          "output_type": "stream",
          "name": "stdout",
          "text": [
            "Variance = 81932.24073019275)\n",
            "Standard Deviation = 286.23808399685873\n",
            "Z-score = 0      -1.052856\n",
            "1       0.531219\n",
            "2       1.606287\n",
            "3      -0.063945\n",
            "4      -1.259932\n",
            "          ...   \n",
            "9995   -1.413798\n",
            "9996    1.026880\n",
            "9997    1.105001\n",
            "9998   -1.638412\n",
            "9999   -0.944864\n",
            "Name: Purchase Amount ($), Length: 10000, dtype: float64\n"
          ]
        }
      ]
    },
    {
      "cell_type": "code",
      "source": [
        "\n",
        "variance_purchase = df['Purchase Amount ($)'].var()\n",
        "std_dev_purchase = df['Purchase Amount ($)'].std()\n",
        "\n",
        "fig, axes = plt.subplots(2, 1, figsize=(10, 8))\n",
        "\n",
        "\n",
        "sns.histplot(df['Purchase Amount ($)'], ax=axes[0], kde=True)\n",
        "axes[0].axvline(df['Purchase Amount ($)'].mean(), color='red', linestyle='dashed', linewidth=2, label='Mean')\n",
        "axes[0].axvline(df['Purchase Amount ($)'].mean() + std_dev_purchase, color='green', linestyle='dashed', linewidth=2, label='+1 Std Dev')\n",
        "axes[0].axvline(df['Purchase Amount ($)'].mean() - std_dev_purchase, color='green', linestyle='dashed', linewidth=2, label='-1 Std Dev')\n",
        "axes[0].set_title('Distribution of Purchase Amount with Standard Deviation')\n",
        "axes[0].legend()\n",
        "\n",
        "\n",
        "z_scores_purchase = stats.zscore(df['Purchase Amount ($)'])\n",
        "\n",
        "\n",
        "sns.histplot(z_scores_purchase, ax=axes[1], kde=True)\n",
        "axes[1].set_title('Z-scores of Purchase Amount')\n",
        "\n",
        "plt.tight_layout()\n",
        "plt.show()\n",
        "\n",
        "\n",
        "print(f\"Variance of Purchase Amount: {variance_purchase}\")\n",
        "print(f\"Standard Deviation of Purchase Amount: {std_dev_purchase}\")"
      ],
      "metadata": {
        "colab": {
          "base_uri": "https://localhost:8080/",
          "height": 842
        },
        "id": "VocrJ29o-TMh",
        "outputId": "a47b04cd-36c9-40e1-c953-039c8b9ce98e"
      },
      "execution_count": null,
      "outputs": [
        {
          "output_type": "display_data",
          "data": {
            "text/plain": [
              "<Figure size 1000x800 with 2 Axes>"
            ],
            "image/png": "[encoded data removed]"
          },
          "metadata": {}
        },
        {
          "output_type": "stream",
          "name": "stdout",
          "text": [
            "Variance of Purchase Amount: 81932.24073019275\n",
            "Standard Deviation of Purchase Amount: 286.23808399685873\n"
          ]
        }
      ]
    },
    {
      "cell_type": "markdown",
      "source": [
        "**Q3: What are the top three product categories based on the number of purchases?**"
      ],
      "metadata": {
        "id": "1SZ2df0__GDl"
      }
    },
    {
      "cell_type": "code",
      "source": [
        "category_purchase_sum = df.groupby('Product Category')['Purchase Amount ($)'].sum()\n",
        "top_3=category_purchase_sum.sort_values(ascending=False).head(3)\n",
        "print(top_3)"
      ],
      "metadata": {
        "colab": {
          "base_uri": "https://localhost:8080/"
        },
        "id": "Fp8Fu7tLCdtT",
        "outputId": "2393562d-73ff-463f-f2d7-06dd2ebc47e7"
      },
      "execution_count": null,
      "outputs": [
        {
          "output_type": "stream",
          "name": "stdout",
          "text": [
            "Product Category\n",
            "Toys     665535.38\n",
            "Books    664338.38\n",
            "Home     647106.92\n",
            "Name: Purchase Amount ($), dtype: float64\n"
          ]
        }
      ]
    },
    {
      "cell_type": "code",
      "source": [
        "import plotly.express as px\n",
        "\n",
        "category_purchase_sum = df.groupby('Product Category')['Purchase Amount ($)'].sum()\n",
        "\n",
        "top_3 = category_purchase_sum.sort_values(ascending=False).head(3)\n",
        "\n",
        "fig = px.pie(top_3.reset_index(),\n",
        "             names='Product Category',\n",
        "             values='Purchase Amount ($)',\n",
        "             title='Top 3 Product Categories Based on Purchase Amount',\n",
        "             color_discrete_sequence=px.colors.sequential.Viridis)\n",
        "\n",
        "fig.show()\n"
      ],
      "metadata": {
        "colab": {
          "base_uri": "https://localhost:8080/",
          "height": 542
        },
        "id": "og4B2ouOq2ib",
        "outputId": "523cda55-9ab2-4941-f903-79a4cbcf9d35"
      },
      "execution_count": null,
      "outputs": [
        {
          "output_type": "display_data",
          "data": {
            "text/html": [
              "<html>\n",
              "<head><meta charset=\"utf-8\" /></head>\n",
              "<body>\n",
              "    <div>            <script src=\"https://cdnjs.cloudflare.com/ajax/libs/mathjax/2.7.5/MathJax.js?config=TeX-AMS-MML_SVG\"></script><script type=\"text/javascript\">if (window.MathJax && window.MathJax.Hub && window.MathJax.Hub.Config) {window.MathJax.Hub.Config({SVG: {font: \"STIX-Web\"}});}</script>                <script type=\"text/javascript\">window.PlotlyConfig = {MathJaxConfig: 'local'};</script>\n",
              "        <script charset=\"utf-8\" src=\"https://cdn.plot.ly/plotly-2.35.2.min.js\"></script>                <div id=\"a1ccc058-c5fa-4360-a6b7-9745a7043839\" class=\"plotly-graph-div\" style=\"height:525px; width:100%;\"></div>            <script type=\"text/javascript\">                                    window.PLOTLYENV=window.PLOTLYENV || {};                                    if (document.getElementById(\"a1ccc058-c5fa-4360-a6b7-9745a7043839\")) {                    Plotly.newPlot(                        \"a1ccc058-c5fa-4360-a6b7-9745a7043839\",                        [{\"domain\":{\"x\":[0.0,1.0],\"y\":[0.0,1.0]},\"hovertemplate\":\"Product Category=%{label}\\u003cbr\\u003ePurchase Amount ($)=%{value}\\u003cextra\\u003e\\u003c\\u002fextra\\u003e\",\"labels\":[\"Toys\",\"Books\",\"Home\"],\"legendgroup\":\"\",\"name\":\"\",\"showlegend\":true,\"values\":[665535.38,664338.38,647106.92],\"type\":\"pie\"}],                        {\"template\":{\"data\":{\"histogram2dcontour\":[{\"type\":\"histogram2dcontour\",\"colorbar\":{\"outlinewidth\":0,\"ticks\":\"\"},\"colorscale\":[[0.0,\"#0d0887\"],[0.1111111111111111,\"#46039f\"],[0.2222222222222222,\"#7201a8\"],[0.3333333333333333,\"#9c179e\"],[0.4444444444444444,\"#bd3786\"],[0.5555555555555556,\"#d8576b\"],[0.6666666666666666,\"#ed7953\"],[0.7777777777777778,\"#fb9f3a\"],[0.8888888888888888,\"#fdca26\"],[1.0,\"#f0f921\"]]}],\"choropleth\":[{\"type\":\"choropleth\",\"colorbar\":{\"outlinewidth\":0,\"ticks\":\"\"}}],\"histogram2d\":[{\"type\":\"histogram2d\",\"colorbar\":{\"outlinewidth\":0,\"ticks\":\"\"},\"colorscale\":[[0.0,\"#0d0887\"],[0.1111111111111111,\"#46039f\"],[0.2222222222222222,\"#7201a8\"],[0.3333333333333333,\"#9c179e\"],[0.4444444444444444,\"#bd3786\"],[0.5555555555555556,\"#d8576b\"],[0.6666666666666666,\"#ed7953\"],[0.7777777777777778,\"#fb9f3a\"],[0.8888888888888888,\"#fdca26\"],[1.0,\"#f0f921\"]]}],\"heatmap\":[{\"type\":\"heatmap\",\"colorbar\":{\"outlinewidth\":0,\"ticks\":\"\"},\"colorscale\":[[0.0,\"#0d0887\"],[0.1111111111111111,\"#46039f\"],[0.2222222222222222,\"#7201a8\"],[0.3333333333333333,\"#9c179e\"],[0.4444444444444444,\"#bd3786\"],[0.5555555555555556,\"#d8576b\"],[0.6666666666666666,\"#ed7953\"],[0.7777777777777778,\"#fb9f3a\"],[0.8888888888888888,\"#fdca26\"],[1.0,\"#f0f921\"]]}],\"heatmapgl\":[{\"type\":\"heatmapgl\",\"colorbar\":{\"outlinewidth\":0,\"ticks\":\"\"},\"colorscale\":[[0.0,\"#0d0887\"],[0.1111111111111111,\"#46039f\"],[0.2222222222222222,\"#7201a8\"],[0.3333333333333333,\"#9c179e\"],[0.4444444444444444,\"#bd3786\"],[0.5555555555555556,\"#d8576b\"],[0.6666666666666666,\"#ed7953\"],[0.7777777777777778,\"#fb9f3a\"],[0.8888888888888888,\"#fdca26\"],[1.0,\"#f0f921\"]]}],\"contourcarpet\":[{\"type\":\"contourcarpet\",\"colorbar\":{\"outlinewidth\":0,\"ticks\":\"\"}}],\"contour\":[{\"type\":\"contour\",\"colorbar\":{\"outlinewidth\":0,\"ticks\":\"\"},\"colorscale\":[[0.0,\"#0d0887\"],[0.1111111111111111,\"#46039f\"],[0.2222222222222222,\"#7201a8\"],[0.3333333333333333,\"#9c179e\"],[0.4444444444444444,\"#bd3786\"],[0.5555555555555556,\"#d8576b\"],[0.6666666666666666,\"#ed7953\"],[0.7777777777777778,\"#fb9f3a\"],[0.8888888888888888,\"#fdca26\"],[1.0,\"#f0f921\"]]}],\"surface\":[{\"type\":\"surface\",\"colorbar\":{\"outlinewidth\":0,\"ticks\":\"\"},\"colorscale\":[[0.0,\"#0d0887\"],[0.1111111111111111,\"#46039f\"],[0.2222222222222222,\"#7201a8\"],[0.3333333333333333,\"#9c179e\"],[0.4444444444444444,\"#bd3786\"],[0.5555555555555556,\"#d8576b\"],[0.6666666666666666,\"#ed7953\"],[0.7777777777777778,\"#fb9f3a\"],[0.8888888888888888,\"#fdca26\"],[1.0,\"#f0f921\"]]}],\"mesh3d\":[{\"type\":\"mesh3d\",\"colorbar\":{\"outlinewidth\":0,\"ticks\":\"\"}}],\"scatter\":[{\"fillpattern\":{\"fillmode\":\"overlay\",\"size\":10,\"solidity\":0.2},\"type\":\"scatter\"}],\"parcoords\":[{\"type\":\"parcoords\",\"line\":{\"colorbar\":{\"outlinewidth\":0,\"ticks\":\"\"}}}],\"scatterpolargl\":[{\"type\":\"scatterpolargl\",\"marker\":{\"colorbar\":{\"outlinewidth\":0,\"ticks\":\"\"}}}],\"bar\":[{\"error_x\":{\"color\":\"#2a3f5f\"},\"error_y\":{\"color\":\"#2a3f5f\"},\"marker\":{\"line\":{\"color\":\"#E5ECF6\",\"width\":0.5},\"pattern\":{\"fillmode\":\"overlay\",\"size\":10,\"solidity\":0.2}},\"type\":\"bar\"}],\"scattergeo\":[{\"type\":\"scattergeo\",\"marker\":{\"colorbar\":{\"outlinewidth\":0,\"ticks\":\"\"}}}],\"scatterpolar\":[{\"type\":\"scatterpolar\",\"marker\":{\"colorbar\":{\"outlinewidth\":0,\"ticks\":\"\"}}}],\"histogram\":[{\"marker\":{\"pattern\":{\"fillmode\":\"overlay\",\"size\":10,\"solidity\":0.2}},\"type\":\"histogram\"}],\"scattergl\":[{\"type\":\"scattergl\",\"marker\":{\"colorbar\":{\"outlinewidth\":0,\"ticks\":\"\"}}}],\"scatter3d\":[{\"type\":\"scatter3d\",\"line\":{\"colorbar\":{\"outlinewidth\":0,\"ticks\":\"\"}},\"marker\":{\"colorbar\":{\"outlinewidth\":0,\"ticks\":\"\"}}}],\"scattermapbox\":[{\"type\":\"scattermapbox\",\"marker\":{\"colorbar\":{\"outlinewidth\":0,\"ticks\":\"\"}}}],\"scatterternary\":[{\"type\":\"scatterternary\",\"marker\":{\"colorbar\":{\"outlinewidth\":0,\"ticks\":\"\"}}}],\"scattercarpet\":[{\"type\":\"scattercarpet\",\"marker\":{\"colorbar\":{\"outlinewidth\":0,\"ticks\":\"\"}}}],\"carpet\":[{\"aaxis\":{\"endlinecolor\":\"#2a3f5f\",\"gridcolor\":\"white\",\"linecolor\":\"white\",\"minorgridcolor\":\"white\",\"startlinecolor\":\"#2a3f5f\"},\"baxis\":{\"endlinecolor\":\"#2a3f5f\",\"gridcolor\":\"white\",\"linecolor\":\"white\",\"minorgridcolor\":\"white\",\"startlinecolor\":\"#2a3f5f\"},\"type\":\"carpet\"}],\"table\":[{\"cells\":{\"fill\":{\"color\":\"#EBF0F8\"},\"line\":{\"color\":\"white\"}},\"header\":{\"fill\":{\"color\":\"#C8D4E3\"},\"line\":{\"color\":\"white\"}},\"type\":\"table\"}],\"barpolar\":[{\"marker\":{\"line\":{\"color\":\"#E5ECF6\",\"width\":0.5},\"pattern\":{\"fillmode\":\"overlay\",\"size\":10,\"solidity\":0.2}},\"type\":\"barpolar\"}],\"pie\":[{\"automargin\":true,\"type\":\"pie\"}]},\"layout\":{\"autotypenumbers\":\"strict\",\"colorway\":[\"#636efa\",\"#EF553B\",\"#00cc96\",\"#ab63fa\",\"#FFA15A\",\"#19d3f3\",\"#FF6692\",\"#B6E880\",\"#FF97FF\",\"#FECB52\"],\"font\":{\"color\":\"#2a3f5f\"},\"hovermode\":\"closest\",\"hoverlabel\":{\"align\":\"left\"},\"paper_bgcolor\":\"white\",\"plot_bgcolor\":\"#E5ECF6\",\"polar\":{\"bgcolor\":\"#E5ECF6\",\"angularaxis\":{\"gridcolor\":\"white\",\"linecolor\":\"white\",\"ticks\":\"\"},\"radialaxis\":{\"gridcolor\":\"white\",\"linecolor\":\"white\",\"ticks\":\"\"}},\"ternary\":{\"bgcolor\":\"#E5ECF6\",\"aaxis\":{\"gridcolor\":\"white\",\"linecolor\":\"white\",\"ticks\":\"\"},\"baxis\":{\"gridcolor\":\"white\",\"linecolor\":\"white\",\"ticks\":\"\"},\"caxis\":{\"gridcolor\":\"white\",\"linecolor\":\"white\",\"ticks\":\"\"}},\"coloraxis\":{\"colorbar\":{\"outlinewidth\":0,\"ticks\":\"\"}},\"colorscale\":{\"sequential\":[[0.0,\"#0d0887\"],[0.1111111111111111,\"#46039f\"],[0.2222222222222222,\"#7201a8\"],[0.3333333333333333,\"#9c179e\"],[0.4444444444444444,\"#bd3786\"],[0.5555555555555556,\"#d8576b\"],[0.6666666666666666,\"#ed7953\"],[0.7777777777777778,\"#fb9f3a\"],[0.8888888888888888,\"#fdca26\"],[1.0,\"#f0f921\"]],\"sequentialminus\":[[0.0,\"#0d0887\"],[0.1111111111111111,\"#46039f\"],[0.2222222222222222,\"#7201a8\"],[0.3333333333333333,\"#9c179e\"],[0.4444444444444444,\"#bd3786\"],[0.5555555555555556,\"#d8576b\"],[0.6666666666666666,\"#ed7953\"],[0.7777777777777778,\"#fb9f3a\"],[0.8888888888888888,\"#fdca26\"],[1.0,\"#f0f921\"]],\"diverging\":[[0,\"#8e0152\"],[0.1,\"#c51b7d\"],[0.2,\"#de77ae\"],[0.3,\"#f1b6da\"],[0.4,\"#fde0ef\"],[0.5,\"#f7f7f7\"],[0.6,\"#e6f5d0\"],[0.7,\"#b8e186\"],[0.8,\"#7fbc41\"],[0.9,\"#4d9221\"],[1,\"#276419\"]]},\"xaxis\":{\"gridcolor\":\"white\",\"linecolor\":\"white\",\"ticks\":\"\",\"title\":{\"standoff\":15},\"zerolinecolor\":\"white\",\"automargin\":true,\"zerolinewidth\":2},\"yaxis\":{\"gridcolor\":\"white\",\"linecolor\":\"white\",\"ticks\":\"\",\"title\":{\"standoff\":15},\"zerolinecolor\":\"white\",\"automargin\":true,\"zerolinewidth\":2},\"scene\":{\"xaxis\":{\"backgroundcolor\":\"#E5ECF6\",\"gridcolor\":\"white\",\"linecolor\":\"white\",\"showbackground\":true,\"ticks\":\"\",\"zerolinecolor\":\"white\",\"gridwidth\":2},\"yaxis\":{\"backgroundcolor\":\"#E5ECF6\",\"gridcolor\":\"white\",\"linecolor\":\"white\",\"showbackground\":true,\"ticks\":\"\",\"zerolinecolor\":\"white\",\"gridwidth\":2},\"zaxis\":{\"backgroundcolor\":\"#E5ECF6\",\"gridcolor\":\"white\",\"linecolor\":\"white\",\"showbackground\":true,\"ticks\":\"\",\"zerolinecolor\":\"white\",\"gridwidth\":2}},\"shapedefaults\":{\"line\":{\"color\":\"#2a3f5f\"}},\"annotationdefaults\":{\"arrowcolor\":\"#2a3f5f\",\"arrowhead\":0,\"arrowwidth\":1},\"geo\":{\"bgcolor\":\"white\",\"landcolor\":\"#E5ECF6\",\"subunitcolor\":\"white\",\"showland\":true,\"showlakes\":true,\"lakecolor\":\"white\"},\"title\":{\"x\":0.05},\"mapbox\":{\"style\":\"light\"}}},\"legend\":{\"tracegroupgap\":0},\"title\":{\"text\":\"Top 3 Product Categories Based on Purchase Amount\"},\"piecolorway\":[\"#440154\",\"#482878\",\"#3e4989\",\"#31688e\",\"#26828e\",\"#1f9e89\",\"#35b779\",\"#6ece58\",\"#b5de2b\",\"#fde725\"]},                        {\"responsive\": true}                    ).then(function(){\n",
              "                            \n",
              "var gd = document.getElementById('a1ccc058-c5fa-4360-a6b7-9745a7043839');\n",
              "var x = new MutationObserver(function (mutations, observer) {{\n",
              "        var display = window.getComputedStyle(gd).display;\n",
              "        if (!display || display === 'none') {{\n",
              "            console.log([gd, 'removed!']);\n",
              "            Plotly.purge(gd);\n",
              "            observer.disconnect();\n",
              "        }}\n",
              "}});\n",
              "\n",
              "// Listen for the removal of the full notebook cells\n",
              "var notebookContainer = gd.closest('#notebook-container');\n",
              "if (notebookContainer) {{\n",
              "    x.observe(notebookContainer, {childList: true});\n",
              "}}\n",
              "\n",
              "// Listen for the clearing of the current output cell\n",
              "var outputEl = gd.closest('.output');\n",
              "if (outputEl) {{\n",
              "    x.observe(outputEl, {childList: true});\n",
              "}}\n",
              "\n",
              "                        })                };                            </script>        </div>\n",
              "</body>\n",
              "</html>"
            ]
          },
          "metadata": {}
        }
      ]
    },
    {
      "cell_type": "code",
      "source": [
        "\n",
        "top_products = df['Product Category'].value_counts().reset_index()\n",
        "top_products.columns = ['Product Category', 'Count']\n",
        "\n",
        "top_3_products = top_products.head(3)\n",
        "print(top_3_products)\n",
        "\n",
        "fig = px.bar(top_3_products,\n",
        "             x='Product Category',\n",
        "             y='Count',\n",
        "             title='Top 3 Product Categories Based on Number of Purchases',\n",
        "             labels={'Count': 'Number of Purchases'},\n",
        "             color='Product Category')\n",
        "\n",
        "fig.show()\n",
        "\n",
        "\n"
      ],
      "metadata": {
        "colab": {
          "base_uri": "https://localhost:8080/",
          "height": 611
        },
        "id": "GKJqIsRoqE6j",
        "outputId": "b6f5ed78-4f83-4a47-90fc-f225e71de7a0"
      },
      "execution_count": null,
      "outputs": [
        {
          "output_type": "stream",
          "name": "stdout",
          "text": [
            "  Product Category  Count\n",
            "0      Electronics   1309\n",
            "1         Clothing   1297\n",
            "2             Toys   1288\n"
          ]
        },
        {
          "output_type": "display_data",
          "data": {
            "text/html": [
              "<html>\n",
              "<head><meta charset=\"utf-8\" /></head>\n",
              "<body>\n",
              "    <div>            <script src=\"https://cdnjs.cloudflare.com/ajax/libs/mathjax/2.7.5/MathJax.js?config=TeX-AMS-MML_SVG\"></script><script type=\"text/javascript\">if (window.MathJax && window.MathJax.Hub && window.MathJax.Hub.Config) {window.MathJax.Hub.Config({SVG: {font: \"STIX-Web\"}});}</script>                <script type=\"text/javascript\">window.PlotlyConfig = {MathJaxConfig: 'local'};</script>\n",
              "        <script charset=\"utf-8\" src=\"https://cdn.plot.ly/plotly-2.35.2.min.js\"></script>                <div id=\"3cccde5a-7725-4388-8eaf-5de6d56d2616\" class=\"plotly-graph-div\" style=\"height:525px; width:100%;\"></div>            <script type=\"text/javascript\">                                    window.PLOTLYENV=window.PLOTLYENV || {};                                    if (document.getElementById(\"3cccde5a-7725-4388-8eaf-5de6d56d2616\")) {                    Plotly.newPlot(                        \"3cccde5a-7725-4388-8eaf-5de6d56d2616\",                        [{\"alignmentgroup\":\"True\",\"hovertemplate\":\"Product Category=%{x}\\u003cbr\\u003eNumber of Purchases=%{y}\\u003cextra\\u003e\\u003c\\u002fextra\\u003e\",\"legendgroup\":\"Electronics\",\"marker\":{\"color\":\"#636efa\",\"pattern\":{\"shape\":\"\"}},\"name\":\"Electronics\",\"offsetgroup\":\"Electronics\",\"orientation\":\"v\",\"showlegend\":true,\"textposition\":\"auto\",\"x\":[\"Electronics\"],\"xaxis\":\"x\",\"y\":[1309],\"yaxis\":\"y\",\"type\":\"bar\"},{\"alignmentgroup\":\"True\",\"hovertemplate\":\"Product Category=%{x}\\u003cbr\\u003eNumber of Purchases=%{y}\\u003cextra\\u003e\\u003c\\u002fextra\\u003e\",\"legendgroup\":\"Clothing\",\"marker\":{\"color\":\"#EF553B\",\"pattern\":{\"shape\":\"\"}},\"name\":\"Clothing\",\"offsetgroup\":\"Clothing\",\"orientation\":\"v\",\"showlegend\":true,\"textposition\":\"auto\",\"x\":[\"Clothing\"],\"xaxis\":\"x\",\"y\":[1297],\"yaxis\":\"y\",\"type\":\"bar\"},{\"alignmentgroup\":\"True\",\"hovertemplate\":\"Product Category=%{x}\\u003cbr\\u003eNumber of Purchases=%{y}\\u003cextra\\u003e\\u003c\\u002fextra\\u003e\",\"legendgroup\":\"Toys\",\"marker\":{\"color\":\"#00cc96\",\"pattern\":{\"shape\":\"\"}},\"name\":\"Toys\",\"offsetgroup\":\"Toys\",\"orientation\":\"v\",\"showlegend\":true,\"textposition\":\"auto\",\"x\":[\"Toys\"],\"xaxis\":\"x\",\"y\":[1288],\"yaxis\":\"y\",\"type\":\"bar\"}],                        {\"template\":{\"data\":{\"histogram2dcontour\":[{\"type\":\"histogram2dcontour\",\"colorbar\":{\"outlinewidth\":0,\"ticks\":\"\"},\"colorscale\":[[0.0,\"#0d0887\"],[0.1111111111111111,\"#46039f\"],[0.2222222222222222,\"#7201a8\"],[0.3333333333333333,\"#9c179e\"],[0.4444444444444444,\"#bd3786\"],[0.5555555555555556,\"#d8576b\"],[0.6666666666666666,\"#ed7953\"],[0.7777777777777778,\"#fb9f3a\"],[0.8888888888888888,\"#fdca26\"],[1.0,\"#f0f921\"]]}],\"choropleth\":[{\"type\":\"choropleth\",\"colorbar\":{\"outlinewidth\":0,\"ticks\":\"\"}}],\"histogram2d\":[{\"type\":\"histogram2d\",\"colorbar\":{\"outlinewidth\":0,\"ticks\":\"\"},\"colorscale\":[[0.0,\"#0d0887\"],[0.1111111111111111,\"#46039f\"],[0.2222222222222222,\"#7201a8\"],[0.3333333333333333,\"#9c179e\"],[0.4444444444444444,\"#bd3786\"],[0.5555555555555556,\"#d8576b\"],[0.6666666666666666,\"#ed7953\"],[0.7777777777777778,\"#fb9f3a\"],[0.8888888888888888,\"#fdca26\"],[1.0,\"#f0f921\"]]}],\"heatmap\":[{\"type\":\"heatmap\",\"colorbar\":{\"outlinewidth\":0,\"ticks\":\"\"},\"colorscale\":[[0.0,\"#0d0887\"],[0.1111111111111111,\"#46039f\"],[0.2222222222222222,\"#7201a8\"],[0.3333333333333333,\"#9c179e\"],[0.4444444444444444,\"#bd3786\"],[0.5555555555555556,\"#d8576b\"],[0.6666666666666666,\"#ed7953\"],[0.7777777777777778,\"#fb9f3a\"],[0.8888888888888888,\"#fdca26\"],[1.0,\"#f0f921\"]]}],\"heatmapgl\":[{\"type\":\"heatmapgl\",\"colorbar\":{\"outlinewidth\":0,\"ticks\":\"\"},\"colorscale\":[[0.0,\"#0d0887\"],[0.1111111111111111,\"#46039f\"],[0.2222222222222222,\"#7201a8\"],[0.3333333333333333,\"#9c179e\"],[0.4444444444444444,\"#bd3786\"],[0.5555555555555556,\"#d8576b\"],[0.6666666666666666,\"#ed7953\"],[0.7777777777777778,\"#fb9f3a\"],[0.8888888888888888,\"#fdca26\"],[1.0,\"#f0f921\"]]}],\"contourcarpet\":[{\"type\":\"contourcarpet\",\"colorbar\":{\"outlinewidth\":0,\"ticks\":\"\"}}],\"contour\":[{\"type\":\"contour\",\"colorbar\":{\"outlinewidth\":0,\"ticks\":\"\"},\"colorscale\":[[0.0,\"#0d0887\"],[0.1111111111111111,\"#46039f\"],[0.2222222222222222,\"#7201a8\"],[0.3333333333333333,\"#9c179e\"],[0.4444444444444444,\"#bd3786\"],[0.5555555555555556,\"#d8576b\"],[0.6666666666666666,\"#ed7953\"],[0.7777777777777778,\"#fb9f3a\"],[0.8888888888888888,\"#fdca26\"],[1.0,\"#f0f921\"]]}],\"surface\":[{\"type\":\"surface\",\"colorbar\":{\"outlinewidth\":0,\"ticks\":\"\"},\"colorscale\":[[0.0,\"#0d0887\"],[0.1111111111111111,\"#46039f\"],[0.2222222222222222,\"#7201a8\"],[0.3333333333333333,\"#9c179e\"],[0.4444444444444444,\"#bd3786\"],[0.5555555555555556,\"#d8576b\"],[0.6666666666666666,\"#ed7953\"],[0.7777777777777778,\"#fb9f3a\"],[0.8888888888888888,\"#fdca26\"],[1.0,\"#f0f921\"]]}],\"mesh3d\":[{\"type\":\"mesh3d\",\"colorbar\":{\"outlinewidth\":0,\"ticks\":\"\"}}],\"scatter\":[{\"fillpattern\":{\"fillmode\":\"overlay\",\"size\":10,\"solidity\":0.2},\"type\":\"scatter\"}],\"parcoords\":[{\"type\":\"parcoords\",\"line\":{\"colorbar\":{\"outlinewidth\":0,\"ticks\":\"\"}}}],\"scatterpolargl\":[{\"type\":\"scatterpolargl\",\"marker\":{\"colorbar\":{\"outlinewidth\":0,\"ticks\":\"\"}}}],\"bar\":[{\"error_x\":{\"color\":\"#2a3f5f\"},\"error_y\":{\"color\":\"#2a3f5f\"},\"marker\":{\"line\":{\"color\":\"#E5ECF6\",\"width\":0.5},\"pattern\":{\"fillmode\":\"overlay\",\"size\":10,\"solidity\":0.2}},\"type\":\"bar\"}],\"scattergeo\":[{\"type\":\"scattergeo\",\"marker\":{\"colorbar\":{\"outlinewidth\":0,\"ticks\":\"\"}}}],\"scatterpolar\":[{\"type\":\"scatterpolar\",\"marker\":{\"colorbar\":{\"outlinewidth\":0,\"ticks\":\"\"}}}],\"histogram\":[{\"marker\":{\"pattern\":{\"fillmode\":\"overlay\",\"size\":10,\"solidity\":0.2}},\"type\":\"histogram\"}],\"scattergl\":[{\"type\":\"scattergl\",\"marker\":{\"colorbar\":{\"outlinewidth\":0,\"ticks\":\"\"}}}],\"scatter3d\":[{\"type\":\"scatter3d\",\"line\":{\"colorbar\":{\"outlinewidth\":0,\"ticks\":\"\"}},\"marker\":{\"colorbar\":{\"outlinewidth\":0,\"ticks\":\"\"}}}],\"scattermapbox\":[{\"type\":\"scattermapbox\",\"marker\":{\"colorbar\":{\"outlinewidth\":0,\"ticks\":\"\"}}}],\"scatterternary\":[{\"type\":\"scatterternary\",\"marker\":{\"colorbar\":{\"outlinewidth\":0,\"ticks\":\"\"}}}],\"scattercarpet\":[{\"type\":\"scattercarpet\",\"marker\":{\"colorbar\":{\"outlinewidth\":0,\"ticks\":\"\"}}}],\"carpet\":[{\"aaxis\":{\"endlinecolor\":\"#2a3f5f\",\"gridcolor\":\"white\",\"linecolor\":\"white\",\"minorgridcolor\":\"white\",\"startlinecolor\":\"#2a3f5f\"},\"baxis\":{\"endlinecolor\":\"#2a3f5f\",\"gridcolor\":\"white\",\"linecolor\":\"white\",\"minorgridcolor\":\"white\",\"startlinecolor\":\"#2a3f5f\"},\"type\":\"carpet\"}],\"table\":[{\"cells\":{\"fill\":{\"color\":\"#EBF0F8\"},\"line\":{\"color\":\"white\"}},\"header\":{\"fill\":{\"color\":\"#C8D4E3\"},\"line\":{\"color\":\"white\"}},\"type\":\"table\"}],\"barpolar\":[{\"marker\":{\"line\":{\"color\":\"#E5ECF6\",\"width\":0.5},\"pattern\":{\"fillmode\":\"overlay\",\"size\":10,\"solidity\":0.2}},\"type\":\"barpolar\"}],\"pie\":[{\"automargin\":true,\"type\":\"pie\"}]},\"layout\":{\"autotypenumbers\":\"strict\",\"colorway\":[\"#636efa\",\"#EF553B\",\"#00cc96\",\"#ab63fa\",\"#FFA15A\",\"#19d3f3\",\"#FF6692\",\"#B6E880\",\"#FF97FF\",\"#FECB52\"],\"font\":{\"color\":\"#2a3f5f\"},\"hovermode\":\"closest\",\"hoverlabel\":{\"align\":\"left\"},\"paper_bgcolor\":\"white\",\"plot_bgcolor\":\"#E5ECF6\",\"polar\":{\"bgcolor\":\"#E5ECF6\",\"angularaxis\":{\"gridcolor\":\"white\",\"linecolor\":\"white\",\"ticks\":\"\"},\"radialaxis\":{\"gridcolor\":\"white\",\"linecolor\":\"white\",\"ticks\":\"\"}},\"ternary\":{\"bgcolor\":\"#E5ECF6\",\"aaxis\":{\"gridcolor\":\"white\",\"linecolor\":\"white\",\"ticks\":\"\"},\"baxis\":{\"gridcolor\":\"white\",\"linecolor\":\"white\",\"ticks\":\"\"},\"caxis\":{\"gridcolor\":\"white\",\"linecolor\":\"white\",\"ticks\":\"\"}},\"coloraxis\":{\"colorbar\":{\"outlinewidth\":0,\"ticks\":\"\"}},\"colorscale\":{\"sequential\":[[0.0,\"#0d0887\"],[0.1111111111111111,\"#46039f\"],[0.2222222222222222,\"#7201a8\"],[0.3333333333333333,\"#9c179e\"],[0.4444444444444444,\"#bd3786\"],[0.5555555555555556,\"#d8576b\"],[0.6666666666666666,\"#ed7953\"],[0.7777777777777778,\"#fb9f3a\"],[0.8888888888888888,\"#fdca26\"],[1.0,\"#f0f921\"]],\"sequentialminus\":[[0.0,\"#0d0887\"],[0.1111111111111111,\"#46039f\"],[0.2222222222222222,\"#7201a8\"],[0.3333333333333333,\"#9c179e\"],[0.4444444444444444,\"#bd3786\"],[0.5555555555555556,\"#d8576b\"],[0.6666666666666666,\"#ed7953\"],[0.7777777777777778,\"#fb9f3a\"],[0.8888888888888888,\"#fdca26\"],[1.0,\"#f0f921\"]],\"diverging\":[[0,\"#8e0152\"],[0.1,\"#c51b7d\"],[0.2,\"#de77ae\"],[0.3,\"#f1b6da\"],[0.4,\"#fde0ef\"],[0.5,\"#f7f7f7\"],[0.6,\"#e6f5d0\"],[0.7,\"#b8e186\"],[0.8,\"#7fbc41\"],[0.9,\"#4d9221\"],[1,\"#276419\"]]},\"xaxis\":{\"gridcolor\":\"white\",\"linecolor\":\"white\",\"ticks\":\"\",\"title\":{\"standoff\":15},\"zerolinecolor\":\"white\",\"automargin\":true,\"zerolinewidth\":2},\"yaxis\":{\"gridcolor\":\"white\",\"linecolor\":\"white\",\"ticks\":\"\",\"title\":{\"standoff\":15},\"zerolinecolor\":\"white\",\"automargin\":true,\"zerolinewidth\":2},\"scene\":{\"xaxis\":{\"backgroundcolor\":\"#E5ECF6\",\"gridcolor\":\"white\",\"linecolor\":\"white\",\"showbackground\":true,\"ticks\":\"\",\"zerolinecolor\":\"white\",\"gridwidth\":2},\"yaxis\":{\"backgroundcolor\":\"#E5ECF6\",\"gridcolor\":\"white\",\"linecolor\":\"white\",\"showbackground\":true,\"ticks\":\"\",\"zerolinecolor\":\"white\",\"gridwidth\":2},\"zaxis\":{\"backgroundcolor\":\"#E5ECF6\",\"gridcolor\":\"white\",\"linecolor\":\"white\",\"showbackground\":true,\"ticks\":\"\",\"zerolinecolor\":\"white\",\"gridwidth\":2}},\"shapedefaults\":{\"line\":{\"color\":\"#2a3f5f\"}},\"annotationdefaults\":{\"arrowcolor\":\"#2a3f5f\",\"arrowhead\":0,\"arrowwidth\":1},\"geo\":{\"bgcolor\":\"white\",\"landcolor\":\"#E5ECF6\",\"subunitcolor\":\"white\",\"showland\":true,\"showlakes\":true,\"lakecolor\":\"white\"},\"title\":{\"x\":0.05},\"mapbox\":{\"style\":\"light\"}}},\"xaxis\":{\"anchor\":\"y\",\"domain\":[0.0,1.0],\"title\":{\"text\":\"Product Category\"},\"categoryorder\":\"array\",\"categoryarray\":[\"Electronics\",\"Clothing\",\"Toys\"]},\"yaxis\":{\"anchor\":\"x\",\"domain\":[0.0,1.0],\"title\":{\"text\":\"Number of Purchases\"}},\"legend\":{\"title\":{\"text\":\"Product Category\"},\"tracegroupgap\":0},\"title\":{\"text\":\"Top 3 Product Categories Based on Number of Purchases\"},\"barmode\":\"relative\"},                        {\"responsive\": true}                    ).then(function(){\n",
              "                            \n",
              "var gd = document.getElementById('3cccde5a-7725-4388-8eaf-5de6d56d2616');\n",
              "var x = new MutationObserver(function (mutations, observer) {{\n",
              "        var display = window.getComputedStyle(gd).display;\n",
              "        if (!display || display === 'none') {{\n",
              "            console.log([gd, 'removed!']);\n",
              "            Plotly.purge(gd);\n",
              "            observer.disconnect();\n",
              "        }}\n",
              "}});\n",
              "\n",
              "// Listen for the removal of the full notebook cells\n",
              "var notebookContainer = gd.closest('#notebook-container');\n",
              "if (notebookContainer) {{\n",
              "    x.observe(notebookContainer, {childList: true});\n",
              "}}\n",
              "\n",
              "// Listen for the clearing of the current output cell\n",
              "var outputEl = gd.closest('.output');\n",
              "if (outputEl) {{\n",
              "    x.observe(outputEl, {childList: true});\n",
              "}}\n",
              "\n",
              "                        })                };                            </script>        </div>\n",
              "</body>\n",
              "</html>"
            ]
          },
          "metadata": {}
        }
      ]
    },
    {
      "cell_type": "markdown",
      "source": [
        "**Q4: How many customers are classified as return customers?**"
      ],
      "metadata": {
        "id": "pk1xapgZ_RQm"
      }
    },
    {
      "cell_type": "code",
      "source": [
        "total_return_customers = df[df['Return Customer'] == True]['Customer ID'].nunique()\n",
        "print(f'Return Customers are : {total_return_customers}')"
      ],
      "metadata": {
        "colab": {
          "base_uri": "https://localhost:8080/"
        },
        "id": "y2T7zyYaYszz",
        "outputId": "4ec494ea-0ac1-4ff6-c14b-c69d8ec77419"
      },
      "execution_count": null,
      "outputs": [
        {
          "output_type": "stream",
          "name": "stdout",
          "text": [
            "Return Customers are : 4996\n"
          ]
        }
      ]
    },
    {
      "cell_type": "code",
      "source": [
        "\n",
        "return_customers = df[df['Return Customer'] == True]['Customer ID'].nunique()\n",
        "non_return_customers = df[df['Return Customer'] == False]['Customer ID'].nunique()\n",
        "\n",
        "print(f'Number of Return Customers: {return_customers}')\n",
        "print(f'Number of Non-Return Customers: {non_return_customers}')\n",
        "\n",
        "customer_types = ['Return Customers', 'Non-Return Customers']\n",
        "customer_counts = [return_customers, non_return_customers]\n",
        "\n",
        "plt.figure(figsize=(8, 6))\n",
        "plt.bar(customer_types, customer_counts, color=['skyblue', 'lightcoral'])\n",
        "plt.xlabel('Customer Type')\n",
        "plt.ylabel('Number of Customers')\n",
        "plt.title('Return vs. Non-Return Customers')\n",
        "\n",
        "for i, v in enumerate(customer_counts):\n",
        "    plt.text(i, v + 0.5, str(v), ha='center')\n",
        "\n",
        "plt.show()"
      ],
      "metadata": {
        "colab": {
          "base_uri": "https://localhost:8080/",
          "height": 599
        },
        "id": "try9rVLxBQsa",
        "outputId": "6db69c00-7a52-4e68-c7e1-429da6c2944f"
      },
      "execution_count": null,
      "outputs": [
        {
          "output_type": "stream",
          "name": "stdout",
          "text": [
            "Number of Return Customers: 4996\n",
            "Number of Non-Return Customers: 5004\n"
          ]
        },
        {
          "output_type": "display_data",
          "data": {
            "text/plain": [
              "<Figure size 800x600 with 1 Axes>"
            ],
            "image/png": "[encoded data removed]"
          },
          "metadata": {}
        }
      ]
    },
    {
      "cell_type": "code",
      "source": [
        "\n",
        "return_customer_counts = df['Return Customer'].value_counts().reset_index()\n",
        "return_customer_counts.columns = ['Return Customer', 'Count']\n",
        "\n",
        "fig_return_customers = px.pie(return_customer_counts,\n",
        "                              names='Return Customer',\n",
        "                              values='Count',\n",
        "                              title='Number of Return Customers',\n",
        "                              color_discrete_sequence=px.colors.sequential.Viridis)\n",
        "\n",
        "fig_return_customers.show()\n",
        "\n",
        "\n",
        "product_return_rate = df.groupby('Product Category')['Return Customer'].mean()\n",
        "\n",
        "top_5_products = product_return_rate.sort_values(ascending=False).head(5).reset_index()\n",
        "top_5_products.columns = ['Product Category', 'Return Rate']\n",
        "\n",
        "fig_top_products = px.bar(\n",
        "    top_5_products,\n",
        "    x='Product Category',\n",
        "    y='Return Rate',\n",
        "    title='Top 5 Product Categories with the Highest Return Rate',\n",
        "    labels={'Return Rate': 'Return Rate'},\n",
        "    color='Return Rate',\n",
        "    color_continuous_scale=px.colors.sequential.Viridis\n",
        ")\n",
        "\n",
        "\n",
        "fig_top_products.update_traces(texttemplate='%{y:.2%}', textposition='outside')\n",
        "fig_top_products.update_layout(yaxis_tickformat='%')\n",
        "\n",
        "fig_top_products.show()\n",
        "\n"
      ],
      "metadata": {
        "colab": {
          "base_uri": "https://localhost:8080/",
          "height": 1000
        },
        "id": "BteXQZknrj4a",
        "outputId": "bdbf670d-6280-4a28-dbd4-7f1a095d56a9"
      },
      "execution_count": null,
      "outputs": [
        {
          "output_type": "display_data",
          "data": {
            "text/html": [
              "<html>\n",
              "<head><meta charset=\"utf-8\" /></head>\n",
              "<body>\n",
              "    <div>            <script src=\"https://cdnjs.cloudflare.com/ajax/libs/mathjax/2.7.5/MathJax.js?config=TeX-AMS-MML_SVG\"></script><script type=\"text/javascript\">if (window.MathJax && window.MathJax.Hub && window.MathJax.Hub.Config) {window.MathJax.Hub.Config({SVG: {font: \"STIX-Web\"}});}</script>                <script type=\"text/javascript\">window.PlotlyConfig = {MathJaxConfig: 'local'};</script>\n",
              "        <script charset=\"utf-8\" src=\"https://cdn.plot.ly/plotly-2.35.2.min.js\"></script>                <div id=\"30611ce9-0d7b-4f46-ba42-aeae315d9a0c\" class=\"plotly-graph-div\" style=\"height:525px; width:100%;\"></div>            <script type=\"text/javascript\">                                    window.PLOTLYENV=window.PLOTLYENV || {};                                    if (document.getElementById(\"30611ce9-0d7b-4f46-ba42-aeae315d9a0c\")) {                    Plotly.newPlot(                        \"30611ce9-0d7b-4f46-ba42-aeae315d9a0c\",                        [{\"domain\":{\"x\":[0.0,1.0],\"y\":[0.0,1.0]},\"hovertemplate\":\"Return Customer=%{label}\\u003cbr\\u003eCount=%{value}\\u003cextra\\u003e\\u003c\\u002fextra\\u003e\",\"labels\":[false,true],\"legendgroup\":\"\",\"name\":\"\",\"showlegend\":true,\"values\":[5004,4996],\"type\":\"pie\"}],                        {\"template\":{\"data\":{\"histogram2dcontour\":[{\"type\":\"histogram2dcontour\",\"colorbar\":{\"outlinewidth\":0,\"ticks\":\"\"},\"colorscale\":[[0.0,\"#0d0887\"],[0.1111111111111111,\"#46039f\"],[0.2222222222222222,\"#7201a8\"],[0.3333333333333333,\"#9c179e\"],[0.4444444444444444,\"#bd3786\"],[0.5555555555555556,\"#d8576b\"],[0.6666666666666666,\"#ed7953\"],[0.7777777777777778,\"#fb9f3a\"],[0.8888888888888888,\"#fdca26\"],[1.0,\"#f0f921\"]]}],\"choropleth\":[{\"type\":\"choropleth\",\"colorbar\":{\"outlinewidth\":0,\"ticks\":\"\"}}],\"histogram2d\":[{\"type\":\"histogram2d\",\"colorbar\":{\"outlinewidth\":0,\"ticks\":\"\"},\"colorscale\":[[0.0,\"#0d0887\"],[0.1111111111111111,\"#46039f\"],[0.2222222222222222,\"#7201a8\"],[0.3333333333333333,\"#9c179e\"],[0.4444444444444444,\"#bd3786\"],[0.5555555555555556,\"#d8576b\"],[0.6666666666666666,\"#ed7953\"],[0.7777777777777778,\"#fb9f3a\"],[0.8888888888888888,\"#fdca26\"],[1.0,\"#f0f921\"]]}],\"heatmap\":[{\"type\":\"heatmap\",\"colorbar\":{\"outlinewidth\":0,\"ticks\":\"\"},\"colorscale\":[[0.0,\"#0d0887\"],[0.1111111111111111,\"#46039f\"],[0.2222222222222222,\"#7201a8\"],[0.3333333333333333,\"#9c179e\"],[0.4444444444444444,\"#bd3786\"],[0.5555555555555556,\"#d8576b\"],[0.6666666666666666,\"#ed7953\"],[0.7777777777777778,\"#fb9f3a\"],[0.8888888888888888,\"#fdca26\"],[1.0,\"#f0f921\"]]}],\"heatmapgl\":[{\"type\":\"heatmapgl\",\"colorbar\":{\"outlinewidth\":0,\"ticks\":\"\"},\"colorscale\":[[0.0,\"#0d0887\"],[0.1111111111111111,\"#46039f\"],[0.2222222222222222,\"#7201a8\"],[0.3333333333333333,\"#9c179e\"],[0.4444444444444444,\"#bd3786\"],[0.5555555555555556,\"#d8576b\"],[0.6666666666666666,\"#ed7953\"],[0.7777777777777778,\"#fb9f3a\"],[0.8888888888888888,\"#fdca26\"],[1.0,\"#f0f921\"]]}],\"contourcarpet\":[{\"type\":\"contourcarpet\",\"colorbar\":{\"outlinewidth\":0,\"ticks\":\"\"}}],\"contour\":[{\"type\":\"contour\",\"colorbar\":{\"outlinewidth\":0,\"ticks\":\"\"},\"colorscale\":[[0.0,\"#0d0887\"],[0.1111111111111111,\"#46039f\"],[0.2222222222222222,\"#7201a8\"],[0.3333333333333333,\"#9c179e\"],[0.4444444444444444,\"#bd3786\"],[0.5555555555555556,\"#d8576b\"],[0.6666666666666666,\"#ed7953\"],[0.7777777777777778,\"#fb9f3a\"],[0.8888888888888888,\"#fdca26\"],[1.0,\"#f0f921\"]]}],\"surface\":[{\"type\":\"surface\",\"colorbar\":{\"outlinewidth\":0,\"ticks\":\"\"},\"colorscale\":[[0.0,\"#0d0887\"],[0.1111111111111111,\"#46039f\"],[0.2222222222222222,\"#7201a8\"],[0.3333333333333333,\"#9c179e\"],[0.4444444444444444,\"#bd3786\"],[0.5555555555555556,\"#d8576b\"],[0.6666666666666666,\"#ed7953\"],[0.7777777777777778,\"#fb9f3a\"],[0.8888888888888888,\"#fdca26\"],[1.0,\"#f0f921\"]]}],\"mesh3d\":[{\"type\":\"mesh3d\",\"colorbar\":{\"outlinewidth\":0,\"ticks\":\"\"}}],\"scatter\":[{\"fillpattern\":{\"fillmode\":\"overlay\",\"size\":10,\"solidity\":0.2},\"type\":\"scatter\"}],\"parcoords\":[{\"type\":\"parcoords\",\"line\":{\"colorbar\":{\"outlinewidth\":0,\"ticks\":\"\"}}}],\"scatterpolargl\":[{\"type\":\"scatterpolargl\",\"marker\":{\"colorbar\":{\"outlinewidth\":0,\"ticks\":\"\"}}}],\"bar\":[{\"error_x\":{\"color\":\"#2a3f5f\"},\"error_y\":{\"color\":\"#2a3f5f\"},\"marker\":{\"line\":{\"color\":\"#E5ECF6\",\"width\":0.5},\"pattern\":{\"fillmode\":\"overlay\",\"size\":10,\"solidity\":0.2}},\"type\":\"bar\"}],\"scattergeo\":[{\"type\":\"scattergeo\",\"marker\":{\"colorbar\":{\"outlinewidth\":0,\"ticks\":\"\"}}}],\"scatterpolar\":[{\"type\":\"scatterpolar\",\"marker\":{\"colorbar\":{\"outlinewidth\":0,\"ticks\":\"\"}}}],\"histogram\":[{\"marker\":{\"pattern\":{\"fillmode\":\"overlay\",\"size\":10,\"solidity\":0.2}},\"type\":\"histogram\"}],\"scattergl\":[{\"type\":\"scattergl\",\"marker\":{\"colorbar\":{\"outlinewidth\":0,\"ticks\":\"\"}}}],\"scatter3d\":[{\"type\":\"scatter3d\",\"line\":{\"colorbar\":{\"outlinewidth\":0,\"ticks\":\"\"}},\"marker\":{\"colorbar\":{\"outlinewidth\":0,\"ticks\":\"\"}}}],\"scattermapbox\":[{\"type\":\"scattermapbox\",\"marker\":{\"colorbar\":{\"outlinewidth\":0,\"ticks\":\"\"}}}],\"scatterternary\":[{\"type\":\"scatterternary\",\"marker\":{\"colorbar\":{\"outlinewidth\":0,\"ticks\":\"\"}}}],\"scattercarpet\":[{\"type\":\"scattercarpet\",\"marker\":{\"colorbar\":{\"outlinewidth\":0,\"ticks\":\"\"}}}],\"carpet\":[{\"aaxis\":{\"endlinecolor\":\"#2a3f5f\",\"gridcolor\":\"white\",\"linecolor\":\"white\",\"minorgridcolor\":\"white\",\"startlinecolor\":\"#2a3f5f\"},\"baxis\":{\"endlinecolor\":\"#2a3f5f\",\"gridcolor\":\"white\",\"linecolor\":\"white\",\"minorgridcolor\":\"white\",\"startlinecolor\":\"#2a3f5f\"},\"type\":\"carpet\"}],\"table\":[{\"cells\":{\"fill\":{\"color\":\"#EBF0F8\"},\"line\":{\"color\":\"white\"}},\"header\":{\"fill\":{\"color\":\"#C8D4E3\"},\"line\":{\"color\":\"white\"}},\"type\":\"table\"}],\"barpolar\":[{\"marker\":{\"line\":{\"color\":\"#E5ECF6\",\"width\":0.5},\"pattern\":{\"fillmode\":\"overlay\",\"size\":10,\"solidity\":0.2}},\"type\":\"barpolar\"}],\"pie\":[{\"automargin\":true,\"type\":\"pie\"}]},\"layout\":{\"autotypenumbers\":\"strict\",\"colorway\":[\"#636efa\",\"#EF553B\",\"#00cc96\",\"#ab63fa\",\"#FFA15A\",\"#19d3f3\",\"#FF6692\",\"#B6E880\",\"#FF97FF\",\"#FECB52\"],\"font\":{\"color\":\"#2a3f5f\"},\"hovermode\":\"closest\",\"hoverlabel\":{\"align\":\"left\"},\"paper_bgcolor\":\"white\",\"plot_bgcolor\":\"#E5ECF6\",\"polar\":{\"bgcolor\":\"#E5ECF6\",\"angularaxis\":{\"gridcolor\":\"white\",\"linecolor\":\"white\",\"ticks\":\"\"},\"radialaxis\":{\"gridcolor\":\"white\",\"linecolor\":\"white\",\"ticks\":\"\"}},\"ternary\":{\"bgcolor\":\"#E5ECF6\",\"aaxis\":{\"gridcolor\":\"white\",\"linecolor\":\"white\",\"ticks\":\"\"},\"baxis\":{\"gridcolor\":\"white\",\"linecolor\":\"white\",\"ticks\":\"\"},\"caxis\":{\"gridcolor\":\"white\",\"linecolor\":\"white\",\"ticks\":\"\"}},\"coloraxis\":{\"colorbar\":{\"outlinewidth\":0,\"ticks\":\"\"}},\"colorscale\":{\"sequential\":[[0.0,\"#0d0887\"],[0.1111111111111111,\"#46039f\"],[0.2222222222222222,\"#7201a8\"],[0.3333333333333333,\"#9c179e\"],[0.4444444444444444,\"#bd3786\"],[0.5555555555555556,\"#d8576b\"],[0.6666666666666666,\"#ed7953\"],[0.7777777777777778,\"#fb9f3a\"],[0.8888888888888888,\"#fdca26\"],[1.0,\"#f0f921\"]],\"sequentialminus\":[[0.0,\"#0d0887\"],[0.1111111111111111,\"#46039f\"],[0.2222222222222222,\"#7201a8\"],[0.3333333333333333,\"#9c179e\"],[0.4444444444444444,\"#bd3786\"],[0.5555555555555556,\"#d8576b\"],[0.6666666666666666,\"#ed7953\"],[0.7777777777777778,\"#fb9f3a\"],[0.8888888888888888,\"#fdca26\"],[1.0,\"#f0f921\"]],\"diverging\":[[0,\"#8e0152\"],[0.1,\"#c51b7d\"],[0.2,\"#de77ae\"],[0.3,\"#f1b6da\"],[0.4,\"#fde0ef\"],[0.5,\"#f7f7f7\"],[0.6,\"#e6f5d0\"],[0.7,\"#b8e186\"],[0.8,\"#7fbc41\"],[0.9,\"#4d9221\"],[1,\"#276419\"]]},\"xaxis\":{\"gridcolor\":\"white\",\"linecolor\":\"white\",\"ticks\":\"\",\"title\":{\"standoff\":15},\"zerolinecolor\":\"white\",\"automargin\":true,\"zerolinewidth\":2},\"yaxis\":{\"gridcolor\":\"white\",\"linecolor\":\"white\",\"ticks\":\"\",\"title\":{\"standoff\":15},\"zerolinecolor\":\"white\",\"automargin\":true,\"zerolinewidth\":2},\"scene\":{\"xaxis\":{\"backgroundcolor\":\"#E5ECF6\",\"gridcolor\":\"white\",\"linecolor\":\"white\",\"showbackground\":true,\"ticks\":\"\",\"zerolinecolor\":\"white\",\"gridwidth\":2},\"yaxis\":{\"backgroundcolor\":\"#E5ECF6\",\"gridcolor\":\"white\",\"linecolor\":\"white\",\"showbackground\":true,\"ticks\":\"\",\"zerolinecolor\":\"white\",\"gridwidth\":2},\"zaxis\":{\"backgroundcolor\":\"#E5ECF6\",\"gridcolor\":\"white\",\"linecolor\":\"white\",\"showbackground\":true,\"ticks\":\"\",\"zerolinecolor\":\"white\",\"gridwidth\":2}},\"shapedefaults\":{\"line\":{\"color\":\"#2a3f5f\"}},\"annotationdefaults\":{\"arrowcolor\":\"#2a3f5f\",\"arrowhead\":0,\"arrowwidth\":1},\"geo\":{\"bgcolor\":\"white\",\"landcolor\":\"#E5ECF6\",\"subunitcolor\":\"white\",\"showland\":true,\"showlakes\":true,\"lakecolor\":\"white\"},\"title\":{\"x\":0.05},\"mapbox\":{\"style\":\"light\"}}},\"legend\":{\"tracegroupgap\":0},\"title\":{\"text\":\"Number of Return Customers\"},\"piecolorway\":[\"#440154\",\"#482878\",\"#3e4989\",\"#31688e\",\"#26828e\",\"#1f9e89\",\"#35b779\",\"#6ece58\",\"#b5de2b\",\"#fde725\"]},                        {\"responsive\": true}                    ).then(function(){\n",
              "                            \n",
              "var gd = document.getElementById('30611ce9-0d7b-4f46-ba42-aeae315d9a0c');\n",
              "var x = new MutationObserver(function (mutations, observer) {{\n",
              "        var display = window.getComputedStyle(gd).display;\n",
              "        if (!display || display === 'none') {{\n",
              "            console.log([gd, 'removed!']);\n",
              "            Plotly.purge(gd);\n",
              "            observer.disconnect();\n",
              "        }}\n",
              "}});\n",
              "\n",
              "// Listen for the removal of the full notebook cells\n",
              "var notebookContainer = gd.closest('#notebook-container');\n",
              "if (notebookContainer) {{\n",
              "    x.observe(notebookContainer, {childList: true});\n",
              "}}\n",
              "\n",
              "// Listen for the clearing of the current output cell\n",
              "var outputEl = gd.closest('.output');\n",
              "if (outputEl) {{\n",
              "    x.observe(outputEl, {childList: true});\n",
              "}}\n",
              "\n",
              "                        })                };                            </script>        </div>\n",
              "</body>\n",
              "</html>"
            ]
          },
          "metadata": {}
        },
        {
          "output_type": "display_data",
          "data": {
            "text/html": [
              "<html>\n",
              "<head><meta charset=\"utf-8\" /></head>\n",
              "<body>\n",
              "    <div>            <script src=\"https://cdnjs.cloudflare.com/ajax/libs/mathjax/2.7.5/MathJax.js?config=TeX-AMS-MML_SVG\"></script><script type=\"text/javascript\">if (window.MathJax && window.MathJax.Hub && window.MathJax.Hub.Config) {window.MathJax.Hub.Config({SVG: {font: \"STIX-Web\"}});}</script>                <script type=\"text/javascript\">window.PlotlyConfig = {MathJaxConfig: 'local'};</script>\n",
              "        <script charset=\"utf-8\" src=\"https://cdn.plot.ly/plotly-2.35.2.min.js\"></script>                <div id=\"c2b4148c-4085-46b2-b457-00dc6d7b08df\" class=\"plotly-graph-div\" style=\"height:525px; width:100%;\"></div>            <script type=\"text/javascript\">                                    window.PLOTLYENV=window.PLOTLYENV || {};                                    if (document.getElementById(\"c2b4148c-4085-46b2-b457-00dc6d7b08df\")) {                    Plotly.newPlot(                        \"c2b4148c-4085-46b2-b457-00dc6d7b08df\",                        [{\"alignmentgroup\":\"True\",\"hovertemplate\":\"Product Category=%{x}\\u003cbr\\u003eReturn Rate=%{marker.color}\\u003cextra\\u003e\\u003c\\u002fextra\\u003e\",\"legendgroup\":\"\",\"marker\":{\"color\":[0.514751552795031,0.5134926754047803,0.5087853323147441,0.49877949552481693,0.4980237154150198],\"coloraxis\":\"coloraxis\",\"pattern\":{\"shape\":\"\"}},\"name\":\"\",\"offsetgroup\":\"\",\"orientation\":\"v\",\"showlegend\":false,\"textposition\":\"outside\",\"x\":[\"Toys\",\"Clothing\",\"Electronics\",\"Beauty\",\"Home\"],\"xaxis\":\"x\",\"y\":[0.514751552795031,0.5134926754047803,0.5087853323147441,0.49877949552481693,0.4980237154150198],\"yaxis\":\"y\",\"type\":\"bar\",\"texttemplate\":\"%{y:.2%}\"}],                        {\"template\":{\"data\":{\"histogram2dcontour\":[{\"type\":\"histogram2dcontour\",\"colorbar\":{\"outlinewidth\":0,\"ticks\":\"\"},\"colorscale\":[[0.0,\"#0d0887\"],[0.1111111111111111,\"#46039f\"],[0.2222222222222222,\"#7201a8\"],[0.3333333333333333,\"#9c179e\"],[0.4444444444444444,\"#bd3786\"],[0.5555555555555556,\"#d8576b\"],[0.6666666666666666,\"#ed7953\"],[0.7777777777777778,\"#fb9f3a\"],[0.8888888888888888,\"#fdca26\"],[1.0,\"#f0f921\"]]}],\"choropleth\":[{\"type\":\"choropleth\",\"colorbar\":{\"outlinewidth\":0,\"ticks\":\"\"}}],\"histogram2d\":[{\"type\":\"histogram2d\",\"colorbar\":{\"outlinewidth\":0,\"ticks\":\"\"},\"colorscale\":[[0.0,\"#0d0887\"],[0.1111111111111111,\"#46039f\"],[0.2222222222222222,\"#7201a8\"],[0.3333333333333333,\"#9c179e\"],[0.4444444444444444,\"#bd3786\"],[0.5555555555555556,\"#d8576b\"],[0.6666666666666666,\"#ed7953\"],[0.7777777777777778,\"#fb9f3a\"],[0.8888888888888888,\"#fdca26\"],[1.0,\"#f0f921\"]]}],\"heatmap\":[{\"type\":\"heatmap\",\"colorbar\":{\"outlinewidth\":0,\"ticks\":\"\"},\"colorscale\":[[0.0,\"#0d0887\"],[0.1111111111111111,\"#46039f\"],[0.2222222222222222,\"#7201a8\"],[0.3333333333333333,\"#9c179e\"],[0.4444444444444444,\"#bd3786\"],[0.5555555555555556,\"#d8576b\"],[0.6666666666666666,\"#ed7953\"],[0.7777777777777778,\"#fb9f3a\"],[0.8888888888888888,\"#fdca26\"],[1.0,\"#f0f921\"]]}],\"heatmapgl\":[{\"type\":\"heatmapgl\",\"colorbar\":{\"outlinewidth\":0,\"ticks\":\"\"},\"colorscale\":[[0.0,\"#0d0887\"],[0.1111111111111111,\"#46039f\"],[0.2222222222222222,\"#7201a8\"],[0.3333333333333333,\"#9c179e\"],[0.4444444444444444,\"#bd3786\"],[0.5555555555555556,\"#d8576b\"],[0.6666666666666666,\"#ed7953\"],[0.7777777777777778,\"#fb9f3a\"],[0.8888888888888888,\"#fdca26\"],[1.0,\"#f0f921\"]]}],\"contourcarpet\":[{\"type\":\"contourcarpet\",\"colorbar\":{\"outlinewidth\":0,\"ticks\":\"\"}}],\"contour\":[{\"type\":\"contour\",\"colorbar\":{\"outlinewidth\":0,\"ticks\":\"\"},\"colorscale\":[[0.0,\"#0d0887\"],[0.1111111111111111,\"#46039f\"],[0.2222222222222222,\"#7201a8\"],[0.3333333333333333,\"#9c179e\"],[0.4444444444444444,\"#bd3786\"],[0.5555555555555556,\"#d8576b\"],[0.6666666666666666,\"#ed7953\"],[0.7777777777777778,\"#fb9f3a\"],[0.8888888888888888,\"#fdca26\"],[1.0,\"#f0f921\"]]}],\"surface\":[{\"type\":\"surface\",\"colorbar\":{\"outlinewidth\":0,\"ticks\":\"\"},\"colorscale\":[[0.0,\"#0d0887\"],[0.1111111111111111,\"#46039f\"],[0.2222222222222222,\"#7201a8\"],[0.3333333333333333,\"#9c179e\"],[0.4444444444444444,\"#bd3786\"],[0.5555555555555556,\"#d8576b\"],[0.6666666666666666,\"#ed7953\"],[0.7777777777777778,\"#fb9f3a\"],[0.8888888888888888,\"#fdca26\"],[1.0,\"#f0f921\"]]}],\"mesh3d\":[{\"type\":\"mesh3d\",\"colorbar\":{\"outlinewidth\":0,\"ticks\":\"\"}}],\"scatter\":[{\"fillpattern\":{\"fillmode\":\"overlay\",\"size\":10,\"solidity\":0.2},\"type\":\"scatter\"}],\"parcoords\":[{\"type\":\"parcoords\",\"line\":{\"colorbar\":{\"outlinewidth\":0,\"ticks\":\"\"}}}],\"scatterpolargl\":[{\"type\":\"scatterpolargl\",\"marker\":{\"colorbar\":{\"outlinewidth\":0,\"ticks\":\"\"}}}],\"bar\":[{\"error_x\":{\"color\":\"#2a3f5f\"},\"error_y\":{\"color\":\"#2a3f5f\"},\"marker\":{\"line\":{\"color\":\"#E5ECF6\",\"width\":0.5},\"pattern\":{\"fillmode\":\"overlay\",\"size\":10,\"solidity\":0.2}},\"type\":\"bar\"}],\"scattergeo\":[{\"type\":\"scattergeo\",\"marker\":{\"colorbar\":{\"outlinewidth\":0,\"ticks\":\"\"}}}],\"scatterpolar\":[{\"type\":\"scatterpolar\",\"marker\":{\"colorbar\":{\"outlinewidth\":0,\"ticks\":\"\"}}}],\"histogram\":[{\"marker\":{\"pattern\":{\"fillmode\":\"overlay\",\"size\":10,\"solidity\":0.2}},\"type\":\"histogram\"}],\"scattergl\":[{\"type\":\"scattergl\",\"marker\":{\"colorbar\":{\"outlinewidth\":0,\"ticks\":\"\"}}}],\"scatter3d\":[{\"type\":\"scatter3d\",\"line\":{\"colorbar\":{\"outlinewidth\":0,\"ticks\":\"\"}},\"marker\":{\"colorbar\":{\"outlinewidth\":0,\"ticks\":\"\"}}}],\"scattermapbox\":[{\"type\":\"scattermapbox\",\"marker\":{\"colorbar\":{\"outlinewidth\":0,\"ticks\":\"\"}}}],\"scatterternary\":[{\"type\":\"scatterternary\",\"marker\":{\"colorbar\":{\"outlinewidth\":0,\"ticks\":\"\"}}}],\"scattercarpet\":[{\"type\":\"scattercarpet\",\"marker\":{\"colorbar\":{\"outlinewidth\":0,\"ticks\":\"\"}}}],\"carpet\":[{\"aaxis\":{\"endlinecolor\":\"#2a3f5f\",\"gridcolor\":\"white\",\"linecolor\":\"white\",\"minorgridcolor\":\"white\",\"startlinecolor\":\"#2a3f5f\"},\"baxis\":{\"endlinecolor\":\"#2a3f5f\",\"gridcolor\":\"white\",\"linecolor\":\"white\",\"minorgridcolor\":\"white\",\"startlinecolor\":\"#2a3f5f\"},\"type\":\"carpet\"}],\"table\":[{\"cells\":{\"fill\":{\"color\":\"#EBF0F8\"},\"line\":{\"color\":\"white\"}},\"header\":{\"fill\":{\"color\":\"#C8D4E3\"},\"line\":{\"color\":\"white\"}},\"type\":\"table\"}],\"barpolar\":[{\"marker\":{\"line\":{\"color\":\"#E5ECF6\",\"width\":0.5},\"pattern\":{\"fillmode\":\"overlay\",\"size\":10,\"solidity\":0.2}},\"type\":\"barpolar\"}],\"pie\":[{\"automargin\":true,\"type\":\"pie\"}]},\"layout\":{\"autotypenumbers\":\"strict\",\"colorway\":[\"#636efa\",\"#EF553B\",\"#00cc96\",\"#ab63fa\",\"#FFA15A\",\"#19d3f3\",\"#FF6692\",\"#B6E880\",\"#FF97FF\",\"#FECB52\"],\"font\":{\"color\":\"#2a3f5f\"},\"hovermode\":\"closest\",\"hoverlabel\":{\"align\":\"left\"},\"paper_bgcolor\":\"white\",\"plot_bgcolor\":\"#E5ECF6\",\"polar\":{\"bgcolor\":\"#E5ECF6\",\"angularaxis\":{\"gridcolor\":\"white\",\"linecolor\":\"white\",\"ticks\":\"\"},\"radialaxis\":{\"gridcolor\":\"white\",\"linecolor\":\"white\",\"ticks\":\"\"}},\"ternary\":{\"bgcolor\":\"#E5ECF6\",\"aaxis\":{\"gridcolor\":\"white\",\"linecolor\":\"white\",\"ticks\":\"\"},\"baxis\":{\"gridcolor\":\"white\",\"linecolor\":\"white\",\"ticks\":\"\"},\"caxis\":{\"gridcolor\":\"white\",\"linecolor\":\"white\",\"ticks\":\"\"}},\"coloraxis\":{\"colorbar\":{\"outlinewidth\":0,\"ticks\":\"\"}},\"colorscale\":{\"sequential\":[[0.0,\"#0d0887\"],[0.1111111111111111,\"#46039f\"],[0.2222222222222222,\"#7201a8\"],[0.3333333333333333,\"#9c179e\"],[0.4444444444444444,\"#bd3786\"],[0.5555555555555556,\"#d8576b\"],[0.6666666666666666,\"#ed7953\"],[0.7777777777777778,\"#fb9f3a\"],[0.8888888888888888,\"#fdca26\"],[1.0,\"#f0f921\"]],\"sequentialminus\":[[0.0,\"#0d0887\"],[0.1111111111111111,\"#46039f\"],[0.2222222222222222,\"#7201a8\"],[0.3333333333333333,\"#9c179e\"],[0.4444444444444444,\"#bd3786\"],[0.5555555555555556,\"#d8576b\"],[0.6666666666666666,\"#ed7953\"],[0.7777777777777778,\"#fb9f3a\"],[0.8888888888888888,\"#fdca26\"],[1.0,\"#f0f921\"]],\"diverging\":[[0,\"#8e0152\"],[0.1,\"#c51b7d\"],[0.2,\"#de77ae\"],[0.3,\"#f1b6da\"],[0.4,\"#fde0ef\"],[0.5,\"#f7f7f7\"],[0.6,\"#e6f5d0\"],[0.7,\"#b8e186\"],[0.8,\"#7fbc41\"],[0.9,\"#4d9221\"],[1,\"#276419\"]]},\"xaxis\":{\"gridcolor\":\"white\",\"linecolor\":\"white\",\"ticks\":\"\",\"title\":{\"standoff\":15},\"zerolinecolor\":\"white\",\"automargin\":true,\"zerolinewidth\":2},\"yaxis\":{\"gridcolor\":\"white\",\"linecolor\":\"white\",\"ticks\":\"\",\"title\":{\"standoff\":15},\"zerolinecolor\":\"white\",\"automargin\":true,\"zerolinewidth\":2},\"scene\":{\"xaxis\":{\"backgroundcolor\":\"#E5ECF6\",\"gridcolor\":\"white\",\"linecolor\":\"white\",\"showbackground\":true,\"ticks\":\"\",\"zerolinecolor\":\"white\",\"gridwidth\":2},\"yaxis\":{\"backgroundcolor\":\"#E5ECF6\",\"gridcolor\":\"white\",\"linecolor\":\"white\",\"showbackground\":true,\"ticks\":\"\",\"zerolinecolor\":\"white\",\"gridwidth\":2},\"zaxis\":{\"backgroundcolor\":\"#E5ECF6\",\"gridcolor\":\"white\",\"linecolor\":\"white\",\"showbackground\":true,\"ticks\":\"\",\"zerolinecolor\":\"white\",\"gridwidth\":2}},\"shapedefaults\":{\"line\":{\"color\":\"#2a3f5f\"}},\"annotationdefaults\":{\"arrowcolor\":\"#2a3f5f\",\"arrowhead\":0,\"arrowwidth\":1},\"geo\":{\"bgcolor\":\"white\",\"landcolor\":\"#E5ECF6\",\"subunitcolor\":\"white\",\"showland\":true,\"showlakes\":true,\"lakecolor\":\"white\"},\"title\":{\"x\":0.05},\"mapbox\":{\"style\":\"light\"}}},\"xaxis\":{\"anchor\":\"y\",\"domain\":[0.0,1.0],\"title\":{\"text\":\"Product Category\"}},\"yaxis\":{\"anchor\":\"x\",\"domain\":[0.0,1.0],\"title\":{\"text\":\"Return Rate\"},\"tickformat\":\"%\"},\"coloraxis\":{\"colorbar\":{\"title\":{\"text\":\"Return Rate\"}},\"colorscale\":[[0.0,\"#440154\"],[0.1111111111111111,\"#482878\"],[0.2222222222222222,\"#3e4989\"],[0.3333333333333333,\"#31688e\"],[0.4444444444444444,\"#26828e\"],[0.5555555555555556,\"#1f9e89\"],[0.6666666666666666,\"#35b779\"],[0.7777777777777778,\"#6ece58\"],[0.8888888888888888,\"#b5de2b\"],[1.0,\"#fde725\"]]},\"legend\":{\"tracegroupgap\":0},\"title\":{\"text\":\"Top 5 Product Categories with the Highest Return Rate\"},\"barmode\":\"relative\"},                        {\"responsive\": true}                    ).then(function(){\n",
              "                            \n",
              "var gd = document.getElementById('c2b4148c-4085-46b2-b457-00dc6d7b08df');\n",
              "var x = new MutationObserver(function (mutations, observer) {{\n",
              "        var display = window.getComputedStyle(gd).display;\n",
              "        if (!display || display === 'none') {{\n",
              "            console.log([gd, 'removed!']);\n",
              "            Plotly.purge(gd);\n",
              "            observer.disconnect();\n",
              "        }}\n",
              "}});\n",
              "\n",
              "// Listen for the removal of the full notebook cells\n",
              "var notebookContainer = gd.closest('#notebook-container');\n",
              "if (notebookContainer) {{\n",
              "    x.observe(notebookContainer, {childList: true});\n",
              "}}\n",
              "\n",
              "// Listen for the clearing of the current output cell\n",
              "var outputEl = gd.closest('.output');\n",
              "if (outputEl) {{\n",
              "    x.observe(outputEl, {childList: true});\n",
              "}}\n",
              "\n",
              "                        })                };                            </script>        </div>\n",
              "</body>\n",
              "</html>"
            ]
          },
          "metadata": {}
        }
      ]
    },
    {
      "cell_type": "markdown",
      "source": [
        "**Q5: What is the average review score given by customers?**"
      ],
      "metadata": {
        "id": "FsrXsuZ9_iKD"
      }
    },
    {
      "cell_type": "code",
      "source": [
        "avg_review_score = df['Review Score (1-5)'].mean()\n",
        "print(f'Average review score is : {avg_review_score}')\n",
        "\n",
        "avg_review_per_product = df.groupby('Product Category')['Review Score (1-5)'].mean().reset_index()\n",
        "avg_review_per_product.columns = ['Product Category', 'Average Review Score']\n",
        "\n",
        "best_product = avg_review_per_product.loc[avg_review_per_product['Average Review Score'].idxmax()]\n",
        "\n",
        "worst_product = avg_review_per_product.loc[avg_review_per_product['Average Review Score'].idxmin()]\n",
        "\n",
        "print(f\"Best Product based on average review: {best_product['Product Category']} with an average review score of {best_product['Average Review Score']:.2f}\")\n",
        "print(f\"Worst Product based on average review: {worst_product['Product Category']} with an average review score of {worst_product['Average Review Score']:.2f}\")\n"
      ],
      "metadata": {
        "colab": {
          "base_uri": "https://localhost:8080/"
        },
        "id": "ne8by3PGsumc",
        "outputId": "a28dc1a8-4a7e-4c44-bacb-a0fc04538588"
      },
      "execution_count": null,
      "outputs": [
        {
          "output_type": "stream",
          "name": "stdout",
          "text": [
            "Average review score is : 2.9951\n",
            "Best Product based on average review: Groceries with an average review score of 3.06\n",
            "Worst Product based on average review: Books with an average review score of 2.93\n"
          ]
        }
      ]
    },
    {
      "cell_type": "code",
      "source": [
        "\n",
        "products = [best_product['Product Category'], worst_product['Product Category']]\n",
        "average_scores = [best_product['Average Review Score'], worst_product['Average Review Score']]\n",
        "\n",
        "fig = go.Figure(data=[\n",
        "    go.Bar(name='Average Review Score', x=products, y=average_scores,\n",
        "           marker_color=['green', 'red'])\n",
        "])\n",
        "\n",
        "fig.update_layout(\n",
        "    title='Best and Worst Product Categories Based on Average Review Score',\n",
        "    xaxis_title='Product Category',\n",
        "    yaxis_title='Average Review Score',\n",
        "    yaxis=dict(range=[0, 5]),\n",
        "    showlegend=False\n",
        ")\n",
        "\n",
        "# Show the figure\n",
        "fig.show()\n"
      ],
      "metadata": {
        "colab": {
          "base_uri": "https://localhost:8080/",
          "height": 542
        },
        "id": "4WhfGK9BtI9p",
        "outputId": "f59e8257-1f2e-464c-8656-0b2afbff8ab7"
      },
      "execution_count": null,
      "outputs": [
        {
          "output_type": "display_data",
          "data": {
            "text/html": [
              "<html>\n",
              "<head><meta charset=\"utf-8\" /></head>\n",
              "<body>\n",
              "    <div>            <script src=\"https://cdnjs.cloudflare.com/ajax/libs/mathjax/2.7.5/MathJax.js?config=TeX-AMS-MML_SVG\"></script><script type=\"text/javascript\">if (window.MathJax && window.MathJax.Hub && window.MathJax.Hub.Config) {window.MathJax.Hub.Config({SVG: {font: \"STIX-Web\"}});}</script>                <script type=\"text/javascript\">window.PlotlyConfig = {MathJaxConfig: 'local'};</script>\n",
              "        <script charset=\"utf-8\" src=\"https://cdn.plot.ly/plotly-2.35.2.min.js\"></script>                <div id=\"7faf7167-affd-459a-8130-2cb528cae013\" class=\"plotly-graph-div\" style=\"height:525px; width:100%;\"></div>            <script type=\"text/javascript\">                                    window.PLOTLYENV=window.PLOTLYENV || {};                                    if (document.getElementById(\"7faf7167-affd-459a-8130-2cb528cae013\")) {                    Plotly.newPlot(                        \"7faf7167-affd-459a-8130-2cb528cae013\",                        [{\"marker\":{\"color\":[\"green\",\"red\"]},\"name\":\"Average Review Score\",\"x\":[\"Groceries\",\"Books\"],\"y\":[3.0645431684828166,2.9346456692913385],\"type\":\"bar\"}],                        {\"template\":{\"data\":{\"histogram2dcontour\":[{\"type\":\"histogram2dcontour\",\"colorbar\":{\"outlinewidth\":0,\"ticks\":\"\"},\"colorscale\":[[0.0,\"#0d0887\"],[0.1111111111111111,\"#46039f\"],[0.2222222222222222,\"#7201a8\"],[0.3333333333333333,\"#9c179e\"],[0.4444444444444444,\"#bd3786\"],[0.5555555555555556,\"#d8576b\"],[0.6666666666666666,\"#ed7953\"],[0.7777777777777778,\"#fb9f3a\"],[0.8888888888888888,\"#fdca26\"],[1.0,\"#f0f921\"]]}],\"choropleth\":[{\"type\":\"choropleth\",\"colorbar\":{\"outlinewidth\":0,\"ticks\":\"\"}}],\"histogram2d\":[{\"type\":\"histogram2d\",\"colorbar\":{\"outlinewidth\":0,\"ticks\":\"\"},\"colorscale\":[[0.0,\"#0d0887\"],[0.1111111111111111,\"#46039f\"],[0.2222222222222222,\"#7201a8\"],[0.3333333333333333,\"#9c179e\"],[0.4444444444444444,\"#bd3786\"],[0.5555555555555556,\"#d8576b\"],[0.6666666666666666,\"#ed7953\"],[0.7777777777777778,\"#fb9f3a\"],[0.8888888888888888,\"#fdca26\"],[1.0,\"#f0f921\"]]}],\"heatmap\":[{\"type\":\"heatmap\",\"colorbar\":{\"outlinewidth\":0,\"ticks\":\"\"},\"colorscale\":[[0.0,\"#0d0887\"],[0.1111111111111111,\"#46039f\"],[0.2222222222222222,\"#7201a8\"],[0.3333333333333333,\"#9c179e\"],[0.4444444444444444,\"#bd3786\"],[0.5555555555555556,\"#d8576b\"],[0.6666666666666666,\"#ed7953\"],[0.7777777777777778,\"#fb9f3a\"],[0.8888888888888888,\"#fdca26\"],[1.0,\"#f0f921\"]]}],\"heatmapgl\":[{\"type\":\"heatmapgl\",\"colorbar\":{\"outlinewidth\":0,\"ticks\":\"\"},\"colorscale\":[[0.0,\"#0d0887\"],[0.1111111111111111,\"#46039f\"],[0.2222222222222222,\"#7201a8\"],[0.3333333333333333,\"#9c179e\"],[0.4444444444444444,\"#bd3786\"],[0.5555555555555556,\"#d8576b\"],[0.6666666666666666,\"#ed7953\"],[0.7777777777777778,\"#fb9f3a\"],[0.8888888888888888,\"#fdca26\"],[1.0,\"#f0f921\"]]}],\"contourcarpet\":[{\"type\":\"contourcarpet\",\"colorbar\":{\"outlinewidth\":0,\"ticks\":\"\"}}],\"contour\":[{\"type\":\"contour\",\"colorbar\":{\"outlinewidth\":0,\"ticks\":\"\"},\"colorscale\":[[0.0,\"#0d0887\"],[0.1111111111111111,\"#46039f\"],[0.2222222222222222,\"#7201a8\"],[0.3333333333333333,\"#9c179e\"],[0.4444444444444444,\"#bd3786\"],[0.5555555555555556,\"#d8576b\"],[0.6666666666666666,\"#ed7953\"],[0.7777777777777778,\"#fb9f3a\"],[0.8888888888888888,\"#fdca26\"],[1.0,\"#f0f921\"]]}],\"surface\":[{\"type\":\"surface\",\"colorbar\":{\"outlinewidth\":0,\"ticks\":\"\"},\"colorscale\":[[0.0,\"#0d0887\"],[0.1111111111111111,\"#46039f\"],[0.2222222222222222,\"#7201a8\"],[0.3333333333333333,\"#9c179e\"],[0.4444444444444444,\"#bd3786\"],[0.5555555555555556,\"#d8576b\"],[0.6666666666666666,\"#ed7953\"],[0.7777777777777778,\"#fb9f3a\"],[0.8888888888888888,\"#fdca26\"],[1.0,\"#f0f921\"]]}],\"mesh3d\":[{\"type\":\"mesh3d\",\"colorbar\":{\"outlinewidth\":0,\"ticks\":\"\"}}],\"scatter\":[{\"fillpattern\":{\"fillmode\":\"overlay\",\"size\":10,\"solidity\":0.2},\"type\":\"scatter\"}],\"parcoords\":[{\"type\":\"parcoords\",\"line\":{\"colorbar\":{\"outlinewidth\":0,\"ticks\":\"\"}}}],\"scatterpolargl\":[{\"type\":\"scatterpolargl\",\"marker\":{\"colorbar\":{\"outlinewidth\":0,\"ticks\":\"\"}}}],\"bar\":[{\"error_x\":{\"color\":\"#2a3f5f\"},\"error_y\":{\"color\":\"#2a3f5f\"},\"marker\":{\"line\":{\"color\":\"#E5ECF6\",\"width\":0.5},\"pattern\":{\"fillmode\":\"overlay\",\"size\":10,\"solidity\":0.2}},\"type\":\"bar\"}],\"scattergeo\":[{\"type\":\"scattergeo\",\"marker\":{\"colorbar\":{\"outlinewidth\":0,\"ticks\":\"\"}}}],\"scatterpolar\":[{\"type\":\"scatterpolar\",\"marker\":{\"colorbar\":{\"outlinewidth\":0,\"ticks\":\"\"}}}],\"histogram\":[{\"marker\":{\"pattern\":{\"fillmode\":\"overlay\",\"size\":10,\"solidity\":0.2}},\"type\":\"histogram\"}],\"scattergl\":[{\"type\":\"scattergl\",\"marker\":{\"colorbar\":{\"outlinewidth\":0,\"ticks\":\"\"}}}],\"scatter3d\":[{\"type\":\"scatter3d\",\"line\":{\"colorbar\":{\"outlinewidth\":0,\"ticks\":\"\"}},\"marker\":{\"colorbar\":{\"outlinewidth\":0,\"ticks\":\"\"}}}],\"scattermapbox\":[{\"type\":\"scattermapbox\",\"marker\":{\"colorbar\":{\"outlinewidth\":0,\"ticks\":\"\"}}}],\"scatterternary\":[{\"type\":\"scatterternary\",\"marker\":{\"colorbar\":{\"outlinewidth\":0,\"ticks\":\"\"}}}],\"scattercarpet\":[{\"type\":\"scattercarpet\",\"marker\":{\"colorbar\":{\"outlinewidth\":0,\"ticks\":\"\"}}}],\"carpet\":[{\"aaxis\":{\"endlinecolor\":\"#2a3f5f\",\"gridcolor\":\"white\",\"linecolor\":\"white\",\"minorgridcolor\":\"white\",\"startlinecolor\":\"#2a3f5f\"},\"baxis\":{\"endlinecolor\":\"#2a3f5f\",\"gridcolor\":\"white\",\"linecolor\":\"white\",\"minorgridcolor\":\"white\",\"startlinecolor\":\"#2a3f5f\"},\"type\":\"carpet\"}],\"table\":[{\"cells\":{\"fill\":{\"color\":\"#EBF0F8\"},\"line\":{\"color\":\"white\"}},\"header\":{\"fill\":{\"color\":\"#C8D4E3\"},\"line\":{\"color\":\"white\"}},\"type\":\"table\"}],\"barpolar\":[{\"marker\":{\"line\":{\"color\":\"#E5ECF6\",\"width\":0.5},\"pattern\":{\"fillmode\":\"overlay\",\"size\":10,\"solidity\":0.2}},\"type\":\"barpolar\"}],\"pie\":[{\"automargin\":true,\"type\":\"pie\"}]},\"layout\":{\"autotypenumbers\":\"strict\",\"colorway\":[\"#636efa\",\"#EF553B\",\"#00cc96\",\"#ab63fa\",\"#FFA15A\",\"#19d3f3\",\"#FF6692\",\"#B6E880\",\"#FF97FF\",\"#FECB52\"],\"font\":{\"color\":\"#2a3f5f\"},\"hovermode\":\"closest\",\"hoverlabel\":{\"align\":\"left\"},\"paper_bgcolor\":\"white\",\"plot_bgcolor\":\"#E5ECF6\",\"polar\":{\"bgcolor\":\"#E5ECF6\",\"angularaxis\":{\"gridcolor\":\"white\",\"linecolor\":\"white\",\"ticks\":\"\"},\"radialaxis\":{\"gridcolor\":\"white\",\"linecolor\":\"white\",\"ticks\":\"\"}},\"ternary\":{\"bgcolor\":\"#E5ECF6\",\"aaxis\":{\"gridcolor\":\"white\",\"linecolor\":\"white\",\"ticks\":\"\"},\"baxis\":{\"gridcolor\":\"white\",\"linecolor\":\"white\",\"ticks\":\"\"},\"caxis\":{\"gridcolor\":\"white\",\"linecolor\":\"white\",\"ticks\":\"\"}},\"coloraxis\":{\"colorbar\":{\"outlinewidth\":0,\"ticks\":\"\"}},\"colorscale\":{\"sequential\":[[0.0,\"#0d0887\"],[0.1111111111111111,\"#46039f\"],[0.2222222222222222,\"#7201a8\"],[0.3333333333333333,\"#9c179e\"],[0.4444444444444444,\"#bd3786\"],[0.5555555555555556,\"#d8576b\"],[0.6666666666666666,\"#ed7953\"],[0.7777777777777778,\"#fb9f3a\"],[0.8888888888888888,\"#fdca26\"],[1.0,\"#f0f921\"]],\"sequentialminus\":[[0.0,\"#0d0887\"],[0.1111111111111111,\"#46039f\"],[0.2222222222222222,\"#7201a8\"],[0.3333333333333333,\"#9c179e\"],[0.4444444444444444,\"#bd3786\"],[0.5555555555555556,\"#d8576b\"],[0.6666666666666666,\"#ed7953\"],[0.7777777777777778,\"#fb9f3a\"],[0.8888888888888888,\"#fdca26\"],[1.0,\"#f0f921\"]],\"diverging\":[[0,\"#8e0152\"],[0.1,\"#c51b7d\"],[0.2,\"#de77ae\"],[0.3,\"#f1b6da\"],[0.4,\"#fde0ef\"],[0.5,\"#f7f7f7\"],[0.6,\"#e6f5d0\"],[0.7,\"#b8e186\"],[0.8,\"#7fbc41\"],[0.9,\"#4d9221\"],[1,\"#276419\"]]},\"xaxis\":{\"gridcolor\":\"white\",\"linecolor\":\"white\",\"ticks\":\"\",\"title\":{\"standoff\":15},\"zerolinecolor\":\"white\",\"automargin\":true,\"zerolinewidth\":2},\"yaxis\":{\"gridcolor\":\"white\",\"linecolor\":\"white\",\"ticks\":\"\",\"title\":{\"standoff\":15},\"zerolinecolor\":\"white\",\"automargin\":true,\"zerolinewidth\":2},\"scene\":{\"xaxis\":{\"backgroundcolor\":\"#E5ECF6\",\"gridcolor\":\"white\",\"linecolor\":\"white\",\"showbackground\":true,\"ticks\":\"\",\"zerolinecolor\":\"white\",\"gridwidth\":2},\"yaxis\":{\"backgroundcolor\":\"#E5ECF6\",\"gridcolor\":\"white\",\"linecolor\":\"white\",\"showbackground\":true,\"ticks\":\"\",\"zerolinecolor\":\"white\",\"gridwidth\":2},\"zaxis\":{\"backgroundcolor\":\"#E5ECF6\",\"gridcolor\":\"white\",\"linecolor\":\"white\",\"showbackground\":true,\"ticks\":\"\",\"zerolinecolor\":\"white\",\"gridwidth\":2}},\"shapedefaults\":{\"line\":{\"color\":\"#2a3f5f\"}},\"annotationdefaults\":{\"arrowcolor\":\"#2a3f5f\",\"arrowhead\":0,\"arrowwidth\":1},\"geo\":{\"bgcolor\":\"white\",\"landcolor\":\"#E5ECF6\",\"subunitcolor\":\"white\",\"showland\":true,\"showlakes\":true,\"lakecolor\":\"white\"},\"title\":{\"x\":0.05},\"mapbox\":{\"style\":\"light\"}}},\"yaxis\":{\"title\":{\"text\":\"Average Review Score\"},\"range\":[0,5]},\"title\":{\"text\":\"Best and Worst Product Categories Based on Average Review Score\"},\"xaxis\":{\"title\":{\"text\":\"Product Category\"}},\"showlegend\":false},                        {\"responsive\": true}                    ).then(function(){\n",
              "                            \n",
              "var gd = document.getElementById('7faf7167-affd-459a-8130-2cb528cae013');\n",
              "var x = new MutationObserver(function (mutations, observer) {{\n",
              "        var display = window.getComputedStyle(gd).display;\n",
              "        if (!display || display === 'none') {{\n",
              "            console.log([gd, 'removed!']);\n",
              "            Plotly.purge(gd);\n",
              "            observer.disconnect();\n",
              "        }}\n",
              "}});\n",
              "\n",
              "// Listen for the removal of the full notebook cells\n",
              "var notebookContainer = gd.closest('#notebook-container');\n",
              "if (notebookContainer) {{\n",
              "    x.observe(notebookContainer, {childList: true});\n",
              "}}\n",
              "\n",
              "// Listen for the clearing of the current output cell\n",
              "var outputEl = gd.closest('.output');\n",
              "if (outputEl) {{\n",
              "    x.observe(outputEl, {childList: true});\n",
              "}}\n",
              "\n",
              "                        })                };                            </script>        </div>\n",
              "</body>\n",
              "</html>"
            ]
          },
          "metadata": {}
        }
      ]
    },
    {
      "cell_type": "markdown",
      "source": [
        "**Q6: How does the average delivery time vary between subscription statuses (Free,\n",
        "Premium)?**"
      ],
      "metadata": {
        "id": "jverlusP_yPu"
      }
    },
    {
      "cell_type": "code",
      "source": [
        "avg_delivery_time = df.groupby('Subscription Status')['Delivery Time (days)'].mean()\n",
        "\n",
        "print(avg_delivery_time)\n"
      ],
      "metadata": {
        "colab": {
          "base_uri": "https://localhost:8080/"
        },
        "id": "qXmwvO7IWB6c",
        "outputId": "0d28f604-1ae4-405c-b8c8-6d71e5c0153c"
      },
      "execution_count": null,
      "outputs": [
        {
          "output_type": "stream",
          "name": "stdout",
          "text": [
            "Subscription Status\n",
            "Free       6.963924\n",
            "Premium    7.070347\n",
            "Trial      7.004272\n",
            "Name: Delivery Time (days), dtype: float64\n"
          ]
        }
      ]
    },
    {
      "cell_type": "code",
      "source": [
        "average_delivery_time = df.groupby('Subscription Status')['Delivery Time (days)'].mean().reset_index()\n",
        "\n",
        "average_delivery_time.columns = ['Subscription Status', 'Average Delivery Time (days)']\n",
        "\n",
        "fig = px.bar(average_delivery_time,\n",
        "             x='Subscription Status',\n",
        "             y='Average Delivery Time (days)',\n",
        "             title='Average Delivery Time by Subscription Status',\n",
        "             labels={'Average Delivery Time (days)': 'Average Delivery Time (days)'},\n",
        "             color='Average Delivery Time (days)',\n",
        "             color_continuous_scale=px.colors.sequential.Viridis)\n",
        "\n",
        "fig.show()\n"
      ],
      "metadata": {
        "colab": {
          "base_uri": "https://localhost:8080/",
          "height": 542
        },
        "id": "RDxD0sbGtmvl",
        "outputId": "fc109da1-75b2-4412-cae2-d62975b83939"
      },
      "execution_count": null,
      "outputs": [
        {
          "output_type": "display_data",
          "data": {
            "text/html": [
              "<html>\n",
              "<head><meta charset=\"utf-8\" /></head>\n",
              "<body>\n",
              "    <div>            <script src=\"https://cdnjs.cloudflare.com/ajax/libs/mathjax/2.7.5/MathJax.js?config=TeX-AMS-MML_SVG\"></script><script type=\"text/javascript\">if (window.MathJax && window.MathJax.Hub && window.MathJax.Hub.Config) {window.MathJax.Hub.Config({SVG: {font: \"STIX-Web\"}});}</script>                <script type=\"text/javascript\">window.PlotlyConfig = {MathJaxConfig: 'local'};</script>\n",
              "        <script charset=\"utf-8\" src=\"https://cdn.plot.ly/plotly-2.35.2.min.js\"></script>                <div id=\"1b171da4-c3f1-4095-9a27-a1fa6750bc54\" class=\"plotly-graph-div\" style=\"height:525px; width:100%;\"></div>            <script type=\"text/javascript\">                                    window.PLOTLYENV=window.PLOTLYENV || {};                                    if (document.getElementById(\"1b171da4-c3f1-4095-9a27-a1fa6750bc54\")) {                    Plotly.newPlot(                        \"1b171da4-c3f1-4095-9a27-a1fa6750bc54\",                        [{\"alignmentgroup\":\"True\",\"hovertemplate\":\"Subscription Status=%{x}\\u003cbr\\u003eAverage Delivery Time (days)=%{marker.color}\\u003cextra\\u003e\\u003c\\u002fextra\\u003e\",\"legendgroup\":\"\",\"marker\":{\"color\":[6.963923673225999,7.070347284060552,7.004272200183094],\"coloraxis\":\"coloraxis\",\"pattern\":{\"shape\":\"\"}},\"name\":\"\",\"offsetgroup\":\"\",\"orientation\":\"v\",\"showlegend\":false,\"textposition\":\"auto\",\"x\":[\"Free\",\"Premium\",\"Trial\"],\"xaxis\":\"x\",\"y\":[6.963923673225999,7.070347284060552,7.004272200183094],\"yaxis\":\"y\",\"type\":\"bar\"}],                        {\"template\":{\"data\":{\"histogram2dcontour\":[{\"type\":\"histogram2dcontour\",\"colorbar\":{\"outlinewidth\":0,\"ticks\":\"\"},\"colorscale\":[[0.0,\"#0d0887\"],[0.1111111111111111,\"#46039f\"],[0.2222222222222222,\"#7201a8\"],[0.3333333333333333,\"#9c179e\"],[0.4444444444444444,\"#bd3786\"],[0.5555555555555556,\"#d8576b\"],[0.6666666666666666,\"#ed7953\"],[0.7777777777777778,\"#fb9f3a\"],[0.8888888888888888,\"#fdca26\"],[1.0,\"#f0f921\"]]}],\"choropleth\":[{\"type\":\"choropleth\",\"colorbar\":{\"outlinewidth\":0,\"ticks\":\"\"}}],\"histogram2d\":[{\"type\":\"histogram2d\",\"colorbar\":{\"outlinewidth\":0,\"ticks\":\"\"},\"colorscale\":[[0.0,\"#0d0887\"],[0.1111111111111111,\"#46039f\"],[0.2222222222222222,\"#7201a8\"],[0.3333333333333333,\"#9c179e\"],[0.4444444444444444,\"#bd3786\"],[0.5555555555555556,\"#d8576b\"],[0.6666666666666666,\"#ed7953\"],[0.7777777777777778,\"#fb9f3a\"],[0.8888888888888888,\"#fdca26\"],[1.0,\"#f0f921\"]]}],\"heatmap\":[{\"type\":\"heatmap\",\"colorbar\":{\"outlinewidth\":0,\"ticks\":\"\"},\"colorscale\":[[0.0,\"#0d0887\"],[0.1111111111111111,\"#46039f\"],[0.2222222222222222,\"#7201a8\"],[0.3333333333333333,\"#9c179e\"],[0.4444444444444444,\"#bd3786\"],[0.5555555555555556,\"#d8576b\"],[0.6666666666666666,\"#ed7953\"],[0.7777777777777778,\"#fb9f3a\"],[0.8888888888888888,\"#fdca26\"],[1.0,\"#f0f921\"]]}],\"heatmapgl\":[{\"type\":\"heatmapgl\",\"colorbar\":{\"outlinewidth\":0,\"ticks\":\"\"},\"colorscale\":[[0.0,\"#0d0887\"],[0.1111111111111111,\"#46039f\"],[0.2222222222222222,\"#7201a8\"],[0.3333333333333333,\"#9c179e\"],[0.4444444444444444,\"#bd3786\"],[0.5555555555555556,\"#d8576b\"],[0.6666666666666666,\"#ed7953\"],[0.7777777777777778,\"#fb9f3a\"],[0.8888888888888888,\"#fdca26\"],[1.0,\"#f0f921\"]]}],\"contourcarpet\":[{\"type\":\"contourcarpet\",\"colorbar\":{\"outlinewidth\":0,\"ticks\":\"\"}}],\"contour\":[{\"type\":\"contour\",\"colorbar\":{\"outlinewidth\":0,\"ticks\":\"\"},\"colorscale\":[[0.0,\"#0d0887\"],[0.1111111111111111,\"#46039f\"],[0.2222222222222222,\"#7201a8\"],[0.3333333333333333,\"#9c179e\"],[0.4444444444444444,\"#bd3786\"],[0.5555555555555556,\"#d8576b\"],[0.6666666666666666,\"#ed7953\"],[0.7777777777777778,\"#fb9f3a\"],[0.8888888888888888,\"#fdca26\"],[1.0,\"#f0f921\"]]}],\"surface\":[{\"type\":\"surface\",\"colorbar\":{\"outlinewidth\":0,\"ticks\":\"\"},\"colorscale\":[[0.0,\"#0d0887\"],[0.1111111111111111,\"#46039f\"],[0.2222222222222222,\"#7201a8\"],[0.3333333333333333,\"#9c179e\"],[0.4444444444444444,\"#bd3786\"],[0.5555555555555556,\"#d8576b\"],[0.6666666666666666,\"#ed7953\"],[0.7777777777777778,\"#fb9f3a\"],[0.8888888888888888,\"#fdca26\"],[1.0,\"#f0f921\"]]}],\"mesh3d\":[{\"type\":\"mesh3d\",\"colorbar\":{\"outlinewidth\":0,\"ticks\":\"\"}}],\"scatter\":[{\"fillpattern\":{\"fillmode\":\"overlay\",\"size\":10,\"solidity\":0.2},\"type\":\"scatter\"}],\"parcoords\":[{\"type\":\"parcoords\",\"line\":{\"colorbar\":{\"outlinewidth\":0,\"ticks\":\"\"}}}],\"scatterpolargl\":[{\"type\":\"scatterpolargl\",\"marker\":{\"colorbar\":{\"outlinewidth\":0,\"ticks\":\"\"}}}],\"bar\":[{\"error_x\":{\"color\":\"#2a3f5f\"},\"error_y\":{\"color\":\"#2a3f5f\"},\"marker\":{\"line\":{\"color\":\"#E5ECF6\",\"width\":0.5},\"pattern\":{\"fillmode\":\"overlay\",\"size\":10,\"solidity\":0.2}},\"type\":\"bar\"}],\"scattergeo\":[{\"type\":\"scattergeo\",\"marker\":{\"colorbar\":{\"outlinewidth\":0,\"ticks\":\"\"}}}],\"scatterpolar\":[{\"type\":\"scatterpolar\",\"marker\":{\"colorbar\":{\"outlinewidth\":0,\"ticks\":\"\"}}}],\"histogram\":[{\"marker\":{\"pattern\":{\"fillmode\":\"overlay\",\"size\":10,\"solidity\":0.2}},\"type\":\"histogram\"}],\"scattergl\":[{\"type\":\"scattergl\",\"marker\":{\"colorbar\":{\"outlinewidth\":0,\"ticks\":\"\"}}}],\"scatter3d\":[{\"type\":\"scatter3d\",\"line\":{\"colorbar\":{\"outlinewidth\":0,\"ticks\":\"\"}},\"marker\":{\"colorbar\":{\"outlinewidth\":0,\"ticks\":\"\"}}}],\"scattermapbox\":[{\"type\":\"scattermapbox\",\"marker\":{\"colorbar\":{\"outlinewidth\":0,\"ticks\":\"\"}}}],\"scatterternary\":[{\"type\":\"scatterternary\",\"marker\":{\"colorbar\":{\"outlinewidth\":0,\"ticks\":\"\"}}}],\"scattercarpet\":[{\"type\":\"scattercarpet\",\"marker\":{\"colorbar\":{\"outlinewidth\":0,\"ticks\":\"\"}}}],\"carpet\":[{\"aaxis\":{\"endlinecolor\":\"#2a3f5f\",\"gridcolor\":\"white\",\"linecolor\":\"white\",\"minorgridcolor\":\"white\",\"startlinecolor\":\"#2a3f5f\"},\"baxis\":{\"endlinecolor\":\"#2a3f5f\",\"gridcolor\":\"white\",\"linecolor\":\"white\",\"minorgridcolor\":\"white\",\"startlinecolor\":\"#2a3f5f\"},\"type\":\"carpet\"}],\"table\":[{\"cells\":{\"fill\":{\"color\":\"#EBF0F8\"},\"line\":{\"color\":\"white\"}},\"header\":{\"fill\":{\"color\":\"#C8D4E3\"},\"line\":{\"color\":\"white\"}},\"type\":\"table\"}],\"barpolar\":[{\"marker\":{\"line\":{\"color\":\"#E5ECF6\",\"width\":0.5},\"pattern\":{\"fillmode\":\"overlay\",\"size\":10,\"solidity\":0.2}},\"type\":\"barpolar\"}],\"pie\":[{\"automargin\":true,\"type\":\"pie\"}]},\"layout\":{\"autotypenumbers\":\"strict\",\"colorway\":[\"#636efa\",\"#EF553B\",\"#00cc96\",\"#ab63fa\",\"#FFA15A\",\"#19d3f3\",\"#FF6692\",\"#B6E880\",\"#FF97FF\",\"#FECB52\"],\"font\":{\"color\":\"#2a3f5f\"},\"hovermode\":\"closest\",\"hoverlabel\":{\"align\":\"left\"},\"paper_bgcolor\":\"white\",\"plot_bgcolor\":\"#E5ECF6\",\"polar\":{\"bgcolor\":\"#E5ECF6\",\"angularaxis\":{\"gridcolor\":\"white\",\"linecolor\":\"white\",\"ticks\":\"\"},\"radialaxis\":{\"gridcolor\":\"white\",\"linecolor\":\"white\",\"ticks\":\"\"}},\"ternary\":{\"bgcolor\":\"#E5ECF6\",\"aaxis\":{\"gridcolor\":\"white\",\"linecolor\":\"white\",\"ticks\":\"\"},\"baxis\":{\"gridcolor\":\"white\",\"linecolor\":\"white\",\"ticks\":\"\"},\"caxis\":{\"gridcolor\":\"white\",\"linecolor\":\"white\",\"ticks\":\"\"}},\"coloraxis\":{\"colorbar\":{\"outlinewidth\":0,\"ticks\":\"\"}},\"colorscale\":{\"sequential\":[[0.0,\"#0d0887\"],[0.1111111111111111,\"#46039f\"],[0.2222222222222222,\"#7201a8\"],[0.3333333333333333,\"#9c179e\"],[0.4444444444444444,\"#bd3786\"],[0.5555555555555556,\"#d8576b\"],[0.6666666666666666,\"#ed7953\"],[0.7777777777777778,\"#fb9f3a\"],[0.8888888888888888,\"#fdca26\"],[1.0,\"#f0f921\"]],\"sequentialminus\":[[0.0,\"#0d0887\"],[0.1111111111111111,\"#46039f\"],[0.2222222222222222,\"#7201a8\"],[0.3333333333333333,\"#9c179e\"],[0.4444444444444444,\"#bd3786\"],[0.5555555555555556,\"#d8576b\"],[0.6666666666666666,\"#ed7953\"],[0.7777777777777778,\"#fb9f3a\"],[0.8888888888888888,\"#fdca26\"],[1.0,\"#f0f921\"]],\"diverging\":[[0,\"#8e0152\"],[0.1,\"#c51b7d\"],[0.2,\"#de77ae\"],[0.3,\"#f1b6da\"],[0.4,\"#fde0ef\"],[0.5,\"#f7f7f7\"],[0.6,\"#e6f5d0\"],[0.7,\"#b8e186\"],[0.8,\"#7fbc41\"],[0.9,\"#4d9221\"],[1,\"#276419\"]]},\"xaxis\":{\"gridcolor\":\"white\",\"linecolor\":\"white\",\"ticks\":\"\",\"title\":{\"standoff\":15},\"zerolinecolor\":\"white\",\"automargin\":true,\"zerolinewidth\":2},\"yaxis\":{\"gridcolor\":\"white\",\"linecolor\":\"white\",\"ticks\":\"\",\"title\":{\"standoff\":15},\"zerolinecolor\":\"white\",\"automargin\":true,\"zerolinewidth\":2},\"scene\":{\"xaxis\":{\"backgroundcolor\":\"#E5ECF6\",\"gridcolor\":\"white\",\"linecolor\":\"white\",\"showbackground\":true,\"ticks\":\"\",\"zerolinecolor\":\"white\",\"gridwidth\":2},\"yaxis\":{\"backgroundcolor\":\"#E5ECF6\",\"gridcolor\":\"white\",\"linecolor\":\"white\",\"showbackground\":true,\"ticks\":\"\",\"zerolinecolor\":\"white\",\"gridwidth\":2},\"zaxis\":{\"backgroundcolor\":\"#E5ECF6\",\"gridcolor\":\"white\",\"linecolor\":\"white\",\"showbackground\":true,\"ticks\":\"\",\"zerolinecolor\":\"white\",\"gridwidth\":2}},\"shapedefaults\":{\"line\":{\"color\":\"#2a3f5f\"}},\"annotationdefaults\":{\"arrowcolor\":\"#2a3f5f\",\"arrowhead\":0,\"arrowwidth\":1},\"geo\":{\"bgcolor\":\"white\",\"landcolor\":\"#E5ECF6\",\"subunitcolor\":\"white\",\"showland\":true,\"showlakes\":true,\"lakecolor\":\"white\"},\"title\":{\"x\":0.05},\"mapbox\":{\"style\":\"light\"}}},\"xaxis\":{\"anchor\":\"y\",\"domain\":[0.0,1.0],\"title\":{\"text\":\"Subscription Status\"}},\"yaxis\":{\"anchor\":\"x\",\"domain\":[0.0,1.0],\"title\":{\"text\":\"Average Delivery Time (days)\"}},\"coloraxis\":{\"colorbar\":{\"title\":{\"text\":\"Average Delivery Time (days)\"}},\"colorscale\":[[0.0,\"#440154\"],[0.1111111111111111,\"#482878\"],[0.2222222222222222,\"#3e4989\"],[0.3333333333333333,\"#31688e\"],[0.4444444444444444,\"#26828e\"],[0.5555555555555556,\"#1f9e89\"],[0.6666666666666666,\"#35b779\"],[0.7777777777777778,\"#6ece58\"],[0.8888888888888888,\"#b5de2b\"],[1.0,\"#fde725\"]]},\"legend\":{\"tracegroupgap\":0},\"title\":{\"text\":\"Average Delivery Time by Subscription Status\"},\"barmode\":\"relative\"},                        {\"responsive\": true}                    ).then(function(){\n",
              "                            \n",
              "var gd = document.getElementById('1b171da4-c3f1-4095-9a27-a1fa6750bc54');\n",
              "var x = new MutationObserver(function (mutations, observer) {{\n",
              "        var display = window.getComputedStyle(gd).display;\n",
              "        if (!display || display === 'none') {{\n",
              "            console.log([gd, 'removed!']);\n",
              "            Plotly.purge(gd);\n",
              "            observer.disconnect();\n",
              "        }}\n",
              "}});\n",
              "\n",
              "// Listen for the removal of the full notebook cells\n",
              "var notebookContainer = gd.closest('#notebook-container');\n",
              "if (notebookContainer) {{\n",
              "    x.observe(notebookContainer, {childList: true});\n",
              "}}\n",
              "\n",
              "// Listen for the clearing of the current output cell\n",
              "var outputEl = gd.closest('.output');\n",
              "if (outputEl) {{\n",
              "    x.observe(outputEl, {childList: true});\n",
              "}}\n",
              "\n",
              "                        })                };                            </script>        </div>\n",
              "</body>\n",
              "</html>"
            ]
          },
          "metadata": {}
        }
      ]
    },
    {
      "cell_type": "code",
      "source": [
        "import plotly.express as px\n",
        "\n",
        "top_products_by_subscription = df.groupby(['Subscription Status', 'Product Category']).size().reset_index(name='Purchase Count')\n",
        "\n",
        "top_products = top_products_by_subscription.loc[top_products_by_subscription.groupby('Subscription Status')['Purchase Count'].idxmax()]\n",
        "\n",
        "fig = px.bar(top_products,\n",
        "             x='Subscription Status',\n",
        "             y='Purchase Count',\n",
        "             color='Product Category',\n",
        "             title='Top Product Bought by Subscription Status',\n",
        "             labels={'Purchase Count': 'Number of Purchases'},\n",
        "             text='Product Category')\n",
        "\n",
        "fig.show()\n"
      ],
      "metadata": {
        "colab": {
          "base_uri": "https://localhost:8080/",
          "height": 542
        },
        "id": "0F1LFIsdt2pQ",
        "outputId": "6d09317b-5cf3-44cc-86e0-b3a550fb6af9"
      },
      "execution_count": null,
      "outputs": [
        {
          "output_type": "display_data",
          "data": {
            "text/html": [
              "<html>\n",
              "<head><meta charset=\"utf-8\" /></head>\n",
              "<body>\n",
              "    <div>            <script src=\"https://cdnjs.cloudflare.com/ajax/libs/mathjax/2.7.5/MathJax.js?config=TeX-AMS-MML_SVG\"></script><script type=\"text/javascript\">if (window.MathJax && window.MathJax.Hub && window.MathJax.Hub.Config) {window.MathJax.Hub.Config({SVG: {font: \"STIX-Web\"}});}</script>                <script type=\"text/javascript\">window.PlotlyConfig = {MathJaxConfig: 'local'};</script>\n",
              "        <script charset=\"utf-8\" src=\"https://cdn.plot.ly/plotly-2.35.2.min.js\"></script>                <div id=\"0d56731c-966d-4aa8-a075-c023e971821c\" class=\"plotly-graph-div\" style=\"height:525px; width:100%;\"></div>            <script type=\"text/javascript\">                                    window.PLOTLYENV=window.PLOTLYENV || {};                                    if (document.getElementById(\"0d56731c-966d-4aa8-a075-c023e971821c\")) {                    Plotly.newPlot(                        \"0d56731c-966d-4aa8-a075-c023e971821c\",                        [{\"alignmentgroup\":\"True\",\"hovertemplate\":\"Product Category=%{text}\\u003cbr\\u003eSubscription Status=%{x}\\u003cbr\\u003eNumber of Purchases=%{y}\\u003cextra\\u003e\\u003c\\u002fextra\\u003e\",\"legendgroup\":\"Clothing\",\"marker\":{\"color\":\"#636efa\",\"pattern\":{\"shape\":\"\"}},\"name\":\"Clothing\",\"offsetgroup\":\"Clothing\",\"orientation\":\"v\",\"showlegend\":true,\"text\":[\"Clothing\"],\"textposition\":\"auto\",\"x\":[\"Free\"],\"xaxis\":\"x\",\"y\":[462],\"yaxis\":\"y\",\"type\":\"bar\"},{\"alignmentgroup\":\"True\",\"hovertemplate\":\"Product Category=%{text}\\u003cbr\\u003eSubscription Status=%{x}\\u003cbr\\u003eNumber of Purchases=%{y}\\u003cextra\\u003e\\u003c\\u002fextra\\u003e\",\"legendgroup\":\"Home\",\"marker\":{\"color\":\"#EF553B\",\"pattern\":{\"shape\":\"\"}},\"name\":\"Home\",\"offsetgroup\":\"Home\",\"orientation\":\"v\",\"showlegend\":true,\"text\":[\"Home\"],\"textposition\":\"auto\",\"x\":[\"Premium\"],\"xaxis\":\"x\",\"y\":[441],\"yaxis\":\"y\",\"type\":\"bar\"},{\"alignmentgroup\":\"True\",\"hovertemplate\":\"Product Category=%{text}\\u003cbr\\u003eSubscription Status=%{x}\\u003cbr\\u003eNumber of Purchases=%{y}\\u003cextra\\u003e\\u003c\\u002fextra\\u003e\",\"legendgroup\":\"Electronics\",\"marker\":{\"color\":\"#00cc96\",\"pattern\":{\"shape\":\"\"}},\"name\":\"Electronics\",\"offsetgroup\":\"Electronics\",\"orientation\":\"v\",\"showlegend\":true,\"text\":[\"Electronics\"],\"textposition\":\"auto\",\"x\":[\"Trial\"],\"xaxis\":\"x\",\"y\":[443],\"yaxis\":\"y\",\"type\":\"bar\"}],                        {\"template\":{\"data\":{\"histogram2dcontour\":[{\"type\":\"histogram2dcontour\",\"colorbar\":{\"outlinewidth\":0,\"ticks\":\"\"},\"colorscale\":[[0.0,\"#0d0887\"],[0.1111111111111111,\"#46039f\"],[0.2222222222222222,\"#7201a8\"],[0.3333333333333333,\"#9c179e\"],[0.4444444444444444,\"#bd3786\"],[0.5555555555555556,\"#d8576b\"],[0.6666666666666666,\"#ed7953\"],[0.7777777777777778,\"#fb9f3a\"],[0.8888888888888888,\"#fdca26\"],[1.0,\"#f0f921\"]]}],\"choropleth\":[{\"type\":\"choropleth\",\"colorbar\":{\"outlinewidth\":0,\"ticks\":\"\"}}],\"histogram2d\":[{\"type\":\"histogram2d\",\"colorbar\":{\"outlinewidth\":0,\"ticks\":\"\"},\"colorscale\":[[0.0,\"#0d0887\"],[0.1111111111111111,\"#46039f\"],[0.2222222222222222,\"#7201a8\"],[0.3333333333333333,\"#9c179e\"],[0.4444444444444444,\"#bd3786\"],[0.5555555555555556,\"#d8576b\"],[0.6666666666666666,\"#ed7953\"],[0.7777777777777778,\"#fb9f3a\"],[0.8888888888888888,\"#fdca26\"],[1.0,\"#f0f921\"]]}],\"heatmap\":[{\"type\":\"heatmap\",\"colorbar\":{\"outlinewidth\":0,\"ticks\":\"\"},\"colorscale\":[[0.0,\"#0d0887\"],[0.1111111111111111,\"#46039f\"],[0.2222222222222222,\"#7201a8\"],[0.3333333333333333,\"#9c179e\"],[0.4444444444444444,\"#bd3786\"],[0.5555555555555556,\"#d8576b\"],[0.6666666666666666,\"#ed7953\"],[0.7777777777777778,\"#fb9f3a\"],[0.8888888888888888,\"#fdca26\"],[1.0,\"#f0f921\"]]}],\"heatmapgl\":[{\"type\":\"heatmapgl\",\"colorbar\":{\"outlinewidth\":0,\"ticks\":\"\"},\"colorscale\":[[0.0,\"#0d0887\"],[0.1111111111111111,\"#46039f\"],[0.2222222222222222,\"#7201a8\"],[0.3333333333333333,\"#9c179e\"],[0.4444444444444444,\"#bd3786\"],[0.5555555555555556,\"#d8576b\"],[0.6666666666666666,\"#ed7953\"],[0.7777777777777778,\"#fb9f3a\"],[0.8888888888888888,\"#fdca26\"],[1.0,\"#f0f921\"]]}],\"contourcarpet\":[{\"type\":\"contourcarpet\",\"colorbar\":{\"outlinewidth\":0,\"ticks\":\"\"}}],\"contour\":[{\"type\":\"contour\",\"colorbar\":{\"outlinewidth\":0,\"ticks\":\"\"},\"colorscale\":[[0.0,\"#0d0887\"],[0.1111111111111111,\"#46039f\"],[0.2222222222222222,\"#7201a8\"],[0.3333333333333333,\"#9c179e\"],[0.4444444444444444,\"#bd3786\"],[0.5555555555555556,\"#d8576b\"],[0.6666666666666666,\"#ed7953\"],[0.7777777777777778,\"#fb9f3a\"],[0.8888888888888888,\"#fdca26\"],[1.0,\"#f0f921\"]]}],\"surface\":[{\"type\":\"surface\",\"colorbar\":{\"outlinewidth\":0,\"ticks\":\"\"},\"colorscale\":[[0.0,\"#0d0887\"],[0.1111111111111111,\"#46039f\"],[0.2222222222222222,\"#7201a8\"],[0.3333333333333333,\"#9c179e\"],[0.4444444444444444,\"#bd3786\"],[0.5555555555555556,\"#d8576b\"],[0.6666666666666666,\"#ed7953\"],[0.7777777777777778,\"#fb9f3a\"],[0.8888888888888888,\"#fdca26\"],[1.0,\"#f0f921\"]]}],\"mesh3d\":[{\"type\":\"mesh3d\",\"colorbar\":{\"outlinewidth\":0,\"ticks\":\"\"}}],\"scatter\":[{\"fillpattern\":{\"fillmode\":\"overlay\",\"size\":10,\"solidity\":0.2},\"type\":\"scatter\"}],\"parcoords\":[{\"type\":\"parcoords\",\"line\":{\"colorbar\":{\"outlinewidth\":0,\"ticks\":\"\"}}}],\"scatterpolargl\":[{\"type\":\"scatterpolargl\",\"marker\":{\"colorbar\":{\"outlinewidth\":0,\"ticks\":\"\"}}}],\"bar\":[{\"error_x\":{\"color\":\"#2a3f5f\"},\"error_y\":{\"color\":\"#2a3f5f\"},\"marker\":{\"line\":{\"color\":\"#E5ECF6\",\"width\":0.5},\"pattern\":{\"fillmode\":\"overlay\",\"size\":10,\"solidity\":0.2}},\"type\":\"bar\"}],\"scattergeo\":[{\"type\":\"scattergeo\",\"marker\":{\"colorbar\":{\"outlinewidth\":0,\"ticks\":\"\"}}}],\"scatterpolar\":[{\"type\":\"scatterpolar\",\"marker\":{\"colorbar\":{\"outlinewidth\":0,\"ticks\":\"\"}}}],\"histogram\":[{\"marker\":{\"pattern\":{\"fillmode\":\"overlay\",\"size\":10,\"solidity\":0.2}},\"type\":\"histogram\"}],\"scattergl\":[{\"type\":\"scattergl\",\"marker\":{\"colorbar\":{\"outlinewidth\":0,\"ticks\":\"\"}}}],\"scatter3d\":[{\"type\":\"scatter3d\",\"line\":{\"colorbar\":{\"outlinewidth\":0,\"ticks\":\"\"}},\"marker\":{\"colorbar\":{\"outlinewidth\":0,\"ticks\":\"\"}}}],\"scattermapbox\":[{\"type\":\"scattermapbox\",\"marker\":{\"colorbar\":{\"outlinewidth\":0,\"ticks\":\"\"}}}],\"scatterternary\":[{\"type\":\"scatterternary\",\"marker\":{\"colorbar\":{\"outlinewidth\":0,\"ticks\":\"\"}}}],\"scattercarpet\":[{\"type\":\"scattercarpet\",\"marker\":{\"colorbar\":{\"outlinewidth\":0,\"ticks\":\"\"}}}],\"carpet\":[{\"aaxis\":{\"endlinecolor\":\"#2a3f5f\",\"gridcolor\":\"white\",\"linecolor\":\"white\",\"minorgridcolor\":\"white\",\"startlinecolor\":\"#2a3f5f\"},\"baxis\":{\"endlinecolor\":\"#2a3f5f\",\"gridcolor\":\"white\",\"linecolor\":\"white\",\"minorgridcolor\":\"white\",\"startlinecolor\":\"#2a3f5f\"},\"type\":\"carpet\"}],\"table\":[{\"cells\":{\"fill\":{\"color\":\"#EBF0F8\"},\"line\":{\"color\":\"white\"}},\"header\":{\"fill\":{\"color\":\"#C8D4E3\"},\"line\":{\"color\":\"white\"}},\"type\":\"table\"}],\"barpolar\":[{\"marker\":{\"line\":{\"color\":\"#E5ECF6\",\"width\":0.5},\"pattern\":{\"fillmode\":\"overlay\",\"size\":10,\"solidity\":0.2}},\"type\":\"barpolar\"}],\"pie\":[{\"automargin\":true,\"type\":\"pie\"}]},\"layout\":{\"autotypenumbers\":\"strict\",\"colorway\":[\"#636efa\",\"#EF553B\",\"#00cc96\",\"#ab63fa\",\"#FFA15A\",\"#19d3f3\",\"#FF6692\",\"#B6E880\",\"#FF97FF\",\"#FECB52\"],\"font\":{\"color\":\"#2a3f5f\"},\"hovermode\":\"closest\",\"hoverlabel\":{\"align\":\"left\"},\"paper_bgcolor\":\"white\",\"plot_bgcolor\":\"#E5ECF6\",\"polar\":{\"bgcolor\":\"#E5ECF6\",\"angularaxis\":{\"gridcolor\":\"white\",\"linecolor\":\"white\",\"ticks\":\"\"},\"radialaxis\":{\"gridcolor\":\"white\",\"linecolor\":\"white\",\"ticks\":\"\"}},\"ternary\":{\"bgcolor\":\"#E5ECF6\",\"aaxis\":{\"gridcolor\":\"white\",\"linecolor\":\"white\",\"ticks\":\"\"},\"baxis\":{\"gridcolor\":\"white\",\"linecolor\":\"white\",\"ticks\":\"\"},\"caxis\":{\"gridcolor\":\"white\",\"linecolor\":\"white\",\"ticks\":\"\"}},\"coloraxis\":{\"colorbar\":{\"outlinewidth\":0,\"ticks\":\"\"}},\"colorscale\":{\"sequential\":[[0.0,\"#0d0887\"],[0.1111111111111111,\"#46039f\"],[0.2222222222222222,\"#7201a8\"],[0.3333333333333333,\"#9c179e\"],[0.4444444444444444,\"#bd3786\"],[0.5555555555555556,\"#d8576b\"],[0.6666666666666666,\"#ed7953\"],[0.7777777777777778,\"#fb9f3a\"],[0.8888888888888888,\"#fdca26\"],[1.0,\"#f0f921\"]],\"sequentialminus\":[[0.0,\"#0d0887\"],[0.1111111111111111,\"#46039f\"],[0.2222222222222222,\"#7201a8\"],[0.3333333333333333,\"#9c179e\"],[0.4444444444444444,\"#bd3786\"],[0.5555555555555556,\"#d8576b\"],[0.6666666666666666,\"#ed7953\"],[0.7777777777777778,\"#fb9f3a\"],[0.8888888888888888,\"#fdca26\"],[1.0,\"#f0f921\"]],\"diverging\":[[0,\"#8e0152\"],[0.1,\"#c51b7d\"],[0.2,\"#de77ae\"],[0.3,\"#f1b6da\"],[0.4,\"#fde0ef\"],[0.5,\"#f7f7f7\"],[0.6,\"#e6f5d0\"],[0.7,\"#b8e186\"],[0.8,\"#7fbc41\"],[0.9,\"#4d9221\"],[1,\"#276419\"]]},\"xaxis\":{\"gridcolor\":\"white\",\"linecolor\":\"white\",\"ticks\":\"\",\"title\":{\"standoff\":15},\"zerolinecolor\":\"white\",\"automargin\":true,\"zerolinewidth\":2},\"yaxis\":{\"gridcolor\":\"white\",\"linecolor\":\"white\",\"ticks\":\"\",\"title\":{\"standoff\":15},\"zerolinecolor\":\"white\",\"automargin\":true,\"zerolinewidth\":2},\"scene\":{\"xaxis\":{\"backgroundcolor\":\"#E5ECF6\",\"gridcolor\":\"white\",\"linecolor\":\"white\",\"showbackground\":true,\"ticks\":\"\",\"zerolinecolor\":\"white\",\"gridwidth\":2},\"yaxis\":{\"backgroundcolor\":\"#E5ECF6\",\"gridcolor\":\"white\",\"linecolor\":\"white\",\"showbackground\":true,\"ticks\":\"\",\"zerolinecolor\":\"white\",\"gridwidth\":2},\"zaxis\":{\"backgroundcolor\":\"#E5ECF6\",\"gridcolor\":\"white\",\"linecolor\":\"white\",\"showbackground\":true,\"ticks\":\"\",\"zerolinecolor\":\"white\",\"gridwidth\":2}},\"shapedefaults\":{\"line\":{\"color\":\"#2a3f5f\"}},\"annotationdefaults\":{\"arrowcolor\":\"#2a3f5f\",\"arrowhead\":0,\"arrowwidth\":1},\"geo\":{\"bgcolor\":\"white\",\"landcolor\":\"#E5ECF6\",\"subunitcolor\":\"white\",\"showland\":true,\"showlakes\":true,\"lakecolor\":\"white\"},\"title\":{\"x\":0.05},\"mapbox\":{\"style\":\"light\"}}},\"xaxis\":{\"anchor\":\"y\",\"domain\":[0.0,1.0],\"title\":{\"text\":\"Subscription Status\"}},\"yaxis\":{\"anchor\":\"x\",\"domain\":[0.0,1.0],\"title\":{\"text\":\"Number of Purchases\"}},\"legend\":{\"title\":{\"text\":\"Product Category\"},\"tracegroupgap\":0},\"title\":{\"text\":\"Top Product Bought by Subscription Status\"},\"barmode\":\"relative\"},                        {\"responsive\": true}                    ).then(function(){\n",
              "                            \n",
              "var gd = document.getElementById('0d56731c-966d-4aa8-a075-c023e971821c');\n",
              "var x = new MutationObserver(function (mutations, observer) {{\n",
              "        var display = window.getComputedStyle(gd).display;\n",
              "        if (!display || display === 'none') {{\n",
              "            console.log([gd, 'removed!']);\n",
              "            Plotly.purge(gd);\n",
              "            observer.disconnect();\n",
              "        }}\n",
              "}});\n",
              "\n",
              "// Listen for the removal of the full notebook cells\n",
              "var notebookContainer = gd.closest('#notebook-container');\n",
              "if (notebookContainer) {{\n",
              "    x.observe(notebookContainer, {childList: true});\n",
              "}}\n",
              "\n",
              "// Listen for the clearing of the current output cell\n",
              "var outputEl = gd.closest('.output');\n",
              "if (outputEl) {{\n",
              "    x.observe(outputEl, {childList: true});\n",
              "}}\n",
              "\n",
              "                        })                };                            </script>        </div>\n",
              "</body>\n",
              "</html>"
            ]
          },
          "metadata": {}
        }
      ]
    },
    {
      "cell_type": "markdown",
      "source": [
        "**Q7: How many customers are subscribed to the service?**"
      ],
      "metadata": {
        "id": "4nY9AhoAAKWa"
      }
    },
    {
      "cell_type": "code",
      "source": [
        "subscribers = df['Subscription Status'].value_counts()\n",
        "print(subscribers)"
      ],
      "metadata": {
        "colab": {
          "base_uri": "https://localhost:8080/"
        },
        "id": "pA0IsRJ1Zvjj",
        "outputId": "dc4abe82-0b2c-48d4-f419-2d71c64b4287"
      },
      "execution_count": null,
      "outputs": [
        {
          "output_type": "stream",
          "name": "stdout",
          "text": [
            "Subscription Status\n",
            "Premium    3369\n",
            "Free       3354\n",
            "Trial      3277\n",
            "Name: count, dtype: int64\n"
          ]
        }
      ]
    },
    {
      "cell_type": "code",
      "source": [
        "\n",
        "import plotly.express as px\n",
        "\n",
        "subscription_counts = df['Subscription Status'].value_counts()\n",
        "\n",
        "fig = px.pie(subscription_counts,\n",
        "             values=subscription_counts.values,\n",
        "             names=subscription_counts.index,\n",
        "             title='Subscription Status Percentage',\n",
        "             color_discrete_sequence=px.colors.qualitative.Pastel)\n",
        "\n",
        "fig.show()"
      ],
      "metadata": {
        "colab": {
          "base_uri": "https://localhost:8080/",
          "height": 542
        },
        "id": "E343ynwVODbG",
        "outputId": "f01ce16e-c039-4404-fd9b-dd82acd9889b"
      },
      "execution_count": null,
      "outputs": [
        {
          "output_type": "display_data",
          "data": {
            "text/html": [
              "<html>\n",
              "<head><meta charset=\"utf-8\" /></head>\n",
              "<body>\n",
              "    <div>            <script src=\"https://cdnjs.cloudflare.com/ajax/libs/mathjax/2.7.5/MathJax.js?config=TeX-AMS-MML_SVG\"></script><script type=\"text/javascript\">if (window.MathJax && window.MathJax.Hub && window.MathJax.Hub.Config) {window.MathJax.Hub.Config({SVG: {font: \"STIX-Web\"}});}</script>                <script type=\"text/javascript\">window.PlotlyConfig = {MathJaxConfig: 'local'};</script>\n",
              "        <script charset=\"utf-8\" src=\"https://cdn.plot.ly/plotly-2.35.2.min.js\"></script>                <div id=\"4266368b-6f9a-450f-ba9a-a5cb2b1428e8\" class=\"plotly-graph-div\" style=\"height:525px; width:100%;\"></div>            <script type=\"text/javascript\">                                    window.PLOTLYENV=window.PLOTLYENV || {};                                    if (document.getElementById(\"4266368b-6f9a-450f-ba9a-a5cb2b1428e8\")) {                    Plotly.newPlot(                        \"4266368b-6f9a-450f-ba9a-a5cb2b1428e8\",                        [{\"domain\":{\"x\":[0.0,1.0],\"y\":[0.0,1.0]},\"hovertemplate\":\"Subscription Status=%{label}\\u003cbr\\u003evalue=%{value}\\u003cextra\\u003e\\u003c\\u002fextra\\u003e\",\"labels\":[\"Premium\",\"Free\",\"Trial\"],\"legendgroup\":\"\",\"name\":\"\",\"showlegend\":true,\"values\":[3369,3354,3277],\"type\":\"pie\"}],                        {\"template\":{\"data\":{\"histogram2dcontour\":[{\"type\":\"histogram2dcontour\",\"colorbar\":{\"outlinewidth\":0,\"ticks\":\"\"},\"colorscale\":[[0.0,\"#0d0887\"],[0.1111111111111111,\"#46039f\"],[0.2222222222222222,\"#7201a8\"],[0.3333333333333333,\"#9c179e\"],[0.4444444444444444,\"#bd3786\"],[0.5555555555555556,\"#d8576b\"],[0.6666666666666666,\"#ed7953\"],[0.7777777777777778,\"#fb9f3a\"],[0.8888888888888888,\"#fdca26\"],[1.0,\"#f0f921\"]]}],\"choropleth\":[{\"type\":\"choropleth\",\"colorbar\":{\"outlinewidth\":0,\"ticks\":\"\"}}],\"histogram2d\":[{\"type\":\"histogram2d\",\"colorbar\":{\"outlinewidth\":0,\"ticks\":\"\"},\"colorscale\":[[0.0,\"#0d0887\"],[0.1111111111111111,\"#46039f\"],[0.2222222222222222,\"#7201a8\"],[0.3333333333333333,\"#9c179e\"],[0.4444444444444444,\"#bd3786\"],[0.5555555555555556,\"#d8576b\"],[0.6666666666666666,\"#ed7953\"],[0.7777777777777778,\"#fb9f3a\"],[0.8888888888888888,\"#fdca26\"],[1.0,\"#f0f921\"]]}],\"heatmap\":[{\"type\":\"heatmap\",\"colorbar\":{\"outlinewidth\":0,\"ticks\":\"\"},\"colorscale\":[[0.0,\"#0d0887\"],[0.1111111111111111,\"#46039f\"],[0.2222222222222222,\"#7201a8\"],[0.3333333333333333,\"#9c179e\"],[0.4444444444444444,\"#bd3786\"],[0.5555555555555556,\"#d8576b\"],[0.6666666666666666,\"#ed7953\"],[0.7777777777777778,\"#fb9f3a\"],[0.8888888888888888,\"#fdca26\"],[1.0,\"#f0f921\"]]}],\"heatmapgl\":[{\"type\":\"heatmapgl\",\"colorbar\":{\"outlinewidth\":0,\"ticks\":\"\"},\"colorscale\":[[0.0,\"#0d0887\"],[0.1111111111111111,\"#46039f\"],[0.2222222222222222,\"#7201a8\"],[0.3333333333333333,\"#9c179e\"],[0.4444444444444444,\"#bd3786\"],[0.5555555555555556,\"#d8576b\"],[0.6666666666666666,\"#ed7953\"],[0.7777777777777778,\"#fb9f3a\"],[0.8888888888888888,\"#fdca26\"],[1.0,\"#f0f921\"]]}],\"contourcarpet\":[{\"type\":\"contourcarpet\",\"colorbar\":{\"outlinewidth\":0,\"ticks\":\"\"}}],\"contour\":[{\"type\":\"contour\",\"colorbar\":{\"outlinewidth\":0,\"ticks\":\"\"},\"colorscale\":[[0.0,\"#0d0887\"],[0.1111111111111111,\"#46039f\"],[0.2222222222222222,\"#7201a8\"],[0.3333333333333333,\"#9c179e\"],[0.4444444444444444,\"#bd3786\"],[0.5555555555555556,\"#d8576b\"],[0.6666666666666666,\"#ed7953\"],[0.7777777777777778,\"#fb9f3a\"],[0.8888888888888888,\"#fdca26\"],[1.0,\"#f0f921\"]]}],\"surface\":[{\"type\":\"surface\",\"colorbar\":{\"outlinewidth\":0,\"ticks\":\"\"},\"colorscale\":[[0.0,\"#0d0887\"],[0.1111111111111111,\"#46039f\"],[0.2222222222222222,\"#7201a8\"],[0.3333333333333333,\"#9c179e\"],[0.4444444444444444,\"#bd3786\"],[0.5555555555555556,\"#d8576b\"],[0.6666666666666666,\"#ed7953\"],[0.7777777777777778,\"#fb9f3a\"],[0.8888888888888888,\"#fdca26\"],[1.0,\"#f0f921\"]]}],\"mesh3d\":[{\"type\":\"mesh3d\",\"colorbar\":{\"outlinewidth\":0,\"ticks\":\"\"}}],\"scatter\":[{\"fillpattern\":{\"fillmode\":\"overlay\",\"size\":10,\"solidity\":0.2},\"type\":\"scatter\"}],\"parcoords\":[{\"type\":\"parcoords\",\"line\":{\"colorbar\":{\"outlinewidth\":0,\"ticks\":\"\"}}}],\"scatterpolargl\":[{\"type\":\"scatterpolargl\",\"marker\":{\"colorbar\":{\"outlinewidth\":0,\"ticks\":\"\"}}}],\"bar\":[{\"error_x\":{\"color\":\"#2a3f5f\"},\"error_y\":{\"color\":\"#2a3f5f\"},\"marker\":{\"line\":{\"color\":\"#E5ECF6\",\"width\":0.5},\"pattern\":{\"fillmode\":\"overlay\",\"size\":10,\"solidity\":0.2}},\"type\":\"bar\"}],\"scattergeo\":[{\"type\":\"scattergeo\",\"marker\":{\"colorbar\":{\"outlinewidth\":0,\"ticks\":\"\"}}}],\"scatterpolar\":[{\"type\":\"scatterpolar\",\"marker\":{\"colorbar\":{\"outlinewidth\":0,\"ticks\":\"\"}}}],\"histogram\":[{\"marker\":{\"pattern\":{\"fillmode\":\"overlay\",\"size\":10,\"solidity\":0.2}},\"type\":\"histogram\"}],\"scattergl\":[{\"type\":\"scattergl\",\"marker\":{\"colorbar\":{\"outlinewidth\":0,\"ticks\":\"\"}}}],\"scatter3d\":[{\"type\":\"scatter3d\",\"line\":{\"colorbar\":{\"outlinewidth\":0,\"ticks\":\"\"}},\"marker\":{\"colorbar\":{\"outlinewidth\":0,\"ticks\":\"\"}}}],\"scattermapbox\":[{\"type\":\"scattermapbox\",\"marker\":{\"colorbar\":{\"outlinewidth\":0,\"ticks\":\"\"}}}],\"scatterternary\":[{\"type\":\"scatterternary\",\"marker\":{\"colorbar\":{\"outlinewidth\":0,\"ticks\":\"\"}}}],\"scattercarpet\":[{\"type\":\"scattercarpet\",\"marker\":{\"colorbar\":{\"outlinewidth\":0,\"ticks\":\"\"}}}],\"carpet\":[{\"aaxis\":{\"endlinecolor\":\"#2a3f5f\",\"gridcolor\":\"white\",\"linecolor\":\"white\",\"minorgridcolor\":\"white\",\"startlinecolor\":\"#2a3f5f\"},\"baxis\":{\"endlinecolor\":\"#2a3f5f\",\"gridcolor\":\"white\",\"linecolor\":\"white\",\"minorgridcolor\":\"white\",\"startlinecolor\":\"#2a3f5f\"},\"type\":\"carpet\"}],\"table\":[{\"cells\":{\"fill\":{\"color\":\"#EBF0F8\"},\"line\":{\"color\":\"white\"}},\"header\":{\"fill\":{\"color\":\"#C8D4E3\"},\"line\":{\"color\":\"white\"}},\"type\":\"table\"}],\"barpolar\":[{\"marker\":{\"line\":{\"color\":\"#E5ECF6\",\"width\":0.5},\"pattern\":{\"fillmode\":\"overlay\",\"size\":10,\"solidity\":0.2}},\"type\":\"barpolar\"}],\"pie\":[{\"automargin\":true,\"type\":\"pie\"}]},\"layout\":{\"autotypenumbers\":\"strict\",\"colorway\":[\"#636efa\",\"#EF553B\",\"#00cc96\",\"#ab63fa\",\"#FFA15A\",\"#19d3f3\",\"#FF6692\",\"#B6E880\",\"#FF97FF\",\"#FECB52\"],\"font\":{\"color\":\"#2a3f5f\"},\"hovermode\":\"closest\",\"hoverlabel\":{\"align\":\"left\"},\"paper_bgcolor\":\"white\",\"plot_bgcolor\":\"#E5ECF6\",\"polar\":{\"bgcolor\":\"#E5ECF6\",\"angularaxis\":{\"gridcolor\":\"white\",\"linecolor\":\"white\",\"ticks\":\"\"},\"radialaxis\":{\"gridcolor\":\"white\",\"linecolor\":\"white\",\"ticks\":\"\"}},\"ternary\":{\"bgcolor\":\"#E5ECF6\",\"aaxis\":{\"gridcolor\":\"white\",\"linecolor\":\"white\",\"ticks\":\"\"},\"baxis\":{\"gridcolor\":\"white\",\"linecolor\":\"white\",\"ticks\":\"\"},\"caxis\":{\"gridcolor\":\"white\",\"linecolor\":\"white\",\"ticks\":\"\"}},\"coloraxis\":{\"colorbar\":{\"outlinewidth\":0,\"ticks\":\"\"}},\"colorscale\":{\"sequential\":[[0.0,\"#0d0887\"],[0.1111111111111111,\"#46039f\"],[0.2222222222222222,\"#7201a8\"],[0.3333333333333333,\"#9c179e\"],[0.4444444444444444,\"#bd3786\"],[0.5555555555555556,\"#d8576b\"],[0.6666666666666666,\"#ed7953\"],[0.7777777777777778,\"#fb9f3a\"],[0.8888888888888888,\"#fdca26\"],[1.0,\"#f0f921\"]],\"sequentialminus\":[[0.0,\"#0d0887\"],[0.1111111111111111,\"#46039f\"],[0.2222222222222222,\"#7201a8\"],[0.3333333333333333,\"#9c179e\"],[0.4444444444444444,\"#bd3786\"],[0.5555555555555556,\"#d8576b\"],[0.6666666666666666,\"#ed7953\"],[0.7777777777777778,\"#fb9f3a\"],[0.8888888888888888,\"#fdca26\"],[1.0,\"#f0f921\"]],\"diverging\":[[0,\"#8e0152\"],[0.1,\"#c51b7d\"],[0.2,\"#de77ae\"],[0.3,\"#f1b6da\"],[0.4,\"#fde0ef\"],[0.5,\"#f7f7f7\"],[0.6,\"#e6f5d0\"],[0.7,\"#b8e186\"],[0.8,\"#7fbc41\"],[0.9,\"#4d9221\"],[1,\"#276419\"]]},\"xaxis\":{\"gridcolor\":\"white\",\"linecolor\":\"white\",\"ticks\":\"\",\"title\":{\"standoff\":15},\"zerolinecolor\":\"white\",\"automargin\":true,\"zerolinewidth\":2},\"yaxis\":{\"gridcolor\":\"white\",\"linecolor\":\"white\",\"ticks\":\"\",\"title\":{\"standoff\":15},\"zerolinecolor\":\"white\",\"automargin\":true,\"zerolinewidth\":2},\"scene\":{\"xaxis\":{\"backgroundcolor\":\"#E5ECF6\",\"gridcolor\":\"white\",\"linecolor\":\"white\",\"showbackground\":true,\"ticks\":\"\",\"zerolinecolor\":\"white\",\"gridwidth\":2},\"yaxis\":{\"backgroundcolor\":\"#E5ECF6\",\"gridcolor\":\"white\",\"linecolor\":\"white\",\"showbackground\":true,\"ticks\":\"\",\"zerolinecolor\":\"white\",\"gridwidth\":2},\"zaxis\":{\"backgroundcolor\":\"#E5ECF6\",\"gridcolor\":\"white\",\"linecolor\":\"white\",\"showbackground\":true,\"ticks\":\"\",\"zerolinecolor\":\"white\",\"gridwidth\":2}},\"shapedefaults\":{\"line\":{\"color\":\"#2a3f5f\"}},\"annotationdefaults\":{\"arrowcolor\":\"#2a3f5f\",\"arrowhead\":0,\"arrowwidth\":1},\"geo\":{\"bgcolor\":\"white\",\"landcolor\":\"#E5ECF6\",\"subunitcolor\":\"white\",\"showland\":true,\"showlakes\":true,\"lakecolor\":\"white\"},\"title\":{\"x\":0.05},\"mapbox\":{\"style\":\"light\"}}},\"legend\":{\"tracegroupgap\":0},\"title\":{\"text\":\"Subscription Status Percentage\"},\"piecolorway\":[\"rgb(102, 197, 204)\",\"rgb(246, 207, 113)\",\"rgb(248, 156, 116)\",\"rgb(220, 176, 242)\",\"rgb(135, 197, 95)\",\"rgb(158, 185, 243)\",\"rgb(254, 136, 177)\",\"rgb(201, 219, 116)\",\"rgb(139, 224, 164)\",\"rgb(180, 151, 231)\",\"rgb(179, 179, 179)\"]},                        {\"responsive\": true}                    ).then(function(){\n",
              "                            \n",
              "var gd = document.getElementById('4266368b-6f9a-450f-ba9a-a5cb2b1428e8');\n",
              "var x = new MutationObserver(function (mutations, observer) {{\n",
              "        var display = window.getComputedStyle(gd).display;\n",
              "        if (!display || display === 'none') {{\n",
              "            console.log([gd, 'removed!']);\n",
              "            Plotly.purge(gd);\n",
              "            observer.disconnect();\n",
              "        }}\n",
              "}});\n",
              "\n",
              "// Listen for the removal of the full notebook cells\n",
              "var notebookContainer = gd.closest('#notebook-container');\n",
              "if (notebookContainer) {{\n",
              "    x.observe(notebookContainer, {childList: true});\n",
              "}}\n",
              "\n",
              "// Listen for the clearing of the current output cell\n",
              "var outputEl = gd.closest('.output');\n",
              "if (outputEl) {{\n",
              "    x.observe(outputEl, {childList: true});\n",
              "}}\n",
              "\n",
              "                        })                };                            </script>        </div>\n",
              "</body>\n",
              "</html>"
            ]
          },
          "metadata": {}
        }
      ]
    },
    {
      "cell_type": "code",
      "source": [
        "import pandas as pd\n",
        "\n",
        "premium_customers = df[df['Subscription Status'] == 'Premium']\n",
        "\n",
        "bins = [0, 18, 35, 50, 65, 80]\n",
        "labels = ['0-17', '18-34', '35-49', '50-64', '65+']\n",
        "\n",
        "premium_customers['Age Range'] = pd.cut(premium_customers['Age'], bins=bins, labels=labels, right=False)\n",
        "\n",
        "age_range_counts = premium_customers['Age Range'].value_counts().reset_index(name='Count')\n",
        "age_range_counts.columns = ['Age Range', 'Count']\n",
        "\n",
        "top_age_ranges = age_range_counts.sort_values(by='Count', ascending=False)\n",
        "print(\"Age Ranges among Premium Customers:\")\n",
        "print(top_age_ranges)\n"
      ],
      "metadata": {
        "colab": {
          "base_uri": "https://localhost:8080/"
        },
        "id": "HsZx96YguVMO",
        "outputId": "bb534375-ce1f-46f8-cc30-30c6a495911d"
      },
      "execution_count": null,
      "outputs": [
        {
          "output_type": "stream",
          "name": "stdout",
          "text": [
            "Age Ranges among Premium Customers:\n",
            "  Age Range  Count\n",
            "0     18-34   1054\n",
            "1     50-64   1035\n",
            "2     35-49    945\n",
            "3       65+    335\n",
            "4      0-17      0\n"
          ]
        },
        {
          "output_type": "stream",
          "name": "stderr",
          "text": [
            "<ipython-input-26-c810e0998a8e>:11: SettingWithCopyWarning:\n",
            "\n",
            "\n",
            "A value is trying to be set on a copy of a slice from a DataFrame.\n",
            "Try using .loc[row_indexer,col_indexer] = value instead\n",
            "\n",
            "See the caveats in the documentation: https://pandas.pydata.org/pandas-docs/stable/user_guide/indexing.html#returning-a-view-versus-a-copy\n",
            "\n"
          ]
        }
      ]
    },
    {
      "cell_type": "code",
      "source": [
        "fig = px.pie(age_range_counts, values='Count', names='Age Range', title='Age Distribution of Premium Customers')\n",
        "\n",
        "# Show the figure\n",
        "fig.show()"
      ],
      "metadata": {
        "colab": {
          "base_uri": "https://localhost:8080/",
          "height": 542
        },
        "id": "uBYlMX1GvPyT",
        "outputId": "20bbce0d-fa9e-430c-d764-ad8e3318c20e"
      },
      "execution_count": null,
      "outputs": [
        {
          "output_type": "display_data",
          "data": {
            "text/html": [
              "<html>\n",
              "<head><meta charset=\"utf-8\" /></head>\n",
              "<body>\n",
              "    <div>            <script src=\"https://cdnjs.cloudflare.com/ajax/libs/mathjax/2.7.5/MathJax.js?config=TeX-AMS-MML_SVG\"></script><script type=\"text/javascript\">if (window.MathJax && window.MathJax.Hub && window.MathJax.Hub.Config) {window.MathJax.Hub.Config({SVG: {font: \"STIX-Web\"}});}</script>                <script type=\"text/javascript\">window.PlotlyConfig = {MathJaxConfig: 'local'};</script>\n",
              "        <script charset=\"utf-8\" src=\"https://cdn.plot.ly/plotly-2.35.2.min.js\"></script>                <div id=\"3768f794-96bd-4db5-8fde-d70a99ebaa4a\" class=\"plotly-graph-div\" style=\"height:525px; width:100%;\"></div>            <script type=\"text/javascript\">                                    window.PLOTLYENV=window.PLOTLYENV || {};                                    if (document.getElementById(\"3768f794-96bd-4db5-8fde-d70a99ebaa4a\")) {                    Plotly.newPlot(                        \"3768f794-96bd-4db5-8fde-d70a99ebaa4a\",                        [{\"domain\":{\"x\":[0.0,1.0],\"y\":[0.0,1.0]},\"hovertemplate\":\"Age Range=%{label}\\u003cbr\\u003eCount=%{value}\\u003cextra\\u003e\\u003c\\u002fextra\\u003e\",\"labels\":[\"18-34\",\"50-64\",\"35-49\",\"65+\",\"0-17\"],\"legendgroup\":\"\",\"name\":\"\",\"showlegend\":true,\"values\":[1054,1035,945,335,0],\"type\":\"pie\"}],                        {\"template\":{\"data\":{\"histogram2dcontour\":[{\"type\":\"histogram2dcontour\",\"colorbar\":{\"outlinewidth\":0,\"ticks\":\"\"},\"colorscale\":[[0.0,\"#0d0887\"],[0.1111111111111111,\"#46039f\"],[0.2222222222222222,\"#7201a8\"],[0.3333333333333333,\"#9c179e\"],[0.4444444444444444,\"#bd3786\"],[0.5555555555555556,\"#d8576b\"],[0.6666666666666666,\"#ed7953\"],[0.7777777777777778,\"#fb9f3a\"],[0.8888888888888888,\"#fdca26\"],[1.0,\"#f0f921\"]]}],\"choropleth\":[{\"type\":\"choropleth\",\"colorbar\":{\"outlinewidth\":0,\"ticks\":\"\"}}],\"histogram2d\":[{\"type\":\"histogram2d\",\"colorbar\":{\"outlinewidth\":0,\"ticks\":\"\"},\"colorscale\":[[0.0,\"#0d0887\"],[0.1111111111111111,\"#46039f\"],[0.2222222222222222,\"#7201a8\"],[0.3333333333333333,\"#9c179e\"],[0.4444444444444444,\"#bd3786\"],[0.5555555555555556,\"#d8576b\"],[0.6666666666666666,\"#ed7953\"],[0.7777777777777778,\"#fb9f3a\"],[0.8888888888888888,\"#fdca26\"],[1.0,\"#f0f921\"]]}],\"heatmap\":[{\"type\":\"heatmap\",\"colorbar\":{\"outlinewidth\":0,\"ticks\":\"\"},\"colorscale\":[[0.0,\"#0d0887\"],[0.1111111111111111,\"#46039f\"],[0.2222222222222222,\"#7201a8\"],[0.3333333333333333,\"#9c179e\"],[0.4444444444444444,\"#bd3786\"],[0.5555555555555556,\"#d8576b\"],[0.6666666666666666,\"#ed7953\"],[0.7777777777777778,\"#fb9f3a\"],[0.8888888888888888,\"#fdca26\"],[1.0,\"#f0f921\"]]}],\"heatmapgl\":[{\"type\":\"heatmapgl\",\"colorbar\":{\"outlinewidth\":0,\"ticks\":\"\"},\"colorscale\":[[0.0,\"#0d0887\"],[0.1111111111111111,\"#46039f\"],[0.2222222222222222,\"#7201a8\"],[0.3333333333333333,\"#9c179e\"],[0.4444444444444444,\"#bd3786\"],[0.5555555555555556,\"#d8576b\"],[0.6666666666666666,\"#ed7953\"],[0.7777777777777778,\"#fb9f3a\"],[0.8888888888888888,\"#fdca26\"],[1.0,\"#f0f921\"]]}],\"contourcarpet\":[{\"type\":\"contourcarpet\",\"colorbar\":{\"outlinewidth\":0,\"ticks\":\"\"}}],\"contour\":[{\"type\":\"contour\",\"colorbar\":{\"outlinewidth\":0,\"ticks\":\"\"},\"colorscale\":[[0.0,\"#0d0887\"],[0.1111111111111111,\"#46039f\"],[0.2222222222222222,\"#7201a8\"],[0.3333333333333333,\"#9c179e\"],[0.4444444444444444,\"#bd3786\"],[0.5555555555555556,\"#d8576b\"],[0.6666666666666666,\"#ed7953\"],[0.7777777777777778,\"#fb9f3a\"],[0.8888888888888888,\"#fdca26\"],[1.0,\"#f0f921\"]]}],\"surface\":[{\"type\":\"surface\",\"colorbar\":{\"outlinewidth\":0,\"ticks\":\"\"},\"colorscale\":[[0.0,\"#0d0887\"],[0.1111111111111111,\"#46039f\"],[0.2222222222222222,\"#7201a8\"],[0.3333333333333333,\"#9c179e\"],[0.4444444444444444,\"#bd3786\"],[0.5555555555555556,\"#d8576b\"],[0.6666666666666666,\"#ed7953\"],[0.7777777777777778,\"#fb9f3a\"],[0.8888888888888888,\"#fdca26\"],[1.0,\"#f0f921\"]]}],\"mesh3d\":[{\"type\":\"mesh3d\",\"colorbar\":{\"outlinewidth\":0,\"ticks\":\"\"}}],\"scatter\":[{\"fillpattern\":{\"fillmode\":\"overlay\",\"size\":10,\"solidity\":0.2},\"type\":\"scatter\"}],\"parcoords\":[{\"type\":\"parcoords\",\"line\":{\"colorbar\":{\"outlinewidth\":0,\"ticks\":\"\"}}}],\"scatterpolargl\":[{\"type\":\"scatterpolargl\",\"marker\":{\"colorbar\":{\"outlinewidth\":0,\"ticks\":\"\"}}}],\"bar\":[{\"error_x\":{\"color\":\"#2a3f5f\"},\"error_y\":{\"color\":\"#2a3f5f\"},\"marker\":{\"line\":{\"color\":\"#E5ECF6\",\"width\":0.5},\"pattern\":{\"fillmode\":\"overlay\",\"size\":10,\"solidity\":0.2}},\"type\":\"bar\"}],\"scattergeo\":[{\"type\":\"scattergeo\",\"marker\":{\"colorbar\":{\"outlinewidth\":0,\"ticks\":\"\"}}}],\"scatterpolar\":[{\"type\":\"scatterpolar\",\"marker\":{\"colorbar\":{\"outlinewidth\":0,\"ticks\":\"\"}}}],\"histogram\":[{\"marker\":{\"pattern\":{\"fillmode\":\"overlay\",\"size\":10,\"solidity\":0.2}},\"type\":\"histogram\"}],\"scattergl\":[{\"type\":\"scattergl\",\"marker\":{\"colorbar\":{\"outlinewidth\":0,\"ticks\":\"\"}}}],\"scatter3d\":[{\"type\":\"scatter3d\",\"line\":{\"colorbar\":{\"outlinewidth\":0,\"ticks\":\"\"}},\"marker\":{\"colorbar\":{\"outlinewidth\":0,\"ticks\":\"\"}}}],\"scattermapbox\":[{\"type\":\"scattermapbox\",\"marker\":{\"colorbar\":{\"outlinewidth\":0,\"ticks\":\"\"}}}],\"scatterternary\":[{\"type\":\"scatterternary\",\"marker\":{\"colorbar\":{\"outlinewidth\":0,\"ticks\":\"\"}}}],\"scattercarpet\":[{\"type\":\"scattercarpet\",\"marker\":{\"colorbar\":{\"outlinewidth\":0,\"ticks\":\"\"}}}],\"carpet\":[{\"aaxis\":{\"endlinecolor\":\"#2a3f5f\",\"gridcolor\":\"white\",\"linecolor\":\"white\",\"minorgridcolor\":\"white\",\"startlinecolor\":\"#2a3f5f\"},\"baxis\":{\"endlinecolor\":\"#2a3f5f\",\"gridcolor\":\"white\",\"linecolor\":\"white\",\"minorgridcolor\":\"white\",\"startlinecolor\":\"#2a3f5f\"},\"type\":\"carpet\"}],\"table\":[{\"cells\":{\"fill\":{\"color\":\"#EBF0F8\"},\"line\":{\"color\":\"white\"}},\"header\":{\"fill\":{\"color\":\"#C8D4E3\"},\"line\":{\"color\":\"white\"}},\"type\":\"table\"}],\"barpolar\":[{\"marker\":{\"line\":{\"color\":\"#E5ECF6\",\"width\":0.5},\"pattern\":{\"fillmode\":\"overlay\",\"size\":10,\"solidity\":0.2}},\"type\":\"barpolar\"}],\"pie\":[{\"automargin\":true,\"type\":\"pie\"}]},\"layout\":{\"autotypenumbers\":\"strict\",\"colorway\":[\"#636efa\",\"#EF553B\",\"#00cc96\",\"#ab63fa\",\"#FFA15A\",\"#19d3f3\",\"#FF6692\",\"#B6E880\",\"#FF97FF\",\"#FECB52\"],\"font\":{\"color\":\"#2a3f5f\"},\"hovermode\":\"closest\",\"hoverlabel\":{\"align\":\"left\"},\"paper_bgcolor\":\"white\",\"plot_bgcolor\":\"#E5ECF6\",\"polar\":{\"bgcolor\":\"#E5ECF6\",\"angularaxis\":{\"gridcolor\":\"white\",\"linecolor\":\"white\",\"ticks\":\"\"},\"radialaxis\":{\"gridcolor\":\"white\",\"linecolor\":\"white\",\"ticks\":\"\"}},\"ternary\":{\"bgcolor\":\"#E5ECF6\",\"aaxis\":{\"gridcolor\":\"white\",\"linecolor\":\"white\",\"ticks\":\"\"},\"baxis\":{\"gridcolor\":\"white\",\"linecolor\":\"white\",\"ticks\":\"\"},\"caxis\":{\"gridcolor\":\"white\",\"linecolor\":\"white\",\"ticks\":\"\"}},\"coloraxis\":{\"colorbar\":{\"outlinewidth\":0,\"ticks\":\"\"}},\"colorscale\":{\"sequential\":[[0.0,\"#0d0887\"],[0.1111111111111111,\"#46039f\"],[0.2222222222222222,\"#7201a8\"],[0.3333333333333333,\"#9c179e\"],[0.4444444444444444,\"#bd3786\"],[0.5555555555555556,\"#d8576b\"],[0.6666666666666666,\"#ed7953\"],[0.7777777777777778,\"#fb9f3a\"],[0.8888888888888888,\"#fdca26\"],[1.0,\"#f0f921\"]],\"sequentialminus\":[[0.0,\"#0d0887\"],[0.1111111111111111,\"#46039f\"],[0.2222222222222222,\"#7201a8\"],[0.3333333333333333,\"#9c179e\"],[0.4444444444444444,\"#bd3786\"],[0.5555555555555556,\"#d8576b\"],[0.6666666666666666,\"#ed7953\"],[0.7777777777777778,\"#fb9f3a\"],[0.8888888888888888,\"#fdca26\"],[1.0,\"#f0f921\"]],\"diverging\":[[0,\"#8e0152\"],[0.1,\"#c51b7d\"],[0.2,\"#de77ae\"],[0.3,\"#f1b6da\"],[0.4,\"#fde0ef\"],[0.5,\"#f7f7f7\"],[0.6,\"#e6f5d0\"],[0.7,\"#b8e186\"],[0.8,\"#7fbc41\"],[0.9,\"#4d9221\"],[1,\"#276419\"]]},\"xaxis\":{\"gridcolor\":\"white\",\"linecolor\":\"white\",\"ticks\":\"\",\"title\":{\"standoff\":15},\"zerolinecolor\":\"white\",\"automargin\":true,\"zerolinewidth\":2},\"yaxis\":{\"gridcolor\":\"white\",\"linecolor\":\"white\",\"ticks\":\"\",\"title\":{\"standoff\":15},\"zerolinecolor\":\"white\",\"automargin\":true,\"zerolinewidth\":2},\"scene\":{\"xaxis\":{\"backgroundcolor\":\"#E5ECF6\",\"gridcolor\":\"white\",\"linecolor\":\"white\",\"showbackground\":true,\"ticks\":\"\",\"zerolinecolor\":\"white\",\"gridwidth\":2},\"yaxis\":{\"backgroundcolor\":\"#E5ECF6\",\"gridcolor\":\"white\",\"linecolor\":\"white\",\"showbackground\":true,\"ticks\":\"\",\"zerolinecolor\":\"white\",\"gridwidth\":2},\"zaxis\":{\"backgroundcolor\":\"#E5ECF6\",\"gridcolor\":\"white\",\"linecolor\":\"white\",\"showbackground\":true,\"ticks\":\"\",\"zerolinecolor\":\"white\",\"gridwidth\":2}},\"shapedefaults\":{\"line\":{\"color\":\"#2a3f5f\"}},\"annotationdefaults\":{\"arrowcolor\":\"#2a3f5f\",\"arrowhead\":0,\"arrowwidth\":1},\"geo\":{\"bgcolor\":\"white\",\"landcolor\":\"#E5ECF6\",\"subunitcolor\":\"white\",\"showland\":true,\"showlakes\":true,\"lakecolor\":\"white\"},\"title\":{\"x\":0.05},\"mapbox\":{\"style\":\"light\"}}},\"legend\":{\"tracegroupgap\":0},\"title\":{\"text\":\"Age Distribution of Premium Customers\"}},                        {\"responsive\": true}                    ).then(function(){\n",
              "                            \n",
              "var gd = document.getElementById('3768f794-96bd-4db5-8fde-d70a99ebaa4a');\n",
              "var x = new MutationObserver(function (mutations, observer) {{\n",
              "        var display = window.getComputedStyle(gd).display;\n",
              "        if (!display || display === 'none') {{\n",
              "            console.log([gd, 'removed!']);\n",
              "            Plotly.purge(gd);\n",
              "            observer.disconnect();\n",
              "        }}\n",
              "}});\n",
              "\n",
              "// Listen for the removal of the full notebook cells\n",
              "var notebookContainer = gd.closest('#notebook-container');\n",
              "if (notebookContainer) {{\n",
              "    x.observe(notebookContainer, {childList: true});\n",
              "}}\n",
              "\n",
              "// Listen for the clearing of the current output cell\n",
              "var outputEl = gd.closest('.output');\n",
              "if (outputEl) {{\n",
              "    x.observe(outputEl, {childList: true});\n",
              "}}\n",
              "\n",
              "                        })                };                            </script>        </div>\n",
              "</body>\n",
              "</html>"
            ]
          },
          "metadata": {}
        }
      ]
    },
    {
      "cell_type": "markdown",
      "source": [
        "**Q8: What percentage of customers used devices to make purchases? (Mobile, Desktop,\n",
        "Tablet)**"
      ],
      "metadata": {
        "id": "Mt6UPOn3AcxF"
      }
    },
    {
      "cell_type": "code",
      "source": [
        "devices = df['Device Type'].value_counts(normalize=True)*100\n",
        "print(devices)"
      ],
      "metadata": {
        "colab": {
          "base_uri": "https://localhost:8080/"
        },
        "id": "gbckebbTZ2Kv",
        "outputId": "02c9b336-fdef-4c8d-d6e3-e6046021bee1"
      },
      "execution_count": null,
      "outputs": [
        {
          "output_type": "stream",
          "name": "stdout",
          "text": [
            "Device Type\n",
            "Mobile     33.74\n",
            "Desktop    33.48\n",
            "Tablet     32.78\n",
            "Name: proportion, dtype: float64\n"
          ]
        }
      ]
    },
    {
      "cell_type": "code",
      "source": [
        "import pandas as pd\n",
        "import plotly.express as px\n",
        "\n",
        "devices = df['Device Type'].value_counts(normalize=True) * 100\n",
        "devices_df = devices.reset_index()\n",
        "devices_df.columns = ['Device Type', 'Percentage']\n",
        "fig = px.bar(devices_df,\n",
        "             x='Device Type',\n",
        "             y='Percentage',\n",
        "             title='Device Type Distribution',\n",
        "             labels={'Percentage': 'Percentage (%)'},\n",
        "             color='Percentage',\n",
        "             color_continuous_scale=px.colors.sequential.Viridis)\n",
        "\n",
        "fig.show()\n"
      ],
      "metadata": {
        "colab": {
          "base_uri": "https://localhost:8080/",
          "height": 542
        },
        "id": "pGqsTx4axas0",
        "outputId": "3029808a-cdb9-4330-949e-0c676bbd9f57"
      },
      "execution_count": null,
      "outputs": [
        {
          "output_type": "display_data",
          "data": {
            "text/html": [
              "<html>\n",
              "<head><meta charset=\"utf-8\" /></head>\n",
              "<body>\n",
              "    <div>            <script src=\"https://cdnjs.cloudflare.com/ajax/libs/mathjax/2.7.5/MathJax.js?config=TeX-AMS-MML_SVG\"></script><script type=\"text/javascript\">if (window.MathJax && window.MathJax.Hub && window.MathJax.Hub.Config) {window.MathJax.Hub.Config({SVG: {font: \"STIX-Web\"}});}</script>                <script type=\"text/javascript\">window.PlotlyConfig = {MathJaxConfig: 'local'};</script>\n",
              "        <script charset=\"utf-8\" src=\"https://cdn.plot.ly/plotly-2.35.2.min.js\"></script>                <div id=\"ca1a63e6-1a1a-4170-9e3c-49edf9e926f6\" class=\"plotly-graph-div\" style=\"height:525px; width:100%;\"></div>            <script type=\"text/javascript\">                                    window.PLOTLYENV=window.PLOTLYENV || {};                                    if (document.getElementById(\"ca1a63e6-1a1a-4170-9e3c-49edf9e926f6\")) {                    Plotly.newPlot(                        \"ca1a63e6-1a1a-4170-9e3c-49edf9e926f6\",                        [{\"alignmentgroup\":\"True\",\"hovertemplate\":\"Device Type=%{x}\\u003cbr\\u003ePercentage (%)=%{marker.color}\\u003cextra\\u003e\\u003c\\u002fextra\\u003e\",\"legendgroup\":\"\",\"marker\":{\"color\":[33.739999999999995,33.48,32.78],\"coloraxis\":\"coloraxis\",\"pattern\":{\"shape\":\"\"}},\"name\":\"\",\"offsetgroup\":\"\",\"orientation\":\"v\",\"showlegend\":false,\"textposition\":\"auto\",\"x\":[\"Mobile\",\"Desktop\",\"Tablet\"],\"xaxis\":\"x\",\"y\":[33.739999999999995,33.48,32.78],\"yaxis\":\"y\",\"type\":\"bar\"}],                        {\"template\":{\"data\":{\"histogram2dcontour\":[{\"type\":\"histogram2dcontour\",\"colorbar\":{\"outlinewidth\":0,\"ticks\":\"\"},\"colorscale\":[[0.0,\"#0d0887\"],[0.1111111111111111,\"#46039f\"],[0.2222222222222222,\"#7201a8\"],[0.3333333333333333,\"#9c179e\"],[0.4444444444444444,\"#bd3786\"],[0.5555555555555556,\"#d8576b\"],[0.6666666666666666,\"#ed7953\"],[0.7777777777777778,\"#fb9f3a\"],[0.8888888888888888,\"#fdca26\"],[1.0,\"#f0f921\"]]}],\"choropleth\":[{\"type\":\"choropleth\",\"colorbar\":{\"outlinewidth\":0,\"ticks\":\"\"}}],\"histogram2d\":[{\"type\":\"histogram2d\",\"colorbar\":{\"outlinewidth\":0,\"ticks\":\"\"},\"colorscale\":[[0.0,\"#0d0887\"],[0.1111111111111111,\"#46039f\"],[0.2222222222222222,\"#7201a8\"],[0.3333333333333333,\"#9c179e\"],[0.4444444444444444,\"#bd3786\"],[0.5555555555555556,\"#d8576b\"],[0.6666666666666666,\"#ed7953\"],[0.7777777777777778,\"#fb9f3a\"],[0.8888888888888888,\"#fdca26\"],[1.0,\"#f0f921\"]]}],\"heatmap\":[{\"type\":\"heatmap\",\"colorbar\":{\"outlinewidth\":0,\"ticks\":\"\"},\"colorscale\":[[0.0,\"#0d0887\"],[0.1111111111111111,\"#46039f\"],[0.2222222222222222,\"#7201a8\"],[0.3333333333333333,\"#9c179e\"],[0.4444444444444444,\"#bd3786\"],[0.5555555555555556,\"#d8576b\"],[0.6666666666666666,\"#ed7953\"],[0.7777777777777778,\"#fb9f3a\"],[0.8888888888888888,\"#fdca26\"],[1.0,\"#f0f921\"]]}],\"heatmapgl\":[{\"type\":\"heatmapgl\",\"colorbar\":{\"outlinewidth\":0,\"ticks\":\"\"},\"colorscale\":[[0.0,\"#0d0887\"],[0.1111111111111111,\"#46039f\"],[0.2222222222222222,\"#7201a8\"],[0.3333333333333333,\"#9c179e\"],[0.4444444444444444,\"#bd3786\"],[0.5555555555555556,\"#d8576b\"],[0.6666666666666666,\"#ed7953\"],[0.7777777777777778,\"#fb9f3a\"],[0.8888888888888888,\"#fdca26\"],[1.0,\"#f0f921\"]]}],\"contourcarpet\":[{\"type\":\"contourcarpet\",\"colorbar\":{\"outlinewidth\":0,\"ticks\":\"\"}}],\"contour\":[{\"type\":\"contour\",\"colorbar\":{\"outlinewidth\":0,\"ticks\":\"\"},\"colorscale\":[[0.0,\"#0d0887\"],[0.1111111111111111,\"#46039f\"],[0.2222222222222222,\"#7201a8\"],[0.3333333333333333,\"#9c179e\"],[0.4444444444444444,\"#bd3786\"],[0.5555555555555556,\"#d8576b\"],[0.6666666666666666,\"#ed7953\"],[0.7777777777777778,\"#fb9f3a\"],[0.8888888888888888,\"#fdca26\"],[1.0,\"#f0f921\"]]}],\"surface\":[{\"type\":\"surface\",\"colorbar\":{\"outlinewidth\":0,\"ticks\":\"\"},\"colorscale\":[[0.0,\"#0d0887\"],[0.1111111111111111,\"#46039f\"],[0.2222222222222222,\"#7201a8\"],[0.3333333333333333,\"#9c179e\"],[0.4444444444444444,\"#bd3786\"],[0.5555555555555556,\"#d8576b\"],[0.6666666666666666,\"#ed7953\"],[0.7777777777777778,\"#fb9f3a\"],[0.8888888888888888,\"#fdca26\"],[1.0,\"#f0f921\"]]}],\"mesh3d\":[{\"type\":\"mesh3d\",\"colorbar\":{\"outlinewidth\":0,\"ticks\":\"\"}}],\"scatter\":[{\"fillpattern\":{\"fillmode\":\"overlay\",\"size\":10,\"solidity\":0.2},\"type\":\"scatter\"}],\"parcoords\":[{\"type\":\"parcoords\",\"line\":{\"colorbar\":{\"outlinewidth\":0,\"ticks\":\"\"}}}],\"scatterpolargl\":[{\"type\":\"scatterpolargl\",\"marker\":{\"colorbar\":{\"outlinewidth\":0,\"ticks\":\"\"}}}],\"bar\":[{\"error_x\":{\"color\":\"#2a3f5f\"},\"error_y\":{\"color\":\"#2a3f5f\"},\"marker\":{\"line\":{\"color\":\"#E5ECF6\",\"width\":0.5},\"pattern\":{\"fillmode\":\"overlay\",\"size\":10,\"solidity\":0.2}},\"type\":\"bar\"}],\"scattergeo\":[{\"type\":\"scattergeo\",\"marker\":{\"colorbar\":{\"outlinewidth\":0,\"ticks\":\"\"}}}],\"scatterpolar\":[{\"type\":\"scatterpolar\",\"marker\":{\"colorbar\":{\"outlinewidth\":0,\"ticks\":\"\"}}}],\"histogram\":[{\"marker\":{\"pattern\":{\"fillmode\":\"overlay\",\"size\":10,\"solidity\":0.2}},\"type\":\"histogram\"}],\"scattergl\":[{\"type\":\"scattergl\",\"marker\":{\"colorbar\":{\"outlinewidth\":0,\"ticks\":\"\"}}}],\"scatter3d\":[{\"type\":\"scatter3d\",\"line\":{\"colorbar\":{\"outlinewidth\":0,\"ticks\":\"\"}},\"marker\":{\"colorbar\":{\"outlinewidth\":0,\"ticks\":\"\"}}}],\"scattermapbox\":[{\"type\":\"scattermapbox\",\"marker\":{\"colorbar\":{\"outlinewidth\":0,\"ticks\":\"\"}}}],\"scatterternary\":[{\"type\":\"scatterternary\",\"marker\":{\"colorbar\":{\"outlinewidth\":0,\"ticks\":\"\"}}}],\"scattercarpet\":[{\"type\":\"scattercarpet\",\"marker\":{\"colorbar\":{\"outlinewidth\":0,\"ticks\":\"\"}}}],\"carpet\":[{\"aaxis\":{\"endlinecolor\":\"#2a3f5f\",\"gridcolor\":\"white\",\"linecolor\":\"white\",\"minorgridcolor\":\"white\",\"startlinecolor\":\"#2a3f5f\"},\"baxis\":{\"endlinecolor\":\"#2a3f5f\",\"gridcolor\":\"white\",\"linecolor\":\"white\",\"minorgridcolor\":\"white\",\"startlinecolor\":\"#2a3f5f\"},\"type\":\"carpet\"}],\"table\":[{\"cells\":{\"fill\":{\"color\":\"#EBF0F8\"},\"line\":{\"color\":\"white\"}},\"header\":{\"fill\":{\"color\":\"#C8D4E3\"},\"line\":{\"color\":\"white\"}},\"type\":\"table\"}],\"barpolar\":[{\"marker\":{\"line\":{\"color\":\"#E5ECF6\",\"width\":0.5},\"pattern\":{\"fillmode\":\"overlay\",\"size\":10,\"solidity\":0.2}},\"type\":\"barpolar\"}],\"pie\":[{\"automargin\":true,\"type\":\"pie\"}]},\"layout\":{\"autotypenumbers\":\"strict\",\"colorway\":[\"#636efa\",\"#EF553B\",\"#00cc96\",\"#ab63fa\",\"#FFA15A\",\"#19d3f3\",\"#FF6692\",\"#B6E880\",\"#FF97FF\",\"#FECB52\"],\"font\":{\"color\":\"#2a3f5f\"},\"hovermode\":\"closest\",\"hoverlabel\":{\"align\":\"left\"},\"paper_bgcolor\":\"white\",\"plot_bgcolor\":\"#E5ECF6\",\"polar\":{\"bgcolor\":\"#E5ECF6\",\"angularaxis\":{\"gridcolor\":\"white\",\"linecolor\":\"white\",\"ticks\":\"\"},\"radialaxis\":{\"gridcolor\":\"white\",\"linecolor\":\"white\",\"ticks\":\"\"}},\"ternary\":{\"bgcolor\":\"#E5ECF6\",\"aaxis\":{\"gridcolor\":\"white\",\"linecolor\":\"white\",\"ticks\":\"\"},\"baxis\":{\"gridcolor\":\"white\",\"linecolor\":\"white\",\"ticks\":\"\"},\"caxis\":{\"gridcolor\":\"white\",\"linecolor\":\"white\",\"ticks\":\"\"}},\"coloraxis\":{\"colorbar\":{\"outlinewidth\":0,\"ticks\":\"\"}},\"colorscale\":{\"sequential\":[[0.0,\"#0d0887\"],[0.1111111111111111,\"#46039f\"],[0.2222222222222222,\"#7201a8\"],[0.3333333333333333,\"#9c179e\"],[0.4444444444444444,\"#bd3786\"],[0.5555555555555556,\"#d8576b\"],[0.6666666666666666,\"#ed7953\"],[0.7777777777777778,\"#fb9f3a\"],[0.8888888888888888,\"#fdca26\"],[1.0,\"#f0f921\"]],\"sequentialminus\":[[0.0,\"#0d0887\"],[0.1111111111111111,\"#46039f\"],[0.2222222222222222,\"#7201a8\"],[0.3333333333333333,\"#9c179e\"],[0.4444444444444444,\"#bd3786\"],[0.5555555555555556,\"#d8576b\"],[0.6666666666666666,\"#ed7953\"],[0.7777777777777778,\"#fb9f3a\"],[0.8888888888888888,\"#fdca26\"],[1.0,\"#f0f921\"]],\"diverging\":[[0,\"#8e0152\"],[0.1,\"#c51b7d\"],[0.2,\"#de77ae\"],[0.3,\"#f1b6da\"],[0.4,\"#fde0ef\"],[0.5,\"#f7f7f7\"],[0.6,\"#e6f5d0\"],[0.7,\"#b8e186\"],[0.8,\"#7fbc41\"],[0.9,\"#4d9221\"],[1,\"#276419\"]]},\"xaxis\":{\"gridcolor\":\"white\",\"linecolor\":\"white\",\"ticks\":\"\",\"title\":{\"standoff\":15},\"zerolinecolor\":\"white\",\"automargin\":true,\"zerolinewidth\":2},\"yaxis\":{\"gridcolor\":\"white\",\"linecolor\":\"white\",\"ticks\":\"\",\"title\":{\"standoff\":15},\"zerolinecolor\":\"white\",\"automargin\":true,\"zerolinewidth\":2},\"scene\":{\"xaxis\":{\"backgroundcolor\":\"#E5ECF6\",\"gridcolor\":\"white\",\"linecolor\":\"white\",\"showbackground\":true,\"ticks\":\"\",\"zerolinecolor\":\"white\",\"gridwidth\":2},\"yaxis\":{\"backgroundcolor\":\"#E5ECF6\",\"gridcolor\":\"white\",\"linecolor\":\"white\",\"showbackground\":true,\"ticks\":\"\",\"zerolinecolor\":\"white\",\"gridwidth\":2},\"zaxis\":{\"backgroundcolor\":\"#E5ECF6\",\"gridcolor\":\"white\",\"linecolor\":\"white\",\"showbackground\":true,\"ticks\":\"\",\"zerolinecolor\":\"white\",\"gridwidth\":2}},\"shapedefaults\":{\"line\":{\"color\":\"#2a3f5f\"}},\"annotationdefaults\":{\"arrowcolor\":\"#2a3f5f\",\"arrowhead\":0,\"arrowwidth\":1},\"geo\":{\"bgcolor\":\"white\",\"landcolor\":\"#E5ECF6\",\"subunitcolor\":\"white\",\"showland\":true,\"showlakes\":true,\"lakecolor\":\"white\"},\"title\":{\"x\":0.05},\"mapbox\":{\"style\":\"light\"}}},\"xaxis\":{\"anchor\":\"y\",\"domain\":[0.0,1.0],\"title\":{\"text\":\"Device Type\"}},\"yaxis\":{\"anchor\":\"x\",\"domain\":[0.0,1.0],\"title\":{\"text\":\"Percentage (%)\"}},\"coloraxis\":{\"colorbar\":{\"title\":{\"text\":\"Percentage (%)\"}},\"colorscale\":[[0.0,\"#440154\"],[0.1111111111111111,\"#482878\"],[0.2222222222222222,\"#3e4989\"],[0.3333333333333333,\"#31688e\"],[0.4444444444444444,\"#26828e\"],[0.5555555555555556,\"#1f9e89\"],[0.6666666666666666,\"#35b779\"],[0.7777777777777778,\"#6ece58\"],[0.8888888888888888,\"#b5de2b\"],[1.0,\"#fde725\"]]},\"legend\":{\"tracegroupgap\":0},\"title\":{\"text\":\"Device Type Distribution\"},\"barmode\":\"relative\"},                        {\"responsive\": true}                    ).then(function(){\n",
              "                            \n",
              "var gd = document.getElementById('ca1a63e6-1a1a-4170-9e3c-49edf9e926f6');\n",
              "var x = new MutationObserver(function (mutations, observer) {{\n",
              "        var display = window.getComputedStyle(gd).display;\n",
              "        if (!display || display === 'none') {{\n",
              "            console.log([gd, 'removed!']);\n",
              "            Plotly.purge(gd);\n",
              "            observer.disconnect();\n",
              "        }}\n",
              "}});\n",
              "\n",
              "// Listen for the removal of the full notebook cells\n",
              "var notebookContainer = gd.closest('#notebook-container');\n",
              "if (notebookContainer) {{\n",
              "    x.observe(notebookContainer, {childList: true});\n",
              "}}\n",
              "\n",
              "// Listen for the clearing of the current output cell\n",
              "var outputEl = gd.closest('.output');\n",
              "if (outputEl) {{\n",
              "    x.observe(outputEl, {childList: true});\n",
              "}}\n",
              "\n",
              "                        })                };                            </script>        </div>\n",
              "</body>\n",
              "</html>"
            ]
          },
          "metadata": {}
        }
      ]
    },
    {
      "cell_type": "code",
      "source": [
        "import pandas as pd\n",
        "import plotly.graph_objects as go\n",
        "from plotly.subplots import make_subplots\n",
        "\n",
        "def create_donut_chart(subscription_status):\n",
        "    customers = df[df['Subscription Status'] == subscription_status]\n",
        "\n",
        "\n",
        "    device_counts = customers['Device Type'].value_counts().reset_index()\n",
        "    device_counts.columns = ['Device Type', 'Count']\n",
        "\n",
        "    return device_counts\n",
        "\n",
        "fig = make_subplots(rows=1, cols=3,\n",
        "                    specs=[[{'type': 'pie'}, {'type': 'pie'}, {'type': 'pie'}]],\n",
        "                    subplot_titles=('Premium Subscribers',\n",
        "                                   'Free Subscribers',\n",
        "                                   'Trial Subscribers'))\n",
        "\n",
        "premium_data = create_donut_chart('Premium')\n",
        "free_data = create_donut_chart('Free')\n",
        "trial_data = create_donut_chart('Trial')\n",
        "\n",
        "fig.add_trace(go.Pie(values=premium_data['Count'],\n",
        "                     labels=premium_data['Device Type'],\n",
        "                     hole=0.4,\n",
        "                     name='Premium'),\n",
        "              row=1, col=1)\n",
        "\n",
        "fig.add_trace(go.Pie(values=free_data['Count'],\n",
        "                     labels=free_data['Device Type'],\n",
        "                     hole=0.4,\n",
        "                     name='Free'),\n",
        "              row=1, col=2)\n",
        "\n",
        "fig.add_trace(go.Pie(values=trial_data['Count'],\n",
        "                     labels=trial_data['Device Type'],\n",
        "                     hole=0.4,\n",
        "                     name='Trial'),\n",
        "              row=1, col=3)\n",
        "\n",
        "fig.update_layout(title_text='Device Distribution by Subscription Status',\n",
        "                  title_x=0.5)\n",
        "\n",
        "fig.show()\n"
      ],
      "metadata": {
        "colab": {
          "base_uri": "https://localhost:8080/",
          "height": 542
        },
        "id": "IVVA_tKHvuMF",
        "outputId": "148bc513-588e-43e7-993c-cc161a63bff7"
      },
      "execution_count": null,
      "outputs": [
        {
          "output_type": "display_data",
          "data": {
            "text/html": [
              "<html>\n",
              "<head><meta charset=\"utf-8\" /></head>\n",
              "<body>\n",
              "    <div>            <script src=\"https://cdnjs.cloudflare.com/ajax/libs/mathjax/2.7.5/MathJax.js?config=TeX-AMS-MML_SVG\"></script><script type=\"text/javascript\">if (window.MathJax && window.MathJax.Hub && window.MathJax.Hub.Config) {window.MathJax.Hub.Config({SVG: {font: \"STIX-Web\"}});}</script>                <script type=\"text/javascript\">window.PlotlyConfig = {MathJaxConfig: 'local'};</script>\n",
              "        <script charset=\"utf-8\" src=\"https://cdn.plot.ly/plotly-2.35.2.min.js\"></script>                <div id=\"fb6d74cb-18ec-4441-8f0d-6fe48ca8e788\" class=\"plotly-graph-div\" style=\"height:525px; width:100%;\"></div>            <script type=\"text/javascript\">                                    window.PLOTLYENV=window.PLOTLYENV || {};                                    if (document.getElementById(\"fb6d74cb-18ec-4441-8f0d-6fe48ca8e788\")) {                    Plotly.newPlot(                        \"fb6d74cb-18ec-4441-8f0d-6fe48ca8e788\",                        [{\"hole\":0.4,\"labels\":[\"Mobile\",\"Desktop\",\"Tablet\"],\"name\":\"Premium\",\"values\":[1151,1140,1078],\"type\":\"pie\",\"domain\":{\"x\":[0.0,0.2888888888888889],\"y\":[0.0,1.0]}},{\"hole\":0.4,\"labels\":[\"Mobile\",\"Desktop\",\"Tablet\"],\"name\":\"Free\",\"values\":[1119,1119,1116],\"type\":\"pie\",\"domain\":{\"x\":[0.35555555555555557,0.6444444444444445],\"y\":[0.0,1.0]}},{\"hole\":0.4,\"labels\":[\"Mobile\",\"Desktop\",\"Tablet\"],\"name\":\"Trial\",\"values\":[1104,1089,1084],\"type\":\"pie\",\"domain\":{\"x\":[0.7111111111111111,1.0],\"y\":[0.0,1.0]}}],                        {\"template\":{\"data\":{\"histogram2dcontour\":[{\"type\":\"histogram2dcontour\",\"colorbar\":{\"outlinewidth\":0,\"ticks\":\"\"},\"colorscale\":[[0.0,\"#0d0887\"],[0.1111111111111111,\"#46039f\"],[0.2222222222222222,\"#7201a8\"],[0.3333333333333333,\"#9c179e\"],[0.4444444444444444,\"#bd3786\"],[0.5555555555555556,\"#d8576b\"],[0.6666666666666666,\"#ed7953\"],[0.7777777777777778,\"#fb9f3a\"],[0.8888888888888888,\"#fdca26\"],[1.0,\"#f0f921\"]]}],\"choropleth\":[{\"type\":\"choropleth\",\"colorbar\":{\"outlinewidth\":0,\"ticks\":\"\"}}],\"histogram2d\":[{\"type\":\"histogram2d\",\"colorbar\":{\"outlinewidth\":0,\"ticks\":\"\"},\"colorscale\":[[0.0,\"#0d0887\"],[0.1111111111111111,\"#46039f\"],[0.2222222222222222,\"#7201a8\"],[0.3333333333333333,\"#9c179e\"],[0.4444444444444444,\"#bd3786\"],[0.5555555555555556,\"#d8576b\"],[0.6666666666666666,\"#ed7953\"],[0.7777777777777778,\"#fb9f3a\"],[0.8888888888888888,\"#fdca26\"],[1.0,\"#f0f921\"]]}],\"heatmap\":[{\"type\":\"heatmap\",\"colorbar\":{\"outlinewidth\":0,\"ticks\":\"\"},\"colorscale\":[[0.0,\"#0d0887\"],[0.1111111111111111,\"#46039f\"],[0.2222222222222222,\"#7201a8\"],[0.3333333333333333,\"#9c179e\"],[0.4444444444444444,\"#bd3786\"],[0.5555555555555556,\"#d8576b\"],[0.6666666666666666,\"#ed7953\"],[0.7777777777777778,\"#fb9f3a\"],[0.8888888888888888,\"#fdca26\"],[1.0,\"#f0f921\"]]}],\"heatmapgl\":[{\"type\":\"heatmapgl\",\"colorbar\":{\"outlinewidth\":0,\"ticks\":\"\"},\"colorscale\":[[0.0,\"#0d0887\"],[0.1111111111111111,\"#46039f\"],[0.2222222222222222,\"#7201a8\"],[0.3333333333333333,\"#9c179e\"],[0.4444444444444444,\"#bd3786\"],[0.5555555555555556,\"#d8576b\"],[0.6666666666666666,\"#ed7953\"],[0.7777777777777778,\"#fb9f3a\"],[0.8888888888888888,\"#fdca26\"],[1.0,\"#f0f921\"]]}],\"contourcarpet\":[{\"type\":\"contourcarpet\",\"colorbar\":{\"outlinewidth\":0,\"ticks\":\"\"}}],\"contour\":[{\"type\":\"contour\",\"colorbar\":{\"outlinewidth\":0,\"ticks\":\"\"},\"colorscale\":[[0.0,\"#0d0887\"],[0.1111111111111111,\"#46039f\"],[0.2222222222222222,\"#7201a8\"],[0.3333333333333333,\"#9c179e\"],[0.4444444444444444,\"#bd3786\"],[0.5555555555555556,\"#d8576b\"],[0.6666666666666666,\"#ed7953\"],[0.7777777777777778,\"#fb9f3a\"],[0.8888888888888888,\"#fdca26\"],[1.0,\"#f0f921\"]]}],\"surface\":[{\"type\":\"surface\",\"colorbar\":{\"outlinewidth\":0,\"ticks\":\"\"},\"colorscale\":[[0.0,\"#0d0887\"],[0.1111111111111111,\"#46039f\"],[0.2222222222222222,\"#7201a8\"],[0.3333333333333333,\"#9c179e\"],[0.4444444444444444,\"#bd3786\"],[0.5555555555555556,\"#d8576b\"],[0.6666666666666666,\"#ed7953\"],[0.7777777777777778,\"#fb9f3a\"],[0.8888888888888888,\"#fdca26\"],[1.0,\"#f0f921\"]]}],\"mesh3d\":[{\"type\":\"mesh3d\",\"colorbar\":{\"outlinewidth\":0,\"ticks\":\"\"}}],\"scatter\":[{\"fillpattern\":{\"fillmode\":\"overlay\",\"size\":10,\"solidity\":0.2},\"type\":\"scatter\"}],\"parcoords\":[{\"type\":\"parcoords\",\"line\":{\"colorbar\":{\"outlinewidth\":0,\"ticks\":\"\"}}}],\"scatterpolargl\":[{\"type\":\"scatterpolargl\",\"marker\":{\"colorbar\":{\"outlinewidth\":0,\"ticks\":\"\"}}}],\"bar\":[{\"error_x\":{\"color\":\"#2a3f5f\"},\"error_y\":{\"color\":\"#2a3f5f\"},\"marker\":{\"line\":{\"color\":\"#E5ECF6\",\"width\":0.5},\"pattern\":{\"fillmode\":\"overlay\",\"size\":10,\"solidity\":0.2}},\"type\":\"bar\"}],\"scattergeo\":[{\"type\":\"scattergeo\",\"marker\":{\"colorbar\":{\"outlinewidth\":0,\"ticks\":\"\"}}}],\"scatterpolar\":[{\"type\":\"scatterpolar\",\"marker\":{\"colorbar\":{\"outlinewidth\":0,\"ticks\":\"\"}}}],\"histogram\":[{\"marker\":{\"pattern\":{\"fillmode\":\"overlay\",\"size\":10,\"solidity\":0.2}},\"type\":\"histogram\"}],\"scattergl\":[{\"type\":\"scattergl\",\"marker\":{\"colorbar\":{\"outlinewidth\":0,\"ticks\":\"\"}}}],\"scatter3d\":[{\"type\":\"scatter3d\",\"line\":{\"colorbar\":{\"outlinewidth\":0,\"ticks\":\"\"}},\"marker\":{\"colorbar\":{\"outlinewidth\":0,\"ticks\":\"\"}}}],\"scattermapbox\":[{\"type\":\"scattermapbox\",\"marker\":{\"colorbar\":{\"outlinewidth\":0,\"ticks\":\"\"}}}],\"scatterternary\":[{\"type\":\"scatterternary\",\"marker\":{\"colorbar\":{\"outlinewidth\":0,\"ticks\":\"\"}}}],\"scattercarpet\":[{\"type\":\"scattercarpet\",\"marker\":{\"colorbar\":{\"outlinewidth\":0,\"ticks\":\"\"}}}],\"carpet\":[{\"aaxis\":{\"endlinecolor\":\"#2a3f5f\",\"gridcolor\":\"white\",\"linecolor\":\"white\",\"minorgridcolor\":\"white\",\"startlinecolor\":\"#2a3f5f\"},\"baxis\":{\"endlinecolor\":\"#2a3f5f\",\"gridcolor\":\"white\",\"linecolor\":\"white\",\"minorgridcolor\":\"white\",\"startlinecolor\":\"#2a3f5f\"},\"type\":\"carpet\"}],\"table\":[{\"cells\":{\"fill\":{\"color\":\"#EBF0F8\"},\"line\":{\"color\":\"white\"}},\"header\":{\"fill\":{\"color\":\"#C8D4E3\"},\"line\":{\"color\":\"white\"}},\"type\":\"table\"}],\"barpolar\":[{\"marker\":{\"line\":{\"color\":\"#E5ECF6\",\"width\":0.5},\"pattern\":{\"fillmode\":\"overlay\",\"size\":10,\"solidity\":0.2}},\"type\":\"barpolar\"}],\"pie\":[{\"automargin\":true,\"type\":\"pie\"}]},\"layout\":{\"autotypenumbers\":\"strict\",\"colorway\":[\"#636efa\",\"#EF553B\",\"#00cc96\",\"#ab63fa\",\"#FFA15A\",\"#19d3f3\",\"#FF6692\",\"#B6E880\",\"#FF97FF\",\"#FECB52\"],\"font\":{\"color\":\"#2a3f5f\"},\"hovermode\":\"closest\",\"hoverlabel\":{\"align\":\"left\"},\"paper_bgcolor\":\"white\",\"plot_bgcolor\":\"#E5ECF6\",\"polar\":{\"bgcolor\":\"#E5ECF6\",\"angularaxis\":{\"gridcolor\":\"white\",\"linecolor\":\"white\",\"ticks\":\"\"},\"radialaxis\":{\"gridcolor\":\"white\",\"linecolor\":\"white\",\"ticks\":\"\"}},\"ternary\":{\"bgcolor\":\"#E5ECF6\",\"aaxis\":{\"gridcolor\":\"white\",\"linecolor\":\"white\",\"ticks\":\"\"},\"baxis\":{\"gridcolor\":\"white\",\"linecolor\":\"white\",\"ticks\":\"\"},\"caxis\":{\"gridcolor\":\"white\",\"linecolor\":\"white\",\"ticks\":\"\"}},\"coloraxis\":{\"colorbar\":{\"outlinewidth\":0,\"ticks\":\"\"}},\"colorscale\":{\"sequential\":[[0.0,\"#0d0887\"],[0.1111111111111111,\"#46039f\"],[0.2222222222222222,\"#7201a8\"],[0.3333333333333333,\"#9c179e\"],[0.4444444444444444,\"#bd3786\"],[0.5555555555555556,\"#d8576b\"],[0.6666666666666666,\"#ed7953\"],[0.7777777777777778,\"#fb9f3a\"],[0.8888888888888888,\"#fdca26\"],[1.0,\"#f0f921\"]],\"sequentialminus\":[[0.0,\"#0d0887\"],[0.1111111111111111,\"#46039f\"],[0.2222222222222222,\"#7201a8\"],[0.3333333333333333,\"#9c179e\"],[0.4444444444444444,\"#bd3786\"],[0.5555555555555556,\"#d8576b\"],[0.6666666666666666,\"#ed7953\"],[0.7777777777777778,\"#fb9f3a\"],[0.8888888888888888,\"#fdca26\"],[1.0,\"#f0f921\"]],\"diverging\":[[0,\"#8e0152\"],[0.1,\"#c51b7d\"],[0.2,\"#de77ae\"],[0.3,\"#f1b6da\"],[0.4,\"#fde0ef\"],[0.5,\"#f7f7f7\"],[0.6,\"#e6f5d0\"],[0.7,\"#b8e186\"],[0.8,\"#7fbc41\"],[0.9,\"#4d9221\"],[1,\"#276419\"]]},\"xaxis\":{\"gridcolor\":\"white\",\"linecolor\":\"white\",\"ticks\":\"\",\"title\":{\"standoff\":15},\"zerolinecolor\":\"white\",\"automargin\":true,\"zerolinewidth\":2},\"yaxis\":{\"gridcolor\":\"white\",\"linecolor\":\"white\",\"ticks\":\"\",\"title\":{\"standoff\":15},\"zerolinecolor\":\"white\",\"automargin\":true,\"zerolinewidth\":2},\"scene\":{\"xaxis\":{\"backgroundcolor\":\"#E5ECF6\",\"gridcolor\":\"white\",\"linecolor\":\"white\",\"showbackground\":true,\"ticks\":\"\",\"zerolinecolor\":\"white\",\"gridwidth\":2},\"yaxis\":{\"backgroundcolor\":\"#E5ECF6\",\"gridcolor\":\"white\",\"linecolor\":\"white\",\"showbackground\":true,\"ticks\":\"\",\"zerolinecolor\":\"white\",\"gridwidth\":2},\"zaxis\":{\"backgroundcolor\":\"#E5ECF6\",\"gridcolor\":\"white\",\"linecolor\":\"white\",\"showbackground\":true,\"ticks\":\"\",\"zerolinecolor\":\"white\",\"gridwidth\":2}},\"shapedefaults\":{\"line\":{\"color\":\"#2a3f5f\"}},\"annotationdefaults\":{\"arrowcolor\":\"#2a3f5f\",\"arrowhead\":0,\"arrowwidth\":1},\"geo\":{\"bgcolor\":\"white\",\"landcolor\":\"#E5ECF6\",\"subunitcolor\":\"white\",\"showland\":true,\"showlakes\":true,\"lakecolor\":\"white\"},\"title\":{\"x\":0.05},\"mapbox\":{\"style\":\"light\"}}},\"annotations\":[{\"font\":{\"size\":16},\"showarrow\":false,\"text\":\"Premium Subscribers\",\"x\":0.14444444444444446,\"xanchor\":\"center\",\"xref\":\"paper\",\"y\":1.0,\"yanchor\":\"bottom\",\"yref\":\"paper\"},{\"font\":{\"size\":16},\"showarrow\":false,\"text\":\"Free Subscribers\",\"x\":0.5,\"xanchor\":\"center\",\"xref\":\"paper\",\"y\":1.0,\"yanchor\":\"bottom\",\"yref\":\"paper\"},{\"font\":{\"size\":16},\"showarrow\":false,\"text\":\"Trial Subscribers\",\"x\":0.8555555555555556,\"xanchor\":\"center\",\"xref\":\"paper\",\"y\":1.0,\"yanchor\":\"bottom\",\"yref\":\"paper\"}],\"title\":{\"text\":\"Device Distribution by Subscription Status\",\"x\":0.5}},                        {\"responsive\": true}                    ).then(function(){\n",
              "                            \n",
              "var gd = document.getElementById('fb6d74cb-18ec-4441-8f0d-6fe48ca8e788');\n",
              "var x = new MutationObserver(function (mutations, observer) {{\n",
              "        var display = window.getComputedStyle(gd).display;\n",
              "        if (!display || display === 'none') {{\n",
              "            console.log([gd, 'removed!']);\n",
              "            Plotly.purge(gd);\n",
              "            observer.disconnect();\n",
              "        }}\n",
              "}});\n",
              "\n",
              "// Listen for the removal of the full notebook cells\n",
              "var notebookContainer = gd.closest('#notebook-container');\n",
              "if (notebookContainer) {{\n",
              "    x.observe(notebookContainer, {childList: true});\n",
              "}}\n",
              "\n",
              "// Listen for the clearing of the current output cell\n",
              "var outputEl = gd.closest('.output');\n",
              "if (outputEl) {{\n",
              "    x.observe(outputEl, {childList: true});\n",
              "}}\n",
              "\n",
              "                        })                };                            </script>        </div>\n",
              "</body>\n",
              "</html>"
            ]
          },
          "metadata": {}
        }
      ]
    },
    {
      "cell_type": "markdown",
      "source": [
        "**Q9: What is the average purchase amount for customers who availed discounts compared\n",
        "to those who didn’t?**"
      ],
      "metadata": {
        "id": "sHDZNEWgAsKB"
      }
    },
    {
      "cell_type": "code",
      "source": [
        "avg_purchase_coupon = df.groupby('Discount Availed')['Purchase Amount ($)'].mean()\n",
        "print(avg_purchase_coupon)"
      ],
      "metadata": {
        "colab": {
          "base_uri": "https://localhost:8080/"
        },
        "id": "x2j59SUeaF-F",
        "outputId": "a5877e61-1ff7-4b37-f742-7ef8882f9ead"
      },
      "execution_count": null,
      "outputs": [
        {
          "output_type": "stream",
          "name": "stdout",
          "text": [
            "Discount Availed\n",
            "False    502.511451\n",
            "True     505.264178\n",
            "Name: Purchase Amount ($), dtype: float64\n"
          ]
        }
      ]
    },
    {
      "cell_type": "markdown",
      "source": [
        "**Q10: What is the most common payment method used by customers?**"
      ],
      "metadata": {
        "id": "DpkAWkk0A8rW"
      }
    },
    {
      "cell_type": "code",
      "source": [
        "common_payment_method = df['Payment Method'].value_counts().idxmax()\n",
        "print(f'Most common payment method: {common_payment_method}')"
      ],
      "metadata": {
        "colab": {
          "base_uri": "https://localhost:8080/"
        },
        "id": "sM44oz8Fbw_b",
        "outputId": "2aeb6c83-7a7d-4721-fd3a-8fb8b3bb973f"
      },
      "execution_count": null,
      "outputs": [
        {
          "output_type": "stream",
          "name": "stdout",
          "text": [
            "Most common payment method: Bank Transfer\n"
          ]
        }
      ]
    },
    {
      "cell_type": "code",
      "source": [
        "\n",
        "payment_method_counts = df['Payment Method'].value_counts()\n",
        "\n",
        "fig = px.bar(payment_method_counts,\n",
        "             x=payment_method_counts.index,\n",
        "             y=payment_method_counts.values,\n",
        "             title='Distribution of Payment Methods',\n",
        "             labels={'x': 'Payment Method', 'y': 'Number of Customers'},\n",
        "             color=payment_method_counts.index)\n",
        "\n",
        "fig.show()"
      ],
      "metadata": {
        "colab": {
          "base_uri": "https://localhost:8080/",
          "height": 542
        },
        "id": "as2RhOk_602A",
        "outputId": "699392ea-e6b2-476e-cff0-a57fca694dde"
      },
      "execution_count": null,
      "outputs": [
        {
          "output_type": "display_data",
          "data": {
            "text/html": [
              "<html>\n",
              "<head><meta charset=\"utf-8\" /></head>\n",
              "<body>\n",
              "    <div>            <script src=\"https://cdnjs.cloudflare.com/ajax/libs/mathjax/2.7.5/MathJax.js?config=TeX-AMS-MML_SVG\"></script><script type=\"text/javascript\">if (window.MathJax && window.MathJax.Hub && window.MathJax.Hub.Config) {window.MathJax.Hub.Config({SVG: {font: \"STIX-Web\"}});}</script>                <script type=\"text/javascript\">window.PlotlyConfig = {MathJaxConfig: 'local'};</script>\n",
              "        <script charset=\"utf-8\" src=\"https://cdn.plot.ly/plotly-2.35.2.min.js\"></script>                <div id=\"a268eaa5-8912-4588-9366-04b2234c2709\" class=\"plotly-graph-div\" style=\"height:525px; width:100%;\"></div>            <script type=\"text/javascript\">                                    window.PLOTLYENV=window.PLOTLYENV || {};                                    if (document.getElementById(\"a268eaa5-8912-4588-9366-04b2234c2709\")) {                    Plotly.newPlot(                        \"a268eaa5-8912-4588-9366-04b2234c2709\",                        [{\"alignmentgroup\":\"True\",\"hovertemplate\":\"Payment Method=%{x}\\u003cbr\\u003eNumber of Customers=%{y}\\u003cextra\\u003e\\u003c\\u002fextra\\u003e\",\"legendgroup\":\"Bank Transfer\",\"marker\":{\"color\":\"#636efa\",\"pattern\":{\"shape\":\"\"}},\"name\":\"Bank Transfer\",\"offsetgroup\":\"Bank Transfer\",\"orientation\":\"v\",\"showlegend\":true,\"textposition\":\"auto\",\"x\":[\"Bank Transfer\"],\"xaxis\":\"x\",\"y\":[2067],\"yaxis\":\"y\",\"type\":\"bar\"},{\"alignmentgroup\":\"True\",\"hovertemplate\":\"Payment Method=%{x}\\u003cbr\\u003eNumber of Customers=%{y}\\u003cextra\\u003e\\u003c\\u002fextra\\u003e\",\"legendgroup\":\"Credit Card\",\"marker\":{\"color\":\"#EF553B\",\"pattern\":{\"shape\":\"\"}},\"name\":\"Credit Card\",\"offsetgroup\":\"Credit Card\",\"orientation\":\"v\",\"showlegend\":true,\"textposition\":\"auto\",\"x\":[\"Credit Card\"],\"xaxis\":\"x\",\"y\":[2028],\"yaxis\":\"y\",\"type\":\"bar\"},{\"alignmentgroup\":\"True\",\"hovertemplate\":\"Payment Method=%{x}\\u003cbr\\u003eNumber of Customers=%{y}\\u003cextra\\u003e\\u003c\\u002fextra\\u003e\",\"legendgroup\":\"Cash on Delivery\",\"marker\":{\"color\":\"#00cc96\",\"pattern\":{\"shape\":\"\"}},\"name\":\"Cash on Delivery\",\"offsetgroup\":\"Cash on Delivery\",\"orientation\":\"v\",\"showlegend\":true,\"textposition\":\"auto\",\"x\":[\"Cash on Delivery\"],\"xaxis\":\"x\",\"y\":[2007],\"yaxis\":\"y\",\"type\":\"bar\"},{\"alignmentgroup\":\"True\",\"hovertemplate\":\"Payment Method=%{x}\\u003cbr\\u003eNumber of Customers=%{y}\\u003cextra\\u003e\\u003c\\u002fextra\\u003e\",\"legendgroup\":\"Debit Card\",\"marker\":{\"color\":\"#ab63fa\",\"pattern\":{\"shape\":\"\"}},\"name\":\"Debit Card\",\"offsetgroup\":\"Debit Card\",\"orientation\":\"v\",\"showlegend\":true,\"textposition\":\"auto\",\"x\":[\"Debit Card\"],\"xaxis\":\"x\",\"y\":[1983],\"yaxis\":\"y\",\"type\":\"bar\"},{\"alignmentgroup\":\"True\",\"hovertemplate\":\"Payment Method=%{x}\\u003cbr\\u003eNumber of Customers=%{y}\\u003cextra\\u003e\\u003c\\u002fextra\\u003e\",\"legendgroup\":\"PayPal\",\"marker\":{\"color\":\"#FFA15A\",\"pattern\":{\"shape\":\"\"}},\"name\":\"PayPal\",\"offsetgroup\":\"PayPal\",\"orientation\":\"v\",\"showlegend\":true,\"textposition\":\"auto\",\"x\":[\"PayPal\"],\"xaxis\":\"x\",\"y\":[1915],\"yaxis\":\"y\",\"type\":\"bar\"}],                        {\"template\":{\"data\":{\"histogram2dcontour\":[{\"type\":\"histogram2dcontour\",\"colorbar\":{\"outlinewidth\":0,\"ticks\":\"\"},\"colorscale\":[[0.0,\"#0d0887\"],[0.1111111111111111,\"#46039f\"],[0.2222222222222222,\"#7201a8\"],[0.3333333333333333,\"#9c179e\"],[0.4444444444444444,\"#bd3786\"],[0.5555555555555556,\"#d8576b\"],[0.6666666666666666,\"#ed7953\"],[0.7777777777777778,\"#fb9f3a\"],[0.8888888888888888,\"#fdca26\"],[1.0,\"#f0f921\"]]}],\"choropleth\":[{\"type\":\"choropleth\",\"colorbar\":{\"outlinewidth\":0,\"ticks\":\"\"}}],\"histogram2d\":[{\"type\":\"histogram2d\",\"colorbar\":{\"outlinewidth\":0,\"ticks\":\"\"},\"colorscale\":[[0.0,\"#0d0887\"],[0.1111111111111111,\"#46039f\"],[0.2222222222222222,\"#7201a8\"],[0.3333333333333333,\"#9c179e\"],[0.4444444444444444,\"#bd3786\"],[0.5555555555555556,\"#d8576b\"],[0.6666666666666666,\"#ed7953\"],[0.7777777777777778,\"#fb9f3a\"],[0.8888888888888888,\"#fdca26\"],[1.0,\"#f0f921\"]]}],\"heatmap\":[{\"type\":\"heatmap\",\"colorbar\":{\"outlinewidth\":0,\"ticks\":\"\"},\"colorscale\":[[0.0,\"#0d0887\"],[0.1111111111111111,\"#46039f\"],[0.2222222222222222,\"#7201a8\"],[0.3333333333333333,\"#9c179e\"],[0.4444444444444444,\"#bd3786\"],[0.5555555555555556,\"#d8576b\"],[0.6666666666666666,\"#ed7953\"],[0.7777777777777778,\"#fb9f3a\"],[0.8888888888888888,\"#fdca26\"],[1.0,\"#f0f921\"]]}],\"heatmapgl\":[{\"type\":\"heatmapgl\",\"colorbar\":{\"outlinewidth\":0,\"ticks\":\"\"},\"colorscale\":[[0.0,\"#0d0887\"],[0.1111111111111111,\"#46039f\"],[0.2222222222222222,\"#7201a8\"],[0.3333333333333333,\"#9c179e\"],[0.4444444444444444,\"#bd3786\"],[0.5555555555555556,\"#d8576b\"],[0.6666666666666666,\"#ed7953\"],[0.7777777777777778,\"#fb9f3a\"],[0.8888888888888888,\"#fdca26\"],[1.0,\"#f0f921\"]]}],\"contourcarpet\":[{\"type\":\"contourcarpet\",\"colorbar\":{\"outlinewidth\":0,\"ticks\":\"\"}}],\"contour\":[{\"type\":\"contour\",\"colorbar\":{\"outlinewidth\":0,\"ticks\":\"\"},\"colorscale\":[[0.0,\"#0d0887\"],[0.1111111111111111,\"#46039f\"],[0.2222222222222222,\"#7201a8\"],[0.3333333333333333,\"#9c179e\"],[0.4444444444444444,\"#bd3786\"],[0.5555555555555556,\"#d8576b\"],[0.6666666666666666,\"#ed7953\"],[0.7777777777777778,\"#fb9f3a\"],[0.8888888888888888,\"#fdca26\"],[1.0,\"#f0f921\"]]}],\"surface\":[{\"type\":\"surface\",\"colorbar\":{\"outlinewidth\":0,\"ticks\":\"\"},\"colorscale\":[[0.0,\"#0d0887\"],[0.1111111111111111,\"#46039f\"],[0.2222222222222222,\"#7201a8\"],[0.3333333333333333,\"#9c179e\"],[0.4444444444444444,\"#bd3786\"],[0.5555555555555556,\"#d8576b\"],[0.6666666666666666,\"#ed7953\"],[0.7777777777777778,\"#fb9f3a\"],[0.8888888888888888,\"#fdca26\"],[1.0,\"#f0f921\"]]}],\"mesh3d\":[{\"type\":\"mesh3d\",\"colorbar\":{\"outlinewidth\":0,\"ticks\":\"\"}}],\"scatter\":[{\"fillpattern\":{\"fillmode\":\"overlay\",\"size\":10,\"solidity\":0.2},\"type\":\"scatter\"}],\"parcoords\":[{\"type\":\"parcoords\",\"line\":{\"colorbar\":{\"outlinewidth\":0,\"ticks\":\"\"}}}],\"scatterpolargl\":[{\"type\":\"scatterpolargl\",\"marker\":{\"colorbar\":{\"outlinewidth\":0,\"ticks\":\"\"}}}],\"bar\":[{\"error_x\":{\"color\":\"#2a3f5f\"},\"error_y\":{\"color\":\"#2a3f5f\"},\"marker\":{\"line\":{\"color\":\"#E5ECF6\",\"width\":0.5},\"pattern\":{\"fillmode\":\"overlay\",\"size\":10,\"solidity\":0.2}},\"type\":\"bar\"}],\"scattergeo\":[{\"type\":\"scattergeo\",\"marker\":{\"colorbar\":{\"outlinewidth\":0,\"ticks\":\"\"}}}],\"scatterpolar\":[{\"type\":\"scatterpolar\",\"marker\":{\"colorbar\":{\"outlinewidth\":0,\"ticks\":\"\"}}}],\"histogram\":[{\"marker\":{\"pattern\":{\"fillmode\":\"overlay\",\"size\":10,\"solidity\":0.2}},\"type\":\"histogram\"}],\"scattergl\":[{\"type\":\"scattergl\",\"marker\":{\"colorbar\":{\"outlinewidth\":0,\"ticks\":\"\"}}}],\"scatter3d\":[{\"type\":\"scatter3d\",\"line\":{\"colorbar\":{\"outlinewidth\":0,\"ticks\":\"\"}},\"marker\":{\"colorbar\":{\"outlinewidth\":0,\"ticks\":\"\"}}}],\"scattermapbox\":[{\"type\":\"scattermapbox\",\"marker\":{\"colorbar\":{\"outlinewidth\":0,\"ticks\":\"\"}}}],\"scatterternary\":[{\"type\":\"scatterternary\",\"marker\":{\"colorbar\":{\"outlinewidth\":0,\"ticks\":\"\"}}}],\"scattercarpet\":[{\"type\":\"scattercarpet\",\"marker\":{\"colorbar\":{\"outlinewidth\":0,\"ticks\":\"\"}}}],\"carpet\":[{\"aaxis\":{\"endlinecolor\":\"#2a3f5f\",\"gridcolor\":\"white\",\"linecolor\":\"white\",\"minorgridcolor\":\"white\",\"startlinecolor\":\"#2a3f5f\"},\"baxis\":{\"endlinecolor\":\"#2a3f5f\",\"gridcolor\":\"white\",\"linecolor\":\"white\",\"minorgridcolor\":\"white\",\"startlinecolor\":\"#2a3f5f\"},\"type\":\"carpet\"}],\"table\":[{\"cells\":{\"fill\":{\"color\":\"#EBF0F8\"},\"line\":{\"color\":\"white\"}},\"header\":{\"fill\":{\"color\":\"#C8D4E3\"},\"line\":{\"color\":\"white\"}},\"type\":\"table\"}],\"barpolar\":[{\"marker\":{\"line\":{\"color\":\"#E5ECF6\",\"width\":0.5},\"pattern\":{\"fillmode\":\"overlay\",\"size\":10,\"solidity\":0.2}},\"type\":\"barpolar\"}],\"pie\":[{\"automargin\":true,\"type\":\"pie\"}]},\"layout\":{\"autotypenumbers\":\"strict\",\"colorway\":[\"#636efa\",\"#EF553B\",\"#00cc96\",\"#ab63fa\",\"#FFA15A\",\"#19d3f3\",\"#FF6692\",\"#B6E880\",\"#FF97FF\",\"#FECB52\"],\"font\":{\"color\":\"#2a3f5f\"},\"hovermode\":\"closest\",\"hoverlabel\":{\"align\":\"left\"},\"paper_bgcolor\":\"white\",\"plot_bgcolor\":\"#E5ECF6\",\"polar\":{\"bgcolor\":\"#E5ECF6\",\"angularaxis\":{\"gridcolor\":\"white\",\"linecolor\":\"white\",\"ticks\":\"\"},\"radialaxis\":{\"gridcolor\":\"white\",\"linecolor\":\"white\",\"ticks\":\"\"}},\"ternary\":{\"bgcolor\":\"#E5ECF6\",\"aaxis\":{\"gridcolor\":\"white\",\"linecolor\":\"white\",\"ticks\":\"\"},\"baxis\":{\"gridcolor\":\"white\",\"linecolor\":\"white\",\"ticks\":\"\"},\"caxis\":{\"gridcolor\":\"white\",\"linecolor\":\"white\",\"ticks\":\"\"}},\"coloraxis\":{\"colorbar\":{\"outlinewidth\":0,\"ticks\":\"\"}},\"colorscale\":{\"sequential\":[[0.0,\"#0d0887\"],[0.1111111111111111,\"#46039f\"],[0.2222222222222222,\"#7201a8\"],[0.3333333333333333,\"#9c179e\"],[0.4444444444444444,\"#bd3786\"],[0.5555555555555556,\"#d8576b\"],[0.6666666666666666,\"#ed7953\"],[0.7777777777777778,\"#fb9f3a\"],[0.8888888888888888,\"#fdca26\"],[1.0,\"#f0f921\"]],\"sequentialminus\":[[0.0,\"#0d0887\"],[0.1111111111111111,\"#46039f\"],[0.2222222222222222,\"#7201a8\"],[0.3333333333333333,\"#9c179e\"],[0.4444444444444444,\"#bd3786\"],[0.5555555555555556,\"#d8576b\"],[0.6666666666666666,\"#ed7953\"],[0.7777777777777778,\"#fb9f3a\"],[0.8888888888888888,\"#fdca26\"],[1.0,\"#f0f921\"]],\"diverging\":[[0,\"#8e0152\"],[0.1,\"#c51b7d\"],[0.2,\"#de77ae\"],[0.3,\"#f1b6da\"],[0.4,\"#fde0ef\"],[0.5,\"#f7f7f7\"],[0.6,\"#e6f5d0\"],[0.7,\"#b8e186\"],[0.8,\"#7fbc41\"],[0.9,\"#4d9221\"],[1,\"#276419\"]]},\"xaxis\":{\"gridcolor\":\"white\",\"linecolor\":\"white\",\"ticks\":\"\",\"title\":{\"standoff\":15},\"zerolinecolor\":\"white\",\"automargin\":true,\"zerolinewidth\":2},\"yaxis\":{\"gridcolor\":\"white\",\"linecolor\":\"white\",\"ticks\":\"\",\"title\":{\"standoff\":15},\"zerolinecolor\":\"white\",\"automargin\":true,\"zerolinewidth\":2},\"scene\":{\"xaxis\":{\"backgroundcolor\":\"#E5ECF6\",\"gridcolor\":\"white\",\"linecolor\":\"white\",\"showbackground\":true,\"ticks\":\"\",\"zerolinecolor\":\"white\",\"gridwidth\":2},\"yaxis\":{\"backgroundcolor\":\"#E5ECF6\",\"gridcolor\":\"white\",\"linecolor\":\"white\",\"showbackground\":true,\"ticks\":\"\",\"zerolinecolor\":\"white\",\"gridwidth\":2},\"zaxis\":{\"backgroundcolor\":\"#E5ECF6\",\"gridcolor\":\"white\",\"linecolor\":\"white\",\"showbackground\":true,\"ticks\":\"\",\"zerolinecolor\":\"white\",\"gridwidth\":2}},\"shapedefaults\":{\"line\":{\"color\":\"#2a3f5f\"}},\"annotationdefaults\":{\"arrowcolor\":\"#2a3f5f\",\"arrowhead\":0,\"arrowwidth\":1},\"geo\":{\"bgcolor\":\"white\",\"landcolor\":\"#E5ECF6\",\"subunitcolor\":\"white\",\"showland\":true,\"showlakes\":true,\"lakecolor\":\"white\"},\"title\":{\"x\":0.05},\"mapbox\":{\"style\":\"light\"}}},\"xaxis\":{\"anchor\":\"y\",\"domain\":[0.0,1.0],\"title\":{\"text\":\"Payment Method\"},\"categoryorder\":\"array\",\"categoryarray\":[\"Bank Transfer\",\"Credit Card\",\"Cash on Delivery\",\"Debit Card\",\"PayPal\"]},\"yaxis\":{\"anchor\":\"x\",\"domain\":[0.0,1.0],\"title\":{\"text\":\"Number of Customers\"}},\"legend\":{\"title\":{\"text\":\"Payment Method\"},\"tracegroupgap\":0},\"title\":{\"text\":\"Distribution of Payment Methods\"},\"barmode\":\"relative\"},                        {\"responsive\": true}                    ).then(function(){\n",
              "                            \n",
              "var gd = document.getElementById('a268eaa5-8912-4588-9366-04b2234c2709');\n",
              "var x = new MutationObserver(function (mutations, observer) {{\n",
              "        var display = window.getComputedStyle(gd).display;\n",
              "        if (!display || display === 'none') {{\n",
              "            console.log([gd, 'removed!']);\n",
              "            Plotly.purge(gd);\n",
              "            observer.disconnect();\n",
              "        }}\n",
              "}});\n",
              "\n",
              "// Listen for the removal of the full notebook cells\n",
              "var notebookContainer = gd.closest('#notebook-container');\n",
              "if (notebookContainer) {{\n",
              "    x.observe(notebookContainer, {childList: true});\n",
              "}}\n",
              "\n",
              "// Listen for the clearing of the current output cell\n",
              "var outputEl = gd.closest('.output');\n",
              "if (outputEl) {{\n",
              "    x.observe(outputEl, {childList: true});\n",
              "}}\n",
              "\n",
              "                        })                };                            </script>        </div>\n",
              "</body>\n",
              "</html>"
            ]
          },
          "metadata": {}
        }
      ]
    },
    {
      "cell_type": "markdown",
      "source": [
        "***Level 2***"
      ],
      "metadata": {
        "id": "Rl-LBokib8Ob"
      }
    },
    {
      "cell_type": "markdown",
      "source": [
        "**Q1: What are the average review scores of users of the most common payment method?**"
      ],
      "metadata": {
        "id": "M7Pd2iNcBVdf"
      }
    },
    {
      "cell_type": "code",
      "source": [
        "\n",
        "common_payment_users = df[df['Payment Method'] == common_payment_method]\n",
        "avg_review_cpu = common_payment_users['Review Score (1-5)'].mean()\n",
        "\n",
        "print(f'Average review score of users of the most common payment method {common_payment_method}: {avg_review_cpu}')"
      ],
      "metadata": {
        "colab": {
          "base_uri": "https://localhost:8080/"
        },
        "id": "wcqw_7XWcHOw",
        "outputId": "887006b7-57ae-4629-dd6a-36681a0434cc"
      },
      "execution_count": null,
      "outputs": [
        {
          "output_type": "stream",
          "name": "stdout",
          "text": [
            "Average review score of users of the most common payment method Bank Transfer: 2.9888727624576683\n"
          ]
        }
      ]
    },
    {
      "cell_type": "code",
      "source": [
        "import pandas as pd\n",
        "import plotly.express as px\n",
        "\n",
        "avg_review_by_payment = df.groupby('Payment Method')['Review Score (1-5)'].mean().reset_index()\n",
        "\n",
        "avg_review_by_payment.columns = ['Payment Method', 'Average Review Score']\n",
        "\n",
        "common_payment_method = df['Payment Method'].value_counts().idxmax()\n",
        "common_payment_users = df[df['Payment Method'] == common_payment_method]\n",
        "avg_review_cpu = common_payment_users['Review Score (1-5)'].mean()\n",
        "\n",
        "print(f'Average review score of users of the most common payment method ({common_payment_method}): {avg_review_cpu:.2f}')\n",
        "\n",
        "fig = px.bar(avg_review_by_payment,\n",
        "             x='Payment Method',\n",
        "             y='Average Review Score',\n",
        "             title='Average Review Score by Payment Method',\n",
        "             labels={'Average Review Score': 'Average Review Score'},\n",
        "             color='Average Review Score',\n",
        "             color_continuous_scale=px.colors.sequential.Viridis)\n",
        "\n",
        "fig.show()\n"
      ],
      "metadata": {
        "colab": {
          "base_uri": "https://localhost:8080/",
          "height": 559
        },
        "id": "p7pG23Z3x1Zk",
        "outputId": "d1bd6401-6cef-4770-8cb7-2de8eee1eeef"
      },
      "execution_count": null,
      "outputs": [
        {
          "output_type": "stream",
          "name": "stdout",
          "text": [
            "Average review score of users of the most common payment method (Bank Transfer): 2.99\n"
          ]
        },
        {
          "output_type": "display_data",
          "data": {
            "text/html": [
              "<html>\n",
              "<head><meta charset=\"utf-8\" /></head>\n",
              "<body>\n",
              "    <div>            <script src=\"https://cdnjs.cloudflare.com/ajax/libs/mathjax/2.7.5/MathJax.js?config=TeX-AMS-MML_SVG\"></script><script type=\"text/javascript\">if (window.MathJax && window.MathJax.Hub && window.MathJax.Hub.Config) {window.MathJax.Hub.Config({SVG: {font: \"STIX-Web\"}});}</script>                <script type=\"text/javascript\">window.PlotlyConfig = {MathJaxConfig: 'local'};</script>\n",
              "        <script charset=\"utf-8\" src=\"https://cdn.plot.ly/plotly-2.35.2.min.js\"></script>                <div id=\"541af1b5-17e1-4fc7-84ce-0b7913993ca5\" class=\"plotly-graph-div\" style=\"height:525px; width:100%;\"></div>            <script type=\"text/javascript\">                                    window.PLOTLYENV=window.PLOTLYENV || {};                                    if (document.getElementById(\"541af1b5-17e1-4fc7-84ce-0b7913993ca5\")) {                    Plotly.newPlot(                        \"541af1b5-17e1-4fc7-84ce-0b7913993ca5\",                        [{\"alignmentgroup\":\"True\",\"hovertemplate\":\"Payment Method=%{x}\\u003cbr\\u003eAverage Review Score=%{marker.color}\\u003cextra\\u003e\\u003c\\u002fextra\\u003e\",\"legendgroup\":\"\",\"marker\":{\"color\":[2.9888727624576683,3.019930244145491,2.970414201183432,2.9969742813918305,3.0],\"coloraxis\":\"coloraxis\",\"pattern\":{\"shape\":\"\"}},\"name\":\"\",\"offsetgroup\":\"\",\"orientation\":\"v\",\"showlegend\":false,\"textposition\":\"auto\",\"x\":[\"Bank Transfer\",\"Cash on Delivery\",\"Credit Card\",\"Debit Card\",\"PayPal\"],\"xaxis\":\"x\",\"y\":[2.9888727624576683,3.019930244145491,2.970414201183432,2.9969742813918305,3.0],\"yaxis\":\"y\",\"type\":\"bar\"}],                        {\"template\":{\"data\":{\"histogram2dcontour\":[{\"type\":\"histogram2dcontour\",\"colorbar\":{\"outlinewidth\":0,\"ticks\":\"\"},\"colorscale\":[[0.0,\"#0d0887\"],[0.1111111111111111,\"#46039f\"],[0.2222222222222222,\"#7201a8\"],[0.3333333333333333,\"#9c179e\"],[0.4444444444444444,\"#bd3786\"],[0.5555555555555556,\"#d8576b\"],[0.6666666666666666,\"#ed7953\"],[0.7777777777777778,\"#fb9f3a\"],[0.8888888888888888,\"#fdca26\"],[1.0,\"#f0f921\"]]}],\"choropleth\":[{\"type\":\"choropleth\",\"colorbar\":{\"outlinewidth\":0,\"ticks\":\"\"}}],\"histogram2d\":[{\"type\":\"histogram2d\",\"colorbar\":{\"outlinewidth\":0,\"ticks\":\"\"},\"colorscale\":[[0.0,\"#0d0887\"],[0.1111111111111111,\"#46039f\"],[0.2222222222222222,\"#7201a8\"],[0.3333333333333333,\"#9c179e\"],[0.4444444444444444,\"#bd3786\"],[0.5555555555555556,\"#d8576b\"],[0.6666666666666666,\"#ed7953\"],[0.7777777777777778,\"#fb9f3a\"],[0.8888888888888888,\"#fdca26\"],[1.0,\"#f0f921\"]]}],\"heatmap\":[{\"type\":\"heatmap\",\"colorbar\":{\"outlinewidth\":0,\"ticks\":\"\"},\"colorscale\":[[0.0,\"#0d0887\"],[0.1111111111111111,\"#46039f\"],[0.2222222222222222,\"#7201a8\"],[0.3333333333333333,\"#9c179e\"],[0.4444444444444444,\"#bd3786\"],[0.5555555555555556,\"#d8576b\"],[0.6666666666666666,\"#ed7953\"],[0.7777777777777778,\"#fb9f3a\"],[0.8888888888888888,\"#fdca26\"],[1.0,\"#f0f921\"]]}],\"heatmapgl\":[{\"type\":\"heatmapgl\",\"colorbar\":{\"outlinewidth\":0,\"ticks\":\"\"},\"colorscale\":[[0.0,\"#0d0887\"],[0.1111111111111111,\"#46039f\"],[0.2222222222222222,\"#7201a8\"],[0.3333333333333333,\"#9c179e\"],[0.4444444444444444,\"#bd3786\"],[0.5555555555555556,\"#d8576b\"],[0.6666666666666666,\"#ed7953\"],[0.7777777777777778,\"#fb9f3a\"],[0.8888888888888888,\"#fdca26\"],[1.0,\"#f0f921\"]]}],\"contourcarpet\":[{\"type\":\"contourcarpet\",\"colorbar\":{\"outlinewidth\":0,\"ticks\":\"\"}}],\"contour\":[{\"type\":\"contour\",\"colorbar\":{\"outlinewidth\":0,\"ticks\":\"\"},\"colorscale\":[[0.0,\"#0d0887\"],[0.1111111111111111,\"#46039f\"],[0.2222222222222222,\"#7201a8\"],[0.3333333333333333,\"#9c179e\"],[0.4444444444444444,\"#bd3786\"],[0.5555555555555556,\"#d8576b\"],[0.6666666666666666,\"#ed7953\"],[0.7777777777777778,\"#fb9f3a\"],[0.8888888888888888,\"#fdca26\"],[1.0,\"#f0f921\"]]}],\"surface\":[{\"type\":\"surface\",\"colorbar\":{\"outlinewidth\":0,\"ticks\":\"\"},\"colorscale\":[[0.0,\"#0d0887\"],[0.1111111111111111,\"#46039f\"],[0.2222222222222222,\"#7201a8\"],[0.3333333333333333,\"#9c179e\"],[0.4444444444444444,\"#bd3786\"],[0.5555555555555556,\"#d8576b\"],[0.6666666666666666,\"#ed7953\"],[0.7777777777777778,\"#fb9f3a\"],[0.8888888888888888,\"#fdca26\"],[1.0,\"#f0f921\"]]}],\"mesh3d\":[{\"type\":\"mesh3d\",\"colorbar\":{\"outlinewidth\":0,\"ticks\":\"\"}}],\"scatter\":[{\"fillpattern\":{\"fillmode\":\"overlay\",\"size\":10,\"solidity\":0.2},\"type\":\"scatter\"}],\"parcoords\":[{\"type\":\"parcoords\",\"line\":{\"colorbar\":{\"outlinewidth\":0,\"ticks\":\"\"}}}],\"scatterpolargl\":[{\"type\":\"scatterpolargl\",\"marker\":{\"colorbar\":{\"outlinewidth\":0,\"ticks\":\"\"}}}],\"bar\":[{\"error_x\":{\"color\":\"#2a3f5f\"},\"error_y\":{\"color\":\"#2a3f5f\"},\"marker\":{\"line\":{\"color\":\"#E5ECF6\",\"width\":0.5},\"pattern\":{\"fillmode\":\"overlay\",\"size\":10,\"solidity\":0.2}},\"type\":\"bar\"}],\"scattergeo\":[{\"type\":\"scattergeo\",\"marker\":{\"colorbar\":{\"outlinewidth\":0,\"ticks\":\"\"}}}],\"scatterpolar\":[{\"type\":\"scatterpolar\",\"marker\":{\"colorbar\":{\"outlinewidth\":0,\"ticks\":\"\"}}}],\"histogram\":[{\"marker\":{\"pattern\":{\"fillmode\":\"overlay\",\"size\":10,\"solidity\":0.2}},\"type\":\"histogram\"}],\"scattergl\":[{\"type\":\"scattergl\",\"marker\":{\"colorbar\":{\"outlinewidth\":0,\"ticks\":\"\"}}}],\"scatter3d\":[{\"type\":\"scatter3d\",\"line\":{\"colorbar\":{\"outlinewidth\":0,\"ticks\":\"\"}},\"marker\":{\"colorbar\":{\"outlinewidth\":0,\"ticks\":\"\"}}}],\"scattermapbox\":[{\"type\":\"scattermapbox\",\"marker\":{\"colorbar\":{\"outlinewidth\":0,\"ticks\":\"\"}}}],\"scatterternary\":[{\"type\":\"scatterternary\",\"marker\":{\"colorbar\":{\"outlinewidth\":0,\"ticks\":\"\"}}}],\"scattercarpet\":[{\"type\":\"scattercarpet\",\"marker\":{\"colorbar\":{\"outlinewidth\":0,\"ticks\":\"\"}}}],\"carpet\":[{\"aaxis\":{\"endlinecolor\":\"#2a3f5f\",\"gridcolor\":\"white\",\"linecolor\":\"white\",\"minorgridcolor\":\"white\",\"startlinecolor\":\"#2a3f5f\"},\"baxis\":{\"endlinecolor\":\"#2a3f5f\",\"gridcolor\":\"white\",\"linecolor\":\"white\",\"minorgridcolor\":\"white\",\"startlinecolor\":\"#2a3f5f\"},\"type\":\"carpet\"}],\"table\":[{\"cells\":{\"fill\":{\"color\":\"#EBF0F8\"},\"line\":{\"color\":\"white\"}},\"header\":{\"fill\":{\"color\":\"#C8D4E3\"},\"line\":{\"color\":\"white\"}},\"type\":\"table\"}],\"barpolar\":[{\"marker\":{\"line\":{\"color\":\"#E5ECF6\",\"width\":0.5},\"pattern\":{\"fillmode\":\"overlay\",\"size\":10,\"solidity\":0.2}},\"type\":\"barpolar\"}],\"pie\":[{\"automargin\":true,\"type\":\"pie\"}]},\"layout\":{\"autotypenumbers\":\"strict\",\"colorway\":[\"#636efa\",\"#EF553B\",\"#00cc96\",\"#ab63fa\",\"#FFA15A\",\"#19d3f3\",\"#FF6692\",\"#B6E880\",\"#FF97FF\",\"#FECB52\"],\"font\":{\"color\":\"#2a3f5f\"},\"hovermode\":\"closest\",\"hoverlabel\":{\"align\":\"left\"},\"paper_bgcolor\":\"white\",\"plot_bgcolor\":\"#E5ECF6\",\"polar\":{\"bgcolor\":\"#E5ECF6\",\"angularaxis\":{\"gridcolor\":\"white\",\"linecolor\":\"white\",\"ticks\":\"\"},\"radialaxis\":{\"gridcolor\":\"white\",\"linecolor\":\"white\",\"ticks\":\"\"}},\"ternary\":{\"bgcolor\":\"#E5ECF6\",\"aaxis\":{\"gridcolor\":\"white\",\"linecolor\":\"white\",\"ticks\":\"\"},\"baxis\":{\"gridcolor\":\"white\",\"linecolor\":\"white\",\"ticks\":\"\"},\"caxis\":{\"gridcolor\":\"white\",\"linecolor\":\"white\",\"ticks\":\"\"}},\"coloraxis\":{\"colorbar\":{\"outlinewidth\":0,\"ticks\":\"\"}},\"colorscale\":{\"sequential\":[[0.0,\"#0d0887\"],[0.1111111111111111,\"#46039f\"],[0.2222222222222222,\"#7201a8\"],[0.3333333333333333,\"#9c179e\"],[0.4444444444444444,\"#bd3786\"],[0.5555555555555556,\"#d8576b\"],[0.6666666666666666,\"#ed7953\"],[0.7777777777777778,\"#fb9f3a\"],[0.8888888888888888,\"#fdca26\"],[1.0,\"#f0f921\"]],\"sequentialminus\":[[0.0,\"#0d0887\"],[0.1111111111111111,\"#46039f\"],[0.2222222222222222,\"#7201a8\"],[0.3333333333333333,\"#9c179e\"],[0.4444444444444444,\"#bd3786\"],[0.5555555555555556,\"#d8576b\"],[0.6666666666666666,\"#ed7953\"],[0.7777777777777778,\"#fb9f3a\"],[0.8888888888888888,\"#fdca26\"],[1.0,\"#f0f921\"]],\"diverging\":[[0,\"#8e0152\"],[0.1,\"#c51b7d\"],[0.2,\"#de77ae\"],[0.3,\"#f1b6da\"],[0.4,\"#fde0ef\"],[0.5,\"#f7f7f7\"],[0.6,\"#e6f5d0\"],[0.7,\"#b8e186\"],[0.8,\"#7fbc41\"],[0.9,\"#4d9221\"],[1,\"#276419\"]]},\"xaxis\":{\"gridcolor\":\"white\",\"linecolor\":\"white\",\"ticks\":\"\",\"title\":{\"standoff\":15},\"zerolinecolor\":\"white\",\"automargin\":true,\"zerolinewidth\":2},\"yaxis\":{\"gridcolor\":\"white\",\"linecolor\":\"white\",\"ticks\":\"\",\"title\":{\"standoff\":15},\"zerolinecolor\":\"white\",\"automargin\":true,\"zerolinewidth\":2},\"scene\":{\"xaxis\":{\"backgroundcolor\":\"#E5ECF6\",\"gridcolor\":\"white\",\"linecolor\":\"white\",\"showbackground\":true,\"ticks\":\"\",\"zerolinecolor\":\"white\",\"gridwidth\":2},\"yaxis\":{\"backgroundcolor\":\"#E5ECF6\",\"gridcolor\":\"white\",\"linecolor\":\"white\",\"showbackground\":true,\"ticks\":\"\",\"zerolinecolor\":\"white\",\"gridwidth\":2},\"zaxis\":{\"backgroundcolor\":\"#E5ECF6\",\"gridcolor\":\"white\",\"linecolor\":\"white\",\"showbackground\":true,\"ticks\":\"\",\"zerolinecolor\":\"white\",\"gridwidth\":2}},\"shapedefaults\":{\"line\":{\"color\":\"#2a3f5f\"}},\"annotationdefaults\":{\"arrowcolor\":\"#2a3f5f\",\"arrowhead\":0,\"arrowwidth\":1},\"geo\":{\"bgcolor\":\"white\",\"landcolor\":\"#E5ECF6\",\"subunitcolor\":\"white\",\"showland\":true,\"showlakes\":true,\"lakecolor\":\"white\"},\"title\":{\"x\":0.05},\"mapbox\":{\"style\":\"light\"}}},\"xaxis\":{\"anchor\":\"y\",\"domain\":[0.0,1.0],\"title\":{\"text\":\"Payment Method\"}},\"yaxis\":{\"anchor\":\"x\",\"domain\":[0.0,1.0],\"title\":{\"text\":\"Average Review Score\"}},\"coloraxis\":{\"colorbar\":{\"title\":{\"text\":\"Average Review Score\"}},\"colorscale\":[[0.0,\"#440154\"],[0.1111111111111111,\"#482878\"],[0.2222222222222222,\"#3e4989\"],[0.3333333333333333,\"#31688e\"],[0.4444444444444444,\"#26828e\"],[0.5555555555555556,\"#1f9e89\"],[0.6666666666666666,\"#35b779\"],[0.7777777777777778,\"#6ece58\"],[0.8888888888888888,\"#b5de2b\"],[1.0,\"#fde725\"]]},\"legend\":{\"tracegroupgap\":0},\"title\":{\"text\":\"Average Review Score by Payment Method\"},\"barmode\":\"relative\"},                        {\"responsive\": true}                    ).then(function(){\n",
              "                            \n",
              "var gd = document.getElementById('541af1b5-17e1-4fc7-84ce-0b7913993ca5');\n",
              "var x = new MutationObserver(function (mutations, observer) {{\n",
              "        var display = window.getComputedStyle(gd).display;\n",
              "        if (!display || display === 'none') {{\n",
              "            console.log([gd, 'removed!']);\n",
              "            Plotly.purge(gd);\n",
              "            observer.disconnect();\n",
              "        }}\n",
              "}});\n",
              "\n",
              "// Listen for the removal of the full notebook cells\n",
              "var notebookContainer = gd.closest('#notebook-container');\n",
              "if (notebookContainer) {{\n",
              "    x.observe(notebookContainer, {childList: true});\n",
              "}}\n",
              "\n",
              "// Listen for the clearing of the current output cell\n",
              "var outputEl = gd.closest('.output');\n",
              "if (outputEl) {{\n",
              "    x.observe(outputEl, {childList: true});\n",
              "}}\n",
              "\n",
              "                        })                };                            </script>        </div>\n",
              "</body>\n",
              "</html>"
            ]
          },
          "metadata": {}
        }
      ]
    },
    {
      "cell_type": "code",
      "source": [
        "import pandas as pd\n",
        "import plotly.express as px\n",
        "\n",
        "top_payment_methods = df['Payment Method'].value_counts().head(2).index.tolist()\n",
        "\n",
        "bins = [0, 18, 35, 50, 65, 80]\n",
        "labels = ['0-17', '18-34', '35-49', '50-64', '65+']\n",
        "\n",
        "age_distribution_data = []\n",
        "\n",
        "for payment_method in top_payment_methods:\n",
        "    users = df[df['Payment Method'] == payment_method]\n",
        "    users['Age Range'] = pd.cut(users['Age'], bins=bins, labels=labels, right=False)\n",
        "    age_counts = users['Age Range'].value_counts().reset_index()\n",
        "    age_counts.columns = ['Age Range', 'Count']\n",
        "    age_counts['Payment Method'] = payment_method\n",
        "    age_distribution_data.append(age_counts)\n",
        "\n",
        "age_distribution_df = pd.concat(age_distribution_data)\n",
        "\n",
        "fig_age_distribution = px.bar(age_distribution_df,\n",
        "                               x='Age Range',\n",
        "                               y='Count',\n",
        "                               color='Payment Method',\n",
        "                               barmode='group',\n",
        "                               title='Age Distribution by Payment Method',\n",
        "                               labels={'Count': 'Number of Users'})\n",
        "\n",
        "fig_age_distribution.show()\n"
      ],
      "metadata": {
        "colab": {
          "base_uri": "https://localhost:8080/",
          "height": 820
        },
        "id": "EYZwXlLJyHwj",
        "outputId": "8adf6b63-9ea8-4641-a53e-47189722daba"
      },
      "execution_count": null,
      "outputs": [
        {
          "output_type": "stream",
          "name": "stderr",
          "text": [
            "<ipython-input-43-d001037df513>:13: SettingWithCopyWarning:\n",
            "\n",
            "\n",
            "A value is trying to be set on a copy of a slice from a DataFrame.\n",
            "Try using .loc[row_indexer,col_indexer] = value instead\n",
            "\n",
            "See the caveats in the documentation: https://pandas.pydata.org/pandas-docs/stable/user_guide/indexing.html#returning-a-view-versus-a-copy\n",
            "\n",
            "<ipython-input-43-d001037df513>:13: SettingWithCopyWarning:\n",
            "\n",
            "\n",
            "A value is trying to be set on a copy of a slice from a DataFrame.\n",
            "Try using .loc[row_indexer,col_indexer] = value instead\n",
            "\n",
            "See the caveats in the documentation: https://pandas.pydata.org/pandas-docs/stable/user_guide/indexing.html#returning-a-view-versus-a-copy\n",
            "\n"
          ]
        },
        {
          "output_type": "display_data",
          "data": {
            "text/html": [
              "<html>\n",
              "<head><meta charset=\"utf-8\" /></head>\n",
              "<body>\n",
              "    <div>            <script src=\"https://cdnjs.cloudflare.com/ajax/libs/mathjax/2.7.5/MathJax.js?config=TeX-AMS-MML_SVG\"></script><script type=\"text/javascript\">if (window.MathJax && window.MathJax.Hub && window.MathJax.Hub.Config) {window.MathJax.Hub.Config({SVG: {font: \"STIX-Web\"}});}</script>                <script type=\"text/javascript\">window.PlotlyConfig = {MathJaxConfig: 'local'};</script>\n",
              "        <script charset=\"utf-8\" src=\"https://cdn.plot.ly/plotly-2.35.2.min.js\"></script>                <div id=\"2eda4029-12b4-4c76-be03-cdd01906c828\" class=\"plotly-graph-div\" style=\"height:525px; width:100%;\"></div>            <script type=\"text/javascript\">                                    window.PLOTLYENV=window.PLOTLYENV || {};                                    if (document.getElementById(\"2eda4029-12b4-4c76-be03-cdd01906c828\")) {                    Plotly.newPlot(                        \"2eda4029-12b4-4c76-be03-cdd01906c828\",                        [{\"alignmentgroup\":\"True\",\"hovertemplate\":\"Payment Method=Bank Transfer\\u003cbr\\u003eAge Range=%{x}\\u003cbr\\u003eNumber of Users=%{y}\\u003cextra\\u003e\\u003c\\u002fextra\\u003e\",\"legendgroup\":\"Bank Transfer\",\"marker\":{\"color\":\"#636efa\",\"pattern\":{\"shape\":\"\"}},\"name\":\"Bank Transfer\",\"offsetgroup\":\"Bank Transfer\",\"orientation\":\"v\",\"showlegend\":true,\"textposition\":\"auto\",\"x\":[\"18-34\",\"50-64\",\"35-49\",\"65+\",\"0-17\"],\"xaxis\":\"x\",\"y\":[653,628,593,193,0],\"yaxis\":\"y\",\"type\":\"bar\"},{\"alignmentgroup\":\"True\",\"hovertemplate\":\"Payment Method=Credit Card\\u003cbr\\u003eAge Range=%{x}\\u003cbr\\u003eNumber of Users=%{y}\\u003cextra\\u003e\\u003c\\u002fextra\\u003e\",\"legendgroup\":\"Credit Card\",\"marker\":{\"color\":\"#EF553B\",\"pattern\":{\"shape\":\"\"}},\"name\":\"Credit Card\",\"offsetgroup\":\"Credit Card\",\"orientation\":\"v\",\"showlegend\":true,\"textposition\":\"auto\",\"x\":[\"18-34\",\"50-64\",\"35-49\",\"65+\",\"0-17\"],\"xaxis\":\"x\",\"y\":[652,611,569,196,0],\"yaxis\":\"y\",\"type\":\"bar\"}],                        {\"template\":{\"data\":{\"histogram2dcontour\":[{\"type\":\"histogram2dcontour\",\"colorbar\":{\"outlinewidth\":0,\"ticks\":\"\"},\"colorscale\":[[0.0,\"#0d0887\"],[0.1111111111111111,\"#46039f\"],[0.2222222222222222,\"#7201a8\"],[0.3333333333333333,\"#9c179e\"],[0.4444444444444444,\"#bd3786\"],[0.5555555555555556,\"#d8576b\"],[0.6666666666666666,\"#ed7953\"],[0.7777777777777778,\"#fb9f3a\"],[0.8888888888888888,\"#fdca26\"],[1.0,\"#f0f921\"]]}],\"choropleth\":[{\"type\":\"choropleth\",\"colorbar\":{\"outlinewidth\":0,\"ticks\":\"\"}}],\"histogram2d\":[{\"type\":\"histogram2d\",\"colorbar\":{\"outlinewidth\":0,\"ticks\":\"\"},\"colorscale\":[[0.0,\"#0d0887\"],[0.1111111111111111,\"#46039f\"],[0.2222222222222222,\"#7201a8\"],[0.3333333333333333,\"#9c179e\"],[0.4444444444444444,\"#bd3786\"],[0.5555555555555556,\"#d8576b\"],[0.6666666666666666,\"#ed7953\"],[0.7777777777777778,\"#fb9f3a\"],[0.8888888888888888,\"#fdca26\"],[1.0,\"#f0f921\"]]}],\"heatmap\":[{\"type\":\"heatmap\",\"colorbar\":{\"outlinewidth\":0,\"ticks\":\"\"},\"colorscale\":[[0.0,\"#0d0887\"],[0.1111111111111111,\"#46039f\"],[0.2222222222222222,\"#7201a8\"],[0.3333333333333333,\"#9c179e\"],[0.4444444444444444,\"#bd3786\"],[0.5555555555555556,\"#d8576b\"],[0.6666666666666666,\"#ed7953\"],[0.7777777777777778,\"#fb9f3a\"],[0.8888888888888888,\"#fdca26\"],[1.0,\"#f0f921\"]]}],\"heatmapgl\":[{\"type\":\"heatmapgl\",\"colorbar\":{\"outlinewidth\":0,\"ticks\":\"\"},\"colorscale\":[[0.0,\"#0d0887\"],[0.1111111111111111,\"#46039f\"],[0.2222222222222222,\"#7201a8\"],[0.3333333333333333,\"#9c179e\"],[0.4444444444444444,\"#bd3786\"],[0.5555555555555556,\"#d8576b\"],[0.6666666666666666,\"#ed7953\"],[0.7777777777777778,\"#fb9f3a\"],[0.8888888888888888,\"#fdca26\"],[1.0,\"#f0f921\"]]}],\"contourcarpet\":[{\"type\":\"contourcarpet\",\"colorbar\":{\"outlinewidth\":0,\"ticks\":\"\"}}],\"contour\":[{\"type\":\"contour\",\"colorbar\":{\"outlinewidth\":0,\"ticks\":\"\"},\"colorscale\":[[0.0,\"#0d0887\"],[0.1111111111111111,\"#46039f\"],[0.2222222222222222,\"#7201a8\"],[0.3333333333333333,\"#9c179e\"],[0.4444444444444444,\"#bd3786\"],[0.5555555555555556,\"#d8576b\"],[0.6666666666666666,\"#ed7953\"],[0.7777777777777778,\"#fb9f3a\"],[0.8888888888888888,\"#fdca26\"],[1.0,\"#f0f921\"]]}],\"surface\":[{\"type\":\"surface\",\"colorbar\":{\"outlinewidth\":0,\"ticks\":\"\"},\"colorscale\":[[0.0,\"#0d0887\"],[0.1111111111111111,\"#46039f\"],[0.2222222222222222,\"#7201a8\"],[0.3333333333333333,\"#9c179e\"],[0.4444444444444444,\"#bd3786\"],[0.5555555555555556,\"#d8576b\"],[0.6666666666666666,\"#ed7953\"],[0.7777777777777778,\"#fb9f3a\"],[0.8888888888888888,\"#fdca26\"],[1.0,\"#f0f921\"]]}],\"mesh3d\":[{\"type\":\"mesh3d\",\"colorbar\":{\"outlinewidth\":0,\"ticks\":\"\"}}],\"scatter\":[{\"fillpattern\":{\"fillmode\":\"overlay\",\"size\":10,\"solidity\":0.2},\"type\":\"scatter\"}],\"parcoords\":[{\"type\":\"parcoords\",\"line\":{\"colorbar\":{\"outlinewidth\":0,\"ticks\":\"\"}}}],\"scatterpolargl\":[{\"type\":\"scatterpolargl\",\"marker\":{\"colorbar\":{\"outlinewidth\":0,\"ticks\":\"\"}}}],\"bar\":[{\"error_x\":{\"color\":\"#2a3f5f\"},\"error_y\":{\"color\":\"#2a3f5f\"},\"marker\":{\"line\":{\"color\":\"#E5ECF6\",\"width\":0.5},\"pattern\":{\"fillmode\":\"overlay\",\"size\":10,\"solidity\":0.2}},\"type\":\"bar\"}],\"scattergeo\":[{\"type\":\"scattergeo\",\"marker\":{\"colorbar\":{\"outlinewidth\":0,\"ticks\":\"\"}}}],\"scatterpolar\":[{\"type\":\"scatterpolar\",\"marker\":{\"colorbar\":{\"outlinewidth\":0,\"ticks\":\"\"}}}],\"histogram\":[{\"marker\":{\"pattern\":{\"fillmode\":\"overlay\",\"size\":10,\"solidity\":0.2}},\"type\":\"histogram\"}],\"scattergl\":[{\"type\":\"scattergl\",\"marker\":{\"colorbar\":{\"outlinewidth\":0,\"ticks\":\"\"}}}],\"scatter3d\":[{\"type\":\"scatter3d\",\"line\":{\"colorbar\":{\"outlinewidth\":0,\"ticks\":\"\"}},\"marker\":{\"colorbar\":{\"outlinewidth\":0,\"ticks\":\"\"}}}],\"scattermapbox\":[{\"type\":\"scattermapbox\",\"marker\":{\"colorbar\":{\"outlinewidth\":0,\"ticks\":\"\"}}}],\"scatterternary\":[{\"type\":\"scatterternary\",\"marker\":{\"colorbar\":{\"outlinewidth\":0,\"ticks\":\"\"}}}],\"scattercarpet\":[{\"type\":\"scattercarpet\",\"marker\":{\"colorbar\":{\"outlinewidth\":0,\"ticks\":\"\"}}}],\"carpet\":[{\"aaxis\":{\"endlinecolor\":\"#2a3f5f\",\"gridcolor\":\"white\",\"linecolor\":\"white\",\"minorgridcolor\":\"white\",\"startlinecolor\":\"#2a3f5f\"},\"baxis\":{\"endlinecolor\":\"#2a3f5f\",\"gridcolor\":\"white\",\"linecolor\":\"white\",\"minorgridcolor\":\"white\",\"startlinecolor\":\"#2a3f5f\"},\"type\":\"carpet\"}],\"table\":[{\"cells\":{\"fill\":{\"color\":\"#EBF0F8\"},\"line\":{\"color\":\"white\"}},\"header\":{\"fill\":{\"color\":\"#C8D4E3\"},\"line\":{\"color\":\"white\"}},\"type\":\"table\"}],\"barpolar\":[{\"marker\":{\"line\":{\"color\":\"#E5ECF6\",\"width\":0.5},\"pattern\":{\"fillmode\":\"overlay\",\"size\":10,\"solidity\":0.2}},\"type\":\"barpolar\"}],\"pie\":[{\"automargin\":true,\"type\":\"pie\"}]},\"layout\":{\"autotypenumbers\":\"strict\",\"colorway\":[\"#636efa\",\"#EF553B\",\"#00cc96\",\"#ab63fa\",\"#FFA15A\",\"#19d3f3\",\"#FF6692\",\"#B6E880\",\"#FF97FF\",\"#FECB52\"],\"font\":{\"color\":\"#2a3f5f\"},\"hovermode\":\"closest\",\"hoverlabel\":{\"align\":\"left\"},\"paper_bgcolor\":\"white\",\"plot_bgcolor\":\"#E5ECF6\",\"polar\":{\"bgcolor\":\"#E5ECF6\",\"angularaxis\":{\"gridcolor\":\"white\",\"linecolor\":\"white\",\"ticks\":\"\"},\"radialaxis\":{\"gridcolor\":\"white\",\"linecolor\":\"white\",\"ticks\":\"\"}},\"ternary\":{\"bgcolor\":\"#E5ECF6\",\"aaxis\":{\"gridcolor\":\"white\",\"linecolor\":\"white\",\"ticks\":\"\"},\"baxis\":{\"gridcolor\":\"white\",\"linecolor\":\"white\",\"ticks\":\"\"},\"caxis\":{\"gridcolor\":\"white\",\"linecolor\":\"white\",\"ticks\":\"\"}},\"coloraxis\":{\"colorbar\":{\"outlinewidth\":0,\"ticks\":\"\"}},\"colorscale\":{\"sequential\":[[0.0,\"#0d0887\"],[0.1111111111111111,\"#46039f\"],[0.2222222222222222,\"#7201a8\"],[0.3333333333333333,\"#9c179e\"],[0.4444444444444444,\"#bd3786\"],[0.5555555555555556,\"#d8576b\"],[0.6666666666666666,\"#ed7953\"],[0.7777777777777778,\"#fb9f3a\"],[0.8888888888888888,\"#fdca26\"],[1.0,\"#f0f921\"]],\"sequentialminus\":[[0.0,\"#0d0887\"],[0.1111111111111111,\"#46039f\"],[0.2222222222222222,\"#7201a8\"],[0.3333333333333333,\"#9c179e\"],[0.4444444444444444,\"#bd3786\"],[0.5555555555555556,\"#d8576b\"],[0.6666666666666666,\"#ed7953\"],[0.7777777777777778,\"#fb9f3a\"],[0.8888888888888888,\"#fdca26\"],[1.0,\"#f0f921\"]],\"diverging\":[[0,\"#8e0152\"],[0.1,\"#c51b7d\"],[0.2,\"#de77ae\"],[0.3,\"#f1b6da\"],[0.4,\"#fde0ef\"],[0.5,\"#f7f7f7\"],[0.6,\"#e6f5d0\"],[0.7,\"#b8e186\"],[0.8,\"#7fbc41\"],[0.9,\"#4d9221\"],[1,\"#276419\"]]},\"xaxis\":{\"gridcolor\":\"white\",\"linecolor\":\"white\",\"ticks\":\"\",\"title\":{\"standoff\":15},\"zerolinecolor\":\"white\",\"automargin\":true,\"zerolinewidth\":2},\"yaxis\":{\"gridcolor\":\"white\",\"linecolor\":\"white\",\"ticks\":\"\",\"title\":{\"standoff\":15},\"zerolinecolor\":\"white\",\"automargin\":true,\"zerolinewidth\":2},\"scene\":{\"xaxis\":{\"backgroundcolor\":\"#E5ECF6\",\"gridcolor\":\"white\",\"linecolor\":\"white\",\"showbackground\":true,\"ticks\":\"\",\"zerolinecolor\":\"white\",\"gridwidth\":2},\"yaxis\":{\"backgroundcolor\":\"#E5ECF6\",\"gridcolor\":\"white\",\"linecolor\":\"white\",\"showbackground\":true,\"ticks\":\"\",\"zerolinecolor\":\"white\",\"gridwidth\":2},\"zaxis\":{\"backgroundcolor\":\"#E5ECF6\",\"gridcolor\":\"white\",\"linecolor\":\"white\",\"showbackground\":true,\"ticks\":\"\",\"zerolinecolor\":\"white\",\"gridwidth\":2}},\"shapedefaults\":{\"line\":{\"color\":\"#2a3f5f\"}},\"annotationdefaults\":{\"arrowcolor\":\"#2a3f5f\",\"arrowhead\":0,\"arrowwidth\":1},\"geo\":{\"bgcolor\":\"white\",\"landcolor\":\"#E5ECF6\",\"subunitcolor\":\"white\",\"showland\":true,\"showlakes\":true,\"lakecolor\":\"white\"},\"title\":{\"x\":0.05},\"mapbox\":{\"style\":\"light\"}}},\"xaxis\":{\"anchor\":\"y\",\"domain\":[0.0,1.0],\"title\":{\"text\":\"Age Range\"}},\"yaxis\":{\"anchor\":\"x\",\"domain\":[0.0,1.0],\"title\":{\"text\":\"Number of Users\"}},\"legend\":{\"title\":{\"text\":\"Payment Method\"},\"tracegroupgap\":0},\"title\":{\"text\":\"Age Distribution by Payment Method\"},\"barmode\":\"group\"},                        {\"responsive\": true}                    ).then(function(){\n",
              "                            \n",
              "var gd = document.getElementById('2eda4029-12b4-4c76-be03-cdd01906c828');\n",
              "var x = new MutationObserver(function (mutations, observer) {{\n",
              "        var display = window.getComputedStyle(gd).display;\n",
              "        if (!display || display === 'none') {{\n",
              "            console.log([gd, 'removed!']);\n",
              "            Plotly.purge(gd);\n",
              "            observer.disconnect();\n",
              "        }}\n",
              "}});\n",
              "\n",
              "// Listen for the removal of the full notebook cells\n",
              "var notebookContainer = gd.closest('#notebook-container');\n",
              "if (notebookContainer) {{\n",
              "    x.observe(notebookContainer, {childList: true});\n",
              "}}\n",
              "\n",
              "// Listen for the clearing of the current output cell\n",
              "var outputEl = gd.closest('.output');\n",
              "if (outputEl) {{\n",
              "    x.observe(outputEl, {childList: true});\n",
              "}}\n",
              "\n",
              "                        })                };                            </script>        </div>\n",
              "</body>\n",
              "</html>"
            ]
          },
          "metadata": {}
        }
      ]
    },
    {
      "cell_type": "code",
      "source": [
        "\n",
        "bins = [18, 30, 40, 50, 60, float('inf')]\n",
        "labels = ['18-29', '30-39', '40-49', '50-59', '60+']\n",
        "\n",
        "df['Age Range'] = pd.cut(df['Age'], bins=bins, labels=labels, right=False)\n",
        "\n",
        "payment_by_age = df.groupby(['Age Range', 'Payment Method'])['Customer ID'].count().unstack()\n",
        "\n",
        "\n",
        "fig = payment_by_age.plot(kind='bar', figsize=(12, 6))\n",
        "plt.title('Payment Method by Age Range')\n",
        "plt.xlabel('Age Range')\n",
        "plt.ylabel('Number of Customers')\n",
        "plt.xticks(rotation=0)\n",
        "plt.legend(title='Payment Method')\n",
        "plt.show()"
      ],
      "metadata": {
        "colab": {
          "base_uri": "https://localhost:8080/",
          "height": 653
        },
        "id": "7oaUETAr7k6A",
        "outputId": "0b80e422-bab7-4f3d-8678-a3cc193cc146"
      },
      "execution_count": null,
      "outputs": [
        {
          "output_type": "stream",
          "name": "stderr",
          "text": [
            "<ipython-input-10-72b2390ce7e1>:9: FutureWarning:\n",
            "\n",
            "The default of observed=False is deprecated and will be changed to True in a future version of pandas. Pass observed=False to retain current behavior or observed=True to adopt the future default and silence this warning.\n",
            "\n"
          ]
        },
        {
          "output_type": "display_data",
          "data": {
            "text/plain": [
              "<Figure size 1200x600 with 1 Axes>"
            ],
            "image/png": "[encoded data removed]"
          },
          "metadata": {}
        }
      ]
    },
    {
      "cell_type": "markdown",
      "source": [
        "**Here we can see, 18-29 years old adults more comfortable to buy on cash on delivery. Whether, 30+ years old peoples popular choice is bank transfer.**"
      ],
      "metadata": {
        "id": "Sw_lQ_jtPUV5"
      }
    },
    {
      "cell_type": "markdown",
      "source": [
        "**Q2: What is the correlation between time spent on the website and purchase amount? Do\n",
        "customers who spend more time on the website purchase more items?**"
      ],
      "metadata": {
        "id": "X8W0oZt9CunO"
      }
    },
    {
      "cell_type": "code",
      "source": [
        "corr_timespent_purchase = df['Time Spent on Website (min)'].corr(df['Purchase Amount ($)'])\n",
        "print(corr_timespent_purchase)"
      ],
      "metadata": {
        "colab": {
          "base_uri": "https://localhost:8080/"
        },
        "id": "flL0MZhpd7Vl",
        "outputId": "df99fbbc-5b9c-4f5c-c829-666644db0abe"
      },
      "execution_count": null,
      "outputs": [
        {
          "output_type": "stream",
          "name": "stdout",
          "text": [
            "0.01002480995875274\n"
          ]
        }
      ]
    },
    {
      "cell_type": "code",
      "source": [
        "\n",
        "fig = px.scatter(df, x='Time Spent on Website (min)', y='Purchase Amount ($)',\n",
        "                 title='Correlation between Time Spent on Website and Purchase Amount',\n",
        "                 labels={'Time Spent on Website (min)': 'Time Spent on Website (minutes)',\n",
        "                         'Purchase Amount ($)': 'Purchase Amount ($)'})\n",
        "\n",
        "fig.show()"
      ],
      "metadata": {
        "colab": {
          "base_uri": "https://localhost:8080/",
          "height": 542
        },
        "id": "90k_6dig8fWm",
        "outputId": "fb410352-10e0-45dd-c702-8d76e54506ae"
      },
      "execution_count": null,
      "outputs": [
        {
          "output_type": "display_data",
          "data": {
            "text/html": [
              "<html>\n",
              "<head><meta charset=\"utf-8\" /></head>\n",
              "<body>\n",
              "    <div>            <script src=\"https://cdnjs.cloudflare.com/ajax/libs/mathjax/2.7.5/MathJax.js?config=TeX-AMS-MML_SVG\"></script><script type=\"text/javascript\">if (window.MathJax && window.MathJax.Hub && window.MathJax.Hub.Config) {window.MathJax.Hub.Config({SVG: {font: \"STIX-Web\"}});}</script>                <script type=\"text/javascript\">window.PlotlyConfig = {MathJaxConfig: 'local'};</script>\n",
              "        <script charset=\"utf-8\" src=\"https://cdn.plot.ly/plotly-2.35.2.min.js\"></script>                <div id=\"303c9246-07a0-4fb0-82cd-bc9b32a95748\" class=\"plotly-graph-div\" style=\"height:525px; width:100%;\"></div>            <script type=\"text/javascript\">                                    window.PLOTLYENV=window.PLOTLYENV || {};                                    if (document.getElementById(\"303c9246-07a0-4fb0-82cd-bc9b32a95748\")) {                    Plotly.newPlot(                        \"303c9246-07a0-4fb0-82cd-bc9b32a95748\",                        [{\"hovertemplate\":\"Time Spent on Website (minutes)=%{x}\\u003cbr\\u003ePurchase Amount ($)=%{y}\\u003cextra\\u003e\\u003c\\u002fextra\\u003e\",\"legendgroup\":\"\",\"marker\":{\"color\":\"#636efa\",\"symbol\":\"circle\"},\"mode\":\"markers\",\"name\":\"\",\"showlegend\":false,\"x\":[44,27,9,39,17,54,41,46,47,18,53,12,29,30,53,23,19,50,33,39,17,55,50,38,8,12,17,34,17,11,58,50,55,44,33,18,24,31,8,20,48,13,45,44,26,8,57,51,19,49,12,49,30,22,13,25,41,6,12,1,43,10,21,42,44,30,51,30,55,3,21,22,32,2,53,53,18,2,55,46,40,6,32,5,25,7,10,38,43,53,2,55,40,11,38,39,44,3,34,11,3,11,16,49,30,50,55,9,29,19,21,6,5,34,54,24,27,31,11,13,7,32,52,15,34,3,12,18,8,20,42,25,40,45,41,29,42,10,59,52,7,33,33,28,44,41,20,5,46,38,36,47,59,52,33,47,55,10,6,59,56,15,34,6,2,42,16,56,53,24,50,58,37,20,59,33,43,37,14,29,32,6,7,31,35,37,29,46,3,45,53,22,25,31,39,7,51,39,4,5,37,23,55,2,49,18,6,30,43,25,48,23,47,36,37,12,3,8,27,58,6,21,17,39,45,42,31,1,9,13,11,36,24,19,19,50,29,32,17,51,7,56,26,38,2,50,40,14,51,37,38,40,21,19,48,47,53,11,5,40,52,1,50,48,2,28,52,56,7,27,31,55,59,56,2,33,5,36,40,18,32,53,44,3,56,28,46,56,49,9,34,36,57,45,41,9,59,42,20,59,44,35,1,33,50,45,16,49,12,48,56,27,20,47,11,49,31,19,38,57,10,47,56,12,45,35,6,32,30,16,24,58,39,16,9,55,30,10,45,51,57,4,45,55,37,11,39,21,4,31,54,31,36,5,32,33,14,58,29,51,29,34,49,38,57,26,20,8,12,2,28,52,30,53,38,33,26,4,14,55,14,42,17,34,45,30,17,38,51,19,57,12,20,17,31,5,53,54,34,42,38,35,52,33,43,39,47,15,5,4,4,56,22,42,29,45,45,57,15,47,54,48,7,26,33,11,3,44,35,33,54,6,2,52,23,46,39,13,36,1,14,33,29,33,40,16,52,17,13,7,45,56,15,6,50,29,27,58,51,20,28,48,3,43,33,32,48,3,48,46,23,34,16,59,14,35,6,41,2,40,51,32,7,59,8,19,16,29,24,56,28,1,10,59,28,24,16,49,46,42,45,56,55,41,36,31,52,43,45,20,34,31,32,24,46,33,46,21,55,30,51,45,7,39,2,37,32,13,35,42,27,31,22,34,14,15,12,40,32,56,32,59,47,19,25,19,30,9,33,41,36,1,6,36,8,17,45,47,13,27,59,46,2,44,26,59,1,24,50,25,30,35,54,41,14,27,9,45,6,38,41,47,51,29,19,34,6,46,13,18,4,50,14,44,22,37,25,26,15,48,54,53,4,35,30,7,58,41,50,4,29,34,29,24,17,57,15,6,34,17,30,21,15,29,48,54,1,31,22,26,18,56,18,42,38,8,40,10,24,18,54,17,46,43,3,43,29,5,56,12,21,26,16,55,45,24,6,35,34,59,5,2,23,57,3,19,18,11,48,33,55,54,13,16,1,48,55,56,33,57,19,30,21,54,49,53,20,1,5,34,4,2,8,16,49,16,35,54,30,40,50,58,36,1,50,20,29,23,2,17,14,16,12,40,23,5,22,31,42,16,11,53,28,24,14,14,43,48,41,18,23,30,13,16,56,47,42,17,43,49,25,53,50,46,45,42,43,30,16,35,10,32,10,59,2,54,55,57,47,12,50,37,39,55,6,17,11,50,52,5,50,56,39,57,50,15,54,8,6,44,9,32,21,51,16,36,29,43,40,25,31,4,50,45,9,52,15,58,16,50,2,15,13,50,37,16,7,18,41,42,19,30,2,52,1,46,1,56,52,17,1,16,20,1,13,1,59,19,22,36,5,20,56,50,27,49,56,54,41,57,46,27,27,9,8,11,6,28,55,1,59,43,55,11,52,29,25,11,59,59,1,12,5,29,27,34,30,52,42,23,35,19,2,30,16,8,35,6,8,40,25,38,17,55,39,10,37,44,42,42,4,20,36,50,45,22,3,25,58,2,9,35,5,12,22,30,7,37,10,18,46,35,15,36,31,46,56,11,23,7,8,58,49,46,39,56,24,48,57,10,1,34,31,25,15,47,59,18,57,20,48,35,32,5,43,40,20,19,37,13,59,49,30,46,56,19,18,37,28,58,13,42,7,12,58,36,54,2,58,39,3,4,40,7,49,15,40,36,5,49,1,4,53,34,49,58,37,57,23,17,31,34,33,16,49,26,34,12,55,26,58,23,34,32,18,42,55,21,56,14,10,26,12,36,47,3,38,1,35,39,53,5,49,5,33,36,5,25,56,43,16,37,23,20,12,40,53,4,45,52,36,39,31,21,41,22,7,32,59,37,19,11,47,17,16,36,28,45,16,21,55,39,34,36,35,33,54,25,42,29,54,29,43,24,38,10,28,37,49,17,5,4,18,9,57,49,27,17,10,54,48,16,28,16,35,12,19,9,23,14,23,23,8,27,6,42,7,49,28,28,50,19,21,10,26,7,49,31,54,5,8,10,57,34,36,52,19,53,36,58,36,7,11,25,30,47,39,53,26,7,26,5,11,22,53,17,1,15,9,3,41,58,29,32,54,58,52,46,14,24,12,50,44,4,26,10,56,6,48,17,3,54,9,10,35,16,45,29,18,15,51,42,9,32,11,38,27,42,35,59,58,32,25,44,22,27,55,6,42,21,40,9,32,17,37,45,54,37,25,12,19,27,24,57,24,44,32,12,28,2,32,59,37,17,16,49,17,27,47,57,55,40,16,11,1,55,23,36,16,25,27,51,37,19,33,6,4,54,25,1,34,9,11,26,30,29,58,29,21,17,1,33,26,44,29,6,44,35,50,30,27,24,37,30,22,17,30,36,3,37,11,32,16,12,41,55,19,27,2,39,54,43,7,33,39,8,52,57,32,5,3,18,8,35,26,22,20,31,51,6,33,33,30,36,27,48,17,7,27,41,33,32,17,12,13,46,13,21,44,47,16,3,33,21,18,46,41,26,16,57,25,41,23,51,50,59,9,25,41,9,11,26,58,49,12,43,38,14,44,6,1,47,4,39,22,22,8,35,26,23,19,51,7,40,25,54,48,30,21,29,17,30,13,42,16,59,16,26,3,58,58,4,59,35,55,46,37,6,41,4,33,43,11,25,5,16,27,40,59,49,23,4,45,33,29,8,37,30,41,21,55,16,25,22,17,58,57,49,26,16,15,34,28,13,50,7,55,16,18,32,19,2,48,59,18,33,39,23,9,9,36,55,15,28,27,4,54,45,55,26,26,33,9,12,43,24,24,38,24,37,50,15,54,5,23,24,31,36,32,59,50,53,24,30,22,29,18,21,55,54,46,1,17,48,29,28,6,6,5,11,3,13,17,51,35,39,30,23,13,13,28,3,29,9,54,27,59,21,27,27,44,23,3,47,14,56,40,11,5,12,9,1,10,3,1,28,45,25,32,7,19,51,52,50,42,59,45,12,3,43,5,59,45,12,48,45,35,54,58,27,4,5,31,2,59,13,47,30,51,26,51,40,40,50,47,1,17,19,18,11,51,46,24,6,22,7,18,32,26,10,53,55,35,7,36,14,50,22,26,2,49,16,56,38,10,57,53,29,35,44,15,16,17,16,16,8,38,56,44,45,36,49,5,17,58,59,27,26,12,31,14,46,26,46,37,19,51,19,18,26,18,30,18,9,21,28,25,45,18,25,24,30,2,32,9,40,6,41,8,10,15,15,1,38,43,6,27,45,47,48,18,7,47,6,3,6,37,38,33,53,32,12,5,50,11,50,47,2,33,56,46,39,49,58,16,43,20,36,33,29,57,36,37,42,2,34,50,59,31,35,6,43,14,5,48,39,33,14,13,35,32,42,52,52,54,56,39,38,57,35,28,27,7,27,11,14,34,42,51,15,42,41,35,45,6,21,15,36,5,10,15,7,31,4,45,52,52,48,48,11,45,14,8,15,48,41,21,5,25,51,16,48,51,12,37,9,57,12,10,10,21,17,40,59,28,37,34,51,7,7,17,30,59,21,57,32,22,42,46,32,28,22,25,8,15,21,22,7,24,36,2,2,23,32,47,46,42,45,41,25,25,25,51,41,18,40,44,51,59,54,24,51,17,37,36,22,36,32,58,16,30,50,9,58,40,12,43,5,6,28,51,49,44,40,5,26,1,6,53,55,56,50,45,30,13,52,53,2,19,36,31,4,40,9,33,51,20,50,37,12,51,39,36,18,20,42,10,42,39,32,54,50,36,9,55,57,59,17,3,41,50,12,38,2,29,37,7,40,3,33,58,32,59,25,4,3,41,25,11,48,48,55,12,28,34,4,15,20,51,54,39,35,54,54,49,27,32,35,40,10,24,41,46,36,14,21,52,13,2,13,12,30,7,10,1,26,51,24,58,8,22,9,40,31,59,41,11,50,42,42,52,21,4,30,51,34,26,55,34,24,15,8,41,7,48,39,5,18,31,48,27,10,11,6,14,40,57,3,47,6,20,29,46,22,48,17,29,29,45,37,47,43,44,48,28,39,35,20,56,59,34,31,48,19,13,5,26,41,50,34,6,45,17,14,37,56,32,50,5,8,35,58,29,55,39,36,57,14,24,11,21,1,9,56,15,22,52,17,23,6,28,18,50,14,38,53,39,55,33,46,58,49,24,53,13,55,1,10,52,39,30,1,59,26,41,33,10,20,31,47,30,33,4,22,57,35,7,1,3,44,36,38,27,3,54,1,16,31,8,35,32,47,37,49,53,36,2,50,20,35,50,45,7,46,43,8,48,16,55,29,49,33,43,30,32,27,42,41,13,11,39,42,15,48,43,35,33,9,38,57,12,59,18,49,15,23,49,16,37,10,9,38,57,17,6,23,59,43,42,35,7,9,8,38,58,42,3,19,1,12,2,34,24,47,20,47,23,46,12,57,18,58,13,27,26,58,21,52,53,29,46,19,12,50,55,22,24,1,56,13,23,9,26,52,54,12,44,13,13,53,50,25,29,19,5,59,45,53,13,2,26,36,7,3,46,40,34,27,57,6,38,2,18,9,12,21,11,2,20,51,35,33,8,28,29,33,15,38,49,27,40,32,7,12,11,24,48,38,13,27,49,27,33,11,41,8,35,17,35,18,24,3,35,40,5,32,14,51,38,3,16,34,37,7,44,48,54,20,52,23,44,3,54,53,18,33,44,54,27,51,44,15,48,43,36,35,21,17,33,5,25,59,42,18,51,27,37,19,51,57,10,36,20,6,25,58,16,11,36,47,9,7,7,58,20,29,7,47,16,29,44,9,44,26,27,16,19,16,57,38,5,13,8,5,51,47,24,48,27,31,2,21,28,58,28,36,38,22,23,23,53,33,27,27,31,36,44,7,35,36,41,48,52,39,57,20,21,22,35,24,48,2,56,48,54,46,59,15,53,1,45,34,36,24,17,52,33,22,44,49,16,56,3,23,5,48,25,59,17,13,49,50,10,16,57,32,55,29,6,5,45,10,13,38,30,40,11,43,1,45,3,13,28,13,44,30,37,34,25,16,9,28,52,45,46,54,1,2,29,21,56,5,11,32,34,31,34,2,45,26,28,47,41,42,17,59,55,38,37,47,40,42,30,37,22,49,35,52,20,27,28,32,22,10,30,40,4,5,2,45,21,19,20,56,18,11,21,51,7,38,14,53,41,18,57,17,37,14,2,16,10,24,31,6,56,6,30,21,51,52,28,31,22,33,54,58,46,36,2,57,4,52,48,53,49,21,26,10,7,51,16,14,39,24,56,22,35,2,42,4,22,12,24,54,59,8,6,47,36,51,33,37,30,56,29,58,13,19,42,50,30,11,4,44,25,47,13,2,34,46,20,9,29,58,6,53,1,31,23,8,40,29,43,3,6,37,57,27,59,18,55,52,20,23,2,22,53,30,33,21,42,46,39,12,33,29,47,34,18,8,19,58,47,19,47,10,36,34,59,25,50,58,36,48,17,35,54,53,50,35,39,5,1,19,33,42,46,19,41,1,27,8,21,41,53,40,26,11,2,27,45,38,37,34,14,32,33,30,46,16,59,53,21,44,31,27,31,26,4,35,6,8,22,43,55,1,13,55,37,53,51,12,36,9,34,40,24,46,28,34,36,9,47,12,56,17,53,40,30,28,55,22,29,57,50,47,54,44,16,54,50,30,40,38,14,46,42,19,27,9,28,25,18,29,6,52,35,41,7,21,44,56,13,4,22,59,34,49,51,49,31,50,10,55,48,27,17,22,6,15,25,20,35,7,21,58,49,32,34,23,51,21,33,1,2,52,3,5,9,44,42,31,14,25,10,28,43,58,56,14,7,7,33,26,13,16,16,29,11,51,38,36,23,7,15,35,1,58,47,56,3,55,59,49,55,33,56,27,34,39,26,6,10,27,52,21,17,43,52,15,31,43,53,58,49,9,59,31,23,57,58,31,18,36,58,14,47,45,16,53,41,34,40,25,20,56,16,16,5,52,7,8,46,19,18,4,21,28,31,9,33,1,52,12,56,40,50,17,10,25,6,11,4,33,9,6,25,57,59,58,35,47,36,6,16,27,39,33,16,50,31,15,33,25,33,31,20,20,32,33,24,44,4,50,49,6,3,24,44,16,23,39,5,36,14,10,51,57,8,1,28,15,2,44,14,31,15,50,32,7,1,3,16,1,58,14,27,46,47,21,27,52,11,17,30,44,56,39,54,17,56,54,1,21,44,39,21,3,49,13,26,49,23,16,24,52,25,46,18,42,59,26,25,36,43,47,37,3,39,42,25,5,27,46,1,53,54,56,14,13,9,57,39,40,27,23,36,3,38,59,43,57,44,9,50,41,5,30,43,47,34,38,12,17,8,33,2,59,11,43,35,43,35,2,37,20,11,46,34,4,34,15,32,21,35,1,22,53,36,22,57,7,26,29,58,55,45,19,15,23,15,39,11,22,43,45,38,38,28,56,32,14,59,24,54,26,2,59,8,25,22,23,1,54,57,34,12,54,17,25,52,31,47,57,15,43,3,38,28,10,2,37,33,55,23,52,56,42,25,14,37,8,12,42,41,48,48,10,51,8,53,10,36,40,14,34,38,4,48,38,52,3,28,14,50,50,35,33,17,42,43,14,11,11,59,7,27,12,29,4,23,51,37,8,2,22,23,49,52,53,24,18,12,52,4,47,24,32,10,15,41,19,12,23,3,1,18,50,2,2,44,12,57,35,28,37,20,54,14,48,12,59,55,45,40,46,4,40,10,14,8,23,40,42,58,4,35,54,46,55,58,32,52,48,59,49,3,1,36,41,39,34,50,39,26,33,41,30,16,48,48,28,39,3,15,19,2,6,6,46,12,49,53,57,55,36,23,50,25,14,15,10,22,13,11,40,23,7,43,37,26,2,23,6,53,44,41,35,20,33,37,9,26,45,37,55,38,49,30,50,45,38,6,46,15,24,17,3,8,35,9,48,31,24,19,16,57,28,29,21,53,29,45,11,43,4,18,40,7,7,5,39,32,31,39,14,55,19,39,10,33,10,10,26,7,11,23,39,16,41,38,23,37,52,6,52,6,47,56,9,5,44,40,36,50,50,3,29,32,39,40,46,2,24,27,59,14,13,55,6,11,42,39,33,16,24,6,56,16,34,15,35,24,43,8,14,36,16,7,5,3,9,19,37,19,13,47,42,1,25,27,32,40,6,16,30,25,13,22,2,10,21,35,58,23,57,46,24,47,36,53,34,9,41,49,25,23,27,39,39,1,9,27,13,35,49,27,8,37,2,37,36,22,58,7,4,45,30,18,49,49,52,52,59,15,17,40,39,38,25,59,25,37,14,31,34,51,58,41,47,59,18,31,55,51,12,40,58,37,4,30,55,30,28,21,55,26,31,58,15,8,10,10,53,26,36,9,46,16,52,10,38,5,32,33,37,24,7,25,9,17,48,26,44,4,44,53,38,27,20,24,25,28,48,23,44,22,53,14,59,46,25,6,23,50,36,4,22,15,58,6,49,34,15,12,30,20,25,53,17,50,4,26,58,36,21,9,22,5,6,19,4,12,18,52,33,22,40,56,33,44,20,44,56,8,59,23,30,48,19,27,52,12,29,44,12,52,4,22,31,35,7,56,32,50,39,47,35,17,11,41,46,46,36,43,43,21,53,34,54,11,34,6,32,11,41,25,23,59,53,30,31,23,21,26,15,36,4,59,3,28,15,1,32,58,14,41,50,25,3,58,10,28,32,5,39,26,28,40,51,53,57,42,23,32,33,29,1,38,13,51,42,13,31,58,3,17,12,20,45,11,48,11,51,14,57,38,47,50,40,36,47,52,35,50,20,26,1,3,19,41,23,44,35,51,44,24,36,11,25,16,26,2,58,36,29,27,40,2,14,54,49,31,48,54,1,40,49,2,43,20,22,12,36,30,47,39,27,44,26,43,11,43,8,38,14,21,56,19,42,14,54,46,39,28,43,47,12,47,24,5,37,19,29,41,26,28,5,29,53,51,18,17,25,1,53,40,56,45,41,55,26,53,16,41,47,11,42,23,26,3,24,25,35,22,54,18,25,33,36,33,30,8,15,8,35,30,56,44,30,50,5,59,4,44,8,17,7,42,19,9,4,1,49,48,34,28,12,47,26,26,19,51,17,17,12,8,50,9,42,52,13,46,3,35,14,53,51,5,21,29,15,37,3,48,24,35,45,45,41,12,6,10,24,19,4,29,20,16,53,6,54,3,12,54,52,53,49,14,8,26,2,4,23,5,32,48,50,18,42,57,59,16,12,27,53,1,50,35,59,47,21,3,40,24,42,2,53,56,17,59,22,53,31,59,5,55,3,57,29,23,53,35,47,36,58,10,3,57,22,19,53,10,48,8,12,20,28,44,5,49,18,44,35,30,34,25,24,29,22,15,57,44,34,58,29,52,39,30,47,43,29,34,25,51,53,48,27,29,31,11,48,33,59,12,24,21,46,2,47,23,22,46,41,50,45,23,33,1,42,8,53,55,22,47,49,31,22,21,44,31,24,20,58,51,34,54,9,14,25,28,52,15,10,34,6,31,46,25,20,49,56,3,39,50,56,57,30,2,57,12,46,33,32,54,10,6,31,49,10,20,26,58,19,18,54,55,47,49,32,44,43,38,39,53,42,39,45,51,8,45,47,14,59,17,29,8,47,41,44,36,12,3,38,34,44,25,55,18,5,44,27,24,22,36,2,58,11,33,12,9,56,25,20,58,17,42,54,12,45,37,12,32,32,37,39,57,19,28,37,52,53,55,59,10,26,19,48,49,52,44,43,48,29,52,42,42,21,24,28,5,41,6,28,10,43,7,35,55,33,7,49,52,37,2,4,37,39,41,23,50,40,52,38,28,38,8,14,15,26,25,39,28,31,37,25,51,1,23,56,8,31,41,20,54,28,32,37,35,37,53,24,23,45,26,27,39,25,27,20,3,37,24,19,57,31,24,53,47,11,38,27,33,17,19,12,19,47,43,18,57,49,35,50,57,23,7,5,28,6,54,9,17,16,54,43,49,58,44,35,38,23,17,45,55,10,9,22,58,45,33,16,31,10,6,51,25,35,16,59,17,4,51,15,8,18,16,41,21,12,37,19,56,8,37,16,1,40,51,9,53,50,42,30,56,58,6,42,45,58,57,18,12,33,14,29,37,48,13,30,4,54,23,2,17,44,3,10,39,39,38,36,34,38,43,27,17,7,21,55,22,12,7,4,58,50,50,20,8,9,59,40,46,48,33,17,6,49,7,8,32,23,15,43,11,48,46,56,26,7,36,32,32,15,8,9,34,39,45,14,47,17,7,32,52,47,3,12,35,45,55,16,32,31,7,43,4,59,5,54,13,32,55,49,36,22,2,41,37,43,24,17,13,23,50,40,53,6,45,7,21,55,35,5,25,49,38,37,27,47,3,18,21,46,44,27,35,41,56,36,43,40,7,39,52,33,43,56,37,29,34,31,21,50,30,6,53,56,20,1,32,30,23,33,46,10,34,21,58,7,18,29,19,58,44,35,36,52,32,31,45,14,17,43,52,3,44,12,3,15,15,27,49,44,5,27,46,1,49,13,32,36,56,17,44,51,51,34,23,10,3,45,27,16,24,7,35,19,5,40,37,26,20,57,17,2,15,52,49,46,23,10,47,45,2,15,15,25,17,58,15,53,35,54,56,43,43,45,28,49,59,37,53,44,33,31,53,19,57,24,44,58,51,44,3,48,46,1,37,10,5,32,19,7,16,25,59,15,24,25,10,3,10,38,13,39,48,12,11,23,31,31,29,37,3,58,33,55,21,28,16,54,36,37,16,58,25,37,5,23,47,59,3,35,53,4,34,41,33,47,36,30,57,3,59,46,22,9,14,37,39,6,21,23,56,32,43,34,45,49,20,43,5,24,15,42,16,39,17,1,39,37,59,50,57,14,6,51,57,29,36,4,35,21,54,53,28,34,20,32,30,43,15,44,24,23,26,40,36,29,36,9,7,49,2,21,10,31,39,56,58,7,37,35,7,49,36,57,50,52,49,39,48,55,53,50,1,42,22,10,25,33,31,39,28,38,55,17,18,11,9,28,55,38,59,6,19,51,37,5,27,36,35,46,30,47,43,10,18,38,21,50,16,52,28,3,50,8,57,20,12,33,2,27,44,17,16,38,37,45,54,24,20,38,32,24,35,55,15,52,51,2,37,5,50,15,21,3,8,51,17,25,44,20,27,36,38,21,38,49,40,26,36,42,31,17,6,30,48,34,8,35,22,5,33,34,55,28,24,25,57,21,3,57,19,51,31,15,53,30,10,14,35,30,13,50,24,23,53,6,17,17,18,42,27,15,33,7,55,14,3,16,17,27,58,1,32,1,46,54,8,1,11,32,1,1,47,28,25,49,3,47,11,34,12,55,14,35,43,5,59,12,8,40,42,15,9,16,4,31,14,53,50,49,46,57,3,3,16,18,56,44,24,27,35,20,9,46,13,53,10,49,33,21,43,51,35,53,50,23,32,56,36,29,46,6,35,47,18,46,54,24,20,40,4,4,4,21,52,45,37,24,47,21,52,58,3,43,44,55,21,27,43,4,13,2,15,37,48,5,25,22,4,56,45,21,53,31,32,33,55,33,32,42,47,45,15,45,38,22,5,21,23,7,30,28,20,18,12,12,50,40,53,31,1,22,12,48,51,42,27,11,55,5,41,52,40,40,6,8,38,51,5,36,14,38,57,18,47,43,6,21,21,14,51,43,24,45,38,12,52,32,53,5,13,13,59,18,57,8,40,18,46,48,48,56,20,14,10,11,9,11,15,35,53,44,4,49,58,56,26,3,19,17,25,1,58,2,26,50,34,2,7,22,4,5,39,30,57,1,16,8,10,6,47,2,40,30,21,42,26,51,15,13,22,55,14,12,34,11,20,42,31,30,21,4,34,43,33,22,44,35,34,36,28,3,49,29,43,50,16,28,40,47,41,38,34,33,22,47,41,5,23,11,38,31,7,39,18,50,34,30,58,9,5,8,11,23,12,56,37,57,17,2,26,2,34,4,41,2,27,21,3,1,10,3,9,29,57,49,51,42,24,32,24,46,51,36,51,17,31,26,25,23,41,10,14,12,19,43,35,23,18,1,15,42,56,4,28,49,24,25,50,59,1,37,8,31,49,42,41,34,41,18,57,53,14,21,3,57,42,40,42,8,44,42,2,41,29,40,35,54,37,28,57,27,12,39,22,23,56,24,36,9,51,11,48,2,11,19,33,46,6,43,21,38,23,10,58,17,58,20,45,24,27,30,40,14,46,43,35,18,46,4,16,49,46,50,39,40,13,41,18,21,51,21,5,30,3,8,14,33,47,36,31,1,15,28,9,22,57,55,54,12,25,10,35,10,48,34,54,9,45,54,6,42,15,27,5,24,28,6,36,27,31,11,23,44,28,29,55,1,54,36,15,58,12,8,26,12,3,36,49,6,50,6,21,23,16,47,5,2,59,24,3,20,54,22,5,42,16,44,34,15,32,26,47,6,24,50,52,49,23,19,33,47,53,28,36,35,14,4,33,46,51,11,21,54,4,31,40,21,56,6,38,46,39,38,49,43,34,18,57,19,49,55,44,45,22,56,8,45,49,57,26,48,6,53,13,59,11,35,35,47,10,13,4,2,5,45,35,30,32,5,51,23,10,30,51,32,21,21,45,29,21,39,37,43,46,57,48,49,42,59,1,53,6,15,57,18,34,33,50,38,12,10,53,35,46,35,51,25,44,28,4,16,54,51,30,26,6,11,15,47,11,30,44,23,46,2,13,41,52,1,13,23,55,58,42,26,3,14,13,57,38,51,6,29,13,50,49,39,45,44,39,3,44,42,9,49,27,4,53,36,58,18,8,8,52,42,18,36,11,38,20,47,12,16,36,30,25,55,31,42,6,37,48,33,26,9,53,18,26,10,31,15,7,55,39,5,5,23,21,9,23,34,43,30,52,27,29,44,59,32,38,40,43,29,33,25,25,16,15,40,56,43,37,43,4,32,2,56,40,57,50,39,24,51,11,42,6,53,9,41,27,17,54,57,15,46,19,6,53,26,55,40,19,30,13,16,17,2,23,41,38,58,46,24,40,48,57,8,21,36,46,24,56,18,37,17,27,1,45,34,24,37,27,19,43,27,17,42,9,49,51,13,7,52,34,49,20,5,49,20,41,2,53,26,39,54,17,17,4,53,1,30,37,46,17,19,35,43,9,50,27,29,30,10,5,34,29,33,14,12,1,46,9,3,39,15,39,17,39,58,58,27,8,52,36,32,43,14,18,38,24,35,2,17,58,57,24,27,25,24,7,17,4,7,10,33,30,39,42,47,36,29,49,17,8,11,29,29,34,54,27,29,52,42,36,55,2,1,48,10,52,50,31,13,44,57,37,26,44,2,28,4,23,22,57,41,28,34,1,41,51,18,29,35,21,58,6,24,31,3,7,51,49,32,37,40,3,59,20,58,51,14,18,15,13,48,30,25,44,42,14,30,30,33,48,48,30,51,17,49,44,7,45,36,28,10,50,55,12,45,6,39,3,20,34,31,33,18,28,20,41,37,20,36,39,11,52,30,46,55,55,14,24,3,14,22,22,58,10,6,39,46,52,46,36,44,23,5,25,7,20,3,17,14,23,50,18,47,1,31,32,46,33,38,8,35,3,35,7,9,23,24,52,7,51,27,36,5,31,3,18,8,20,23,28,18,49,13,51,35,4,5,32,7,9,11,3,22,44,47,21,42,18,5,50,28,39,21,33,12,43,2,7,40,6,40,45,12,26,8,3,21,34,49,18,4,13,33,28,10,33,13,14,16,10,28,35,7,43,31,57,44,31,26,56,28,54,26,43,14,11,28,5,7,29,2,49,7,21,9,53,23,29,37,43,49,11,2,13,28,5,36,18,11,46,21,48,55,41,31,11,57,58,51,18,7,24,21,35,32,45,20,10,4,57,5,10,11,51,46,19,48,47,6,41,25,6,45,17,22,42,59,24,55,54,50,30,8,33,7,35,13,51,3,5,48,24,15,26,23,6,50,19,7,59,25,6,42,13,21,38,41,1,6,57,37,34,40,5,7,27,34,10,55,12,25,14,46,38,17,9,9,58,1,31,57,27,43,2,50,59,46,49,45,33,4,57,24,41,52,41,37,54,38,16,44,21,59,28,10,42,48,55,17,36,21,50,14,27,20,43,48,34,32,56,6,8,37,32,19,25,2,8,58,44,20,38,22,49,9,51,28,17,26,59,20,5,35,21,49,29,35,10,2,17,28,10,40,1,34,25,54,5,39,5,30,20,32,45,4,50,32,42,48,31,45,1,42,19,24,2,4,25,44,11,34,41,51,16,11,16,55,18,37,52,49,49,7,5,40,13,57,52,40,18,23,14,36,44,40,16,11,45,47,10,58,12,34,32,39,17,45,31,54,19,33,6,40,12,57,31,16,48,54,57,24,47,10,30,50,49,8,36,15,22,10,1,12,39,16,36,48,51,18,4,38,5,5,14,33,24,22,8,13,31,54,31,18,44,5,36,19,56,42,39,2,25,54,53,19,58,5,39,59,26,17,8,16,16,35,2,22,44,6,41,53,55,27,21,30,54,11,36,6,50,9,9,18,58,16,48,22,6,24,28,9,11,50,43,29,36,10,31,34,47,36,41,28,1,57,58,24,44,32,47,1,1,7,17,23,58,45,33,58,20,2,17,33,13,25,19,14,18,15,44,50,10,35,23,51,27,35,26,38,6,47,51,1,1,44,52,57,56,39,18,46,46,4,28,40,1,57,36,2,41,52,24,14,39,54,16,6,26,40,52,12,45,36,21,2,55,43,58,53,11,56,1,15,39,38,39,39,25,4,54,21,41,35,29,52,57,29,44,16,23,36,53,49,22,25,47,58,49,17,16,54,5,19,42,1,23,23,51,38,39,46,59,20,38,17,4,31,39,1,9,44,2,54,13,38,27,14,10,42,2,55,16,8,54,39,10,59,5,29,5,11,39,54,42,51,5,19,6,13,57,40,50,41,24,31,13,52,34,23,1,34,36,11,17,14,59,49,45,38,46,50,3,56,16,17,56,12,27,44,7,33,27,29,48,45,28,6,50,6,4,7,1,12,29,47,4,13,45,22,31,25,7,56,18,27,49,51,29,53,13,23,3,55,40,14,48,20,12,38,58,44,20,40,34,27,21,13,31,25,50,43,40,36,21,36,10,30,58,9,18,25,10,27,17,30,3,50,26,6,51,26,50,7,12,20,12,44,32,3,7,19,9,38,28,10,10,34,52,4,53,45,14,3,36,16,34,26,47,45,43,2,27,43,25,46,13,2,21,16,59,44,8,46,10,26,11,25,6,9,57,49,31,19,2,20,26,30,13,7,4,19,56,50,51,20,30,2,6,23,52,5,4,13,14,59,29,57,38,49,50,30,4,18,52,14,51,27,12,13,11,48,26,52,23,21,27,50,56,5,1,49,17,14,22,39,54,46,44,14,30,46,8,50,13,41,9,20,16,5,2,14,55,20,15,26,24,24,2,41,56,22,52,44,39,43,13,55,57,14,51,51,4,58,51,23,59,17,23,30,35,52,19,58,43,1,54,27,5,10,4,12,6,43,12,26,52,44,31,43,55,9,21,37,17,25,34,58,23,12,15,46,54,53,33,39,5,46,22,50,19,25,47,12,33,55,53,58,18,37,35,15,40,59,58,4,10,51,47,34,34,23,25,46,38,3,32,51,20,51,6,30,54,48,25,25,37,56,43,1,29,54,59,11,8,16,28,51,27,2,49,8,47,51,19,44,28,14,14,31,10,22,1,11,19,57,41,33,49,3,13,22,41,10,8,2,42,48,8,58,3,31,59,31,38,20,43,15,14,12,12,14,48,12,52,43,39,43,19,22,59,54,6,51,38,16,4,16,47,24,42,31,59,44,48,34,58,37,25,46,51,25,43,24,33,52,12,59,40,44,41,43,29,9,19,59,50,40,26,5,45,53,23,23,41,30,31,42,29,14,28,16,59,42,3,53,56,38,36,54,28,12,50,48,31,8,15,46,43,51,3,53,58,3,46,59,4,10,31,14,31,1,4,26,59,14,47,42,47,30,24,19,29,29,23,57,19,33,55,5,4,31,56,36,1,18,54,59,31,57,8,11,38,57,19,1,20,9,59,1,21,3,5,5,6,38,29,33,12,47,9,59,42,11,24,52,20,19,21,4,16,30,55,26,59,24,10,9,48,13,52,47,32,46,27,22,51,30,9,40,48,1,20,15,3,46,34,43,21,34,34,12,59,7,9,17,40,3,47,28,19,23,12,26,49,15,19,34,15,55,32,14,19,35,18,25,39,49,49,50,39,44,27,49,44,40,27,41,20,35,34,21,4,53,18,36,33,48,9,36,21,27,27,55,38,21,21,20,42,39,8,23,3,30,22,13,55,5,10,29,30,26,38,40,26,4,25,18,38,39,4,50,17,3,25,13,48,25,1,42,53,48,4,41,7,47,26,50,24,39,23,55,37,34,35,14,31,46,7,46,59,15,2,47,5,10,51,3,47,33,25,48,22,58,37,21,55,39,2,51,14,38,19,2,31,11,7,14,5,17,45,44,26,59,4,4,23,57,49,18,49,6,26,57,57,41,20,46,7,6,18,22,7,11,17,58,47,14,12,50,56,44,29,2,23,35,28,3,17,43,42,38,29,44,42,51,40,25,22,35,46,33,33,12,5,25,53,42,9,30,44,41,21,5,24,17,21,22,10,39,32,5,29,13,15,50,10,35,30,24,27,38,20,24,31,43,40,44,46,32,59,27,32,2,23,12,38,30,43,30,46,30,15,25,56,56,58,54,20,7,39,35,43,49,15,45,32,13,30,41,57,24,39,58,55,45,15,7,9,15,14,5,43,2,46,45,46,12,54,59,21,26,46,21,31,57,10,13,17,20,39,16,6,56,41,54,34,35,32,22,58,5,4,20,23,12,13,47,53,52,52,59,38,19,25,51,49,25,33,49,8,29,44,58,47,16,23,51,42,32,44,11,11,2,47,50,29,38,3,37,1,44,16,47,30,13,35,29,36,16,8,56,59,58,11,43,18,25,35,34,10,15,8,41,49,49,9,20,12,36,17,52,34,49,16,48,45,7,2,33,54,58,20,22,41,41,51,33,14,45,24,15,11,41,54,26,47,42,26,59,2,41,20,58,31,7,59,2,39,20,48,35,12,44,27,10,55,19,31,57,19,14,2,27,11,23,22,50,1,11,10,49,24,33,23,18,2,50,32,21,30,26,28,36,22,28,51,3,13,29,41,5,10,31,40,1,13,30,39,37,58,5,10,50,53,41,31,46,18,7,4,48,56,49,6,42,8,20,25,56,8,34,25,40,33,32,53,16,46,24,39,7,28,57,23,18,10,4,31,36,33,46,6,31,34,17,33,7,25,51,23,5,45,23,49,21,6,3,15,28,42,41,4,51,46,54,58,8,18,25,15,35,43,31,33,23,19,16,18,58,12,45,21,28,17,54,40,34,4,36,19,13,38,30,41,8,11,29,30,24,11,40,5,49,59,37,16,12,31,42,46,31,46,7,40,55,6,6,51,24,25,43,26,58,14,23,21,20,42,17,5,41,52,6,1,56,30,59,29,39,43,46,5,25,57,21,34,26,36,6,44,53,43,16,41,12,56,31,10,13,26,51,9,2,33,12,11,23,2,11,49,29,8,41,2,36,29,53,11,35,16,17,39,23,19,45,8,31,12,23,2,51,27,22,42,22,39,33,15,22,24,37,3,30,24,32,30,34,5,27,43,28,16,42,21,35,21,51,24,54,58,49,53,27,50,5,43,47,18,22,45,8,2,33,8,20,27,57,16,28,30,39,5,54,18,58,57,51,20,7,35,15,33,2,40,13,41,20,52,42,49,55,10,47,44,56,8,12,21,1,5,37,59,14,5,27,19,42,43,2,25,39,47,3,36,49,26,27,28,26,19,49,24,32,1,19,10,3,25,57,8,51,54,13,7,25,24,40,22,35,51,11,45,13,25,27,49,32,14,50,22,56,33,12,2,34,58,23,21,27,42,37,22,15,24,24,38,34,45,40,41,16,58,3,54,1,25,43,22,21,26,34,3,15,3,51,34,13,20,38,17,24,35,26,58,34,11,59,17,40,47,1,18,38,1,30,41,53,3,31,5,5,48,1,42,15,17,7,45,41,7,14,17,49,9,39,8,2,47,12,8,58,22,21,44,36,10,58,26,5,33,3,34,19,34,34,27,5,55,13,22,17,38,7,1,28,32,26,50,44,57,16,43,41,47,22,11,38,43,25,13,16,51,46,35,3,9,47,11,38,16,24,37,34,46,9,40,41,52,21,9,9,51,21,29,16,45,49,49,7,30,35,1,25,2,25,5,20,57,2,9,10,44,44,27,46,4,22,11,49,13,38,42,30,18,45,15,1,44,18,6,47,37,6,51,33,3,31,9,13,35,45,13,37,47,4,33,23,35,51,57,34,11,19,54,47,30,6,15,25,34,37,15,6,50,59,15,1,45,6,21,11,33,57,53,2,59,45,12,58,7,5,36,34,37,8,8,24,33,7,25,15,27,16,45,27,39,31,39,31,22,52,4,47,23,23,58,48,49,5,41,30,6,2,12,27,51,37,40,43,19,12,19,36,35,24,54,34,57,28,12,36,40,14,21,21,6,42,44,34,27,55,49,43,10,39,18,37,24,26,36,53,7,42,54,59,50,1,5,7,20,23,28,24,31,56,40,28,52,58,40,29,29,30,47,50,49,4,23,46,22,51,40,25,1,3,7,35,46,57,24,5,52,50,28,4,39,51,56,3,31,36,37,57,57,4,43,49,41,49,54,4,55,40,49,7,49,18,9,35,55,30,59,55,44,2,8,9,51,47,19,19,16,53,11,25,35,18,5,23,30,15,46,10,30,14,35,8,5,23,32,13,9,39,7,28,56,28,4,12,47,47,45,4,50,20,2,17,31,20,41,44,50,46,25,21,28,15,10,58,28,41,18,39,34,13,11,11,40,48,51,36,37,33,4,18,17,34,13,36,39,44,5,57,40,25,38,32,3,43,40,28,11,3,3,57,31,1,25,47,19,46,38,23,58,38,42,24,1,17,20,27,37,5,48,45,59,51,5,5,4,23,23,22,1,43,48,45,7,43,56,39,40,20,56,38,28,58,35,12,49,48,23,6,36,57,14,27,37,21,34,35,18,4,52,40,29,5,2,40,30,52,38,20,52,58,53,58,21,36,44,15,10,37,32,48,18,28,30,59,55,2,18,59,3,48,20,14,22,33,18,9,15,58,34,13,13,38,20,25,29,43,46,1,53,50,5,43,13,56,42,18,19,37,51,17,26,17,51,43,25,37,20,32,50,26,23,44,55,15,57,13,47,12,41,44,58,57,8,39,57,29,45,1,32,36,45,58,26,57,30,51,10,39,27,34,53,18,12,20,52,13,35,44,1,32,54,13,24,28,38,15,58,34,13,48,36,30,38,32,37,14,14,25,26,12,59,3,31,37,53,11,38,12,15,57,7,24,9,51,47,29,35,40,11,20,33,40,25,26,41,48,52,35,33,27,2,59,18,32,17,53,34,12,30,5,13,11,23,57,41,15,51,12,5,54,22,17,45,56,3,16,49,19,46,58,30,11,23,13,36,44,38,55,18,31,28,40,39,47,1,8,15,3,23,14,33,10,1,59,40,55,57,8,21,30,50,12,1,22,57,49,55,17,9,39,24,17,43,53,27,49,13,8,37,25,15,49,54,55,26,5,44,10,7,4,27,24,30,31,23,25,57,30,47,6,45,3,15,57,24,41,38,49,23,58,23,51,6,23,8,12,33,19,41,10,7,49,2,8,52,26,22,12,26,6,34,39,24,5,4,14,27,6,15,19,15,8,36,14,58,38,55,6,6,22,17,52,32,13,58,12,46,43,9,22,39,5,30,56,19,51,8,14,21,38,47,12,1,54,23,54,22,9,4,51,55,6,8,23,59,51,43,21,22,36,20,56,59,41,14,38,36,3,3,10,40,10,27,45,39,50,46,18,16,50,5,51,15,18,29,57,5,23,25,50,24,8,46,55,34,35,12,50,15,26,39,59,34,28,27,11,26,6,47,6,25,59,42,37,28,47,21,46,51,51,23,46,19,6,21,28,50,36,10,33,46,8,13,2,41,25,29,4,25,33,27,15,44,43,48,4,48,5,47,54,21,35,7,51,7,35,47,2,51,35,11,31,37,54,57,14,36,34,33,37,3,7,51,42,51,59,39,39,22,20,48,56,52,8,25,35,4,52,42,36,1,48,34,30,10,2,38,3,51,36,36,50,58,38,43,58,32,36,54,5,40,39,9,43,13,52,38,9,20,15,21,42,17,20,48,36,12,7,27,53,28,25,48,42,40,31,23,8,44,21,13,6,25,39,41,54,8,44,24,53,32,35,52,49,18,37,30,47,58,28,5,49,31,40,38,15,52,25,25,27,40,18,37,52,38,40,8,6,35,9,22,37,47,38,20,49,32,35,29,8,19,32,15,30,51,7,34,50,44,26,44,49,43,59,11,27,14,23,16,54,35,22,19,48,44,6,34,6,53,29,36,35,41,40,27,33,58,51,45,1,3,29,43,51,21,9,49,38,16,44,31,33,16,17,30,25,21,51,8,24,57,4,39,49,37,3,50,20,44,19,31,56,22,35,28,4,20,35,41,52,10,44,40,28,36,28,50,34,17,3,12,4,13,58,54,24,54,6,33,8,20,35,13,11,45,4,28,52,39,58,8,15,21,26,51,43,9,28,58,24,18,19,1,59,43,32,15,58,42,50,20,57,36,53,58,14,38,46,20,24,21,49,53,56,55,45,54,7,19,44,21,50,49,34,57,53,12,9,28,4,59,1,31,8,41,15,37,28,45,6,29,16,1,49,50,26,20,42,6,10,13,25,6,37,36,34,32,53,2,4,34,6,39,27,39,8,3,37,47,46,9,55,9,30,36,15,41,27,25,16,46,53,20,36,27,34,25,30,12,1,28,38,36,42,33,19,45,42,9,17,20,26,19,56,14,31,44,46,33,46,31,20,26,27,45,7,6,36,44,13,32,2,39,21,41,32,50,17,6,14,46,53,35,5,59,37,6,52,56,45,56,17,4,27,6,43,26,38,58,52,21,17,10,21,32,38,31,14,28,55,55,26,51,5,32,28,12,14,7,29,59,6,57,4,31,30,34,30,37,11,6,58,5,53,31,56,46,59,5,51,5,12,6,14,32,32,47,37,27,17,19,39,50,55,35,9,35,58,20,2,40,19,29,49,32,24,47,19,27,36,59,9,42,30,12,41,28,14,46,53,58,30,29,51,28,49,57,54,47,31,20,1,18,1,23,42,11,53,9,53,28,7,24,4,28,19,30,10,39,25,11,50,43,47,24,35,26,2,28,46,58,12,35,51,35,22,32,1,37,10,56,39,22,42,20,35,5,17,19,25,56,46,37,29,1,18,58,8,51,49,35,56,45,24,31,19,17,5,41,11,15,28,46,23,25,10,27,12,10,41,17,44,5,18,39,35,28,38,21,24,59,16,36,7,1,46,53,56,59,45,28,51,36,44,13,24,23,31,39,15,44,41,52,30,40,10,34,22,18,51,37,3,8,24,4,50,28,6,51,39,34,40,14,53,34,31,54,58,50,41,4,54,14,5,20,8,24,4,18,23,1,54,52,51,14,56,39,30,54,47,33,20,53,56,37,27,4,54,9,27,22,19,9,46,6,40,1,26,24,31,53,54,26,47,24,5,24,34,5,32,7,1,42,17,11,33,29,24,37,42,53,56,46,27,31,39,40,33,21,59,40,58,26,28,56,28,27,2,48,29,23,24,46,11,32,15,40,39,7,1,12,44,9,14,26,36,39,3,3,34,28,47,52,29,51,3,57,23,35,26,49,46,33,58,43,27,44,22,24,22,50,22,19,4,45,18,25,1,2,43,16,24,33,6,27,46,4,17,30,30,19,38,2,23,26,26,25,22,57,2,8,48,57,47,4,44,44,11,45,29,48,23,22,28,24,53,41,31,45,16,55,2,16,31,13,46,46,8,45,25,30,11,3,42,51,45,18,22,22,41,9,10,10,6,33,7,57,58,6,18,19,53,21,55,12,35,23,54,43,33,30,54,56,34,31,6,16,7,51,45,1,49,59,10,22,29,15,1,21,37,51,19,32,39,4,20,5,41,37,37,33,2,10,17,15,39,13,7,15,2,21,20,55,16,53,16,40,36,4,28,32,5,13,21,22,11,34,8,25,27,47,56,15,52,14,53,43,57,58,7,37,14,51,58,32,23,9,59,40,57,57,6,8,6,39,56,30,2,26,12,26,43,56,52,29,19,19,42,11,44,23,4,29,18,52,14,37,47,24,59,31,10,44,46,35,45,54,32,9,5,40,22,32,16,14,58,44,6,54,38,16,54,39,26,44,47,9,5,8,19,27,58,23,26,41,20,20,51,16,23,57,13,53,6,9,31,28,5,4,28,57,44,53,22,34,54,48,15,58,14,4,34,54,29,54,50,34,11,9,32,9,46,2,16,14,46,17,16,27,8,42,22,1,8,39,53,21,35,27,37,4,10,18,50,32,11,1,58,57,10,20,19,31,40,57,57,37,2,1,24,43,20,1,35,36,36,47,54,12,23,53,54,47,4,36,14,13,2,35,28,28,22,2,7,45,10,2,53,4,18,13,35,23,29,36,56,28,16,11,42,28,28,33,38,11,18,22,54,22,10,16,35,4,15,59,29,9,25,19,7,1,9,4,26,4,18,38,51,22,56,39,38,25,4,53,7,31,59,16,44,21,11,46,59,8,38,28,32,39,42,57,55,26,9,10,38,8,29,10,42,36,39,1,2,39,28,53,42,34,36,22,29,53,15,8,5,25,2,18,18,15,30,59,46,44,46,34,35,3,4,47,2,35,29,29,13,40,48,13,8,42,6,16,49,50,12,50,35,49,9,8,10,45,47,44,39,9,39,28,30,53,35,16,20,29,52,52,39,56,54,9,32,2,17,3,44],\"xaxis\":\"x\",\"y\":[202.54,655.94,963.65,485.59,143.27,755.39,866.41,103.12,924.58,184.64,857.99,303.27,119.04,176.72,703.85,595.08,920.47,375.84,142.97,68.13,195.74,252.68,847.11,39.89,143.18,597.65,997.24,641.47,593.02,141.8,678.83,790.16,583.35,657.74,614.48,438.99,91.03,230.91,606.23,923.75,203.53,376.96,430.88,200.68,991.82,111.43,107.93,12.17,298.73,142.52,575.73,766.78,397.68,735.56,244.47,118.39,821.27,107.56,660.91,506.91,272.54,311.86,813.59,115.41,746.16,916.76,338.05,315.82,877.38,812.89,930.49,840.57,624.76,552.49,901.52,476.66,556.03,239.89,970.11,886.57,853.6,965.35,37.5,595.98,983.2,868.12,655.56,74.3,590.01,229.53,645.49,240.91,336.58,401.81,999.71,744.08,766.59,810.84,760.39,567.0,416.95,191.22,191.69,213.17,313.77,87.86,310.39,39.53,320.14,352.42,465.44,305.17,473.33,915.87,34.31,405.79,537.15,825.23,254.59,707.37,859.08,174.66,765.5,419.05,844.87,955.03,55.08,670.06,707.59,468.33,215.73,32.41,24.21,394.34,948.57,666.97,379.95,167.13,748.28,23.67,507.4,830.11,485.05,889.88,638.22,397.22,639.46,555.14,632.51,272.77,471.8,729.92,223.57,115.74,50.66,243.52,721.66,288.98,854.89,435.33,551.63,778.81,49.6,777.72,446.88,37.2,596.38,88.97,682.19,293.94,948.17,480.08,354.51,687.22,56.43,716.51,670.44,455.0,593.27,579.52,139.14,910.38,628.16,899.34,444.99,236.16,510.82,408.53,458.55,764.83,424.92,942.5,801.3,422.63,878.89,887.2,723.02,233.31,641.98,499.66,671.77,497.77,460.53,794.77,638.75,459.12,670.8,73.68,562.89,252.64,617.01,295.4,144.19,269.45,880.49,713.1,893.83,522.84,191.49,990.41,478.0,604.54,65.92,217.14,349.33,228.97,681.71,388.6,762.18,187.33,445.6,957.47,44.38,387.57,668.96,249.0,582.68,508.05,445.93,847.66,941.9,541.36,169.92,55.37,388.79,793.51,592.04,142.31,115.76,132.97,91.85,786.33,439.48,561.67,968.36,503.59,914.25,106.14,247.25,557.14,577.96,152.17,254.44,110.49,19.6,836.95,939.63,427.44,760.27,812.58,551.09,821.18,678.63,417.26,521.41,306.05,812.8,334.16,590.98,390.07,72.98,699.41,866.55,490.19,767.24,528.34,766.76,752.01,169.93,705.14,216.08,868.75,239.24,903.18,195.47,877.2,256.14,127.11,862.58,379.25,840.67,750.15,976.47,533.06,717.69,342.39,794.43,181.94,500.76,630.96,198.68,643.84,462.44,382.53,291.04,486.37,119.97,681.96,705.46,325.04,372.66,862.08,248.28,842.49,352.09,993.29,921.75,574.11,11.42,249.98,750.59,675.98,537.71,135.87,33.21,535.22,321.78,380.51,736.36,646.11,641.53,610.48,847.45,616.52,302.05,364.61,664.92,703.91,237.12,357.92,773.69,315.65,445.25,380.82,280.89,329.72,637.28,943.03,607.1,189.54,676.38,819.64,308.62,589.08,168.56,609.15,328.39,358.55,26.22,888.44,203.29,569.31,55.11,718.43,566.43,836.08,825.38,162.72,259.8,227.04,344.16,505.07,130.77,224.69,824.03,607.02,918.57,61.3,356.44,544.53,417.33,690.5,309.73,804.03,237.79,723.06,938.13,536.3,861.93,806.08,390.04,694.63,562.59,906.11,175.77,727.61,162.47,502.01,559.26,845.98,697.76,149.48,147.3,846.92,337.28,757.14,588.67,425.75,824.86,895.12,747.59,816.72,978.28,951.37,71.29,181.09,904.6,169.1,76.74,882.59,651.71,128.6,754.48,128.08,265.32,869.16,161.69,397.8,131.49,406.79,750.61,362.02,285.27,348.95,989.12,823.51,60.04,75.95,7.53,357.98,177.16,271.64,608.78,441.87,884.17,142.06,464.64,153.34,561.24,504.6,301.9,909.0,340.69,373.78,38.41,488.74,527.34,369.81,864.42,636.95,240.05,372.29,579.21,473.28,961.64,627.86,381.36,915.77,31.95,164.07,960.94,782.08,204.95,278.76,751.06,405.39,204.63,585.92,933.71,549.18,273.37,648.64,312.36,602.98,344.22,268.21,799.91,865.34,700.76,687.18,704.07,423.36,763.9,517.97,645.97,390.29,513.19,242.41,70.31,984.86,161.49,523.36,249.36,362.75,920.15,246.79,729.81,864.5,724.64,621.93,629.68,492.71,731.07,320.11,160.24,479.58,618.99,891.69,953.81,693.41,857.46,73.42,776.11,737.99,134.87,555.83,377.63,295.04,845.17,971.42,485.44,926.04,374.62,284.84,737.61,503.45,72.72,133.86,690.74,36.43,995.47,282.96,967.61,188.49,908.22,932.83,844.32,14.22,305.98,311.75,532.45,190.51,123.28,61.8,687.71,180.35,342.41,414.9,966.42,412.05,290.46,958.97,377.2,591.98,198.98,877.16,527.61,814.35,824.71,940.87,552.02,429.98,694.77,7.96,125.59,587.94,505.16,945.13,230.59,799.48,334.47,804.02,515.08,917.47,676.1,455.72,972.51,620.86,985.97,956.91,319.98,636.42,434.52,929.26,532.3,704.91,779.15,553.33,403.18,386.87,156.09,11.11,177.84,908.05,486.01,738.36,435.62,208.69,399.96,915.74,821.31,618.56,938.31,284.06,751.58,275.56,118.84,100.11,466.69,68.22,998.74,842.21,28.34,693.26,184.12,672.41,136.93,904.35,319.84,719.42,526.31,146.09,948.24,651.96,379.62,7.41,141.2,728.19,353.5,906.36,42.85,800.28,497.59,74.66,636.6,424.01,222.74,847.85,975.11,951.24,990.13,430.3,669.74,433.2,580.74,996.14,973.43,618.23,953.96,894.76,536.48,177.92,291.1,736.77,218.48,846.12,236.3,20.21,167.85,110.23,165.15,271.28,395.76,818.85,629.89,999.93,701.3,507.86,352.04,571.43,922.83,680.0,707.62,515.48,860.36,407.39,283.29,832.38,766.62,258.04,421.9,761.93,262.33,295.71,767.06,382.11,360.2,460.86,856.18,77.06,420.29,522.45,985.14,60.81,849.67,681.76,561.64,882.9,574.51,673.47,25.09,92.67,625.06,406.89,270.55,224.14,823.21,691.9,821.98,57.26,696.16,378.04,482.01,13.44,155.72,557.0,178.47,289.82,897.98,192.55,161.96,901.52,691.43,848.34,984.86,771.06,898.43,587.77,739.71,590.22,215.96,147.44,857.37,476.8,205.36,27.79,988.12,512.55,618.11,280.35,303.04,22.42,662.23,700.76,130.46,967.5,323.46,69.47,347.22,138.94,86.03,820.04,178.03,665.46,994.89,971.37,427.49,993.14,690.78,46.93,841.79,145.17,530.07,708.37,42.64,752.6,632.13,961.71,47.21,10.22,95.1,29.89,989.72,190.82,749.36,111.55,133.51,800.3,16.19,664.75,836.1,366.89,378.29,543.72,761.18,76.72,301.39,463.95,425.84,701.65,527.22,475.27,624.65,854.77,6.3,523.87,508.51,623.05,336.74,696.47,77.9,871.54,163.29,929.5,729.13,447.28,663.63,769.48,741.32,384.16,422.44,625.88,676.82,40.89,80.06,217.94,800.67,500.47,933.76,903.75,528.25,97.95,560.24,679.66,792.06,116.41,758.83,673.29,731.5,394.46,309.83,640.84,906.36,307.52,854.45,846.33,353.56,534.53,352.39,383.54,20.39,165.99,588.66,957.41,41.75,583.11,237.59,539.57,419.68,298.37,110.86,822.21,491.7,788.42,276.25,599.13,261.14,983.19,85.18,174.19,172.9,264.42,36.26,901.15,584.52,621.87,689.84,706.73,63.84,671.5,414.91,199.34,868.45,428.71,577.31,475.96,307.83,789.43,582.23,806.62,576.23,871.5,987.79,106.7,149.62,400.76,692.23,333.12,75.97,83.73,816.4,7.35,716.58,737.86,919.79,185.52,450.18,860.53,178.22,679.61,397.49,315.96,80.13,329.44,298.33,98.73,428.23,234.28,856.36,796.65,20.08,835.39,598.32,835.38,519.9,359.36,601.69,475.25,668.86,643.73,78.27,745.54,172.44,38.97,771.07,690.34,416.77,618.96,356.87,656.12,523.07,880.8,517.24,857.2,403.01,121.36,257.62,726.5,637.28,129.9,466.53,500.6,413.07,105.0,526.77,96.05,500.53,594.16,990.15,712.39,533.57,162.15,436.6,567.97,588.86,656.59,34.67,881.04,341.84,245.84,336.93,475.13,318.57,881.78,9.32,742.49,510.61,546.5,867.0,912.94,76.46,722.05,961.07,811.53,527.26,908.86,110.29,663.84,592.2,802.0,628.0,735.25,509.54,801.57,761.54,47.04,710.1,372.6,170.83,836.92,169.31,349.55,205.13,440.26,955.19,546.64,963.32,778.92,991.88,304.9,803.9,536.66,287.35,495.53,267.24,770.81,149.26,470.55,429.21,70.45,157.32,51.12,834.12,353.76,580.82,922.58,593.16,399.87,709.0,547.34,130.39,186.83,685.49,384.79,633.47,70.69,538.69,890.8,947.38,322.22,782.52,895.81,32.61,667.25,322.55,146.1,107.92,67.59,263.13,874.2,709.32,643.66,11.73,349.11,266.1,404.89,208.51,260.95,264.6,56.42,288.6,501.89,90.82,550.42,563.04,220.57,213.03,220.34,990.77,126.13,156.03,743.72,770.22,275.59,815.69,507.31,893.28,307.23,844.79,428.11,550.4,133.32,50.99,629.19,932.53,482.09,779.37,66.36,150.07,734.96,732.97,453.13,164.46,899.38,178.68,488.92,483.15,45.02,959.34,207.32,865.09,569.12,763.48,375.25,591.33,436.53,81.88,397.23,551.93,331.3,255.55,559.67,787.99,313.29,993.26,758.75,508.84,404.53,214.23,635.76,345.22,946.92,909.56,739.94,99.61,140.37,413.96,464.42,250.74,773.28,681.44,108.53,968.49,627.8,70.98,643.31,250.72,732.72,50.81,819.69,329.15,956.62,760.81,579.03,823.79,153.97,399.56,184.41,700.77,310.81,658.82,496.67,516.63,123.43,336.25,599.39,830.2,455.59,371.95,19.71,540.06,84.31,379.58,595.13,583.87,662.25,151.99,530.6,572.07,895.77,783.04,826.22,313.75,651.1,18.78,224.08,100.48,35.22,771.21,67.15,547.7,997.53,969.57,151.34,226.87,488.76,982.01,341.92,887.94,49.36,198.18,797.43,165.45,921.08,648.11,844.47,99.6,118.47,210.07,626.77,874.62,422.73,263.63,587.02,174.43,858.29,811.72,552.3,95.2,289.58,129.81,258.23,932.95,996.44,768.92,535.48,982.86,701.71,785.09,947.56,587.12,335.19,530.92,682.49,563.16,926.92,770.93,345.63,539.28,247.3,620.69,861.44,788.72,260.89,28.24,809.02,602.23,214.67,996.18,608.58,384.05,760.23,500.54,771.38,94.04,442.21,74.49,349.32,499.28,335.12,904.69,487.26,365.51,617.36,546.98,535.09,57.76,538.08,138.04,302.56,130.9,241.21,961.03,995.38,526.99,898.01,557.98,44.8,18.34,121.92,106.75,949.56,54.26,24.21,873.16,416.08,20.1,579.06,258.19,187.03,129.74,162.42,260.03,39.56,760.18,213.11,532.57,901.78,633.38,136.24,703.16,511.61,548.38,185.33,806.43,925.68,704.89,24.66,662.19,198.8,870.97,550.18,990.93,365.5,483.98,400.23,386.06,51.63,888.18,722.44,562.88,634.44,754.8,638.61,111.55,350.92,133.14,681.43,572.74,140.43,712.57,420.53,852.45,700.86,618.17,914.56,103.05,926.32,387.28,762.13,507.39,597.86,607.23,680.12,324.79,386.39,925.66,648.65,877.56,601.12,597.88,657.94,421.32,366.08,653.17,804.16,52.98,61.39,594.17,786.91,507.53,669.17,136.85,593.7,163.66,824.07,259.6,190.94,580.13,307.88,737.66,10.0,258.91,633.04,731.84,384.26,898.16,71.35,173.15,122.5,915.63,636.71,113.06,923.64,691.28,869.03,264.04,971.35,832.44,952.46,468.12,271.16,149.31,463.52,963.22,390.87,482.32,962.21,40.64,950.63,737.42,578.68,932.78,80.1,622.95,632.85,950.22,107.7,983.4,133.85,774.81,405.06,908.03,176.3,182.27,935.59,247.11,265.6,120.54,155.65,540.27,741.96,638.95,541.36,602.96,667.34,821.17,248.95,665.75,856.69,794.65,505.64,752.38,749.11,720.38,848.23,415.05,253.98,876.81,50.57,196.32,681.07,585.6,59.47,553.65,987.26,713.63,173.03,462.12,422.43,552.44,861.55,159.9,324.98,389.82,403.25,26.38,912.94,814.52,197.82,88.2,113.07,566.55,86.04,344.78,498.38,627.76,327.92,34.26,97.23,544.26,190.55,49.94,518.45,170.48,133.01,689.31,523.94,109.41,55.89,616.53,143.96,534.04,29.02,478.26,684.27,394.12,866.1,776.67,244.43,115.99,822.44,748.47,394.69,489.13,663.22,185.46,988.19,417.65,940.06,978.99,768.94,950.83,336.94,736.54,681.29,973.8,732.48,45.71,446.63,198.42,584.34,755.31,186.4,633.79,128.88,409.42,697.14,140.69,495.76,441.65,627.39,619.57,95.64,112.92,558.05,140.3,716.13,654.24,783.63,794.2,951.43,312.12,255.03,980.88,842.56,962.18,806.57,796.75,535.82,906.94,56.25,321.32,929.75,995.48,922.75,497.58,942.56,277.98,946.03,546.31,499.3,190.27,116.36,303.39,136.53,558.11,771.4,624.62,435.17,814.2,131.39,517.75,93.47,642.16,512.33,453.01,821.88,816.04,136.59,623.84,330.13,264.79,661.31,667.63,399.96,489.35,939.93,364.11,602.01,697.44,128.01,412.27,351.97,163.29,449.22,658.49,871.16,405.68,184.45,117.35,700.68,963.73,777.61,780.38,620.52,510.17,262.37,190.62,148.22,381.54,139.96,555.36,527.41,305.64,571.42,377.8,215.81,814.18,779.3,348.36,718.08,73.72,965.63,133.33,159.31,265.54,70.7,763.42,282.47,587.13,169.01,458.96,389.46,216.17,61.53,620.47,714.51,719.94,655.8,591.23,464.92,520.13,677.18,824.87,191.2,850.53,926.71,890.69,344.37,362.01,537.51,342.12,323.69,496.95,669.09,412.34,250.11,795.43,289.99,10.15,711.72,378.58,33.79,876.47,747.38,899.78,861.12,274.52,59.77,524.2,349.31,991.22,343.52,965.45,157.53,878.35,570.63,965.13,723.82,404.43,820.86,747.76,324.61,195.93,704.37,27.44,132.36,971.3,449.45,693.73,858.52,905.04,307.89,720.32,761.09,878.89,537.32,314.77,87.69,407.22,384.64,769.91,186.34,513.42,38.3,831.32,443.92,265.8,135.93,113.76,704.91,386.08,528.95,19.41,756.62,37.9,287.16,386.51,771.5,585.71,299.55,96.98,857.34,766.8,280.66,146.81,342.29,438.73,333.25,740.38,97.02,212.9,589.98,900.72,73.16,806.49,768.22,300.51,842.59,394.16,16.06,745.55,246.99,705.97,114.31,316.0,144.44,144.91,810.77,402.92,8.97,453.66,864.66,761.32,360.0,266.14,149.83,777.62,853.13,610.7,195.1,196.11,208.21,676.33,770.63,179.45,373.27,368.05,425.62,160.76,942.92,959.57,46.8,467.14,738.76,420.61,638.32,493.13,918.45,616.09,865.81,115.36,394.87,418.32,600.34,178.08,470.73,873.13,638.6,106.01,293.89,530.06,940.4,322.11,782.91,579.54,150.17,320.02,747.74,465.04,847.25,500.81,759.6,828.24,617.79,344.5,10.38,925.38,988.24,188.46,417.44,905.95,524.43,184.13,187.43,745.48,879.66,963.28,940.06,762.68,863.9,938.05,791.17,247.18,734.62,452.07,583.66,954.0,267.29,887.43,423.62,631.94,320.93,888.25,488.21,379.1,254.6,314.16,967.1,304.57,864.54,28.13,424.91,72.22,58.15,754.55,158.83,526.73,478.6,939.35,125.76,332.26,732.53,574.43,21.44,838.13,794.45,438.36,108.16,299.47,480.74,787.16,539.38,50.13,898.79,865.38,962.92,281.97,874.57,128.84,534.6,344.25,41.65,678.88,95.01,213.86,958.86,720.24,73.31,501.94,627.23,346.13,64.22,388.03,77.82,786.63,621.66,674.74,357.92,105.51,982.46,849.89,938.3,246.87,779.74,303.77,873.42,70.61,595.47,45.38,386.87,118.33,327.26,163.44,262.81,635.54,754.79,912.68,196.08,773.58,216.8,618.37,301.12,632.13,900.05,671.78,472.0,633.17,973.43,875.33,165.05,179.48,335.02,580.09,253.61,788.94,610.92,161.1,408.94,44.76,993.73,775.45,171.41,856.12,532.0,82.22,530.75,613.61,239.33,138.64,10.08,507.14,939.3,790.07,292.21,202.58,446.01,48.06,115.46,804.43,981.08,584.89,103.31,669.78,866.68,558.33,891.26,295.36,400.13,974.36,632.66,928.34,891.15,81.91,750.39,767.12,412.58,796.24,671.73,16.82,83.76,79.44,870.57,832.88,482.26,658.16,817.9,473.95,126.17,672.83,378.03,232.8,745.1,673.14,487.55,122.88,462.55,266.88,693.15,363.33,957.34,844.5,44.05,632.22,655.27,841.32,300.09,327.96,609.98,763.08,146.59,409.3,907.49,609.49,611.21,743.38,573.87,568.94,644.89,136.67,15.52,990.41,989.75,759.64,246.41,914.13,808.24,435.93,14.57,685.42,418.12,852.64,943.79,437.6,282.88,478.82,36.43,416.12,657.39,726.07,121.89,568.31,454.64,609.63,561.26,70.64,492.56,16.53,115.35,735.0,419.16,969.67,639.3,300.46,968.68,207.33,673.81,653.47,187.74,407.56,404.26,37.79,437.22,878.02,582.1,855.91,844.92,816.35,110.7,504.43,340.94,842.8,138.34,339.16,966.33,444.52,920.82,179.13,378.63,518.84,95.7,670.74,774.67,143.54,594.7,332.14,709.47,633.0,116.03,989.3,371.83,907.2,15.68,62.7,221.17,786.35,529.83,749.61,932.45,327.42,495.07,95.06,456.44,638.43,923.66,915.23,143.08,882.98,748.0,805.2,9.71,202.87,467.84,407.07,872.28,910.61,911.33,868.26,599.75,797.17,239.42,427.23,428.15,706.12,994.65,146.17,46.45,709.43,794.48,589.62,799.66,6.21,755.76,236.79,456.71,263.24,313.76,890.69,515.37,459.63,68.72,536.37,90.23,905.79,841.2,732.66,535.94,997.83,58.87,813.08,16.13,447.0,827.22,618.37,65.42,381.11,931.0,530.65,506.13,190.26,585.59,236.28,277.9,10.45,641.9,297.89,635.67,746.12,320.98,850.49,364.59,249.95,220.14,112.47,458.03,326.12,666.92,864.25,265.5,455.38,317.88,67.99,928.45,294.76,364.47,794.39,984.86,650.86,343.29,610.16,981.08,873.32,577.46,399.35,747.48,336.09,948.4,712.58,160.62,493.84,730.32,499.98,173.24,148.14,331.66,7.31,934.5,861.49,614.91,437.67,732.23,642.0,812.98,529.37,280.39,269.97,563.27,19.56,426.27,749.65,19.84,316.85,141.81,670.79,261.4,218.85,322.14,558.07,69.2,843.97,427.87,283.86,517.21,947.64,445.35,285.4,936.71,611.12,156.38,551.98,901.03,244.13,694.77,641.63,696.32,165.6,387.09,736.81,537.05,673.72,927.6,158.24,861.69,412.06,356.2,304.65,555.91,765.89,337.05,985.22,32.01,94.24,568.5,245.52,306.61,751.87,656.11,301.24,658.79,259.51,167.47,914.63,606.43,969.43,415.75,659.36,519.73,570.23,921.57,542.6,304.54,407.75,739.85,646.0,8.84,388.65,542.27,962.12,696.42,455.2,384.75,144.37,436.97,657.76,639.03,5.19,150.83,366.02,323.61,913.44,54.67,745.08,27.65,954.22,526.43,149.89,112.31,650.77,482.05,655.75,316.34,997.86,820.55,271.84,969.18,735.52,960.05,322.78,219.31,793.45,466.91,775.58,421.67,539.83,757.07,786.67,609.23,427.99,344.1,637.67,870.45,797.87,849.02,897.74,755.77,638.66,616.35,391.13,725.44,550.42,768.7,962.33,691.41,629.82,681.8,107.12,266.56,428.58,598.88,819.86,861.56,689.6,480.19,462.1,511.11,145.62,616.48,175.47,493.45,334.44,199.49,772.95,431.37,251.26,324.39,826.64,875.46,543.13,878.78,996.53,868.2,160.15,278.52,985.69,969.59,457.78,9.88,185.77,313.68,331.31,228.26,217.59,369.99,795.86,179.8,396.18,388.31,95.08,662.99,72.62,629.85,66.81,436.29,230.0,259.17,687.23,333.97,285.36,253.64,793.24,375.93,168.78,420.69,884.41,215.71,245.26,302.54,415.74,869.28,185.47,16.89,286.05,624.89,971.72,118.07,623.5,281.43,925.89,926.98,504.9,534.59,704.15,382.99,852.0,215.5,790.95,696.75,528.46,310.09,51.54,389.22,862.58,728.28,359.76,832.15,986.5,949.2,400.05,61.23,353.41,87.43,508.53,334.66,801.77,638.21,8.33,356.98,161.88,760.59,221.32,700.79,124.35,510.84,791.65,879.62,509.34,519.61,635.75,463.22,285.28,486.53,498.1,667.07,325.11,832.84,855.71,244.1,249.98,738.48,314.14,639.68,134.25,452.53,604.31,998.68,800.76,887.18,868.62,508.06,791.94,10.06,362.58,275.05,117.16,401.15,260.89,364.85,589.8,834.75,926.74,205.74,834.91,336.89,752.0,639.22,456.52,14.59,270.4,120.25,844.75,361.79,175.64,527.82,589.95,564.12,735.02,344.89,351.71,70.76,220.01,179.0,847.46,626.81,574.34,324.31,719.9,139.2,165.82,204.95,39.19,492.62,761.06,60.65,847.09,975.23,421.63,411.25,485.21,74.35,503.94,809.7,331.64,606.87,256.14,631.3,205.38,863.52,693.39,598.77,728.47,411.65,893.94,956.99,893.32,277.57,590.15,47.97,40.95,304.02,569.32,445.64,408.46,400.09,461.59,783.32,870.91,513.8,38.5,724.87,965.37,966.51,486.62,780.52,891.29,944.06,709.92,925.43,328.83,471.78,51.18,463.31,177.47,661.19,186.0,710.46,530.88,103.87,958.01,636.52,255.28,783.95,756.98,516.24,681.53,444.37,170.81,916.49,348.82,874.71,479.88,546.52,530.53,241.74,493.39,248.91,378.51,88.6,576.77,212.95,29.01,94.41,29.3,474.36,582.9,645.25,76.89,271.04,642.28,843.13,788.68,595.07,99.56,994.69,469.31,20.41,986.88,708.8,153.5,17.09,176.03,243.09,749.82,272.12,56.12,233.36,814.12,186.14,72.11,989.92,143.62,307.63,289.72,870.54,186.52,312.91,244.19,439.41,463.73,888.26,132.52,189.43,98.48,909.51,953.14,927.51,956.17,171.72,262.58,119.84,23.05,103.97,26.4,252.88,593.1,966.19,466.45,785.87,743.54,553.36,991.13,612.19,501.94,979.56,338.88,540.85,384.88,271.03,408.5,452.01,855.67,479.07,862.75,618.08,457.32,613.89,385.69,575.56,221.63,342.96,165.91,191.61,494.45,667.34,775.51,239.93,268.81,176.7,232.92,702.24,459.87,697.8,879.5,95.85,877.08,770.55,395.99,374.73,771.46,652.89,400.24,516.53,608.35,590.12,870.4,568.49,17.75,371.81,570.08,556.11,572.13,126.21,484.77,207.12,922.58,95.97,227.22,805.33,108.02,819.87,8.01,887.33,481.64,749.7,978.53,899.61,887.95,948.67,9.38,512.77,101.84,390.72,525.72,324.79,649.06,682.38,541.06,908.09,222.02,686.96,931.24,458.63,813.6,468.03,840.49,335.89,795.85,686.03,177.99,30.15,286.65,269.87,899.78,569.65,635.57,39.54,173.83,442.79,41.26,999.98,771.88,135.28,948.57,289.79,152.51,727.11,449.02,206.67,396.37,380.64,864.31,248.94,671.47,125.85,417.7,183.99,17.54,907.73,538.16,512.07,640.88,844.71,315.07,874.64,695.09,848.07,360.59,15.67,174.64,655.45,665.79,281.75,450.43,890.66,218.47,394.87,163.02,934.16,180.12,496.48,651.91,424.76,19.15,256.47,828.06,92.41,318.94,154.68,152.1,297.02,549.67,798.64,153.87,734.76,746.87,174.42,704.38,881.69,510.16,533.76,330.64,766.44,799.3,743.85,277.87,950.16,763.74,887.13,989.74,414.51,162.79,966.58,659.03,882.15,883.15,122.88,697.36,570.87,840.03,446.38,793.56,979.73,917.17,986.93,820.14,924.21,313.27,737.55,489.98,114.16,575.67,289.23,804.33,131.81,815.33,818.37,677.45,389.25,170.8,999.67,848.66,71.7,230.53,325.54,142.63,713.61,489.09,863.14,196.26,645.48,105.2,652.34,193.7,337.4,640.14,53.79,146.15,865.59,702.71,801.73,190.25,502.38,969.37,362.95,954.12,725.62,455.6,233.88,89.69,136.18,42.45,269.34,929.19,906.52,312.35,720.42,688.98,562.37,977.19,119.84,911.47,112.33,876.31,756.87,865.29,247.8,672.82,726.27,147.44,257.29,149.62,234.68,925.91,839.19,737.1,896.19,887.67,911.74,104.05,374.85,682.51,48.34,585.88,511.84,113.5,453.49,664.52,588.04,933.02,657.46,413.05,955.86,648.86,809.19,573.39,479.36,777.3,590.44,54.95,936.59,707.51,894.12,41.93,317.36,427.95,193.32,855.34,590.6,447.31,558.09,329.65,653.44,136.8,170.76,721.0,16.89,935.29,591.6,333.33,565.72,433.4,805.51,778.61,535.26,877.65,564.48,206.55,822.83,588.09,121.92,875.7,79.02,981.36,708.99,796.84,881.48,463.24,167.88,293.55,281.17,352.64,132.04,819.4,33.58,871.93,141.62,435.02,475.91,737.51,462.27,276.06,691.75,455.53,670.58,162.36,508.56,364.92,63.82,462.35,861.68,577.9,635.63,798.99,117.92,269.93,68.66,18.07,89.37,451.01,159.14,247.06,388.02,840.18,418.33,483.0,548.68,578.45,584.21,635.13,844.13,685.78,675.24,609.39,745.43,819.71,832.9,672.6,656.26,357.95,841.46,289.45,630.2,818.69,880.41,670.91,631.68,663.8,714.85,236.74,978.93,842.52,741.76,150.04,851.98,426.97,709.05,596.62,455.42,180.95,458.86,527.74,212.3,331.2,50.32,12.47,351.69,58.54,956.97,978.12,975.15,507.35,950.42,565.31,485.75,808.63,510.69,850.64,712.84,136.67,574.07,765.12,167.64,650.63,327.47,529.67,790.74,320.95,406.76,199.97,334.85,862.29,237.72,722.68,748.01,789.01,298.34,120.44,24.83,823.28,645.59,740.99,566.41,95.6,25.84,362.53,869.12,545.43,740.7,473.92,743.9,386.8,334.98,682.4,436.52,356.5,723.93,844.97,202.53,881.88,160.78,41.4,972.53,310.17,400.25,104.47,5.98,661.66,307.28,418.54,784.07,962.91,313.43,844.84,737.55,275.55,364.84,78.78,427.16,962.11,474.47,866.51,546.18,356.56,741.61,467.34,440.82,529.38,975.79,17.74,517.8,424.42,709.44,376.68,91.75,763.08,861.33,893.46,807.53,730.77,493.13,985.03,553.43,791.08,16.0,228.89,810.61,257.08,718.44,365.71,221.62,68.01,30.87,266.16,444.92,535.09,503.24,443.74,937.58,432.48,741.64,44.98,769.44,49.37,45.41,184.0,962.96,699.95,331.79,394.47,354.69,89.34,467.57,287.81,312.56,460.52,796.19,349.41,440.65,484.17,861.19,819.44,516.17,155.97,741.58,608.97,129.04,614.3,649.14,672.76,221.87,304.75,774.81,848.94,335.06,703.09,136.37,720.91,771.49,927.69,549.71,128.73,228.51,84.23,981.96,580.71,968.09,805.4,211.13,491.18,438.51,345.81,600.4,743.6,795.8,758.35,665.73,94.53,201.77,53.61,734.87,206.56,318.15,215.46,62.38,224.32,319.91,588.98,225.45,16.18,40.63,230.15,75.37,196.18,672.69,739.69,349.24,182.33,453.37,860.76,56.04,7.65,98.97,431.26,990.7,19.15,362.27,115.99,518.22,463.4,205.27,453.57,388.2,923.12,291.97,180.59,693.64,693.33,549.6,124.49,99.58,896.73,486.79,131.0,895.59,135.85,64.02,587.93,408.01,802.24,997.77,918.42,331.76,458.84,534.07,146.97,305.89,458.62,887.07,200.63,64.31,530.72,156.59,579.89,706.11,329.27,731.13,764.37,19.8,247.27,91.62,459.69,633.85,998.68,521.39,269.95,49.79,841.64,365.93,993.89,515.13,607.9,203.48,291.69,787.42,647.87,308.86,192.88,943.96,140.46,19.87,305.44,507.36,433.59,837.49,447.39,927.31,605.36,332.87,981.92,21.35,352.42,316.32,936.63,214.08,308.32,261.15,113.92,55.63,317.39,356.59,900.38,440.84,468.53,219.27,912.04,988.62,300.02,692.69,649.15,397.04,786.92,733.98,415.95,240.86,176.71,988.15,170.19,555.25,826.91,395.86,544.59,755.17,593.77,404.76,516.82,987.28,609.96,856.25,929.74,799.44,708.51,480.34,833.02,193.85,282.5,495.22,983.25,139.16,768.82,211.77,306.96,841.25,946.67,745.63,756.98,663.63,913.52,96.87,655.37,900.91,234.96,439.24,303.12,222.3,163.55,596.84,301.49,761.98,757.0,314.56,344.62,266.28,74.39,60.6,920.39,618.2,392.75,938.35,887.02,41.11,920.04,509.44,885.69,205.5,179.6,970.84,958.84,869.38,224.23,123.97,407.77,913.0,355.58,90.05,149.47,618.68,867.34,725.78,858.2,897.34,870.84,198.99,861.95,119.09,914.12,573.44,448.6,447.89,639.06,666.38,225.21,396.49,623.34,880.85,33.87,22.62,281.08,185.2,691.27,755.07,893.01,54.8,241.63,786.86,555.69,820.93,994.6,91.61,222.55,968.87,171.74,671.24,341.18,73.8,956.25,850.1,174.39,336.16,637.77,118.73,407.86,892.28,174.36,702.25,568.43,201.54,184.6,31.85,900.32,681.2,286.06,801.01,824.23,544.92,508.5,816.57,490.82,33.48,719.34,940.59,854.63,273.79,99.82,27.25,52.62,260.89,622.77,637.44,412.87,39.05,167.09,121.84,316.68,49.6,900.54,339.61,432.15,698.35,751.04,408.61,82.73,30.83,484.89,798.08,469.94,220.88,716.85,303.14,363.76,538.54,290.04,317.19,626.93,473.92,721.53,40.69,570.18,611.86,673.7,188.07,787.64,467.96,281.21,71.32,132.06,690.69,513.61,190.63,304.69,340.85,49.16,759.67,961.48,980.42,409.43,428.85,718.47,469.71,757.87,772.26,475.21,126.23,701.84,471.41,263.16,44.56,111.47,784.93,22.73,687.53,52.88,848.06,894.48,459.96,600.41,905.65,774.15,752.72,840.03,360.1,744.78,78.68,64.53,373.47,752.02,445.34,214.02,748.18,264.35,459.25,410.68,925.42,173.45,338.38,918.27,933.95,506.1,170.82,513.41,11.45,18.94,10.06,474.22,160.87,293.61,512.3,209.57,723.49,126.31,52.85,997.03,887.33,241.67,85.2,728.64,626.91,862.7,963.2,95.64,972.52,738.5,697.92,980.78,690.28,664.47,691.09,551.19,540.38,261.63,713.48,737.55,504.53,261.93,34.92,217.12,174.71,306.4,787.96,850.59,95.63,981.68,645.5,166.75,445.92,8.66,867.31,587.22,453.02,953.85,998.24,622.6,730.68,278.09,661.61,60.67,319.3,179.43,98.57,461.4,578.67,408.08,225.94,44.1,822.8,942.61,17.94,119.61,707.13,19.99,196.74,551.24,31.37,886.18,875.43,168.62,774.47,558.56,172.42,881.68,881.06,407.81,368.48,624.13,994.62,896.97,538.66,131.58,286.43,793.29,965.94,460.26,232.28,910.77,155.28,202.51,878.52,124.82,383.85,142.29,406.56,870.27,152.91,649.01,186.58,880.59,912.08,466.54,425.72,323.44,773.27,797.53,950.67,892.12,179.68,180.01,756.15,807.78,314.23,505.78,848.3,199.59,873.02,907.74,522.25,890.03,892.16,358.31,228.27,631.87,543.35,619.39,704.32,223.01,479.19,79.81,771.46,704.34,186.68,397.31,103.71,782.23,352.45,775.09,423.91,275.59,864.31,63.57,190.67,237.7,161.14,520.83,404.09,639.68,246.57,40.75,111.61,49.07,403.9,17.9,854.59,896.16,667.25,827.09,844.13,439.99,316.84,489.04,186.32,938.04,516.39,919.73,919.9,633.85,139.32,778.01,198.45,861.44,922.24,417.87,870.65,53.01,218.04,352.35,239.06,926.26,777.27,561.09,743.14,612.2,781.5,640.09,435.76,395.72,401.78,854.97,165.73,549.73,492.69,701.05,791.96,499.13,821.56,995.07,525.4,177.78,74.36,5.54,229.54,568.28,110.63,832.37,813.96,456.96,654.24,72.93,719.09,583.52,859.88,110.94,285.78,634.01,518.86,628.19,538.34,474.96,847.11,759.98,21.39,86.76,714.91,841.48,174.35,958.57,57.23,379.25,561.26,235.99,980.17,727.45,975.95,931.76,555.35,288.58,702.64,121.64,932.7,860.97,418.37,482.17,961.48,442.86,496.98,252.52,276.44,60.24,983.98,218.42,425.19,939.04,122.28,406.53,905.53,998.38,84.41,440.43,339.43,897.83,829.67,463.78,664.73,931.29,709.85,539.38,15.54,333.6,900.29,288.15,155.62,312.45,531.44,666.96,849.66,528.23,459.11,604.82,294.23,951.55,665.88,708.05,926.16,689.12,742.76,380.18,422.48,226.78,619.55,642.19,339.33,907.82,511.3,944.17,976.64,708.32,917.29,304.35,280.72,598.87,777.29,86.88,668.31,967.31,509.71,751.75,535.9,188.33,477.8,993.69,128.57,455.57,668.06,308.66,12.34,690.9,466.19,440.28,473.58,73.58,367.29,531.46,113.95,300.35,906.85,599.4,260.77,830.41,537.6,97.95,143.75,610.29,182.94,94.11,701.76,713.97,853.46,331.04,917.93,338.96,167.51,727.74,883.13,95.39,296.87,106.44,249.96,16.88,466.46,894.89,985.58,763.8,671.03,239.19,458.41,810.55,341.27,203.73,163.05,264.61,207.97,155.49,589.15,223.63,178.95,577.41,944.92,875.71,644.7,667.6,541.17,310.65,803.03,223.44,235.94,549.39,236.58,187.9,33.67,831.8,455.65,481.6,368.13,620.39,276.5,944.66,276.45,471.36,680.68,575.08,542.64,346.26,593.87,971.79,927.2,166.74,211.74,181.45,354.61,918.41,363.06,48.28,382.76,58.46,290.74,40.88,103.07,948.92,538.12,6.34,302.6,902.68,175.67,722.64,952.13,274.9,921.56,270.1,65.4,190.24,326.28,454.37,332.55,981.46,186.63,291.81,246.46,147.15,402.0,600.69,337.33,637.19,471.63,614.75,735.61,72.97,51.11,453.11,911.44,301.11,881.16,205.26,539.27,984.32,402.47,417.05,952.05,538.78,556.89,518.28,51.52,731.13,898.4,399.47,745.4,874.25,133.25,411.95,666.82,770.78,536.7,586.7,852.96,71.58,860.34,269.3,842.88,836.06,44.03,510.0,441.81,967.04,557.44,266.6,293.13,598.74,871.34,601.56,758.14,486.52,22.05,863.09,189.22,239.62,536.74,617.71,915.8,953.21,484.33,745.25,995.22,745.14,815.63,344.58,180.43,134.07,838.5,183.43,299.04,640.07,356.18,467.96,370.76,480.71,434.08,987.62,296.45,464.04,379.75,359.67,665.55,843.21,319.58,645.78,57.43,252.03,990.98,423.13,400.87,806.1,710.93,575.5,724.14,819.15,410.13,55.19,485.3,498.23,229.65,874.8,735.11,636.86,554.21,269.61,903.42,946.27,789.23,110.13,971.88,74.51,927.44,302.57,725.5,921.09,396.14,847.16,199.43,831.16,841.17,129.14,557.98,893.95,899.23,945.27,290.48,330.25,214.08,304.18,27.52,601.21,740.66,560.53,983.29,478.46,693.01,379.08,796.28,167.09,996.18,46.01,282.68,951.22,984.13,582.88,872.59,199.62,547.51,154.58,549.94,806.22,342.03,205.24,633.55,138.68,845.32,418.91,468.72,43.0,114.79,463.91,746.01,855.67,994.07,170.71,863.31,446.08,555.18,354.79,502.07,842.21,885.94,655.56,669.75,501.17,547.85,984.06,666.99,295.36,618.31,414.67,707.52,52.59,573.66,36.45,758.01,967.1,837.92,25.95,526.61,899.36,266.42,97.61,647.06,539.69,174.66,968.53,681.69,679.98,178.39,662.99,670.38,206.86,356.08,359.7,116.92,29.91,846.3,412.82,17.15,166.6,71.69,461.12,364.27,763.94,168.77,22.58,10.36,524.55,219.23,528.93,528.65,638.84,483.76,636.76,585.96,542.7,56.77,178.67,930.14,477.17,538.55,306.62,828.28,438.44,903.77,363.77,140.39,613.77,210.09,288.48,477.54,703.29,85.17,218.49,28.57,385.48,992.34,197.66,105.43,932.49,587.65,920.71,568.85,411.09,169.0,527.39,552.44,710.36,314.12,546.86,871.84,837.92,644.54,304.56,591.1,237.48,886.74,831.95,987.27,753.25,209.92,234.55,447.12,545.78,218.39,305.39,457.44,259.96,384.65,949.02,357.72,175.8,500.61,378.98,664.73,123.24,119.98,445.31,318.85,123.41,786.97,649.29,444.92,214.04,992.33,888.66,687.95,486.56,58.4,827.03,873.45,264.92,943.31,766.49,253.32,951.12,659.36,436.33,56.64,572.86,385.63,846.63,704.86,563.16,972.83,737.29,225.82,374.77,341.65,761.59,494.35,132.89,418.36,213.39,479.52,569.43,488.05,176.83,865.5,449.78,277.97,314.36,350.75,665.67,623.28,817.95,319.83,943.94,833.41,71.44,897.2,694.98,853.77,455.3,97.37,582.24,9.82,918.32,978.34,935.04,363.56,256.31,657.28,717.22,190.21,878.66,528.8,116.55,583.86,425.77,704.34,922.29,503.23,738.16,572.77,106.65,791.77,192.56,359.83,749.21,570.95,494.66,557.09,702.0,782.97,69.37,268.98,302.77,915.47,227.4,696.51,20.33,730.34,602.77,706.75,690.22,219.26,581.65,828.76,858.97,633.83,248.32,245.22,288.2,927.07,189.25,155.62,138.76,376.21,911.93,944.05,608.19,945.43,327.32,422.3,313.58,393.88,767.1,203.07,639.05,369.87,256.11,777.99,816.84,531.79,848.28,443.5,489.11,483.33,259.44,299.56,215.28,762.41,735.23,443.24,453.91,273.76,624.76,242.84,854.8,425.41,653.62,184.64,990.44,916.33,225.17,217.15,30.22,199.49,510.06,312.33,806.4,768.16,883.76,447.37,547.35,851.03,389.33,220.28,173.69,655.79,611.82,514.05,481.45,941.45,232.24,466.9,568.78,28.98,928.65,646.66,60.28,6.28,872.06,667.71,998.89,411.47,565.29,661.65,339.71,757.16,732.39,536.55,313.8,423.77,946.87,610.71,404.27,744.01,966.48,66.83,545.15,705.47,801.13,941.77,86.47,729.29,701.72,420.9,462.14,910.01,987.13,640.97,425.81,425.64,174.74,412.84,972.87,344.1,339.81,374.98,377.17,471.0,154.31,707.11,738.83,720.59,472.57,779.22,325.24,623.44,184.77,60.62,211.57,962.76,912.47,933.92,849.48,83.39,744.85,455.94,855.36,376.68,475.43,484.14,440.56,767.63,372.9,888.31,932.78,542.64,760.63,639.6,137.97,598.29,323.31,752.7,963.66,867.49,102.44,464.69,937.18,85.79,921.48,938.08,115.67,503.28,463.29,489.66,739.95,61.64,311.24,182.07,457.07,396.51,22.41,370.48,455.09,352.63,44.91,494.36,405.28,463.08,912.46,570.34,748.64,664.27,698.7,294.51,730.76,866.84,277.66,913.48,620.37,363.65,255.58,704.86,801.35,734.35,761.29,477.14,265.09,579.98,730.29,321.84,728.18,735.11,557.01,680.18,690.64,557.24,346.88,423.3,552.71,994.47,101.98,948.23,58.54,662.26,717.49,350.37,649.99,50.94,603.48,414.6,92.58,623.09,920.87,647.52,216.24,338.63,229.71,577.18,510.99,342.37,686.36,656.9,140.53,947.24,903.94,16.44,360.23,418.19,832.1,551.15,832.93,603.06,887.3,36.88,424.82,33.65,210.46,313.04,952.2,196.61,598.82,617.79,445.24,571.53,196.71,509.31,227.89,286.63,725.71,856.07,946.37,633.72,223.63,925.33,53.48,733.72,335.72,288.83,128.75,453.6,315.34,184.47,505.29,240.07,151.28,359.84,190.39,498.34,667.03,551.39,889.77,728.1,477.06,559.6,240.81,669.29,569.05,781.44,299.06,18.84,238.33,561.76,595.92,61.39,732.14,262.76,531.47,631.99,55.5,598.74,158.61,658.14,997.85,256.45,842.35,509.65,29.57,86.02,273.72,990.41,15.89,913.99,760.74,824.69,99.43,588.91,124.23,161.15,768.58,680.86,927.76,532.98,392.13,653.51,250.83,793.63,357.82,326.57,629.69,128.75,404.57,521.72,807.31,796.35,853.98,575.02,859.79,779.83,157.3,660.22,294.14,551.5,903.17,421.72,730.63,20.77,360.21,135.11,356.5,162.45,68.69,620.68,144.9,201.75,708.01,177.36,681.26,668.44,210.05,153.37,893.52,726.61,733.68,272.96,853.25,34.4,56.07,912.13,129.31,336.34,683.26,684.39,272.04,22.77,327.2,388.82,783.58,948.15,998.56,149.21,557.17,372.76,56.78,489.51,638.62,531.82,749.52,539.69,568.91,557.96,866.93,990.02,434.46,179.73,746.66,244.51,459.63,319.89,591.65,273.31,365.66,793.89,819.73,82.48,348.17,539.9,849.69,434.76,668.33,223.53,110.63,643.31,996.99,535.07,98.84,166.12,115.02,735.98,587.71,709.42,551.27,478.21,310.05,199.1,90.14,966.71,761.69,746.91,493.74,599.3,49.71,167.05,586.82,631.82,940.05,443.87,647.69,531.06,145.33,966.01,304.56,632.14,684.48,888.63,634.25,69.09,860.77,514.42,950.37,835.85,930.66,286.34,191.67,290.95,881.4,657.07,616.4,31.72,560.96,453.44,103.15,283.25,679.55,222.64,329.38,881.75,901.03,674.19,465.59,781.06,157.59,288.16,327.62,586.92,760.66,819.03,171.18,606.99,787.15,943.43,760.61,179.41,789.41,528.18,154.6,539.41,386.11,767.84,703.83,102.75,596.44,139.34,71.06,382.98,220.99,778.23,452.5,738.07,36.09,652.0,53.65,462.89,947.49,86.58,62.11,462.3,351.0,848.82,142.51,959.65,818.59,229.04,247.69,386.87,613.01,163.13,802.78,927.05,229.73,245.74,394.26,187.69,897.11,504.8,782.28,819.62,873.85,713.39,818.08,945.36,896.16,698.35,643.52,45.17,431.07,726.54,516.48,978.54,894.75,179.61,929.7,934.44,105.93,548.96,768.0,239.13,556.46,816.6,896.55,414.1,621.47,575.62,388.02,73.69,926.05,223.23,111.39,223.63,524.37,33.4,350.11,870.55,332.43,135.68,638.18,989.52,400.67,22.98,890.79,949.91,657.2,804.83,551.33,755.02,126.69,637.57,731.99,85.74,914.84,230.43,413.78,562.5,648.89,570.27,467.24,534.78,373.4,431.08,554.62,67.22,8.98,624.02,348.76,817.99,898.34,594.03,814.2,962.72,49.13,486.94,692.87,360.83,30.98,788.58,355.69,889.25,552.12,437.12,738.61,75.72,281.37,715.16,226.83,674.02,814.1,163.62,279.16,406.93,59.29,319.92,908.76,697.56,587.38,155.78,493.96,728.85,50.45,589.37,439.0,248.4,741.11,870.45,207.08,740.67,962.48,337.43,160.9,298.84,672.41,717.46,820.79,151.69,5.77,184.32,712.27,457.05,998.47,701.91,140.96,202.46,643.78,706.26,859.08,920.22,414.93,863.65,6.64,147.66,91.21,353.16,659.4,917.78,83.67,808.03,937.34,948.76,873.84,970.26,862.47,995.16,87.63,853.0,252.55,30.5,741.87,471.51,274.49,995.77,334.2,730.65,72.2,748.32,918.08,382.89,941.06,742.76,574.67,34.32,437.73,965.48,485.22,640.99,146.54,616.89,482.97,466.29,776.62,23.35,10.2,70.18,578.68,310.59,633.35,76.47,634.3,6.52,635.74,39.8,815.04,784.79,176.24,539.58,224.63,804.7,97.52,633.1,865.67,924.56,514.62,108.1,257.24,46.33,777.7,127.88,940.57,657.16,53.5,57.83,290.77,999.82,90.73,431.21,645.23,379.21,148.77,117.47,291.26,944.44,50.39,89.71,256.22,742.39,549.45,544.72,137.63,375.89,158.07,842.23,932.58,337.74,631.2,305.24,619.57,606.29,784.82,353.97,932.59,833.65,979.23,766.8,686.0,245.62,900.05,250.63,886.99,724.98,701.92,845.76,796.45,342.32,671.65,646.1,384.46,796.07,925.8,220.19,442.24,939.85,977.29,863.03,411.92,842.43,962.65,308.97,958.84,636.39,175.61,498.98,790.37,781.37,309.41,903.23,43.66,976.1,214.02,353.08,181.36,987.3,244.82,551.14,746.23,604.38,532.17,527.82,463.47,933.58,433.46,872.68,588.29,208.72,207.9,602.37,370.98,704.91,940.08,604.57,537.03,288.24,902.02,12.35,860.56,93.47,470.46,778.69,907.23,179.4,385.22,983.44,579.72,509.82,854.96,812.38,303.38,325.08,227.36,176.43,263.54,752.9,744.01,988.39,924.3,537.45,439.25,946.68,206.64,479.77,342.95,440.22,579.3,580.78,738.99,160.27,885.93,470.71,718.34,677.72,8.67,116.1,698.2,230.15,83.91,10.77,796.78,249.65,921.73,380.95,202.27,614.82,293.66,503.48,526.07,850.63,939.62,510.41,583.82,102.93,877.14,872.02,256.27,866.03,767.32,179.54,586.85,72.45,448.28,894.49,463.91,64.15,782.47,270.64,334.57,404.13,617.63,275.49,471.96,924.01,206.14,902.69,720.8,156.53,83.49,739.59,625.45,207.7,603.84,225.46,483.83,109.02,692.42,605.69,230.52,77.18,141.76,445.27,309.59,269.94,200.58,61.16,504.17,679.79,451.68,312.46,614.68,290.74,751.01,375.15,432.01,170.68,287.58,227.98,387.43,257.78,484.54,387.99,399.38,601.46,289.44,349.69,427.85,753.56,28.46,19.1,687.58,531.54,374.0,747.82,396.6,923.78,615.9,800.18,164.34,220.74,982.41,77.78,17.64,96.3,747.81,928.49,656.86,378.54,139.31,666.68,933.87,319.34,550.66,390.9,667.81,557.55,455.86,985.83,445.09,604.58,876.8,485.41,539.41,72.05,689.21,699.01,131.28,62.4,579.52,234.66,149.95,267.9,329.64,560.14,795.76,991.17,292.19,895.08,504.32,256.41,748.32,27.13,225.3,585.95,472.19,331.92,982.31,92.13,267.37,916.32,986.75,868.91,853.26,843.94,816.42,887.58,505.79,604.66,743.83,640.55,490.94,221.98,985.62,855.27,48.61,460.53,415.94,239.75,389.87,38.37,527.21,730.58,543.61,700.26,162.15,229.3,240.51,993.04,91.32,891.4,854.7,998.86,830.41,17.23,838.77,157.51,163.61,854.81,461.92,365.08,565.67,568.04,208.93,470.12,922.99,755.37,674.01,651.69,292.8,521.52,244.77,603.25,992.37,232.57,674.62,809.5,774.86,303.23,796.51,715.77,336.32,417.93,450.88,259.58,163.7,341.38,782.75,821.93,519.53,597.26,886.57,469.08,676.87,969.15,621.4,359.37,786.14,259.72,24.38,199.99,831.41,335.65,183.26,19.74,838.9,937.19,311.53,899.26,217.69,255.55,341.98,747.06,708.88,380.49,938.83,556.15,68.85,693.95,834.99,547.57,816.22,163.33,381.37,737.54,265.81,162.02,431.22,881.61,800.84,128.13,212.35,465.94,501.67,225.16,992.49,548.36,352.43,873.9,608.33,668.74,612.91,421.82,777.61,509.32,287.32,778.3,32.82,560.46,431.97,464.94,230.05,972.15,435.73,645.45,495.0,539.04,320.39,964.77,759.78,66.94,218.58,424.12,778.8,929.75,166.24,205.7,885.53,173.42,804.53,372.12,867.42,818.19,227.89,354.5,186.65,456.73,511.05,994.41,234.98,136.75,506.26,824.69,158.23,290.33,25.28,678.82,828.88,567.32,450.77,514.51,98.12,515.63,943.44,428.9,109.4,928.19,14.68,863.88,627.06,127.2,793.69,385.56,251.21,389.59,849.75,90.86,83.04,772.08,795.64,985.26,948.29,345.71,455.86,185.66,588.1,59.09,81.82,251.54,712.98,681.47,980.11,984.6,702.76,186.1,543.99,824.24,974.04,476.13,955.24,165.21,84.43,292.43,969.38,950.37,940.29,405.87,117.52,392.88,161.36,256.55,820.76,79.67,266.85,636.76,183.2,152.23,731.53,51.49,429.03,441.61,50.34,683.7,138.14,544.09,67.13,381.06,750.85,136.46,655.55,249.59,387.73,519.8,871.74,818.84,80.48,189.21,519.28,348.21,924.77,912.78,622.09,601.41,914.82,594.6,882.71,158.08,652.14,359.32,175.97,280.03,562.87,392.27,258.77,234.54,232.83,509.65,305.11,598.89,972.69,231.17,606.68,178.4,258.48,640.96,918.5,75.07,640.53,667.61,605.87,75.36,925.86,36.89,533.71,431.69,711.56,789.56,148.07,166.04,638.03,134.54,646.56,342.9,878.73,301.42,839.76,849.89,296.5,630.15,995.7,858.92,579.99,220.95,308.12,457.31,248.02,768.79,885.82,684.33,671.1,73.41,378.96,359.74,703.4,867.11,94.65,771.84,825.73,730.56,133.74,886.3,659.08,585.3,910.23,522.25,389.9,628.82,149.81,477.99,15.77,292.81,849.35,629.97,972.44,473.28,277.14,677.58,938.83,995.28,460.76,406.76,223.65,322.89,125.98,16.49,610.95,473.59,507.42,641.85,353.29,373.68,313.56,837.67,125.87,543.44,407.98,182.0,979.7,40.49,256.47,592.62,540.17,598.18,686.51,270.96,368.27,988.25,865.47,384.15,728.24,211.49,621.12,20.85,636.34,289.04,103.05,145.06,891.76,143.15,666.27,971.82,592.22,672.63,741.98,418.31,265.58,249.78,328.93,853.7,7.93,360.99,271.53,500.48,756.1,487.33,29.45,742.93,289.04,926.63,940.15,657.05,605.34,846.09,539.16,308.0,119.6,352.05,162.46,845.32,415.68,290.61,679.44,443.29,681.08,331.38,368.84,986.34,417.87,390.77,790.64,230.4,358.98,338.56,448.01,592.89,605.6,357.33,159.51,620.32,611.88,429.08,794.72,40.74,669.62,383.06,650.64,476.15,915.87,164.29,207.18,590.34,275.06,470.55,566.31,381.3,733.71,89.44,65.08,679.84,827.23,878.84,736.48,882.5,270.43,764.26,80.8,629.14,38.38,603.24,518.17,344.58,143.79,630.21,539.24,496.97,271.33,991.86,937.89,140.35,52.6,102.61,873.02,224.8,687.04,626.19,212.07,831.1,330.22,757.49,911.42,503.39,905.97,641.39,894.73,340.73,850.74,551.18,312.24,241.5,636.81,414.33,800.01,751.74,971.0,652.1,35.02,933.85,925.05,771.31,685.04,738.23,170.33,132.26,669.34,51.02,296.93,266.2,348.42,834.34,669.45,606.6,97.78,874.04,737.84,148.93,17.6,428.94,546.96,50.44,288.34,550.63,631.34,551.45,447.22,721.45,809.89,780.21,56.99,437.47,918.78,306.9,653.05,311.53,389.88,443.93,361.46,323.98,690.51,516.83,32.06,228.59,738.47,554.39,586.59,707.19,387.3,845.9,963.52,459.8,592.3,217.14,897.08,913.04,341.02,254.19,734.89,390.71,833.2,663.62,892.7,54.37,727.91,312.8,200.12,691.89,439.0,510.38,417.88,162.26,423.46,561.52,799.41,235.12,547.14,350.94,348.72,982.93,266.93,373.73,985.72,21.46,554.79,9.31,112.26,969.88,845.03,802.34,262.38,632.02,311.87,845.1,778.94,230.45,262.04,920.3,803.79,144.64,497.98,72.07,238.55,114.49,249.7,139.66,262.3,886.18,448.1,19.05,6.88,770.15,764.11,259.17,779.89,844.05,556.35,35.79,296.87,501.19,366.8,152.92,491.63,92.02,845.35,350.19,123.3,638.45,731.31,585.88,573.19,316.96,834.36,93.82,554.76,368.65,147.41,458.03,530.04,402.52,673.84,159.45,346.31,109.17,327.65,447.49,401.08,709.62,531.11,10.27,685.19,608.92,980.87,499.55,991.89,132.55,946.15,610.29,253.38,40.19,792.38,518.53,176.65,709.91,312.0,260.71,264.06,722.95,635.21,419.5,184.75,907.08,290.44,923.31,567.63,582.21,153.92,531.03,928.18,424.44,941.45,90.76,505.1,408.38,67.66,43.76,978.99,310.48,78.01,590.26,794.21,361.91,926.83,191.06,909.44,205.29,265.33,968.89,888.88,109.6,532.05,945.29,135.52,637.62,902.42,501.83,404.67,460.44,136.03,184.46,244.08,292.47,702.71,902.42,183.43,159.44,931.73,594.14,308.26,343.96,673.76,728.33,58.81,509.19,277.16,613.51,862.8,994.54,235.52,65.84,368.68,507.8,936.74,210.25,919.04,91.5,480.26,680.42,369.0,303.9,290.56,132.36,242.01,403.34,749.62,987.94,922.88,642.51,792.19,241.33,336.3,644.96,267.55,654.25,582.83,887.08,237.56,599.09,125.48,832.79,407.28,67.77,60.87,250.31,600.78,816.86,904.57,211.59,300.44,748.94,609.68,832.69,101.82,516.55,569.3,60.49,769.39,70.98,24.99,484.35,403.67,140.84,319.87,131.16,183.1,102.06,829.49,649.51,303.58,863.58,214.41,497.9,62.54,604.53,390.56,318.44,330.56,881.58,416.91,176.76,253.83,703.13,513.06,83.35,625.95,615.67,667.57,923.71,510.7,253.46,966.56,520.53,460.66,85.33,611.63,525.24,318.49,719.4,337.63,633.44,718.42,590.31,675.48,894.71,659.44,559.23,135.08,788.69,71.92,44.98,328.21,619.5,676.76,229.34,254.78,918.87,954.05,15.07,268.68,282.34,507.72,618.43,805.31,210.07,279.84,124.59,475.84,384.0,787.63,11.46,409.86,788.3,103.78,589.14,478.34,191.17,434.4,706.77,939.59,100.23,386.65,727.74,44.25,770.99,101.81,410.63,799.93,977.22,587.51,82.02,759.0,720.93,802.19,662.63,419.9,418.7,458.04,614.38,159.39,864.64,565.21,743.35,481.57,811.54,509.31,443.29,945.58,513.28,878.11,238.69,430.43,929.61,15.9,371.12,643.96,694.31,833.42,246.23,785.97,598.19,55.03,479.33,853.75,410.57,455.39,146.7,663.32,445.0,370.4,939.92,485.58,546.48,22.67,314.21,39.66,944.95,35.26,289.49,104.91,198.52,426.04,575.5,461.76,411.23,255.71,258.89,535.07,677.98,106.24,535.66,346.9,305.77,229.41,804.94,529.97,127.36,131.21,619.57,581.86,166.34,46.63,481.19,407.66,910.8,865.42,496.67,303.24,676.24,247.9,165.82,660.92,729.1,62.8,738.78,185.77,893.46,165.96,107.98,672.81,301.59,691.38,968.95,537.14,721.04,925.92,223.42,645.51,998.06,231.35,311.34,711.26,105.97,752.38,177.01,111.48,343.4,530.61,38.17,672.44,101.0,678.27,521.26,637.69,804.25,632.93,318.49,443.59,368.81,261.05,101.87,45.71,377.29,931.52,124.18,708.36,986.36,817.45,279.03,792.75,350.31,477.76,329.51,702.28,848.97,402.49,679.02,579.61,923.35,829.22,327.57,432.96,577.44,153.48,132.33,86.41,151.85,266.74,521.66,602.31,869.82,157.21,524.18,914.06,129.92,376.36,863.55,121.21,184.68,960.42,167.9,470.51,861.16,729.35,694.4,479.49,493.09,125.56,539.06,934.0,948.65,692.66,452.68,334.56,663.33,82.11,26.18,183.2,345.27,363.77,77.51,667.56,185.3,476.61,970.77,161.15,648.53,134.93,124.45,84.68,35.4,595.81,551.23,79.51,295.73,626.2,811.96,787.43,163.01,611.43,272.94,401.69,565.81,834.74,889.03,16.48,822.42,651.07,435.74,674.76,946.37,53.97,445.42,440.18,315.84,196.04,334.35,474.93,136.68,358.37,36.9,599.51,775.31,434.55,726.39,398.68,62.5,792.78,206.07,882.89,685.34,940.93,852.8,871.01,451.63,403.68,373.1,658.04,375.77,873.77,695.23,819.57,101.59,273.71,219.12,153.94,805.39,824.24,381.2,113.56,699.24,429.27,610.65,42.35,504.78,230.74,308.97,454.31,389.62,465.73,255.47,175.39,504.97,253.32,796.99,342.09,888.28,567.7,341.93,30.85,754.42,651.72,629.77,792.43,457.9,999.8,525.56,244.01,561.46,207.32,521.38,492.77,772.78,716.26,890.03,219.81,687.94,962.03,492.27,200.67,944.98,509.58,302.84,824.34,160.2,717.8,185.49,760.16,764.78,924.23,156.52,238.11,115.88,868.58,974.4,685.24,559.65,259.72,42.73,841.8,153.19,511.72,357.21,462.67,256.63,864.55,152.09,193.45,47.68,212.22,346.3,515.57,425.88,622.83,183.38,805.55,259.47,105.55,184.81,733.97,339.9,721.14,144.74,72.61,507.8,860.64,746.92,501.9,233.21,256.05,66.19,792.8,388.86,544.63,219.06,703.6,446.71,812.01,865.8,480.95,738.84,246.41,12.14,838.01,244.04,266.45,864.22,261.7,330.04,415.86,633.89,145.93,654.06,203.06,387.74,560.83,475.64,736.89,396.73,885.43,159.41,808.87,824.61,962.91,542.04,551.67,350.37,671.24,361.5,513.16,873.77,752.18,196.16,364.62,37.29,69.23,540.52,180.06,942.84,516.47,587.5,378.27,781.51,394.48,51.09,502.53,96.78,868.79,303.07,151.6,611.49,699.48,34.52,931.05,629.62,267.04,167.64,329.34,299.53,557.68,608.64,434.31,794.8,481.62,771.3,311.0,128.95,538.85,651.59,721.79,897.57,460.85,950.4,545.77,103.58,620.35,634.57,234.25,5.34,722.86,715.36,489.45,409.65,247.95,436.9,978.12,785.21,610.13,343.24,168.86,303.43,510.4,235.29,765.79,542.86,951.46,559.6,399.0,749.92,180.76,588.39,833.84,524.83,449.31,32.94,411.61,636.7,268.94,263.45,88.78,311.21,109.02,324.71,600.8,882.17,362.1,999.86,780.61,681.76,507.63,614.83,365.67,400.25,849.09,697.28,646.17,608.43,323.2,392.04,561.61,961.17,153.31,554.0,573.03,338.23,925.81,261.48,996.08,378.88,373.65,847.31,216.84,695.2,711.06,602.05,176.86,941.09,23.58,326.51,365.27,515.55,459.7,416.81,430.27,382.12,986.3,605.29,515.8,290.46,150.64,779.59,685.82,37.81,891.2,762.64,42.21,987.43,912.91,697.19,471.3,830.34,825.53,953.9,759.4,346.66,589.23,642.81,654.44,434.79,817.24,422.12,366.21,766.13,47.28,784.3,730.53,339.94,432.23,223.43,740.37,707.17,807.55,777.79,196.68,567.21,186.84,360.28,706.74,381.12,890.62,35.83,433.37,502.89,349.84,535.84,584.72,645.16,779.66,24.28,276.57,399.31,125.36,478.75,897.58,971.92,342.41,898.57,236.17,131.87,632.87,580.4,981.36,837.07,205.6,303.13,570.19,754.04,462.27,398.45,592.66,751.01,925.36,599.13,225.44,382.1,230.9,479.3,666.73,777.56,481.94,781.11,334.82,479.31,476.72,886.79,741.79,508.97,735.99,677.19,368.99,729.74,262.24,257.54,614.5,853.21,607.37,319.78,610.43,47.57,739.69,491.71,649.44,300.13,68.1,835.41,808.29,608.92,349.6,986.16,278.49,394.89,755.91,181.77,890.02,849.27,998.1,338.55,813.96,379.48,699.93,786.49,836.17,203.58,546.65,861.11,932.9,95.79,636.96,119.57,248.95,731.79,449.24,658.03,988.8,268.15,896.05,851.01,770.88,431.22,499.0,135.65,864.97,66.1,999.73,662.71,547.09,989.62,412.22,106.35,124.23,434.74,793.22,132.31,92.25,43.11,651.86,458.66,736.42,357.03,730.55,496.78,530.64,299.9,568.06,670.47,27.16,906.19,511.39,69.4,621.12,346.88,949.16,753.7,672.03,753.68,319.23,538.47,163.92,278.97,396.19,646.39,950.67,559.83,384.77,893.73,930.17,942.82,663.12,869.04,174.49,170.68,20.29,67.71,572.47,793.99,560.79,287.59,740.57,698.75,279.51,477.95,502.04,441.01,729.47,887.14,956.87,715.8,603.2,913.28,501.43,233.56,997.66,902.12,743.21,871.28,648.02,427.46,809.44,906.87,111.19,533.64,364.96,934.57,786.53,964.87,701.22,131.43,745.34,142.99,309.99,604.24,582.87,27.57,640.91,517.13,780.86,648.33,168.8,530.28,357.33,763.18,368.3,686.16,728.53,553.0,156.59,90.53,19.25,652.24,212.65,940.17,133.31,58.06,451.51,522.93,618.87,168.93,293.32,773.26,575.95,707.77,164.11,850.54,153.47,448.0,968.06,629.81,144.24,48.99,550.2,952.91,394.01,579.59,965.64,809.16,216.6,351.18,340.88,489.04,619.91,972.25,668.2,576.76,644.26,528.13,996.6,418.78,270.2,665.67,962.09,227.42,371.15,665.53,379.55,35.92,308.51,10.56,742.62,905.43,734.79,76.2,762.16,777.11,606.06,906.81,443.82,291.16,629.93,45.42,278.97,629.02,392.92,777.15,576.84,83.61,633.68,826.95,99.3,941.44,173.74,388.28,872.82,738.26,853.63,68.54,190.61,401.96,140.63,398.0,319.14,777.17,793.07,437.44,824.42,540.44,705.17,38.92,145.91,733.11,185.67,320.73,156.9,747.18,851.69,243.07,26.17,530.83,862.75,256.39,640.87,999.23,296.09,370.29,629.0,255.13,856.95,51.75,321.67,116.0,894.57,113.12,678.23,744.24,355.17,391.11,724.2,296.78,262.98,844.23,698.78,179.36,243.61,300.46,155.32,863.88,662.17,424.14,283.41,245.66,602.76,810.72,287.85,117.21,330.5,161.28,897.45,86.54,427.67,299.22,958.76,13.43,329.64,629.99,283.34,450.45,240.77,783.16,769.82,325.03,137.42,385.72,792.55,769.73,482.05,822.18,79.23,607.36,487.1,653.1,225.08,665.26,857.14,656.24,61.9,565.66,291.26,740.54,233.68,343.55,666.0,251.1,94.63,764.05,387.84,143.42,273.44,328.04,449.97,710.71,326.0,704.72,386.15,910.19,283.57,620.08,604.39,400.52,55.77,414.69,233.0,45.91,312.35,201.81,244.35,804.25,167.58,286.57,617.77,291.07,569.25,112.89,813.6,62.26,534.44,202.81,911.78,54.94,413.99,670.24,113.86,481.82,164.66,529.25,806.68,189.53,164.8,387.69,280.22,64.26,125.59,490.08,759.05,757.05,923.34,554.12,593.24,354.38,456.94,616.57,86.26,12.72,192.79,629.78,553.93,551.8,694.48,155.86,735.43,32.25,881.93,252.71,524.84,190.0,943.39,804.8,194.92,766.73,824.28,813.72,463.48,919.44,556.85,788.31,559.61,566.55,526.56,924.23,933.37,532.42,209.03,782.43,897.27,650.26,523.06,428.11,471.08,310.44,13.58,931.44,160.3,204.46,785.27,943.34,746.32,867.65,359.58,65.11,536.08,602.9,945.33,933.57,854.58,252.43,565.51,811.06,365.91,749.84,50.97,208.3,272.57,399.87,190.71,511.22,678.75,950.09,538.11,641.12,249.21,550.87,725.72,959.73,806.71,210.64,608.26,732.26,504.1,330.76,695.07,564.05,170.8,794.91,949.14,638.99,639.56,345.68,529.35,367.54,750.96,183.11,140.83,816.41,965.96,599.71,62.6,595.98,645.54,364.11,125.9,144.8,281.33,510.5,809.99,249.15,293.11,102.77,460.73,843.96,380.84,186.46,121.41,72.6,914.41,720.3,482.8,53.45,526.0,486.91,76.63,359.63,373.39,546.88,925.33,902.07,992.5,96.81,412.95,525.5,274.58,358.47,289.92,175.22,173.89,225.66,917.58,998.08,453.39,48.85,467.32,921.36,607.33,160.65,644.13,991.23,397.69,763.3,556.61,404.86,365.67,283.28,267.83,173.64,983.24,223.6,927.9,331.44,159.72,474.26,32.57,107.0,712.25,796.35,382.04,794.18,895.51,377.59,267.19,79.95,164.74,595.85,484.78,707.28,139.63,960.85,290.04,899.35,8.7,200.36,939.48,829.48,490.59,578.27,237.2,434.0,358.61,857.73,250.93,367.59,205.99,594.03,906.53,834.03,990.39,703.77,547.73,519.79,950.8,134.55,647.3,604.83,395.4,653.43,56.16,575.11,373.08,944.97,552.14,774.68,873.8,926.56,421.62,443.39,379.35,846.25,127.39,263.32,205.87,406.92,318.56,202.56,233.33,425.57,923.27,476.57,335.79,106.41,607.53,241.8,922.06,454.03,430.31,772.13,803.04,919.81,781.04,407.59,219.89,621.22,172.41,147.61,272.7,475.64,148.2,297.28,527.91,61.37,746.41,322.24,592.7,321.93,101.28,827.17,74.54,254.65,38.78,903.53,732.08,91.06,53.79,507.89,460.26,574.41,774.84,190.31,825.25,814.87,874.89,801.44,27.24,986.65,877.6,10.67,447.13,597.42,411.73,172.58,523.87,972.36,460.58,541.4,142.46,712.22,52.42,215.26,528.94,159.18,624.26,886.33,849.29,873.34,598.69,527.19,289.03,534.65,536.11,338.95,508.75,876.5,727.25,235.2,762.83,435.52,940.44,33.99,807.56,751.39,578.87,344.08,929.72,609.67,407.33,930.39,803.2,210.24,12.17,854.56,902.06,934.78,656.15,198.79,304.95,118.9,272.01,260.97,779.45,237.9,952.7,723.45,971.39,370.43,349.57,782.61,91.26,402.4,444.83,882.23,295.57,994.63,747.81,875.58,209.39,478.46,232.93,762.05,722.34,35.06,782.47,193.19,632.9,41.4,982.7,621.81,816.98,868.4,460.49,626.67,171.73,869.2,196.4,896.44,485.28,562.4,503.55,65.74,96.77,955.29,623.41,436.42,693.6,831.48,893.59,229.95,751.08,961.02,15.92,580.49,125.07,550.44,763.85,131.06,708.79,304.45,380.45,832.11,935.86,306.34,112.04,124.98,449.78,541.5,446.91,162.11,450.0,253.64,630.76,651.94,671.22,341.49,582.29,616.47,52.26,770.92,460.06,98.08,200.7,641.38,532.82,215.4,675.36,227.63,457.88,924.39,484.23,621.63,675.94,11.95,835.85,609.3,615.02,351.19,870.56,547.4,233.64,300.07,16.38,295.26,387.85,468.65,214.19,476.59,726.65,201.42,549.42,647.8,295.15,561.96,484.69,235.48,708.19,499.77,139.7,349.09,136.77,984.61,813.28,243.98,618.19,606.38,633.47,268.9,268.02,23.07,751.76,98.23,454.49,337.72,266.91,260.37,563.26,794.63,997.91,185.03,374.62,654.5,296.36,985.89,499.96,48.17,765.44,79.41,208.88,370.97,445.9,595.67,195.33,552.28,219.73,650.1,770.36,117.43,223.68,737.7,806.87,576.76,883.46,588.52,692.44,255.24,501.57,769.5,133.12,856.64,243.74,528.38,348.97,528.08,960.28,336.12,529.56,388.97,838.01,780.33,252.64,876.78,354.98,737.48,453.08,974.48,113.34,545.42,786.81,996.11,429.9,337.78,640.73,368.49,151.16,841.45,579.22,724.65,258.32,539.51,404.74,995.22,172.25,731.13,225.96,657.96,938.0,720.22,221.63,46.95,461.31,554.12,793.17,300.13,549.3,567.82,939.16,792.28,238.11,530.48,102.58,483.24,44.85,959.75,766.73,900.43,421.0,173.73,230.66,494.31,578.29,312.46,973.39,291.21,118.58,477.81,14.42,615.73,573.05,877.35,837.15,180.79,663.55,353.63,813.93,69.22,413.24,848.45,407.47,206.78,682.26,736.77,143.92,379.43,183.92,512.56,281.05,628.57,252.64,655.87,573.81,874.48,507.9,495.23,536.96,495.44,159.79,901.66,308.74,526.18,294.29,516.76,256.38,820.44,301.71,595.72,803.06,475.94,671.29,779.37,739.46,264.79,613.89,717.32,803.66,849.62,772.24,720.58,340.51,954.07,206.52,782.33,235.34,558.66,589.83,806.48,314.05,349.6,433.27,904.79,309.68,918.42,837.17,326.88,958.63,722.25,837.27,464.28,218.77,363.85,414.78,990.82,459.64,524.07,951.53,510.08,460.14,260.15,413.26,529.43,846.76,31.11,757.89,275.73,460.24,467.67,82.07,622.33,488.33,410.35,56.11,889.49,269.88,166.15,549.22,601.72,791.8,985.5,360.45,768.12,348.49,544.08,726.89,980.98,400.18,297.52,906.76,837.8,474.85,500.41,724.43,620.55,793.73,204.08,82.52,510.34,375.16,736.64,961.23,294.41,624.81,833.57,882.56,950.47,328.81,948.35,836.14,860.07,189.47,917.96,525.07,856.85,88.45,984.82,254.6,796.08,323.33,16.2,180.99,743.92,105.19,382.63,494.25,203.06,247.72,731.62,973.43,583.06,983.0,577.76,412.23,225.39,346.29,359.52,827.48,690.3,507.54,30.96,742.34,525.02,143.7,849.79,406.28,304.82,281.69,154.61,628.63,698.13,521.48,214.89,988.42,62.22,815.32,111.99,853.64,907.45,917.72,377.54,555.77,911.6,307.38,133.23,601.74,959.74,988.15,114.38,582.44,566.24,562.8,601.68,748.18,586.62,898.67,168.87,893.67,682.12,199.41,492.31,490.5,976.96,283.4,92.27,476.95,394.77,907.05,959.55,783.55,879.07,927.09,545.8,374.06,736.84,605.04,17.7,717.8,171.11,444.14,750.85,422.89,45.07,866.1,831.81,94.22,941.09,104.69,653.98,702.62,879.38,51.94,562.71,864.45,295.53,159.3,9.12,274.37,508.05,687.75,252.28,465.17,66.61,605.56,703.68,565.0,862.7,352.42,611.18,435.09,383.68,682.62,126.16,79.69,579.63,190.24,934.78,136.69,919.43,543.84,633.82,194.93,328.06,799.73,88.54,522.54,582.4,122.75,632.61,528.87,637.65,102.78,708.89,745.97,188.8,362.86,817.29,359.0,437.47,874.51,464.69,234.7,350.95,839.17,953.07,652.96,904.3,923.71,678.2,921.74,337.64,635.69,161.75,646.8,725.41,591.39,937.89,735.76,523.45,675.16,338.03,177.19,390.95,282.66,602.48,250.75,176.49,977.58,291.68,29.35,867.91,335.33,106.23,232.85,67.73,713.86,370.38,303.23,583.3,678.37,27.03,583.94,265.52,725.82,162.73,69.37,525.16,105.88,310.02,485.67,203.79,838.84,688.44,193.26,699.25,254.64,56.97,237.64,845.42,731.36,698.3,355.03,797.65,861.7,402.6,403.64,261.05,371.47,232.8,212.29,525.94,323.5,558.31,780.52,457.68,135.0,359.32,74.58,591.49,98.23,331.64,685.12,848.39,341.02,344.49,431.86,144.37,392.78,331.93,535.52,501.24,155.19,454.98,446.42,106.57,621.21,305.97,83.82,608.45,592.2,632.8,73.01,431.09,559.57,47.38,922.76,90.21,28.52,705.25,511.73,22.42,406.28,195.07,874.87,235.8,744.61,964.04,527.31,592.71,469.8,491.5,263.38,787.94,701.54,187.84,959.05,249.5,537.77,359.72,417.23,212.42,194.19,860.56,374.5,791.22,48.3,170.21,991.67,868.17,912.15,20.54,691.55,389.27,660.23,754.93,355.06,813.48,473.03,431.14,517.91,817.05,248.28,821.45,363.55,841.99,786.55,874.92,846.56,268.51,926.82,325.86,275.6,984.48,584.53,649.64,526.06,980.49,134.63,242.03,428.75,14.49,304.48,145.56,459.69,343.82,610.74,629.45,853.71,616.35,491.39,766.13,816.62,248.46,35.66,231.77,598.99,800.27,777.17,404.18,298.2,518.37,230.49,303.14,104.1,190.85,968.27,967.68,369.77,223.2,331.75,989.31,861.25,944.99,37.39,638.09,254.06,703.86,13.88,551.73,747.46,685.7,436.29,952.84,880.74,300.3,9.44,154.3,853.99,435.96,855.31,664.07,157.1,216.17,123.45,897.74,667.22,838.65,395.4,827.59,590.46,540.03,709.99,205.29,622.4,291.45,218.02,967.66,844.65,551.58,559.6,502.51,665.02,427.42,596.03,529.95,732.41,228.06,643.16,342.12,769.71,24.95,798.8,385.51,572.98,924.32,931.72,106.21,176.66,142.99,884.62,491.96,630.03,707.23,854.36,14.62,736.34,230.38,133.39,834.03,504.59,512.04,954.53,533.85,986.12,378.37,413.41,10.09,538.3,855.07,277.8,290.48,768.68,222.46,336.23,716.49,932.94,64.55,649.66,236.43,56.65,312.88,695.36,888.59,691.57,818.69,414.29,212.16,189.55,364.98,946.67,432.06,520.85,783.01,128.39,416.9,206.23,531.88,232.07,16.57,470.42,25.98,108.78,48.74,672.46,434.23,429.85,589.33,41.53,605.96,457.38,12.73,984.56,665.5,820.98,996.76,771.5,458.67,708.39,145.77,872.13,659.52,770.71,82.92,867.98,621.56,632.19,663.02,887.75,75.95,854.49,278.43,230.26,392.46,786.89,818.47,218.49,510.53,732.71,461.71,401.55,203.66,461.55,982.51,173.31,936.58,576.47,379.12,997.34,103.86,137.5,102.34,252.38,213.24,171.92,610.97,299.49,539.65,875.9,186.11,731.64,862.99,748.69,336.61,826.05,802.35,77.32,952.84,167.27,141.19,212.61,873.95,674.54,722.46,852.34,431.05,206.33,310.98,197.09,640.91,571.0,409.22,790.62,916.4,746.13,927.29,746.57,719.81,928.2,390.37,247.75,925.34,968.55,723.88,533.98,460.56,825.81,518.96,304.16,476.5,119.38,881.24,850.54,118.48,535.13,834.69,940.67,232.34,189.03,402.12,80.31,217.08,489.74,257.35,836.5,175.24,382.79,244.73,205.6,410.29,486.59,580.71,154.94,558.87,198.4,993.72,852.62,914.52,576.4,577.84,575.45,894.51,533.23,271.47,538.01,845.6,705.39,466.84,249.75,604.06,249.26,647.59,219.59,871.1,233.9,411.55,438.47,35.01,42.64,723.82,340.97,341.3,358.0,235.75,219.25,542.27,975.32,434.96,617.51,453.42,489.22,73.6,427.68,868.83,383.46,742.95,834.08,506.75,212.47,653.73,136.62,582.85,340.55,505.79,308.35,995.4,399.45,279.4,625.19,357.53,122.17,496.45,444.91,48.65,720.9,222.7,339.01,999.17,597.5,302.19,304.67,439.9,660.21,433.33,250.2,453.88,741.3,122.81,846.4,797.84,158.86,318.19,126.58,574.39,165.37,246.46,647.51,653.11,927.58,286.04,632.03,514.39,216.42,147.49,183.57,371.67,977.88,719.43,26.39,312.27,770.88,698.19,400.66,941.35,482.34,323.61,887.12,594.35,565.41,974.4,381.63,361.34,269.79,996.58,243.41,337.32,384.36,278.67,439.46,111.64,71.51,937.28,252.62,617.26,29.42,15.37,110.09,273.35,258.3,203.71,459.99,959.22,405.9,338.36,377.48,742.45,74.08,148.51,465.5,319.55,29.98,852.96,589.89,189.23,78.08,637.3,124.89,864.75,769.53,216.09,60.16,886.17,972.45,986.52,738.64,802.5,893.0,626.43,675.81,474.39,956.56,963.3,30.26,473.62,220.74,772.27,56.45,819.87,749.72,495.74,174.98,164.76,865.36,36.13,455.42,538.63,444.87,96.45,551.47,855.8,187.03,222.89,226.77,263.65,499.3,64.05,552.52,677.05,682.63,227.07,538.22,742.54,32.76,792.22,101.79,262.62,279.57,217.94,194.5,176.13,328.55,411.7,908.91,866.55,104.26,293.23,792.49,675.74,223.06,665.33,564.93,148.06,877.34,676.86,693.62,725.7,661.11,764.41,674.24,202.1,44.45,855.83,764.24,377.24,951.34,500.57,906.08,874.91,728.61,102.95,593.67,70.74,119.2,391.99,344.98,82.93,967.59,916.47,316.53,287.57,337.99,382.98,324.17,160.91,388.48,955.42,390.3,683.79,583.88,128.04,35.7,9.51,430.01,578.5,509.36,441.59,544.73,80.75,8.82,301.95,306.1,986.11,659.59,99.21,40.9,164.74,603.7,388.44,729.5,578.37,476.87,890.14,802.13,70.26,718.97,33.95,72.76,316.9,814.64,527.38,444.85,255.86,774.62,508.24,777.08,920.39,79.61,673.48,629.06,475.63,967.14,785.15,291.32,136.2,500.36,674.93,262.0,789.12,585.36,769.18,446.87,549.54,546.69,585.8,667.36,921.96,165.82,991.98,455.56,912.55,743.27,483.18,913.27,93.38,424.37,965.67,264.78,688.4,434.98,993.24,572.82,296.82,300.66,328.59,111.64,85.96,109.95,467.76,281.29,851.68,691.74,669.78,231.64,747.19,398.17,442.06,759.07,437.02,242.72,345.22,518.77,946.86,763.26,818.66,513.89,296.85,866.81,155.86,631.25,328.09,282.29,633.2,449.66,345.71,136.87,605.37,314.02,356.17,972.9,357.06,475.8,837.68,684.79,240.87,964.19,121.26,667.23,739.2,868.87,665.42,757.16,137.26,871.14,24.41,353.69,854.27,41.55,468.99,725.9,643.69,35.86,797.58,312.02,349.98,263.29,90.78,713.8,402.22,538.0,103.09,8.25,463.7,292.26,992.1,278.8,522.16,667.6,235.17,214.87,727.33,585.18,340.78,702.46,197.39,49.93,666.79,540.73,860.71,13.13,130.34,231.41,78.77,212.33,889.42,119.52,539.63,388.84,737.41,771.41,166.43,103.64,71.77,721.56,344.15,215.02,464.86,896.67,9.3,591.87,668.29,689.67,460.17,140.44,499.95,915.87,309.76,557.19,619.32,794.95,745.7,930.74,65.31,555.05,212.34,981.81,730.9,598.65,817.17,141.08,892.27,263.8,630.43,132.88,766.54,759.91,372.07,744.06,976.81,546.5,985.22,30.47,725.35,532.37,454.13,779.81,735.42,367.29,194.28,522.64,561.73,217.49,857.15,448.09,734.09,926.68,400.52,24.97,859.4,858.71,258.93,450.19,76.33,806.41,557.73,126.67,508.85,469.58,402.22,457.7,460.84,82.56,864.03,415.84,184.26,357.37,970.46,22.08,675.13,22.68,338.63,701.32,619.89,269.18,642.4,27.78,818.34,617.9,470.19,186.4,780.69,978.25,96.08,352.01,63.73,394.3,889.19,141.28,554.37,7.43,631.73,328.91,72.81,955.73,392.0,766.69,892.43,835.73,618.45,489.18,416.22,103.75,988.66,174.31,454.37,524.65,906.89,248.14,528.38,781.3,78.85,704.08,955.91,464.0,703.8,60.95,845.91,912.53,806.89,211.44,347.42,578.22,163.25,878.83,500.49,777.17,493.14,68.62,348.89,842.46,690.36,420.32,382.78,920.31,121.61,466.44,850.75,597.05,201.5,179.98,959.54,620.54,30.17,546.87,608.16,960.0,725.55,842.06,113.93,802.28,709.3,399.07,735.79,149.65,159.39,793.57,584.59,573.21,7.1,968.03,882.67,963.2,150.16,143.99,618.88,188.6,107.43,75.03,318.44,317.22,408.86,607.58,447.21,62.32,204.16,950.22,621.99,83.6,673.59,47.87,599.35,72.58,387.05,745.87,340.96,293.51,96.06,234.1,311.65,455.78,435.86,548.37,681.6,785.85,736.3,114.21,503.17,32.75,41.65,573.9,719.13,721.46,941.13,250.59,827.73,738.96,967.9,891.47,921.85,12.26,653.3,709.25,999.24,989.53,329.38,605.23,573.25,182.53,898.2,15.49,155.51,180.7,13.87,514.37,761.18,645.67,865.59,781.58,823.15,236.86,782.82,893.56,485.42,300.39,283.84,945.83,57.57,965.12,496.03,487.39,287.98,995.79,801.48,822.24,330.01,609.95,366.88,343.16,241.69,47.3,769.66,157.12,494.31,122.0,144.37,835.81,900.83,226.93,82.73,944.5,317.47,498.8,201.58,626.02,802.66,926.14,423.87,723.15,886.57,902.29,409.92,188.62,562.98,915.94,229.62,318.93,805.22,494.33,94.71,446.23,865.17,141.88,271.87,739.43,839.52,519.3,897.18,997.13,23.66,826.36,258.07,404.69,86.13,398.42,473.73,159.13,846.6,744.31,976.32,968.1,460.75,853.84,127.51,139.36,581.2,953.72,851.54,745.73,297.85,300.87,440.95,621.79,63.98,341.18,11.27,61.05,733.69,217.18,805.36,948.27,765.18,282.27,737.76,306.68,227.51,246.6,257.57,128.43,6.76,974.82,356.97,34.82,236.67,639.28,919.84,695.38,449.37,731.34,27.23,244.62,961.96,956.44,348.05,298.69,648.35,443.0,198.44,830.4,623.86,399.26,710.49,910.58,174.08,211.81,655.75,724.69,808.23,625.71,121.13,63.37,975.96,681.79,401.01,632.5,760.81,84.53,652.94,445.12,896.42,884.62,859.88,736.73,47.8,686.3,434.45,778.6,337.82,592.8,537.64,947.01,218.09,764.05,728.28,679.23,568.34,470.39,417.91,596.57,801.23,417.54,646.46,22.32,733.37,562.94,517.16,44.39,524.4,102.03,397.98,890.85,461.85,485.3,840.31,961.06,997.22,537.42,751.29,387.05,708.89,778.87,241.13,246.07,382.37,514.1,983.88,300.41,858.71,93.94,108.86,883.82,238.94,542.58,43.48,707.62,805.06,475.37,635.08,168.72,820.82,226.18,25.02,821.95,180.66,698.13,617.36,703.67,755.87,81.07,186.01,151.92,602.94,439.6,455.35,715.2,696.64,257.31,780.46,784.78,879.18,776.83,998.85,208.3,824.94,275.03,253.56,569.17,769.88,924.97,944.57,11.57,906.24,459.29,448.16,748.53,182.89,146.36,548.58,698.2,733.21,698.56,474.17,710.22,667.43,648.95,921.49,189.69,704.49,712.74,79.85,853.09,150.9,224.45,86.96,321.0,136.56,653.96,277.53,460.09,957.76,803.99,870.44,48.72,736.65,613.8,968.05,839.57,559.98,791.28,597.76,341.38,48.85,15.24,453.84,265.94,507.98,816.58,426.93,245.51,584.69,811.25,925.09,528.93,583.23,989.52,750.38,943.37,568.96,861.21,220.04,145.8,631.04,163.4,639.64,615.94,693.87,720.59,819.56,851.49,236.16,445.41,407.65,14.24,571.09,972.31,777.65,944.0,661.28,24.52,632.77,957.13,856.29,175.34,738.87,965.63,826.85,325.84,423.21,983.03,118.99,826.31,743.94,120.99,927.11,692.8,100.68,417.69,390.76,217.36,17.96,328.66,935.22,22.05,191.73,182.58,475.82,333.09,183.51,53.61,467.65,500.18,50.36,149.07,605.43,197.28,857.37,6.57,451.12,616.52,419.79,119.31,585.65,159.98,336.27,445.63,776.53,440.81,189.82,98.35,993.27,225.85,248.84,653.25,373.12,76.43,895.31,804.79,767.8,787.24,937.42,590.96,910.17,935.86,547.05,587.39,168.07,711.3,6.12,106.32,713.95,787.61,766.78,752.32,525.2,477.75,894.74,940.86,873.62,690.67,137.23,77.39,24.12,611.14,630.07,138.44,777.92,480.55,534.29,709.8,246.18,339.77,41.02,537.02,58.26,994.81,818.64,744.65,488.94,857.53,43.79,403.12,724.12,776.6,444.83,808.42,300.73,500.09,818.39,639.56,142.48,355.38,977.38,154.89,181.58,976.18,985.72,640.78,578.62,970.59,394.96,988.44,394.08,270.96,653.6,321.21,824.27,882.02,145.27,237.81,47.96,377.52,288.85,932.48,419.7,183.78,810.0,270.37,707.77,582.35,67.26,572.76,769.74,774.9,227.13,685.88,590.17,498.37,801.11,961.53,527.3,242.16,404.79,460.26,933.61,928.41,502.65,63.73,495.74,813.11,166.49,185.9,599.0,663.14,830.98,913.24,11.02,268.53,104.41,902.87,608.16,427.44,170.78,465.95,649.58,739.48,351.49,112.84,653.04,781.03,399.55,644.73,511.11,504.19,464.67,324.69,484.1,632.3,618.73,439.66,224.57,470.12,313.54,791.39,759.63,45.47,975.49,485.63,51.11,500.16,6.0,433.44,217.35,480.86,641.26,469.87,254.99,649.33,651.7,846.91,48.79,602.82,242.11,935.55,889.74,51.52,640.18,629.6,107.75,410.3,806.26,225.03,77.34,447.06,860.87,931.13,548.48,932.24,94.22,175.71,336.19,996.67,304.62,127.67,466.73,326.48,203.38,931.69,226.01,974.01,492.75,357.04,555.7,823.88,564.02,51.23,446.46,226.88,330.92,584.3,58.11,104.5,260.57,650.67,925.93,857.01,947.85,413.23,876.91,145.64,536.8,259.74,118.85,874.65,205.2,427.65,690.12,456.15,298.44,687.06,981.05,861.16,623.92,531.22,888.74,754.68,662.39,362.39,183.56,630.67,911.43,559.21,694.07,50.78,827.44,358.32,927.02,36.83,32.14,913.17,506.3,434.06,248.34,602.78,617.35,817.09,573.71,982.57,37.12,408.23,165.77,970.58,137.81,610.0,487.7,599.41,562.93,718.78,520.48,415.97,359.33,932.02,915.52,508.67,388.75,331.35,893.27,136.19,97.32,424.9,270.77,597.7,373.12,127.88,165.6,892.49,710.92,993.62,499.46,363.28,839.73,985.86,12.83,737.18,156.0,914.32,636.41,564.49,481.64,624.92,845.56,182.67,86.54,639.71,297.25,153.55,561.6,753.28,636.55,987.96,541.07,575.31,508.91,641.33,456.8,897.13,879.66,142.85,11.71,466.75,445.52,876.82,906.04,374.69,788.29,974.44,823.44,159.05,835.83,320.47,590.69,919.35,757.31,25.54,545.45,540.17,395.81,58.7,50.48,866.31,762.26,889.65,346.98,887.6,55.07,327.3,732.47,118.75,394.27,825.32,693.28,644.55,431.06,445.74,449.28,775.88,333.12,177.58,659.7,132.61,379.47,898.66,797.5,323.99,626.46,63.94,17.26,104.64,239.18,137.73,172.26,937.11,712.48,547.7,912.65,355.36,537.88,180.04,890.64,675.71,759.93,794.64,846.42,106.51,158.66,573.19,226.95,981.3,71.28,640.93,996.0,622.86,480.33,918.46,22.31,264.35,964.36,883.48,592.0,79.01,236.56,498.52,88.61,985.72,252.84,666.66,71.56,211.51,584.38,940.72,317.23,254.03,207.73,995.82,735.45,69.46,785.99,909.15,475.12,103.29,540.05,86.28,892.58,453.97,808.0,19.35,947.82,278.79,922.45,902.67,227.05,46.97,492.48,437.42,71.38,138.34,252.61,715.05,537.27,914.0,882.69,694.54,151.81,259.79,171.96,400.09,770.52,535.79,165.38,954.02,709.07,296.34,871.01,476.44,321.19,479.84,692.93,391.48,385.2,262.43,53.45,13.09,953.44,304.4,886.08,605.71,47.49,473.73,932.98,940.9,81.01,472.32,99.23,797.81,820.17,34.94,233.45],\"yaxis\":\"y\",\"type\":\"scattergl\"}],                        {\"template\":{\"data\":{\"histogram2dcontour\":[{\"type\":\"histogram2dcontour\",\"colorbar\":{\"outlinewidth\":0,\"ticks\":\"\"},\"colorscale\":[[0.0,\"#0d0887\"],[0.1111111111111111,\"#46039f\"],[0.2222222222222222,\"#7201a8\"],[0.3333333333333333,\"#9c179e\"],[0.4444444444444444,\"#bd3786\"],[0.5555555555555556,\"#d8576b\"],[0.6666666666666666,\"#ed7953\"],[0.7777777777777778,\"#fb9f3a\"],[0.8888888888888888,\"#fdca26\"],[1.0,\"#f0f921\"]]}],\"choropleth\":[{\"type\":\"choropleth\",\"colorbar\":{\"outlinewidth\":0,\"ticks\":\"\"}}],\"histogram2d\":[{\"type\":\"histogram2d\",\"colorbar\":{\"outlinewidth\":0,\"ticks\":\"\"},\"colorscale\":[[0.0,\"#0d0887\"],[0.1111111111111111,\"#46039f\"],[0.2222222222222222,\"#7201a8\"],[0.3333333333333333,\"#9c179e\"],[0.4444444444444444,\"#bd3786\"],[0.5555555555555556,\"#d8576b\"],[0.6666666666666666,\"#ed7953\"],[0.7777777777777778,\"#fb9f3a\"],[0.8888888888888888,\"#fdca26\"],[1.0,\"#f0f921\"]]}],\"heatmap\":[{\"type\":\"heatmap\",\"colorbar\":{\"outlinewidth\":0,\"ticks\":\"\"},\"colorscale\":[[0.0,\"#0d0887\"],[0.1111111111111111,\"#46039f\"],[0.2222222222222222,\"#7201a8\"],[0.3333333333333333,\"#9c179e\"],[0.4444444444444444,\"#bd3786\"],[0.5555555555555556,\"#d8576b\"],[0.6666666666666666,\"#ed7953\"],[0.7777777777777778,\"#fb9f3a\"],[0.8888888888888888,\"#fdca26\"],[1.0,\"#f0f921\"]]}],\"heatmapgl\":[{\"type\":\"heatmapgl\",\"colorbar\":{\"outlinewidth\":0,\"ticks\":\"\"},\"colorscale\":[[0.0,\"#0d0887\"],[0.1111111111111111,\"#46039f\"],[0.2222222222222222,\"#7201a8\"],[0.3333333333333333,\"#9c179e\"],[0.4444444444444444,\"#bd3786\"],[0.5555555555555556,\"#d8576b\"],[0.6666666666666666,\"#ed7953\"],[0.7777777777777778,\"#fb9f3a\"],[0.8888888888888888,\"#fdca26\"],[1.0,\"#f0f921\"]]}],\"contourcarpet\":[{\"type\":\"contourcarpet\",\"colorbar\":{\"outlinewidth\":0,\"ticks\":\"\"}}],\"contour\":[{\"type\":\"contour\",\"colorbar\":{\"outlinewidth\":0,\"ticks\":\"\"},\"colorscale\":[[0.0,\"#0d0887\"],[0.1111111111111111,\"#46039f\"],[0.2222222222222222,\"#7201a8\"],[0.3333333333333333,\"#9c179e\"],[0.4444444444444444,\"#bd3786\"],[0.5555555555555556,\"#d8576b\"],[0.6666666666666666,\"#ed7953\"],[0.7777777777777778,\"#fb9f3a\"],[0.8888888888888888,\"#fdca26\"],[1.0,\"#f0f921\"]]}],\"surface\":[{\"type\":\"surface\",\"colorbar\":{\"outlinewidth\":0,\"ticks\":\"\"},\"colorscale\":[[0.0,\"#0d0887\"],[0.1111111111111111,\"#46039f\"],[0.2222222222222222,\"#7201a8\"],[0.3333333333333333,\"#9c179e\"],[0.4444444444444444,\"#bd3786\"],[0.5555555555555556,\"#d8576b\"],[0.6666666666666666,\"#ed7953\"],[0.7777777777777778,\"#fb9f3a\"],[0.8888888888888888,\"#fdca26\"],[1.0,\"#f0f921\"]]}],\"mesh3d\":[{\"type\":\"mesh3d\",\"colorbar\":{\"outlinewidth\":0,\"ticks\":\"\"}}],\"scatter\":[{\"fillpattern\":{\"fillmode\":\"overlay\",\"size\":10,\"solidity\":0.2},\"type\":\"scatter\"}],\"parcoords\":[{\"type\":\"parcoords\",\"line\":{\"colorbar\":{\"outlinewidth\":0,\"ticks\":\"\"}}}],\"scatterpolargl\":[{\"type\":\"scatterpolargl\",\"marker\":{\"colorbar\":{\"outlinewidth\":0,\"ticks\":\"\"}}}],\"bar\":[{\"error_x\":{\"color\":\"#2a3f5f\"},\"error_y\":{\"color\":\"#2a3f5f\"},\"marker\":{\"line\":{\"color\":\"#E5ECF6\",\"width\":0.5},\"pattern\":{\"fillmode\":\"overlay\",\"size\":10,\"solidity\":0.2}},\"type\":\"bar\"}],\"scattergeo\":[{\"type\":\"scattergeo\",\"marker\":{\"colorbar\":{\"outlinewidth\":0,\"ticks\":\"\"}}}],\"scatterpolar\":[{\"type\":\"scatterpolar\",\"marker\":{\"colorbar\":{\"outlinewidth\":0,\"ticks\":\"\"}}}],\"histogram\":[{\"marker\":{\"pattern\":{\"fillmode\":\"overlay\",\"size\":10,\"solidity\":0.2}},\"type\":\"histogram\"}],\"scattergl\":[{\"type\":\"scattergl\",\"marker\":{\"colorbar\":{\"outlinewidth\":0,\"ticks\":\"\"}}}],\"scatter3d\":[{\"type\":\"scatter3d\",\"line\":{\"colorbar\":{\"outlinewidth\":0,\"ticks\":\"\"}},\"marker\":{\"colorbar\":{\"outlinewidth\":0,\"ticks\":\"\"}}}],\"scattermapbox\":[{\"type\":\"scattermapbox\",\"marker\":{\"colorbar\":{\"outlinewidth\":0,\"ticks\":\"\"}}}],\"scatterternary\":[{\"type\":\"scatterternary\",\"marker\":{\"colorbar\":{\"outlinewidth\":0,\"ticks\":\"\"}}}],\"scattercarpet\":[{\"type\":\"scattercarpet\",\"marker\":{\"colorbar\":{\"outlinewidth\":0,\"ticks\":\"\"}}}],\"carpet\":[{\"aaxis\":{\"endlinecolor\":\"#2a3f5f\",\"gridcolor\":\"white\",\"linecolor\":\"white\",\"minorgridcolor\":\"white\",\"startlinecolor\":\"#2a3f5f\"},\"baxis\":{\"endlinecolor\":\"#2a3f5f\",\"gridcolor\":\"white\",\"linecolor\":\"white\",\"minorgridcolor\":\"white\",\"startlinecolor\":\"#2a3f5f\"},\"type\":\"carpet\"}],\"table\":[{\"cells\":{\"fill\":{\"color\":\"#EBF0F8\"},\"line\":{\"color\":\"white\"}},\"header\":{\"fill\":{\"color\":\"#C8D4E3\"},\"line\":{\"color\":\"white\"}},\"type\":\"table\"}],\"barpolar\":[{\"marker\":{\"line\":{\"color\":\"#E5ECF6\",\"width\":0.5},\"pattern\":{\"fillmode\":\"overlay\",\"size\":10,\"solidity\":0.2}},\"type\":\"barpolar\"}],\"pie\":[{\"automargin\":true,\"type\":\"pie\"}]},\"layout\":{\"autotypenumbers\":\"strict\",\"colorway\":[\"#636efa\",\"#EF553B\",\"#00cc96\",\"#ab63fa\",\"#FFA15A\",\"#19d3f3\",\"#FF6692\",\"#B6E880\",\"#FF97FF\",\"#FECB52\"],\"font\":{\"color\":\"#2a3f5f\"},\"hovermode\":\"closest\",\"hoverlabel\":{\"align\":\"left\"},\"paper_bgcolor\":\"white\",\"plot_bgcolor\":\"#E5ECF6\",\"polar\":{\"bgcolor\":\"#E5ECF6\",\"angularaxis\":{\"gridcolor\":\"white\",\"linecolor\":\"white\",\"ticks\":\"\"},\"radialaxis\":{\"gridcolor\":\"white\",\"linecolor\":\"white\",\"ticks\":\"\"}},\"ternary\":{\"bgcolor\":\"#E5ECF6\",\"aaxis\":{\"gridcolor\":\"white\",\"linecolor\":\"white\",\"ticks\":\"\"},\"baxis\":{\"gridcolor\":\"white\",\"linecolor\":\"white\",\"ticks\":\"\"},\"caxis\":{\"gridcolor\":\"white\",\"linecolor\":\"white\",\"ticks\":\"\"}},\"coloraxis\":{\"colorbar\":{\"outlinewidth\":0,\"ticks\":\"\"}},\"colorscale\":{\"sequential\":[[0.0,\"#0d0887\"],[0.1111111111111111,\"#46039f\"],[0.2222222222222222,\"#7201a8\"],[0.3333333333333333,\"#9c179e\"],[0.4444444444444444,\"#bd3786\"],[0.5555555555555556,\"#d8576b\"],[0.6666666666666666,\"#ed7953\"],[0.7777777777777778,\"#fb9f3a\"],[0.8888888888888888,\"#fdca26\"],[1.0,\"#f0f921\"]],\"sequentialminus\":[[0.0,\"#0d0887\"],[0.1111111111111111,\"#46039f\"],[0.2222222222222222,\"#7201a8\"],[0.3333333333333333,\"#9c179e\"],[0.4444444444444444,\"#bd3786\"],[0.5555555555555556,\"#d8576b\"],[0.6666666666666666,\"#ed7953\"],[0.7777777777777778,\"#fb9f3a\"],[0.8888888888888888,\"#fdca26\"],[1.0,\"#f0f921\"]],\"diverging\":[[0,\"#8e0152\"],[0.1,\"#c51b7d\"],[0.2,\"#de77ae\"],[0.3,\"#f1b6da\"],[0.4,\"#fde0ef\"],[0.5,\"#f7f7f7\"],[0.6,\"#e6f5d0\"],[0.7,\"#b8e186\"],[0.8,\"#7fbc41\"],[0.9,\"#4d9221\"],[1,\"#276419\"]]},\"xaxis\":{\"gridcolor\":\"white\",\"linecolor\":\"white\",\"ticks\":\"\",\"title\":{\"standoff\":15},\"zerolinecolor\":\"white\",\"automargin\":true,\"zerolinewidth\":2},\"yaxis\":{\"gridcolor\":\"white\",\"linecolor\":\"white\",\"ticks\":\"\",\"title\":{\"standoff\":15},\"zerolinecolor\":\"white\",\"automargin\":true,\"zerolinewidth\":2},\"scene\":{\"xaxis\":{\"backgroundcolor\":\"#E5ECF6\",\"gridcolor\":\"white\",\"linecolor\":\"white\",\"showbackground\":true,\"ticks\":\"\",\"zerolinecolor\":\"white\",\"gridwidth\":2},\"yaxis\":{\"backgroundcolor\":\"#E5ECF6\",\"gridcolor\":\"white\",\"linecolor\":\"white\",\"showbackground\":true,\"ticks\":\"\",\"zerolinecolor\":\"white\",\"gridwidth\":2},\"zaxis\":{\"backgroundcolor\":\"#E5ECF6\",\"gridcolor\":\"white\",\"linecolor\":\"white\",\"showbackground\":true,\"ticks\":\"\",\"zerolinecolor\":\"white\",\"gridwidth\":2}},\"shapedefaults\":{\"line\":{\"color\":\"#2a3f5f\"}},\"annotationdefaults\":{\"arrowcolor\":\"#2a3f5f\",\"arrowhead\":0,\"arrowwidth\":1},\"geo\":{\"bgcolor\":\"white\",\"landcolor\":\"#E5ECF6\",\"subunitcolor\":\"white\",\"showland\":true,\"showlakes\":true,\"lakecolor\":\"white\"},\"title\":{\"x\":0.05},\"mapbox\":{\"style\":\"light\"}}},\"xaxis\":{\"anchor\":\"y\",\"domain\":[0.0,1.0],\"title\":{\"text\":\"Time Spent on Website (minutes)\"}},\"yaxis\":{\"anchor\":\"x\",\"domain\":[0.0,1.0],\"title\":{\"text\":\"Purchase Amount ($)\"}},\"legend\":{\"tracegroupgap\":0},\"title\":{\"text\":\"Correlation between Time Spent on Website and Purchase Amount\"}},                        {\"responsive\": true}                    ).then(function(){\n",
              "                            \n",
              "var gd = document.getElementById('303c9246-07a0-4fb0-82cd-bc9b32a95748');\n",
              "var x = new MutationObserver(function (mutations, observer) {{\n",
              "        var display = window.getComputedStyle(gd).display;\n",
              "        if (!display || display === 'none') {{\n",
              "            console.log([gd, 'removed!']);\n",
              "            Plotly.purge(gd);\n",
              "            observer.disconnect();\n",
              "        }}\n",
              "}});\n",
              "\n",
              "// Listen for the removal of the full notebook cells\n",
              "var notebookContainer = gd.closest('#notebook-container');\n",
              "if (notebookContainer) {{\n",
              "    x.observe(notebookContainer, {childList: true});\n",
              "}}\n",
              "\n",
              "// Listen for the clearing of the current output cell\n",
              "var outputEl = gd.closest('.output');\n",
              "if (outputEl) {{\n",
              "    x.observe(outputEl, {childList: true});\n",
              "}}\n",
              "\n",
              "                        })                };                            </script>        </div>\n",
              "</body>\n",
              "</html>"
            ]
          },
          "metadata": {}
        }
      ]
    },
    {
      "cell_type": "markdown",
      "source": [
        "As we can see, the correlation between time spent on the website and Purchase of items is very low which is around 0.01."
      ],
      "metadata": {
        "id": "LM5T6AMjf4ZY"
      }
    },
    {
      "cell_type": "code",
      "source": [
        "corr_timespent_items = df['Time Spent on Website (min)'].corr(df['Number of Items Purchased'])\n",
        "print(corr_timespent_items)"
      ],
      "metadata": {
        "colab": {
          "base_uri": "https://localhost:8080/"
        },
        "id": "pc7VgVPMggcu",
        "outputId": "6d83cd2c-2f89-4a94-cc9d-a339a6af5028"
      },
      "execution_count": null,
      "outputs": [
        {
          "output_type": "stream",
          "name": "stdout",
          "text": [
            "0.00014797204544230073\n"
          ]
        }
      ]
    },
    {
      "cell_type": "markdown",
      "source": [
        "**So, spending more time on the website doesn't mean he/she would buy more items.**"
      ],
      "metadata": {
        "id": "ZNNdjYR8gynp"
      }
    },
    {
      "cell_type": "markdown",
      "source": [
        "**Q3: What percentage of customers are satisfied (rating of 4 or 5) and are also return\n",
        "customers?**"
      ],
      "metadata": {
        "id": "xMJaqSiPC7gK"
      }
    },
    {
      "cell_type": "code",
      "source": [
        "satisfied_customers = df[df['Review Score (1-5)'] >= 4]\n",
        "return_satisfied_customers = satisfied_customers[satisfied_customers['Return Customer'] == True]\n",
        "percentage_rsc = (len(return_satisfied_customers) / len(df)) * 100\n",
        "\n",
        "\n",
        "print(f\"Percentage of satisfied return customers: {percentage_rsc:.2f}%\")"
      ],
      "metadata": {
        "colab": {
          "base_uri": "https://localhost:8080/"
        },
        "id": "k2mqvRTYhGMh",
        "outputId": "81166690-1b3e-4849-bf90-4ba9d3daf342"
      },
      "execution_count": null,
      "outputs": [
        {
          "output_type": "stream",
          "name": "stdout",
          "text": [
            "Percentage of satisfied return customers: 20.08%\n"
          ]
        }
      ]
    },
    {
      "cell_type": "code",
      "source": [
        "\n",
        "import plotly.graph_objects as go\n",
        "\n",
        "satisfied_customers = df[df['Review Score (1-5)'] >= 4]\n",
        "dissatisfied_customers = df[df['Review Score (1-5)'] <= 3]\n",
        "\n",
        "satisfied_return_percentage = (len(satisfied_customers[satisfied_customers['Return Customer'] == True]) / len(satisfied_customers)) * 100\n",
        "dissatisfied_return_percentage = (len(dissatisfied_customers[dissatisfied_customers['Return Customer'] == True]) / len(dissatisfied_customers)) * 100\n",
        "\n",
        "\n",
        "labels = ['Satisfied Return Customers', 'Satisfied Non-Return Customers', 'Dissatisfied Return Customers', 'Dissatisfied Non-Return Customers']\n",
        "values = [\n",
        "    len(satisfied_customers[satisfied_customers['Return Customer'] == True]),\n",
        "    len(satisfied_customers[satisfied_customers['Return Customer'] == False]),\n",
        "    len(dissatisfied_customers[dissatisfied_customers['Return Customer'] == True]),\n",
        "    len(dissatisfied_customers[dissatisfied_customers['Return Customer'] == False])\n",
        "]\n",
        "\n",
        "fig = go.Figure(data=[go.Pie(labels=labels, values=values, hole=.3)])\n",
        "fig.update_layout(title_text=\"Return Customer Percentage by Rating\")\n",
        "fig.show()"
      ],
      "metadata": {
        "colab": {
          "base_uri": "https://localhost:8080/",
          "height": 542
        },
        "id": "o91fmBRCP-_W",
        "outputId": "f34d65e6-f39f-4090-f222-472842146287"
      },
      "execution_count": null,
      "outputs": [
        {
          "output_type": "display_data",
          "data": {
            "text/html": [
              "<html>\n",
              "<head><meta charset=\"utf-8\" /></head>\n",
              "<body>\n",
              "    <div>            <script src=\"https://cdnjs.cloudflare.com/ajax/libs/mathjax/2.7.5/MathJax.js?config=TeX-AMS-MML_SVG\"></script><script type=\"text/javascript\">if (window.MathJax && window.MathJax.Hub && window.MathJax.Hub.Config) {window.MathJax.Hub.Config({SVG: {font: \"STIX-Web\"}});}</script>                <script type=\"text/javascript\">window.PlotlyConfig = {MathJaxConfig: 'local'};</script>\n",
              "        <script charset=\"utf-8\" src=\"https://cdn.plot.ly/plotly-2.35.2.min.js\"></script>                <div id=\"13e684c6-14a3-4f30-ab7b-c66568855029\" class=\"plotly-graph-div\" style=\"height:525px; width:100%;\"></div>            <script type=\"text/javascript\">                                    window.PLOTLYENV=window.PLOTLYENV || {};                                    if (document.getElementById(\"13e684c6-14a3-4f30-ab7b-c66568855029\")) {                    Plotly.newPlot(                        \"13e684c6-14a3-4f30-ab7b-c66568855029\",                        [{\"hole\":0.3,\"labels\":[\"Satisfied Return Customers\",\"Satisfied Non-Return Customers\",\"Dissatisfied Return Customers\",\"Dissatisfied Non-Return Customers\"],\"values\":[2008,1996,2988,3008],\"type\":\"pie\"}],                        {\"template\":{\"data\":{\"histogram2dcontour\":[{\"type\":\"histogram2dcontour\",\"colorbar\":{\"outlinewidth\":0,\"ticks\":\"\"},\"colorscale\":[[0.0,\"#0d0887\"],[0.1111111111111111,\"#46039f\"],[0.2222222222222222,\"#7201a8\"],[0.3333333333333333,\"#9c179e\"],[0.4444444444444444,\"#bd3786\"],[0.5555555555555556,\"#d8576b\"],[0.6666666666666666,\"#ed7953\"],[0.7777777777777778,\"#fb9f3a\"],[0.8888888888888888,\"#fdca26\"],[1.0,\"#f0f921\"]]}],\"choropleth\":[{\"type\":\"choropleth\",\"colorbar\":{\"outlinewidth\":0,\"ticks\":\"\"}}],\"histogram2d\":[{\"type\":\"histogram2d\",\"colorbar\":{\"outlinewidth\":0,\"ticks\":\"\"},\"colorscale\":[[0.0,\"#0d0887\"],[0.1111111111111111,\"#46039f\"],[0.2222222222222222,\"#7201a8\"],[0.3333333333333333,\"#9c179e\"],[0.4444444444444444,\"#bd3786\"],[0.5555555555555556,\"#d8576b\"],[0.6666666666666666,\"#ed7953\"],[0.7777777777777778,\"#fb9f3a\"],[0.8888888888888888,\"#fdca26\"],[1.0,\"#f0f921\"]]}],\"heatmap\":[{\"type\":\"heatmap\",\"colorbar\":{\"outlinewidth\":0,\"ticks\":\"\"},\"colorscale\":[[0.0,\"#0d0887\"],[0.1111111111111111,\"#46039f\"],[0.2222222222222222,\"#7201a8\"],[0.3333333333333333,\"#9c179e\"],[0.4444444444444444,\"#bd3786\"],[0.5555555555555556,\"#d8576b\"],[0.6666666666666666,\"#ed7953\"],[0.7777777777777778,\"#fb9f3a\"],[0.8888888888888888,\"#fdca26\"],[1.0,\"#f0f921\"]]}],\"heatmapgl\":[{\"type\":\"heatmapgl\",\"colorbar\":{\"outlinewidth\":0,\"ticks\":\"\"},\"colorscale\":[[0.0,\"#0d0887\"],[0.1111111111111111,\"#46039f\"],[0.2222222222222222,\"#7201a8\"],[0.3333333333333333,\"#9c179e\"],[0.4444444444444444,\"#bd3786\"],[0.5555555555555556,\"#d8576b\"],[0.6666666666666666,\"#ed7953\"],[0.7777777777777778,\"#fb9f3a\"],[0.8888888888888888,\"#fdca26\"],[1.0,\"#f0f921\"]]}],\"contourcarpet\":[{\"type\":\"contourcarpet\",\"colorbar\":{\"outlinewidth\":0,\"ticks\":\"\"}}],\"contour\":[{\"type\":\"contour\",\"colorbar\":{\"outlinewidth\":0,\"ticks\":\"\"},\"colorscale\":[[0.0,\"#0d0887\"],[0.1111111111111111,\"#46039f\"],[0.2222222222222222,\"#7201a8\"],[0.3333333333333333,\"#9c179e\"],[0.4444444444444444,\"#bd3786\"],[0.5555555555555556,\"#d8576b\"],[0.6666666666666666,\"#ed7953\"],[0.7777777777777778,\"#fb9f3a\"],[0.8888888888888888,\"#fdca26\"],[1.0,\"#f0f921\"]]}],\"surface\":[{\"type\":\"surface\",\"colorbar\":{\"outlinewidth\":0,\"ticks\":\"\"},\"colorscale\":[[0.0,\"#0d0887\"],[0.1111111111111111,\"#46039f\"],[0.2222222222222222,\"#7201a8\"],[0.3333333333333333,\"#9c179e\"],[0.4444444444444444,\"#bd3786\"],[0.5555555555555556,\"#d8576b\"],[0.6666666666666666,\"#ed7953\"],[0.7777777777777778,\"#fb9f3a\"],[0.8888888888888888,\"#fdca26\"],[1.0,\"#f0f921\"]]}],\"mesh3d\":[{\"type\":\"mesh3d\",\"colorbar\":{\"outlinewidth\":0,\"ticks\":\"\"}}],\"scatter\":[{\"fillpattern\":{\"fillmode\":\"overlay\",\"size\":10,\"solidity\":0.2},\"type\":\"scatter\"}],\"parcoords\":[{\"type\":\"parcoords\",\"line\":{\"colorbar\":{\"outlinewidth\":0,\"ticks\":\"\"}}}],\"scatterpolargl\":[{\"type\":\"scatterpolargl\",\"marker\":{\"colorbar\":{\"outlinewidth\":0,\"ticks\":\"\"}}}],\"bar\":[{\"error_x\":{\"color\":\"#2a3f5f\"},\"error_y\":{\"color\":\"#2a3f5f\"},\"marker\":{\"line\":{\"color\":\"#E5ECF6\",\"width\":0.5},\"pattern\":{\"fillmode\":\"overlay\",\"size\":10,\"solidity\":0.2}},\"type\":\"bar\"}],\"scattergeo\":[{\"type\":\"scattergeo\",\"marker\":{\"colorbar\":{\"outlinewidth\":0,\"ticks\":\"\"}}}],\"scatterpolar\":[{\"type\":\"scatterpolar\",\"marker\":{\"colorbar\":{\"outlinewidth\":0,\"ticks\":\"\"}}}],\"histogram\":[{\"marker\":{\"pattern\":{\"fillmode\":\"overlay\",\"size\":10,\"solidity\":0.2}},\"type\":\"histogram\"}],\"scattergl\":[{\"type\":\"scattergl\",\"marker\":{\"colorbar\":{\"outlinewidth\":0,\"ticks\":\"\"}}}],\"scatter3d\":[{\"type\":\"scatter3d\",\"line\":{\"colorbar\":{\"outlinewidth\":0,\"ticks\":\"\"}},\"marker\":{\"colorbar\":{\"outlinewidth\":0,\"ticks\":\"\"}}}],\"scattermapbox\":[{\"type\":\"scattermapbox\",\"marker\":{\"colorbar\":{\"outlinewidth\":0,\"ticks\":\"\"}}}],\"scatterternary\":[{\"type\":\"scatterternary\",\"marker\":{\"colorbar\":{\"outlinewidth\":0,\"ticks\":\"\"}}}],\"scattercarpet\":[{\"type\":\"scattercarpet\",\"marker\":{\"colorbar\":{\"outlinewidth\":0,\"ticks\":\"\"}}}],\"carpet\":[{\"aaxis\":{\"endlinecolor\":\"#2a3f5f\",\"gridcolor\":\"white\",\"linecolor\":\"white\",\"minorgridcolor\":\"white\",\"startlinecolor\":\"#2a3f5f\"},\"baxis\":{\"endlinecolor\":\"#2a3f5f\",\"gridcolor\":\"white\",\"linecolor\":\"white\",\"minorgridcolor\":\"white\",\"startlinecolor\":\"#2a3f5f\"},\"type\":\"carpet\"}],\"table\":[{\"cells\":{\"fill\":{\"color\":\"#EBF0F8\"},\"line\":{\"color\":\"white\"}},\"header\":{\"fill\":{\"color\":\"#C8D4E3\"},\"line\":{\"color\":\"white\"}},\"type\":\"table\"}],\"barpolar\":[{\"marker\":{\"line\":{\"color\":\"#E5ECF6\",\"width\":0.5},\"pattern\":{\"fillmode\":\"overlay\",\"size\":10,\"solidity\":0.2}},\"type\":\"barpolar\"}],\"pie\":[{\"automargin\":true,\"type\":\"pie\"}]},\"layout\":{\"autotypenumbers\":\"strict\",\"colorway\":[\"#636efa\",\"#EF553B\",\"#00cc96\",\"#ab63fa\",\"#FFA15A\",\"#19d3f3\",\"#FF6692\",\"#B6E880\",\"#FF97FF\",\"#FECB52\"],\"font\":{\"color\":\"#2a3f5f\"},\"hovermode\":\"closest\",\"hoverlabel\":{\"align\":\"left\"},\"paper_bgcolor\":\"white\",\"plot_bgcolor\":\"#E5ECF6\",\"polar\":{\"bgcolor\":\"#E5ECF6\",\"angularaxis\":{\"gridcolor\":\"white\",\"linecolor\":\"white\",\"ticks\":\"\"},\"radialaxis\":{\"gridcolor\":\"white\",\"linecolor\":\"white\",\"ticks\":\"\"}},\"ternary\":{\"bgcolor\":\"#E5ECF6\",\"aaxis\":{\"gridcolor\":\"white\",\"linecolor\":\"white\",\"ticks\":\"\"},\"baxis\":{\"gridcolor\":\"white\",\"linecolor\":\"white\",\"ticks\":\"\"},\"caxis\":{\"gridcolor\":\"white\",\"linecolor\":\"white\",\"ticks\":\"\"}},\"coloraxis\":{\"colorbar\":{\"outlinewidth\":0,\"ticks\":\"\"}},\"colorscale\":{\"sequential\":[[0.0,\"#0d0887\"],[0.1111111111111111,\"#46039f\"],[0.2222222222222222,\"#7201a8\"],[0.3333333333333333,\"#9c179e\"],[0.4444444444444444,\"#bd3786\"],[0.5555555555555556,\"#d8576b\"],[0.6666666666666666,\"#ed7953\"],[0.7777777777777778,\"#fb9f3a\"],[0.8888888888888888,\"#fdca26\"],[1.0,\"#f0f921\"]],\"sequentialminus\":[[0.0,\"#0d0887\"],[0.1111111111111111,\"#46039f\"],[0.2222222222222222,\"#7201a8\"],[0.3333333333333333,\"#9c179e\"],[0.4444444444444444,\"#bd3786\"],[0.5555555555555556,\"#d8576b\"],[0.6666666666666666,\"#ed7953\"],[0.7777777777777778,\"#fb9f3a\"],[0.8888888888888888,\"#fdca26\"],[1.0,\"#f0f921\"]],\"diverging\":[[0,\"#8e0152\"],[0.1,\"#c51b7d\"],[0.2,\"#de77ae\"],[0.3,\"#f1b6da\"],[0.4,\"#fde0ef\"],[0.5,\"#f7f7f7\"],[0.6,\"#e6f5d0\"],[0.7,\"#b8e186\"],[0.8,\"#7fbc41\"],[0.9,\"#4d9221\"],[1,\"#276419\"]]},\"xaxis\":{\"gridcolor\":\"white\",\"linecolor\":\"white\",\"ticks\":\"\",\"title\":{\"standoff\":15},\"zerolinecolor\":\"white\",\"automargin\":true,\"zerolinewidth\":2},\"yaxis\":{\"gridcolor\":\"white\",\"linecolor\":\"white\",\"ticks\":\"\",\"title\":{\"standoff\":15},\"zerolinecolor\":\"white\",\"automargin\":true,\"zerolinewidth\":2},\"scene\":{\"xaxis\":{\"backgroundcolor\":\"#E5ECF6\",\"gridcolor\":\"white\",\"linecolor\":\"white\",\"showbackground\":true,\"ticks\":\"\",\"zerolinecolor\":\"white\",\"gridwidth\":2},\"yaxis\":{\"backgroundcolor\":\"#E5ECF6\",\"gridcolor\":\"white\",\"linecolor\":\"white\",\"showbackground\":true,\"ticks\":\"\",\"zerolinecolor\":\"white\",\"gridwidth\":2},\"zaxis\":{\"backgroundcolor\":\"#E5ECF6\",\"gridcolor\":\"white\",\"linecolor\":\"white\",\"showbackground\":true,\"ticks\":\"\",\"zerolinecolor\":\"white\",\"gridwidth\":2}},\"shapedefaults\":{\"line\":{\"color\":\"#2a3f5f\"}},\"annotationdefaults\":{\"arrowcolor\":\"#2a3f5f\",\"arrowhead\":0,\"arrowwidth\":1},\"geo\":{\"bgcolor\":\"white\",\"landcolor\":\"#E5ECF6\",\"subunitcolor\":\"white\",\"showland\":true,\"showlakes\":true,\"lakecolor\":\"white\"},\"title\":{\"x\":0.05},\"mapbox\":{\"style\":\"light\"}}},\"title\":{\"text\":\"Return Customer Percentage by Rating\"}},                        {\"responsive\": true}                    ).then(function(){\n",
              "                            \n",
              "var gd = document.getElementById('13e684c6-14a3-4f30-ab7b-c66568855029');\n",
              "var x = new MutationObserver(function (mutations, observer) {{\n",
              "        var display = window.getComputedStyle(gd).display;\n",
              "        if (!display || display === 'none') {{\n",
              "            console.log([gd, 'removed!']);\n",
              "            Plotly.purge(gd);\n",
              "            observer.disconnect();\n",
              "        }}\n",
              "}});\n",
              "\n",
              "// Listen for the removal of the full notebook cells\n",
              "var notebookContainer = gd.closest('#notebook-container');\n",
              "if (notebookContainer) {{\n",
              "    x.observe(notebookContainer, {childList: true});\n",
              "}}\n",
              "\n",
              "// Listen for the clearing of the current output cell\n",
              "var outputEl = gd.closest('.output');\n",
              "if (outputEl) {{\n",
              "    x.observe(outputEl, {childList: true});\n",
              "}}\n",
              "\n",
              "                        })                };                            </script>        </div>\n",
              "</body>\n",
              "</html>"
            ]
          },
          "metadata": {}
        }
      ]
    },
    {
      "cell_type": "code",
      "source": [
        "\n",
        "\n",
        "return_customers = df[df['Return Customer'] == True]\n",
        "bins = [18, 25, 35, 45, 55, 65, float('inf')]\n",
        "labels = ['18-24', '25-34', '35-44', '45-54', '55-64', '65+']\n",
        "return_customers['Age Range'] = pd.cut(return_customers['Age'], bins=bins, labels=labels, right=False)\n",
        "age_range_counts = return_customers['Age Range'].value_counts().reset_index()\n",
        "age_range_counts.columns = ['Age Range', 'Count']\n",
        "\n",
        "print(\"Age Ranges of Return Customers:\")\n",
        "print(age_range_counts)\n",
        "\n",
        "\n",
        "fig = px.bar(age_range_counts, x='Age Range', y='Count', title='Age Distribution of Return Customers')\n",
        "fig.show()"
      ],
      "metadata": {
        "colab": {
          "base_uri": "https://localhost:8080/",
          "height": 820
        },
        "id": "byu1NWNG9aW_",
        "outputId": "6526d1d6-14d7-4a84-e52c-d8355e5937da"
      },
      "execution_count": null,
      "outputs": [
        {
          "output_type": "stream",
          "name": "stdout",
          "text": [
            "Age Ranges of Return Customers:\n",
            "  Age Range  Count\n",
            "0     55-64   1006\n",
            "1     35-44    962\n",
            "2     25-34    947\n",
            "3     45-54    945\n",
            "4     18-24    661\n",
            "5       65+    475\n"
          ]
        },
        {
          "output_type": "stream",
          "name": "stderr",
          "text": [
            "<ipython-input-14-f059f256b5fc>:6: SettingWithCopyWarning:\n",
            "\n",
            "\n",
            "A value is trying to be set on a copy of a slice from a DataFrame.\n",
            "Try using .loc[row_indexer,col_indexer] = value instead\n",
            "\n",
            "See the caveats in the documentation: https://pandas.pydata.org/pandas-docs/stable/user_guide/indexing.html#returning-a-view-versus-a-copy\n",
            "\n"
          ]
        },
        {
          "output_type": "display_data",
          "data": {
            "text/html": [
              "<html>\n",
              "<head><meta charset=\"utf-8\" /></head>\n",
              "<body>\n",
              "    <div>            <script src=\"https://cdnjs.cloudflare.com/ajax/libs/mathjax/2.7.5/MathJax.js?config=TeX-AMS-MML_SVG\"></script><script type=\"text/javascript\">if (window.MathJax && window.MathJax.Hub && window.MathJax.Hub.Config) {window.MathJax.Hub.Config({SVG: {font: \"STIX-Web\"}});}</script>                <script type=\"text/javascript\">window.PlotlyConfig = {MathJaxConfig: 'local'};</script>\n",
              "        <script charset=\"utf-8\" src=\"https://cdn.plot.ly/plotly-2.35.2.min.js\"></script>                <div id=\"d9832cd8-cf65-473f-ae86-8749d6b6ca58\" class=\"plotly-graph-div\" style=\"height:525px; width:100%;\"></div>            <script type=\"text/javascript\">                                    window.PLOTLYENV=window.PLOTLYENV || {};                                    if (document.getElementById(\"d9832cd8-cf65-473f-ae86-8749d6b6ca58\")) {                    Plotly.newPlot(                        \"d9832cd8-cf65-473f-ae86-8749d6b6ca58\",                        [{\"alignmentgroup\":\"True\",\"hovertemplate\":\"Age Range=%{x}\\u003cbr\\u003eCount=%{y}\\u003cextra\\u003e\\u003c\\u002fextra\\u003e\",\"legendgroup\":\"\",\"marker\":{\"color\":\"#636efa\",\"pattern\":{\"shape\":\"\"}},\"name\":\"\",\"offsetgroup\":\"\",\"orientation\":\"v\",\"showlegend\":false,\"textposition\":\"auto\",\"x\":[\"55-64\",\"35-44\",\"25-34\",\"45-54\",\"18-24\",\"65+\"],\"xaxis\":\"x\",\"y\":[1006,962,947,945,661,475],\"yaxis\":\"y\",\"type\":\"bar\"}],                        {\"template\":{\"data\":{\"histogram2dcontour\":[{\"type\":\"histogram2dcontour\",\"colorbar\":{\"outlinewidth\":0,\"ticks\":\"\"},\"colorscale\":[[0.0,\"#0d0887\"],[0.1111111111111111,\"#46039f\"],[0.2222222222222222,\"#7201a8\"],[0.3333333333333333,\"#9c179e\"],[0.4444444444444444,\"#bd3786\"],[0.5555555555555556,\"#d8576b\"],[0.6666666666666666,\"#ed7953\"],[0.7777777777777778,\"#fb9f3a\"],[0.8888888888888888,\"#fdca26\"],[1.0,\"#f0f921\"]]}],\"choropleth\":[{\"type\":\"choropleth\",\"colorbar\":{\"outlinewidth\":0,\"ticks\":\"\"}}],\"histogram2d\":[{\"type\":\"histogram2d\",\"colorbar\":{\"outlinewidth\":0,\"ticks\":\"\"},\"colorscale\":[[0.0,\"#0d0887\"],[0.1111111111111111,\"#46039f\"],[0.2222222222222222,\"#7201a8\"],[0.3333333333333333,\"#9c179e\"],[0.4444444444444444,\"#bd3786\"],[0.5555555555555556,\"#d8576b\"],[0.6666666666666666,\"#ed7953\"],[0.7777777777777778,\"#fb9f3a\"],[0.8888888888888888,\"#fdca26\"],[1.0,\"#f0f921\"]]}],\"heatmap\":[{\"type\":\"heatmap\",\"colorbar\":{\"outlinewidth\":0,\"ticks\":\"\"},\"colorscale\":[[0.0,\"#0d0887\"],[0.1111111111111111,\"#46039f\"],[0.2222222222222222,\"#7201a8\"],[0.3333333333333333,\"#9c179e\"],[0.4444444444444444,\"#bd3786\"],[0.5555555555555556,\"#d8576b\"],[0.6666666666666666,\"#ed7953\"],[0.7777777777777778,\"#fb9f3a\"],[0.8888888888888888,\"#fdca26\"],[1.0,\"#f0f921\"]]}],\"heatmapgl\":[{\"type\":\"heatmapgl\",\"colorbar\":{\"outlinewidth\":0,\"ticks\":\"\"},\"colorscale\":[[0.0,\"#0d0887\"],[0.1111111111111111,\"#46039f\"],[0.2222222222222222,\"#7201a8\"],[0.3333333333333333,\"#9c179e\"],[0.4444444444444444,\"#bd3786\"],[0.5555555555555556,\"#d8576b\"],[0.6666666666666666,\"#ed7953\"],[0.7777777777777778,\"#fb9f3a\"],[0.8888888888888888,\"#fdca26\"],[1.0,\"#f0f921\"]]}],\"contourcarpet\":[{\"type\":\"contourcarpet\",\"colorbar\":{\"outlinewidth\":0,\"ticks\":\"\"}}],\"contour\":[{\"type\":\"contour\",\"colorbar\":{\"outlinewidth\":0,\"ticks\":\"\"},\"colorscale\":[[0.0,\"#0d0887\"],[0.1111111111111111,\"#46039f\"],[0.2222222222222222,\"#7201a8\"],[0.3333333333333333,\"#9c179e\"],[0.4444444444444444,\"#bd3786\"],[0.5555555555555556,\"#d8576b\"],[0.6666666666666666,\"#ed7953\"],[0.7777777777777778,\"#fb9f3a\"],[0.8888888888888888,\"#fdca26\"],[1.0,\"#f0f921\"]]}],\"surface\":[{\"type\":\"surface\",\"colorbar\":{\"outlinewidth\":0,\"ticks\":\"\"},\"colorscale\":[[0.0,\"#0d0887\"],[0.1111111111111111,\"#46039f\"],[0.2222222222222222,\"#7201a8\"],[0.3333333333333333,\"#9c179e\"],[0.4444444444444444,\"#bd3786\"],[0.5555555555555556,\"#d8576b\"],[0.6666666666666666,\"#ed7953\"],[0.7777777777777778,\"#fb9f3a\"],[0.8888888888888888,\"#fdca26\"],[1.0,\"#f0f921\"]]}],\"mesh3d\":[{\"type\":\"mesh3d\",\"colorbar\":{\"outlinewidth\":0,\"ticks\":\"\"}}],\"scatter\":[{\"fillpattern\":{\"fillmode\":\"overlay\",\"size\":10,\"solidity\":0.2},\"type\":\"scatter\"}],\"parcoords\":[{\"type\":\"parcoords\",\"line\":{\"colorbar\":{\"outlinewidth\":0,\"ticks\":\"\"}}}],\"scatterpolargl\":[{\"type\":\"scatterpolargl\",\"marker\":{\"colorbar\":{\"outlinewidth\":0,\"ticks\":\"\"}}}],\"bar\":[{\"error_x\":{\"color\":\"#2a3f5f\"},\"error_y\":{\"color\":\"#2a3f5f\"},\"marker\":{\"line\":{\"color\":\"#E5ECF6\",\"width\":0.5},\"pattern\":{\"fillmode\":\"overlay\",\"size\":10,\"solidity\":0.2}},\"type\":\"bar\"}],\"scattergeo\":[{\"type\":\"scattergeo\",\"marker\":{\"colorbar\":{\"outlinewidth\":0,\"ticks\":\"\"}}}],\"scatterpolar\":[{\"type\":\"scatterpolar\",\"marker\":{\"colorbar\":{\"outlinewidth\":0,\"ticks\":\"\"}}}],\"histogram\":[{\"marker\":{\"pattern\":{\"fillmode\":\"overlay\",\"size\":10,\"solidity\":0.2}},\"type\":\"histogram\"}],\"scattergl\":[{\"type\":\"scattergl\",\"marker\":{\"colorbar\":{\"outlinewidth\":0,\"ticks\":\"\"}}}],\"scatter3d\":[{\"type\":\"scatter3d\",\"line\":{\"colorbar\":{\"outlinewidth\":0,\"ticks\":\"\"}},\"marker\":{\"colorbar\":{\"outlinewidth\":0,\"ticks\":\"\"}}}],\"scattermapbox\":[{\"type\":\"scattermapbox\",\"marker\":{\"colorbar\":{\"outlinewidth\":0,\"ticks\":\"\"}}}],\"scatterternary\":[{\"type\":\"scatterternary\",\"marker\":{\"colorbar\":{\"outlinewidth\":0,\"ticks\":\"\"}}}],\"scattercarpet\":[{\"type\":\"scattercarpet\",\"marker\":{\"colorbar\":{\"outlinewidth\":0,\"ticks\":\"\"}}}],\"carpet\":[{\"aaxis\":{\"endlinecolor\":\"#2a3f5f\",\"gridcolor\":\"white\",\"linecolor\":\"white\",\"minorgridcolor\":\"white\",\"startlinecolor\":\"#2a3f5f\"},\"baxis\":{\"endlinecolor\":\"#2a3f5f\",\"gridcolor\":\"white\",\"linecolor\":\"white\",\"minorgridcolor\":\"white\",\"startlinecolor\":\"#2a3f5f\"},\"type\":\"carpet\"}],\"table\":[{\"cells\":{\"fill\":{\"color\":\"#EBF0F8\"},\"line\":{\"color\":\"white\"}},\"header\":{\"fill\":{\"color\":\"#C8D4E3\"},\"line\":{\"color\":\"white\"}},\"type\":\"table\"}],\"barpolar\":[{\"marker\":{\"line\":{\"color\":\"#E5ECF6\",\"width\":0.5},\"pattern\":{\"fillmode\":\"overlay\",\"size\":10,\"solidity\":0.2}},\"type\":\"barpolar\"}],\"pie\":[{\"automargin\":true,\"type\":\"pie\"}]},\"layout\":{\"autotypenumbers\":\"strict\",\"colorway\":[\"#636efa\",\"#EF553B\",\"#00cc96\",\"#ab63fa\",\"#FFA15A\",\"#19d3f3\",\"#FF6692\",\"#B6E880\",\"#FF97FF\",\"#FECB52\"],\"font\":{\"color\":\"#2a3f5f\"},\"hovermode\":\"closest\",\"hoverlabel\":{\"align\":\"left\"},\"paper_bgcolor\":\"white\",\"plot_bgcolor\":\"#E5ECF6\",\"polar\":{\"bgcolor\":\"#E5ECF6\",\"angularaxis\":{\"gridcolor\":\"white\",\"linecolor\":\"white\",\"ticks\":\"\"},\"radialaxis\":{\"gridcolor\":\"white\",\"linecolor\":\"white\",\"ticks\":\"\"}},\"ternary\":{\"bgcolor\":\"#E5ECF6\",\"aaxis\":{\"gridcolor\":\"white\",\"linecolor\":\"white\",\"ticks\":\"\"},\"baxis\":{\"gridcolor\":\"white\",\"linecolor\":\"white\",\"ticks\":\"\"},\"caxis\":{\"gridcolor\":\"white\",\"linecolor\":\"white\",\"ticks\":\"\"}},\"coloraxis\":{\"colorbar\":{\"outlinewidth\":0,\"ticks\":\"\"}},\"colorscale\":{\"sequential\":[[0.0,\"#0d0887\"],[0.1111111111111111,\"#46039f\"],[0.2222222222222222,\"#7201a8\"],[0.3333333333333333,\"#9c179e\"],[0.4444444444444444,\"#bd3786\"],[0.5555555555555556,\"#d8576b\"],[0.6666666666666666,\"#ed7953\"],[0.7777777777777778,\"#fb9f3a\"],[0.8888888888888888,\"#fdca26\"],[1.0,\"#f0f921\"]],\"sequentialminus\":[[0.0,\"#0d0887\"],[0.1111111111111111,\"#46039f\"],[0.2222222222222222,\"#7201a8\"],[0.3333333333333333,\"#9c179e\"],[0.4444444444444444,\"#bd3786\"],[0.5555555555555556,\"#d8576b\"],[0.6666666666666666,\"#ed7953\"],[0.7777777777777778,\"#fb9f3a\"],[0.8888888888888888,\"#fdca26\"],[1.0,\"#f0f921\"]],\"diverging\":[[0,\"#8e0152\"],[0.1,\"#c51b7d\"],[0.2,\"#de77ae\"],[0.3,\"#f1b6da\"],[0.4,\"#fde0ef\"],[0.5,\"#f7f7f7\"],[0.6,\"#e6f5d0\"],[0.7,\"#b8e186\"],[0.8,\"#7fbc41\"],[0.9,\"#4d9221\"],[1,\"#276419\"]]},\"xaxis\":{\"gridcolor\":\"white\",\"linecolor\":\"white\",\"ticks\":\"\",\"title\":{\"standoff\":15},\"zerolinecolor\":\"white\",\"automargin\":true,\"zerolinewidth\":2},\"yaxis\":{\"gridcolor\":\"white\",\"linecolor\":\"white\",\"ticks\":\"\",\"title\":{\"standoff\":15},\"zerolinecolor\":\"white\",\"automargin\":true,\"zerolinewidth\":2},\"scene\":{\"xaxis\":{\"backgroundcolor\":\"#E5ECF6\",\"gridcolor\":\"white\",\"linecolor\":\"white\",\"showbackground\":true,\"ticks\":\"\",\"zerolinecolor\":\"white\",\"gridwidth\":2},\"yaxis\":{\"backgroundcolor\":\"#E5ECF6\",\"gridcolor\":\"white\",\"linecolor\":\"white\",\"showbackground\":true,\"ticks\":\"\",\"zerolinecolor\":\"white\",\"gridwidth\":2},\"zaxis\":{\"backgroundcolor\":\"#E5ECF6\",\"gridcolor\":\"white\",\"linecolor\":\"white\",\"showbackground\":true,\"ticks\":\"\",\"zerolinecolor\":\"white\",\"gridwidth\":2}},\"shapedefaults\":{\"line\":{\"color\":\"#2a3f5f\"}},\"annotationdefaults\":{\"arrowcolor\":\"#2a3f5f\",\"arrowhead\":0,\"arrowwidth\":1},\"geo\":{\"bgcolor\":\"white\",\"landcolor\":\"#E5ECF6\",\"subunitcolor\":\"white\",\"showland\":true,\"showlakes\":true,\"lakecolor\":\"white\"},\"title\":{\"x\":0.05},\"mapbox\":{\"style\":\"light\"}}},\"xaxis\":{\"anchor\":\"y\",\"domain\":[0.0,1.0],\"title\":{\"text\":\"Age Range\"}},\"yaxis\":{\"anchor\":\"x\",\"domain\":[0.0,1.0],\"title\":{\"text\":\"Count\"}},\"legend\":{\"tracegroupgap\":0},\"title\":{\"text\":\"Age Distribution of Return Customers\"},\"barmode\":\"relative\"},                        {\"responsive\": true}                    ).then(function(){\n",
              "                            \n",
              "var gd = document.getElementById('d9832cd8-cf65-473f-ae86-8749d6b6ca58');\n",
              "var x = new MutationObserver(function (mutations, observer) {{\n",
              "        var display = window.getComputedStyle(gd).display;\n",
              "        if (!display || display === 'none') {{\n",
              "            console.log([gd, 'removed!']);\n",
              "            Plotly.purge(gd);\n",
              "            observer.disconnect();\n",
              "        }}\n",
              "}});\n",
              "\n",
              "// Listen for the removal of the full notebook cells\n",
              "var notebookContainer = gd.closest('#notebook-container');\n",
              "if (notebookContainer) {{\n",
              "    x.observe(notebookContainer, {childList: true});\n",
              "}}\n",
              "\n",
              "// Listen for the clearing of the current output cell\n",
              "var outputEl = gd.closest('.output');\n",
              "if (outputEl) {{\n",
              "    x.observe(outputEl, {childList: true});\n",
              "}}\n",
              "\n",
              "                        })                };                            </script>        </div>\n",
              "</body>\n",
              "</html>"
            ]
          },
          "metadata": {}
        }
      ]
    },
    {
      "cell_type": "markdown",
      "source": [
        "**Q4: What is the relationship between the number of items purchased and customer\n",
        "satisfaction?**"
      ],
      "metadata": {
        "id": "TwXkGh_ED538"
      }
    },
    {
      "cell_type": "code",
      "source": [
        "corr_itembuy_satisfaction = df['Number of Items Purchased'].corr(df['Review Score (1-5)'])\n",
        "print(corr_itembuy_satisfaction)"
      ],
      "metadata": {
        "colab": {
          "base_uri": "https://localhost:8080/"
        },
        "id": "3Zd0EjoOh2GK",
        "outputId": "739b2af7-e3b5-4fcb-9ffa-13b482ecd275"
      },
      "execution_count": null,
      "outputs": [
        {
          "output_type": "stream",
          "name": "stdout",
          "text": [
            "0.009678937188650571\n"
          ]
        }
      ]
    },
    {
      "cell_type": "code",
      "source": [
        "plt.figure(figsize=(5, 4))\n",
        "plt.scatter(df['Number of Items Purchased'], df['Review Score (1-5)'], color='blue')\n",
        "plt.title('Number of Items Purchased vs. Customer Satisfaction')\n",
        "plt.xlabel('Number of Items Purchased')\n",
        "plt.ylabel('Satisfaction Review')\n",
        "\n",
        "plt.xticks(range(0, 11))\n",
        "plt.yticks(range(0, 7))\n",
        "plt.show()"
      ],
      "metadata": {
        "colab": {
          "base_uri": "https://localhost:8080/",
          "height": 410
        },
        "id": "G7csQvQ7igO4",
        "outputId": "9012bf5e-47f0-4801-b5b1-d0c0417ce260"
      },
      "execution_count": null,
      "outputs": [
        {
          "output_type": "display_data",
          "data": {
            "text/plain": [
              "<Figure size 500x400 with 1 Axes>"
            ],
            "image/png": "[encoded data removed]"
          },
          "metadata": {}
        }
      ]
    },
    {
      "cell_type": "code",
      "source": [
        "avg_ratings_bypurchase = df.groupby('Number of Items Purchased')['Review Score (1-5)'].mean()\n",
        "print(avg_ratings_bypurchase)"
      ],
      "metadata": {
        "colab": {
          "base_uri": "https://localhost:8080/"
        },
        "id": "LXi-NlHymTB3",
        "outputId": "967172b4-dadc-4ec9-a136-9adbea67d1ec"
      },
      "execution_count": null,
      "outputs": [
        {
          "output_type": "stream",
          "name": "stdout",
          "text": [
            "Number of Items Purchased\n",
            "1    2.966192\n",
            "2    2.990868\n",
            "3    2.987061\n",
            "4    3.065354\n",
            "5    2.946678\n",
            "6    2.943850\n",
            "7    2.981900\n",
            "8    3.017715\n",
            "9    3.059150\n",
            "Name: Review Score (1-5), dtype: float64\n"
          ]
        }
      ]
    },
    {
      "cell_type": "code",
      "source": [
        "\n",
        "plt.figure(figsize=(9,5))\n",
        "plt.bar(avg_ratings_bypurchase.index, avg_ratings_bypurchase, color='skyblue')\n",
        "plt.xlabel('Number of Items Purchased')\n",
        "plt.ylabel('Average Rating')\n",
        "plt.title('Number of Items Purchased vs. Customer Satisfaction')\n",
        "plt.xticks(avg_ratings_bypurchase.index)\n",
        "plt.tight_layout()\n",
        "plt.show()"
      ],
      "metadata": {
        "colab": {
          "base_uri": "https://localhost:8080/",
          "height": 507
        },
        "id": "vdrFG1rL8SbB",
        "outputId": "7b25c6a0-7e7f-47e4-9c4f-ad81ea1bbbf6"
      },
      "execution_count": null,
      "outputs": [
        {
          "output_type": "display_data",
          "data": {
            "text/plain": [
              "<Figure size 900x500 with 1 Axes>"
            ],
            "image/png": "[encoded data removed]"
          },
          "metadata": {}
        }
      ]
    },
    {
      "cell_type": "code",
      "source": [
        "purchase_satisfaction_counts = df.groupby(['Number of Items Purchased', 'Customer Satisfaction'])['Customer ID'].count().unstack()\n",
        "\n",
        "fig = px.bar(purchase_satisfaction_counts,\n",
        "             barmode='group',\n",
        "             title='Number of Items Purchased vs. Customer Satisfaction',\n",
        "             labels={'value': 'Number of Customers',\n",
        "                     'Number of Items Purchased': 'Number of Items Purchased',\n",
        "                     'variable': 'Customer Satisfaction'},\n",
        "             color_discrete_sequence=px.colors.qualitative.Pastel)\n",
        "\n",
        "fig.show()"
      ],
      "metadata": {
        "colab": {
          "base_uri": "https://localhost:8080/",
          "height": 542
        },
        "id": "7dAZ84dfRDlN",
        "outputId": "5c9b949a-a197-45b7-fdfa-fc9461d1ea3e"
      },
      "execution_count": null,
      "outputs": [
        {
          "output_type": "display_data",
          "data": {
            "text/html": [
              "<html>\n",
              "<head><meta charset=\"utf-8\" /></head>\n",
              "<body>\n",
              "    <div>            <script src=\"https://cdnjs.cloudflare.com/ajax/libs/mathjax/2.7.5/MathJax.js?config=TeX-AMS-MML_SVG\"></script><script type=\"text/javascript\">if (window.MathJax && window.MathJax.Hub && window.MathJax.Hub.Config) {window.MathJax.Hub.Config({SVG: {font: \"STIX-Web\"}});}</script>                <script type=\"text/javascript\">window.PlotlyConfig = {MathJaxConfig: 'local'};</script>\n",
              "        <script charset=\"utf-8\" src=\"https://cdn.plot.ly/plotly-2.35.2.min.js\"></script>                <div id=\"47e0390a-310f-4437-a908-6ab6a6a7d6a1\" class=\"plotly-graph-div\" style=\"height:525px; width:100%;\"></div>            <script type=\"text/javascript\">                                    window.PLOTLYENV=window.PLOTLYENV || {};                                    if (document.getElementById(\"47e0390a-310f-4437-a908-6ab6a6a7d6a1\")) {                    Plotly.newPlot(                        \"47e0390a-310f-4437-a908-6ab6a6a7d6a1\",                        [{\"alignmentgroup\":\"True\",\"hovertemplate\":\"Customer Satisfaction=High\\u003cbr\\u003eNumber of Items Purchased=%{x}\\u003cbr\\u003eNumber of Customers=%{y}\\u003cextra\\u003e\\u003c\\u002fextra\\u003e\",\"legendgroup\":\"High\",\"marker\":{\"color\":\"rgb(102, 197, 204)\",\"pattern\":{\"shape\":\"\"}},\"name\":\"High\",\"offsetgroup\":\"High\",\"orientation\":\"v\",\"showlegend\":true,\"textposition\":\"auto\",\"x\":[1,2,3,4,5,6,7,8,9],\"xaxis\":\"x\",\"y\":[398,398,341,344,377,359,348,372,367],\"yaxis\":\"y\",\"type\":\"bar\"},{\"alignmentgroup\":\"True\",\"hovertemplate\":\"Customer Satisfaction=Low\\u003cbr\\u003eNumber of Items Purchased=%{x}\\u003cbr\\u003eNumber of Customers=%{y}\\u003cextra\\u003e\\u003c\\u002fextra\\u003e\",\"legendgroup\":\"Low\",\"marker\":{\"color\":\"rgb(246, 207, 113)\",\"pattern\":{\"shape\":\"\"}},\"name\":\"Low\",\"offsetgroup\":\"Low\",\"orientation\":\"v\",\"showlegend\":true,\"textposition\":\"auto\",\"x\":[1,2,3,4,5,6,7,8,9],\"xaxis\":\"x\",\"y\":[368,350,380,392,406,376,377,358,358],\"yaxis\":\"y\",\"type\":\"bar\"},{\"alignmentgroup\":\"True\",\"hovertemplate\":\"Customer Satisfaction=Medium\\u003cbr\\u003eNumber of Items Purchased=%{x}\\u003cbr\\u003eNumber of Customers=%{y}\\u003cextra\\u003e\\u003c\\u002fextra\\u003e\",\"legendgroup\":\"Medium\",\"marker\":{\"color\":\"rgb(248, 156, 116)\",\"pattern\":{\"shape\":\"\"}},\"name\":\"Medium\",\"offsetgroup\":\"Medium\",\"orientation\":\"v\",\"showlegend\":true,\"textposition\":\"auto\",\"x\":[1,2,3,4,5,6,7,8,9],\"xaxis\":\"x\",\"y\":[358,347,361,381,361,387,380,399,357],\"yaxis\":\"y\",\"type\":\"bar\"}],                        {\"template\":{\"data\":{\"histogram2dcontour\":[{\"type\":\"histogram2dcontour\",\"colorbar\":{\"outlinewidth\":0,\"ticks\":\"\"},\"colorscale\":[[0.0,\"#0d0887\"],[0.1111111111111111,\"#46039f\"],[0.2222222222222222,\"#7201a8\"],[0.3333333333333333,\"#9c179e\"],[0.4444444444444444,\"#bd3786\"],[0.5555555555555556,\"#d8576b\"],[0.6666666666666666,\"#ed7953\"],[0.7777777777777778,\"#fb9f3a\"],[0.8888888888888888,\"#fdca26\"],[1.0,\"#f0f921\"]]}],\"choropleth\":[{\"type\":\"choropleth\",\"colorbar\":{\"outlinewidth\":0,\"ticks\":\"\"}}],\"histogram2d\":[{\"type\":\"histogram2d\",\"colorbar\":{\"outlinewidth\":0,\"ticks\":\"\"},\"colorscale\":[[0.0,\"#0d0887\"],[0.1111111111111111,\"#46039f\"],[0.2222222222222222,\"#7201a8\"],[0.3333333333333333,\"#9c179e\"],[0.4444444444444444,\"#bd3786\"],[0.5555555555555556,\"#d8576b\"],[0.6666666666666666,\"#ed7953\"],[0.7777777777777778,\"#fb9f3a\"],[0.8888888888888888,\"#fdca26\"],[1.0,\"#f0f921\"]]}],\"heatmap\":[{\"type\":\"heatmap\",\"colorbar\":{\"outlinewidth\":0,\"ticks\":\"\"},\"colorscale\":[[0.0,\"#0d0887\"],[0.1111111111111111,\"#46039f\"],[0.2222222222222222,\"#7201a8\"],[0.3333333333333333,\"#9c179e\"],[0.4444444444444444,\"#bd3786\"],[0.5555555555555556,\"#d8576b\"],[0.6666666666666666,\"#ed7953\"],[0.7777777777777778,\"#fb9f3a\"],[0.8888888888888888,\"#fdca26\"],[1.0,\"#f0f921\"]]}],\"heatmapgl\":[{\"type\":\"heatmapgl\",\"colorbar\":{\"outlinewidth\":0,\"ticks\":\"\"},\"colorscale\":[[0.0,\"#0d0887\"],[0.1111111111111111,\"#46039f\"],[0.2222222222222222,\"#7201a8\"],[0.3333333333333333,\"#9c179e\"],[0.4444444444444444,\"#bd3786\"],[0.5555555555555556,\"#d8576b\"],[0.6666666666666666,\"#ed7953\"],[0.7777777777777778,\"#fb9f3a\"],[0.8888888888888888,\"#fdca26\"],[1.0,\"#f0f921\"]]}],\"contourcarpet\":[{\"type\":\"contourcarpet\",\"colorbar\":{\"outlinewidth\":0,\"ticks\":\"\"}}],\"contour\":[{\"type\":\"contour\",\"colorbar\":{\"outlinewidth\":0,\"ticks\":\"\"},\"colorscale\":[[0.0,\"#0d0887\"],[0.1111111111111111,\"#46039f\"],[0.2222222222222222,\"#7201a8\"],[0.3333333333333333,\"#9c179e\"],[0.4444444444444444,\"#bd3786\"],[0.5555555555555556,\"#d8576b\"],[0.6666666666666666,\"#ed7953\"],[0.7777777777777778,\"#fb9f3a\"],[0.8888888888888888,\"#fdca26\"],[1.0,\"#f0f921\"]]}],\"surface\":[{\"type\":\"surface\",\"colorbar\":{\"outlinewidth\":0,\"ticks\":\"\"},\"colorscale\":[[0.0,\"#0d0887\"],[0.1111111111111111,\"#46039f\"],[0.2222222222222222,\"#7201a8\"],[0.3333333333333333,\"#9c179e\"],[0.4444444444444444,\"#bd3786\"],[0.5555555555555556,\"#d8576b\"],[0.6666666666666666,\"#ed7953\"],[0.7777777777777778,\"#fb9f3a\"],[0.8888888888888888,\"#fdca26\"],[1.0,\"#f0f921\"]]}],\"mesh3d\":[{\"type\":\"mesh3d\",\"colorbar\":{\"outlinewidth\":0,\"ticks\":\"\"}}],\"scatter\":[{\"fillpattern\":{\"fillmode\":\"overlay\",\"size\":10,\"solidity\":0.2},\"type\":\"scatter\"}],\"parcoords\":[{\"type\":\"parcoords\",\"line\":{\"colorbar\":{\"outlinewidth\":0,\"ticks\":\"\"}}}],\"scatterpolargl\":[{\"type\":\"scatterpolargl\",\"marker\":{\"colorbar\":{\"outlinewidth\":0,\"ticks\":\"\"}}}],\"bar\":[{\"error_x\":{\"color\":\"#2a3f5f\"},\"error_y\":{\"color\":\"#2a3f5f\"},\"marker\":{\"line\":{\"color\":\"#E5ECF6\",\"width\":0.5},\"pattern\":{\"fillmode\":\"overlay\",\"size\":10,\"solidity\":0.2}},\"type\":\"bar\"}],\"scattergeo\":[{\"type\":\"scattergeo\",\"marker\":{\"colorbar\":{\"outlinewidth\":0,\"ticks\":\"\"}}}],\"scatterpolar\":[{\"type\":\"scatterpolar\",\"marker\":{\"colorbar\":{\"outlinewidth\":0,\"ticks\":\"\"}}}],\"histogram\":[{\"marker\":{\"pattern\":{\"fillmode\":\"overlay\",\"size\":10,\"solidity\":0.2}},\"type\":\"histogram\"}],\"scattergl\":[{\"type\":\"scattergl\",\"marker\":{\"colorbar\":{\"outlinewidth\":0,\"ticks\":\"\"}}}],\"scatter3d\":[{\"type\":\"scatter3d\",\"line\":{\"colorbar\":{\"outlinewidth\":0,\"ticks\":\"\"}},\"marker\":{\"colorbar\":{\"outlinewidth\":0,\"ticks\":\"\"}}}],\"scattermapbox\":[{\"type\":\"scattermapbox\",\"marker\":{\"colorbar\":{\"outlinewidth\":0,\"ticks\":\"\"}}}],\"scatterternary\":[{\"type\":\"scatterternary\",\"marker\":{\"colorbar\":{\"outlinewidth\":0,\"ticks\":\"\"}}}],\"scattercarpet\":[{\"type\":\"scattercarpet\",\"marker\":{\"colorbar\":{\"outlinewidth\":0,\"ticks\":\"\"}}}],\"carpet\":[{\"aaxis\":{\"endlinecolor\":\"#2a3f5f\",\"gridcolor\":\"white\",\"linecolor\":\"white\",\"minorgridcolor\":\"white\",\"startlinecolor\":\"#2a3f5f\"},\"baxis\":{\"endlinecolor\":\"#2a3f5f\",\"gridcolor\":\"white\",\"linecolor\":\"white\",\"minorgridcolor\":\"white\",\"startlinecolor\":\"#2a3f5f\"},\"type\":\"carpet\"}],\"table\":[{\"cells\":{\"fill\":{\"color\":\"#EBF0F8\"},\"line\":{\"color\":\"white\"}},\"header\":{\"fill\":{\"color\":\"#C8D4E3\"},\"line\":{\"color\":\"white\"}},\"type\":\"table\"}],\"barpolar\":[{\"marker\":{\"line\":{\"color\":\"#E5ECF6\",\"width\":0.5},\"pattern\":{\"fillmode\":\"overlay\",\"size\":10,\"solidity\":0.2}},\"type\":\"barpolar\"}],\"pie\":[{\"automargin\":true,\"type\":\"pie\"}]},\"layout\":{\"autotypenumbers\":\"strict\",\"colorway\":[\"#636efa\",\"#EF553B\",\"#00cc96\",\"#ab63fa\",\"#FFA15A\",\"#19d3f3\",\"#FF6692\",\"#B6E880\",\"#FF97FF\",\"#FECB52\"],\"font\":{\"color\":\"#2a3f5f\"},\"hovermode\":\"closest\",\"hoverlabel\":{\"align\":\"left\"},\"paper_bgcolor\":\"white\",\"plot_bgcolor\":\"#E5ECF6\",\"polar\":{\"bgcolor\":\"#E5ECF6\",\"angularaxis\":{\"gridcolor\":\"white\",\"linecolor\":\"white\",\"ticks\":\"\"},\"radialaxis\":{\"gridcolor\":\"white\",\"linecolor\":\"white\",\"ticks\":\"\"}},\"ternary\":{\"bgcolor\":\"#E5ECF6\",\"aaxis\":{\"gridcolor\":\"white\",\"linecolor\":\"white\",\"ticks\":\"\"},\"baxis\":{\"gridcolor\":\"white\",\"linecolor\":\"white\",\"ticks\":\"\"},\"caxis\":{\"gridcolor\":\"white\",\"linecolor\":\"white\",\"ticks\":\"\"}},\"coloraxis\":{\"colorbar\":{\"outlinewidth\":0,\"ticks\":\"\"}},\"colorscale\":{\"sequential\":[[0.0,\"#0d0887\"],[0.1111111111111111,\"#46039f\"],[0.2222222222222222,\"#7201a8\"],[0.3333333333333333,\"#9c179e\"],[0.4444444444444444,\"#bd3786\"],[0.5555555555555556,\"#d8576b\"],[0.6666666666666666,\"#ed7953\"],[0.7777777777777778,\"#fb9f3a\"],[0.8888888888888888,\"#fdca26\"],[1.0,\"#f0f921\"]],\"sequentialminus\":[[0.0,\"#0d0887\"],[0.1111111111111111,\"#46039f\"],[0.2222222222222222,\"#7201a8\"],[0.3333333333333333,\"#9c179e\"],[0.4444444444444444,\"#bd3786\"],[0.5555555555555556,\"#d8576b\"],[0.6666666666666666,\"#ed7953\"],[0.7777777777777778,\"#fb9f3a\"],[0.8888888888888888,\"#fdca26\"],[1.0,\"#f0f921\"]],\"diverging\":[[0,\"#8e0152\"],[0.1,\"#c51b7d\"],[0.2,\"#de77ae\"],[0.3,\"#f1b6da\"],[0.4,\"#fde0ef\"],[0.5,\"#f7f7f7\"],[0.6,\"#e6f5d0\"],[0.7,\"#b8e186\"],[0.8,\"#7fbc41\"],[0.9,\"#4d9221\"],[1,\"#276419\"]]},\"xaxis\":{\"gridcolor\":\"white\",\"linecolor\":\"white\",\"ticks\":\"\",\"title\":{\"standoff\":15},\"zerolinecolor\":\"white\",\"automargin\":true,\"zerolinewidth\":2},\"yaxis\":{\"gridcolor\":\"white\",\"linecolor\":\"white\",\"ticks\":\"\",\"title\":{\"standoff\":15},\"zerolinecolor\":\"white\",\"automargin\":true,\"zerolinewidth\":2},\"scene\":{\"xaxis\":{\"backgroundcolor\":\"#E5ECF6\",\"gridcolor\":\"white\",\"linecolor\":\"white\",\"showbackground\":true,\"ticks\":\"\",\"zerolinecolor\":\"white\",\"gridwidth\":2},\"yaxis\":{\"backgroundcolor\":\"#E5ECF6\",\"gridcolor\":\"white\",\"linecolor\":\"white\",\"showbackground\":true,\"ticks\":\"\",\"zerolinecolor\":\"white\",\"gridwidth\":2},\"zaxis\":{\"backgroundcolor\":\"#E5ECF6\",\"gridcolor\":\"white\",\"linecolor\":\"white\",\"showbackground\":true,\"ticks\":\"\",\"zerolinecolor\":\"white\",\"gridwidth\":2}},\"shapedefaults\":{\"line\":{\"color\":\"#2a3f5f\"}},\"annotationdefaults\":{\"arrowcolor\":\"#2a3f5f\",\"arrowhead\":0,\"arrowwidth\":1},\"geo\":{\"bgcolor\":\"white\",\"landcolor\":\"#E5ECF6\",\"subunitcolor\":\"white\",\"showland\":true,\"showlakes\":true,\"lakecolor\":\"white\"},\"title\":{\"x\":0.05},\"mapbox\":{\"style\":\"light\"}}},\"xaxis\":{\"anchor\":\"y\",\"domain\":[0.0,1.0],\"title\":{\"text\":\"Number of Items Purchased\"}},\"yaxis\":{\"anchor\":\"x\",\"domain\":[0.0,1.0],\"title\":{\"text\":\"Number of Customers\"}},\"legend\":{\"title\":{\"text\":\"Customer Satisfaction\"},\"tracegroupgap\":0},\"title\":{\"text\":\"Number of Items Purchased vs. Customer Satisfaction\"},\"barmode\":\"group\"},                        {\"responsive\": true}                    ).then(function(){\n",
              "                            \n",
              "var gd = document.getElementById('47e0390a-310f-4437-a908-6ab6a6a7d6a1');\n",
              "var x = new MutationObserver(function (mutations, observer) {{\n",
              "        var display = window.getComputedStyle(gd).display;\n",
              "        if (!display || display === 'none') {{\n",
              "            console.log([gd, 'removed!']);\n",
              "            Plotly.purge(gd);\n",
              "            observer.disconnect();\n",
              "        }}\n",
              "}});\n",
              "\n",
              "// Listen for the removal of the full notebook cells\n",
              "var notebookContainer = gd.closest('#notebook-container');\n",
              "if (notebookContainer) {{\n",
              "    x.observe(notebookContainer, {childList: true});\n",
              "}}\n",
              "\n",
              "// Listen for the clearing of the current output cell\n",
              "var outputEl = gd.closest('.output');\n",
              "if (outputEl) {{\n",
              "    x.observe(outputEl, {childList: true});\n",
              "}}\n",
              "\n",
              "                        })                };                            </script>        </div>\n",
              "</body>\n",
              "</html>"
            ]
          },
          "metadata": {}
        }
      ]
    },
    {
      "cell_type": "markdown",
      "source": [
        "**Q5: Which location has the 2nd highest average purchase amount?**"
      ],
      "metadata": {
        "id": "0B_IzI4WD-X8"
      }
    },
    {
      "cell_type": "code",
      "source": [
        "\n",
        "location_avg_purchase = df.groupby('Location')['Purchase Amount ($)'].mean()\n",
        "\n",
        "sorted_avg_purchase = location_avg_purchase.sort_values(ascending=False)\n",
        "\n",
        "second_highest_avg_purchase = sorted_avg_purchase.iloc[1]\n",
        "second_highest_location = sorted_avg_purchase.index[1]\n",
        "print(f\"The location with the second highest average purchase amount is: {second_highest_location}\")\n",
        "print(f\"The second highest average purchase amount is: {second_highest_avg_purchase:.2f}\")\n"
      ],
      "metadata": {
        "colab": {
          "base_uri": "https://localhost:8080/"
        },
        "id": "jxtKlKwHCWJe",
        "outputId": "1b1b154f-bc60-4010-87b6-3dc1728655a8"
      },
      "execution_count": null,
      "outputs": [
        {
          "output_type": "stream",
          "name": "stdout",
          "text": [
            "The location with the second highest average purchase amount is: Barisal\n",
            "The second highest average purchase amount is: 513.67\n"
          ]
        }
      ]
    },
    {
      "cell_type": "code",
      "source": [
        "\n",
        "location_avg_purchase = df.groupby('Location')['Purchase Amount ($)'].mean().sort_values(ascending=False)\n",
        "fig = px.bar(location_avg_purchase,\n",
        "             x=location_avg_purchase.index,\n",
        "             y=location_avg_purchase.values,\n",
        "             title='Average Purchase Amount by Location (Sorted)',\n",
        "             labels={'x': 'Location', 'y': 'Average Purchase Amount'},\n",
        "             color=location_avg_purchase.values)\n",
        "\n",
        "fig.show()"
      ],
      "metadata": {
        "colab": {
          "base_uri": "https://localhost:8080/",
          "height": 542
        },
        "id": "euTRhfP2Ctnj",
        "outputId": "d6b3d4f7-cbca-4b3b-dff4-68239ca1e5ef"
      },
      "execution_count": null,
      "outputs": [
        {
          "output_type": "display_data",
          "data": {
            "text/html": [
              "<html>\n",
              "<head><meta charset=\"utf-8\" /></head>\n",
              "<body>\n",
              "    <div>            <script src=\"https://cdnjs.cloudflare.com/ajax/libs/mathjax/2.7.5/MathJax.js?config=TeX-AMS-MML_SVG\"></script><script type=\"text/javascript\">if (window.MathJax && window.MathJax.Hub && window.MathJax.Hub.Config) {window.MathJax.Hub.Config({SVG: {font: \"STIX-Web\"}});}</script>                <script type=\"text/javascript\">window.PlotlyConfig = {MathJaxConfig: 'local'};</script>\n",
              "        <script charset=\"utf-8\" src=\"https://cdn.plot.ly/plotly-2.35.2.min.js\"></script>                <div id=\"1e5f82f6-6766-44f6-aee6-e07cae3694d3\" class=\"plotly-graph-div\" style=\"height:525px; width:100%;\"></div>            <script type=\"text/javascript\">                                    window.PLOTLYENV=window.PLOTLYENV || {};                                    if (document.getElementById(\"1e5f82f6-6766-44f6-aee6-e07cae3694d3\")) {                    Plotly.newPlot(                        \"1e5f82f6-6766-44f6-aee6-e07cae3694d3\",                        [{\"alignmentgroup\":\"True\",\"hovertemplate\":\"Location=%{x}\\u003cbr\\u003eAverage Purchase Amount=%{y}\\u003cbr\\u003ecolor=%{marker.color}\\u003cextra\\u003e\\u003c\\u002fextra\\u003e\",\"legendgroup\":\"\",\"marker\":{\"color\":[513.9370720371805,513.6745599999999,507.8922109375,507.8516745283018,502.002504145937,495.54464905037156,494.9764268391269,494.36886671987224],\"coloraxis\":\"coloraxis\",\"pattern\":{\"shape\":\"\"}},\"name\":\"\",\"offsetgroup\":\"\",\"orientation\":\"v\",\"showlegend\":false,\"textposition\":\"auto\",\"x\":[\"Khulna\",\"Barisal\",\"Mymensingh\",\"Chittagong\",\"Dhaka\",\"Rajshahi\",\"Sylhet\",\"Rangpur\"],\"xaxis\":\"x\",\"y\":[513.9370720371805,513.6745599999999,507.8922109375,507.8516745283018,502.002504145937,495.54464905037156,494.9764268391269,494.36886671987224],\"yaxis\":\"y\",\"type\":\"bar\"}],                        {\"template\":{\"data\":{\"histogram2dcontour\":[{\"type\":\"histogram2dcontour\",\"colorbar\":{\"outlinewidth\":0,\"ticks\":\"\"},\"colorscale\":[[0.0,\"#0d0887\"],[0.1111111111111111,\"#46039f\"],[0.2222222222222222,\"#7201a8\"],[0.3333333333333333,\"#9c179e\"],[0.4444444444444444,\"#bd3786\"],[0.5555555555555556,\"#d8576b\"],[0.6666666666666666,\"#ed7953\"],[0.7777777777777778,\"#fb9f3a\"],[0.8888888888888888,\"#fdca26\"],[1.0,\"#f0f921\"]]}],\"choropleth\":[{\"type\":\"choropleth\",\"colorbar\":{\"outlinewidth\":0,\"ticks\":\"\"}}],\"histogram2d\":[{\"type\":\"histogram2d\",\"colorbar\":{\"outlinewidth\":0,\"ticks\":\"\"},\"colorscale\":[[0.0,\"#0d0887\"],[0.1111111111111111,\"#46039f\"],[0.2222222222222222,\"#7201a8\"],[0.3333333333333333,\"#9c179e\"],[0.4444444444444444,\"#bd3786\"],[0.5555555555555556,\"#d8576b\"],[0.6666666666666666,\"#ed7953\"],[0.7777777777777778,\"#fb9f3a\"],[0.8888888888888888,\"#fdca26\"],[1.0,\"#f0f921\"]]}],\"heatmap\":[{\"type\":\"heatmap\",\"colorbar\":{\"outlinewidth\":0,\"ticks\":\"\"},\"colorscale\":[[0.0,\"#0d0887\"],[0.1111111111111111,\"#46039f\"],[0.2222222222222222,\"#7201a8\"],[0.3333333333333333,\"#9c179e\"],[0.4444444444444444,\"#bd3786\"],[0.5555555555555556,\"#d8576b\"],[0.6666666666666666,\"#ed7953\"],[0.7777777777777778,\"#fb9f3a\"],[0.8888888888888888,\"#fdca26\"],[1.0,\"#f0f921\"]]}],\"heatmapgl\":[{\"type\":\"heatmapgl\",\"colorbar\":{\"outlinewidth\":0,\"ticks\":\"\"},\"colorscale\":[[0.0,\"#0d0887\"],[0.1111111111111111,\"#46039f\"],[0.2222222222222222,\"#7201a8\"],[0.3333333333333333,\"#9c179e\"],[0.4444444444444444,\"#bd3786\"],[0.5555555555555556,\"#d8576b\"],[0.6666666666666666,\"#ed7953\"],[0.7777777777777778,\"#fb9f3a\"],[0.8888888888888888,\"#fdca26\"],[1.0,\"#f0f921\"]]}],\"contourcarpet\":[{\"type\":\"contourcarpet\",\"colorbar\":{\"outlinewidth\":0,\"ticks\":\"\"}}],\"contour\":[{\"type\":\"contour\",\"colorbar\":{\"outlinewidth\":0,\"ticks\":\"\"},\"colorscale\":[[0.0,\"#0d0887\"],[0.1111111111111111,\"#46039f\"],[0.2222222222222222,\"#7201a8\"],[0.3333333333333333,\"#9c179e\"],[0.4444444444444444,\"#bd3786\"],[0.5555555555555556,\"#d8576b\"],[0.6666666666666666,\"#ed7953\"],[0.7777777777777778,\"#fb9f3a\"],[0.8888888888888888,\"#fdca26\"],[1.0,\"#f0f921\"]]}],\"surface\":[{\"type\":\"surface\",\"colorbar\":{\"outlinewidth\":0,\"ticks\":\"\"},\"colorscale\":[[0.0,\"#0d0887\"],[0.1111111111111111,\"#46039f\"],[0.2222222222222222,\"#7201a8\"],[0.3333333333333333,\"#9c179e\"],[0.4444444444444444,\"#bd3786\"],[0.5555555555555556,\"#d8576b\"],[0.6666666666666666,\"#ed7953\"],[0.7777777777777778,\"#fb9f3a\"],[0.8888888888888888,\"#fdca26\"],[1.0,\"#f0f921\"]]}],\"mesh3d\":[{\"type\":\"mesh3d\",\"colorbar\":{\"outlinewidth\":0,\"ticks\":\"\"}}],\"scatter\":[{\"fillpattern\":{\"fillmode\":\"overlay\",\"size\":10,\"solidity\":0.2},\"type\":\"scatter\"}],\"parcoords\":[{\"type\":\"parcoords\",\"line\":{\"colorbar\":{\"outlinewidth\":0,\"ticks\":\"\"}}}],\"scatterpolargl\":[{\"type\":\"scatterpolargl\",\"marker\":{\"colorbar\":{\"outlinewidth\":0,\"ticks\":\"\"}}}],\"bar\":[{\"error_x\":{\"color\":\"#2a3f5f\"},\"error_y\":{\"color\":\"#2a3f5f\"},\"marker\":{\"line\":{\"color\":\"#E5ECF6\",\"width\":0.5},\"pattern\":{\"fillmode\":\"overlay\",\"size\":10,\"solidity\":0.2}},\"type\":\"bar\"}],\"scattergeo\":[{\"type\":\"scattergeo\",\"marker\":{\"colorbar\":{\"outlinewidth\":0,\"ticks\":\"\"}}}],\"scatterpolar\":[{\"type\":\"scatterpolar\",\"marker\":{\"colorbar\":{\"outlinewidth\":0,\"ticks\":\"\"}}}],\"histogram\":[{\"marker\":{\"pattern\":{\"fillmode\":\"overlay\",\"size\":10,\"solidity\":0.2}},\"type\":\"histogram\"}],\"scattergl\":[{\"type\":\"scattergl\",\"marker\":{\"colorbar\":{\"outlinewidth\":0,\"ticks\":\"\"}}}],\"scatter3d\":[{\"type\":\"scatter3d\",\"line\":{\"colorbar\":{\"outlinewidth\":0,\"ticks\":\"\"}},\"marker\":{\"colorbar\":{\"outlinewidth\":0,\"ticks\":\"\"}}}],\"scattermapbox\":[{\"type\":\"scattermapbox\",\"marker\":{\"colorbar\":{\"outlinewidth\":0,\"ticks\":\"\"}}}],\"scatterternary\":[{\"type\":\"scatterternary\",\"marker\":{\"colorbar\":{\"outlinewidth\":0,\"ticks\":\"\"}}}],\"scattercarpet\":[{\"type\":\"scattercarpet\",\"marker\":{\"colorbar\":{\"outlinewidth\":0,\"ticks\":\"\"}}}],\"carpet\":[{\"aaxis\":{\"endlinecolor\":\"#2a3f5f\",\"gridcolor\":\"white\",\"linecolor\":\"white\",\"minorgridcolor\":\"white\",\"startlinecolor\":\"#2a3f5f\"},\"baxis\":{\"endlinecolor\":\"#2a3f5f\",\"gridcolor\":\"white\",\"linecolor\":\"white\",\"minorgridcolor\":\"white\",\"startlinecolor\":\"#2a3f5f\"},\"type\":\"carpet\"}],\"table\":[{\"cells\":{\"fill\":{\"color\":\"#EBF0F8\"},\"line\":{\"color\":\"white\"}},\"header\":{\"fill\":{\"color\":\"#C8D4E3\"},\"line\":{\"color\":\"white\"}},\"type\":\"table\"}],\"barpolar\":[{\"marker\":{\"line\":{\"color\":\"#E5ECF6\",\"width\":0.5},\"pattern\":{\"fillmode\":\"overlay\",\"size\":10,\"solidity\":0.2}},\"type\":\"barpolar\"}],\"pie\":[{\"automargin\":true,\"type\":\"pie\"}]},\"layout\":{\"autotypenumbers\":\"strict\",\"colorway\":[\"#636efa\",\"#EF553B\",\"#00cc96\",\"#ab63fa\",\"#FFA15A\",\"#19d3f3\",\"#FF6692\",\"#B6E880\",\"#FF97FF\",\"#FECB52\"],\"font\":{\"color\":\"#2a3f5f\"},\"hovermode\":\"closest\",\"hoverlabel\":{\"align\":\"left\"},\"paper_bgcolor\":\"white\",\"plot_bgcolor\":\"#E5ECF6\",\"polar\":{\"bgcolor\":\"#E5ECF6\",\"angularaxis\":{\"gridcolor\":\"white\",\"linecolor\":\"white\",\"ticks\":\"\"},\"radialaxis\":{\"gridcolor\":\"white\",\"linecolor\":\"white\",\"ticks\":\"\"}},\"ternary\":{\"bgcolor\":\"#E5ECF6\",\"aaxis\":{\"gridcolor\":\"white\",\"linecolor\":\"white\",\"ticks\":\"\"},\"baxis\":{\"gridcolor\":\"white\",\"linecolor\":\"white\",\"ticks\":\"\"},\"caxis\":{\"gridcolor\":\"white\",\"linecolor\":\"white\",\"ticks\":\"\"}},\"coloraxis\":{\"colorbar\":{\"outlinewidth\":0,\"ticks\":\"\"}},\"colorscale\":{\"sequential\":[[0.0,\"#0d0887\"],[0.1111111111111111,\"#46039f\"],[0.2222222222222222,\"#7201a8\"],[0.3333333333333333,\"#9c179e\"],[0.4444444444444444,\"#bd3786\"],[0.5555555555555556,\"#d8576b\"],[0.6666666666666666,\"#ed7953\"],[0.7777777777777778,\"#fb9f3a\"],[0.8888888888888888,\"#fdca26\"],[1.0,\"#f0f921\"]],\"sequentialminus\":[[0.0,\"#0d0887\"],[0.1111111111111111,\"#46039f\"],[0.2222222222222222,\"#7201a8\"],[0.3333333333333333,\"#9c179e\"],[0.4444444444444444,\"#bd3786\"],[0.5555555555555556,\"#d8576b\"],[0.6666666666666666,\"#ed7953\"],[0.7777777777777778,\"#fb9f3a\"],[0.8888888888888888,\"#fdca26\"],[1.0,\"#f0f921\"]],\"diverging\":[[0,\"#8e0152\"],[0.1,\"#c51b7d\"],[0.2,\"#de77ae\"],[0.3,\"#f1b6da\"],[0.4,\"#fde0ef\"],[0.5,\"#f7f7f7\"],[0.6,\"#e6f5d0\"],[0.7,\"#b8e186\"],[0.8,\"#7fbc41\"],[0.9,\"#4d9221\"],[1,\"#276419\"]]},\"xaxis\":{\"gridcolor\":\"white\",\"linecolor\":\"white\",\"ticks\":\"\",\"title\":{\"standoff\":15},\"zerolinecolor\":\"white\",\"automargin\":true,\"zerolinewidth\":2},\"yaxis\":{\"gridcolor\":\"white\",\"linecolor\":\"white\",\"ticks\":\"\",\"title\":{\"standoff\":15},\"zerolinecolor\":\"white\",\"automargin\":true,\"zerolinewidth\":2},\"scene\":{\"xaxis\":{\"backgroundcolor\":\"#E5ECF6\",\"gridcolor\":\"white\",\"linecolor\":\"white\",\"showbackground\":true,\"ticks\":\"\",\"zerolinecolor\":\"white\",\"gridwidth\":2},\"yaxis\":{\"backgroundcolor\":\"#E5ECF6\",\"gridcolor\":\"white\",\"linecolor\":\"white\",\"showbackground\":true,\"ticks\":\"\",\"zerolinecolor\":\"white\",\"gridwidth\":2},\"zaxis\":{\"backgroundcolor\":\"#E5ECF6\",\"gridcolor\":\"white\",\"linecolor\":\"white\",\"showbackground\":true,\"ticks\":\"\",\"zerolinecolor\":\"white\",\"gridwidth\":2}},\"shapedefaults\":{\"line\":{\"color\":\"#2a3f5f\"}},\"annotationdefaults\":{\"arrowcolor\":\"#2a3f5f\",\"arrowhead\":0,\"arrowwidth\":1},\"geo\":{\"bgcolor\":\"white\",\"landcolor\":\"#E5ECF6\",\"subunitcolor\":\"white\",\"showland\":true,\"showlakes\":true,\"lakecolor\":\"white\"},\"title\":{\"x\":0.05},\"mapbox\":{\"style\":\"light\"}}},\"xaxis\":{\"anchor\":\"y\",\"domain\":[0.0,1.0],\"title\":{\"text\":\"Location\"}},\"yaxis\":{\"anchor\":\"x\",\"domain\":[0.0,1.0],\"title\":{\"text\":\"Average Purchase Amount\"}},\"coloraxis\":{\"colorbar\":{\"title\":{\"text\":\"color\"}},\"colorscale\":[[0.0,\"#0d0887\"],[0.1111111111111111,\"#46039f\"],[0.2222222222222222,\"#7201a8\"],[0.3333333333333333,\"#9c179e\"],[0.4444444444444444,\"#bd3786\"],[0.5555555555555556,\"#d8576b\"],[0.6666666666666666,\"#ed7953\"],[0.7777777777777778,\"#fb9f3a\"],[0.8888888888888888,\"#fdca26\"],[1.0,\"#f0f921\"]]},\"legend\":{\"tracegroupgap\":0},\"title\":{\"text\":\"Average Purchase Amount by Location (Sorted)\"},\"barmode\":\"relative\"},                        {\"responsive\": true}                    ).then(function(){\n",
              "                            \n",
              "var gd = document.getElementById('1e5f82f6-6766-44f6-aee6-e07cae3694d3');\n",
              "var x = new MutationObserver(function (mutations, observer) {{\n",
              "        var display = window.getComputedStyle(gd).display;\n",
              "        if (!display || display === 'none') {{\n",
              "            console.log([gd, 'removed!']);\n",
              "            Plotly.purge(gd);\n",
              "            observer.disconnect();\n",
              "        }}\n",
              "}});\n",
              "\n",
              "// Listen for the removal of the full notebook cells\n",
              "var notebookContainer = gd.closest('#notebook-container');\n",
              "if (notebookContainer) {{\n",
              "    x.observe(notebookContainer, {childList: true});\n",
              "}}\n",
              "\n",
              "// Listen for the clearing of the current output cell\n",
              "var outputEl = gd.closest('.output');\n",
              "if (outputEl) {{\n",
              "    x.observe(outputEl, {childList: true});\n",
              "}}\n",
              "\n",
              "                        })                };                            </script>        </div>\n",
              "</body>\n",
              "</html>"
            ]
          },
          "metadata": {}
        }
      ]
    },
    {
      "cell_type": "markdown",
      "source": [
        "***Level 3***"
      ],
      "metadata": {
        "id": "W5XvFmRw_uGR"
      }
    },
    {
      "cell_type": "markdown",
      "source": [
        "**Q1: What factors contribute most to a customer being classified as a return customer?**"
      ],
      "metadata": {
        "id": "qnnNRyEwFSaP"
      }
    },
    {
      "cell_type": "code",
      "source": [
        "\n",
        "return_customer_satisfaction = df.groupby('Customer Satisfaction')['Return Customer'].mean() * 100\n",
        "\n",
        "print(return_customer_satisfaction)\n",
        "\n",
        "fig = px.bar(return_customer_satisfaction.reset_index(),\n",
        "             x='Customer Satisfaction',\n",
        "             y='Return Customer',\n",
        "             title='Percentage of Return Customers by Customer Satisfaction',\n",
        "             labels={'Customer Satisfaction': 'Customer Satisfaction',\n",
        "                     'Return Customer': 'Return Customer (%)'},\n",
        "             color='Customer Satisfaction')\n",
        "\n",
        "fig.update_traces(texttemplate='%{y:.2f}%', textposition='outside')\n",
        "fig.show()"
      ],
      "metadata": {
        "colab": {
          "base_uri": "https://localhost:8080/",
          "height": 629
        },
        "id": "Q22c4g_MHg4U",
        "outputId": "82b8b81a-0b80-4a43-f65f-506ae0a16406"
      },
      "execution_count": null,
      "outputs": [
        {
          "output_type": "stream",
          "name": "stdout",
          "text": [
            "Customer Satisfaction\n",
            "High      49.092010\n",
            "Low       50.341753\n",
            "Medium    50.435305\n",
            "Name: Return Customer, dtype: float64\n"
          ]
        },
        {
          "output_type": "display_data",
          "data": {
            "text/html": [
              "<html>\n",
              "<head><meta charset=\"utf-8\" /></head>\n",
              "<body>\n",
              "    <div>            <script src=\"https://cdnjs.cloudflare.com/ajax/libs/mathjax/2.7.5/MathJax.js?config=TeX-AMS-MML_SVG\"></script><script type=\"text/javascript\">if (window.MathJax && window.MathJax.Hub && window.MathJax.Hub.Config) {window.MathJax.Hub.Config({SVG: {font: \"STIX-Web\"}});}</script>                <script type=\"text/javascript\">window.PlotlyConfig = {MathJaxConfig: 'local'};</script>\n",
              "        <script charset=\"utf-8\" src=\"https://cdn.plot.ly/plotly-2.35.2.min.js\"></script>                <div id=\"490c4f26-6b61-47fb-93a5-3bd650dbf32c\" class=\"plotly-graph-div\" style=\"height:525px; width:100%;\"></div>            <script type=\"text/javascript\">                                    window.PLOTLYENV=window.PLOTLYENV || {};                                    if (document.getElementById(\"490c4f26-6b61-47fb-93a5-3bd650dbf32c\")) {                    Plotly.newPlot(                        \"490c4f26-6b61-47fb-93a5-3bd650dbf32c\",                        [{\"alignmentgroup\":\"True\",\"hovertemplate\":\"Customer Satisfaction=%{x}\\u003cbr\\u003eReturn Customer (%)=%{y}\\u003cextra\\u003e\\u003c\\u002fextra\\u003e\",\"legendgroup\":\"High\",\"marker\":{\"color\":\"#636efa\",\"pattern\":{\"shape\":\"\"}},\"name\":\"High\",\"offsetgroup\":\"High\",\"orientation\":\"v\",\"showlegend\":true,\"textposition\":\"outside\",\"x\":[\"High\"],\"xaxis\":\"x\",\"y\":[49.092009685230025],\"yaxis\":\"y\",\"type\":\"bar\",\"texttemplate\":\"%{y:.2f}%\"},{\"alignmentgroup\":\"True\",\"hovertemplate\":\"Customer Satisfaction=%{x}\\u003cbr\\u003eReturn Customer (%)=%{y}\\u003cextra\\u003e\\u003c\\u002fextra\\u003e\",\"legendgroup\":\"Low\",\"marker\":{\"color\":\"#EF553B\",\"pattern\":{\"shape\":\"\"}},\"name\":\"Low\",\"offsetgroup\":\"Low\",\"orientation\":\"v\",\"showlegend\":true,\"textposition\":\"outside\",\"x\":[\"Low\"],\"xaxis\":\"x\",\"y\":[50.341753343239226],\"yaxis\":\"y\",\"type\":\"bar\",\"texttemplate\":\"%{y:.2f}%\"},{\"alignmentgroup\":\"True\",\"hovertemplate\":\"Customer Satisfaction=%{x}\\u003cbr\\u003eReturn Customer (%)=%{y}\\u003cextra\\u003e\\u003c\\u002fextra\\u003e\",\"legendgroup\":\"Medium\",\"marker\":{\"color\":\"#00cc96\",\"pattern\":{\"shape\":\"\"}},\"name\":\"Medium\",\"offsetgroup\":\"Medium\",\"orientation\":\"v\",\"showlegend\":true,\"textposition\":\"outside\",\"x\":[\"Medium\"],\"xaxis\":\"x\",\"y\":[50.43530471329931],\"yaxis\":\"y\",\"type\":\"bar\",\"texttemplate\":\"%{y:.2f}%\"}],                        {\"template\":{\"data\":{\"histogram2dcontour\":[{\"type\":\"histogram2dcontour\",\"colorbar\":{\"outlinewidth\":0,\"ticks\":\"\"},\"colorscale\":[[0.0,\"#0d0887\"],[0.1111111111111111,\"#46039f\"],[0.2222222222222222,\"#7201a8\"],[0.3333333333333333,\"#9c179e\"],[0.4444444444444444,\"#bd3786\"],[0.5555555555555556,\"#d8576b\"],[0.6666666666666666,\"#ed7953\"],[0.7777777777777778,\"#fb9f3a\"],[0.8888888888888888,\"#fdca26\"],[1.0,\"#f0f921\"]]}],\"choropleth\":[{\"type\":\"choropleth\",\"colorbar\":{\"outlinewidth\":0,\"ticks\":\"\"}}],\"histogram2d\":[{\"type\":\"histogram2d\",\"colorbar\":{\"outlinewidth\":0,\"ticks\":\"\"},\"colorscale\":[[0.0,\"#0d0887\"],[0.1111111111111111,\"#46039f\"],[0.2222222222222222,\"#7201a8\"],[0.3333333333333333,\"#9c179e\"],[0.4444444444444444,\"#bd3786\"],[0.5555555555555556,\"#d8576b\"],[0.6666666666666666,\"#ed7953\"],[0.7777777777777778,\"#fb9f3a\"],[0.8888888888888888,\"#fdca26\"],[1.0,\"#f0f921\"]]}],\"heatmap\":[{\"type\":\"heatmap\",\"colorbar\":{\"outlinewidth\":0,\"ticks\":\"\"},\"colorscale\":[[0.0,\"#0d0887\"],[0.1111111111111111,\"#46039f\"],[0.2222222222222222,\"#7201a8\"],[0.3333333333333333,\"#9c179e\"],[0.4444444444444444,\"#bd3786\"],[0.5555555555555556,\"#d8576b\"],[0.6666666666666666,\"#ed7953\"],[0.7777777777777778,\"#fb9f3a\"],[0.8888888888888888,\"#fdca26\"],[1.0,\"#f0f921\"]]}],\"heatmapgl\":[{\"type\":\"heatmapgl\",\"colorbar\":{\"outlinewidth\":0,\"ticks\":\"\"},\"colorscale\":[[0.0,\"#0d0887\"],[0.1111111111111111,\"#46039f\"],[0.2222222222222222,\"#7201a8\"],[0.3333333333333333,\"#9c179e\"],[0.4444444444444444,\"#bd3786\"],[0.5555555555555556,\"#d8576b\"],[0.6666666666666666,\"#ed7953\"],[0.7777777777777778,\"#fb9f3a\"],[0.8888888888888888,\"#fdca26\"],[1.0,\"#f0f921\"]]}],\"contourcarpet\":[{\"type\":\"contourcarpet\",\"colorbar\":{\"outlinewidth\":0,\"ticks\":\"\"}}],\"contour\":[{\"type\":\"contour\",\"colorbar\":{\"outlinewidth\":0,\"ticks\":\"\"},\"colorscale\":[[0.0,\"#0d0887\"],[0.1111111111111111,\"#46039f\"],[0.2222222222222222,\"#7201a8\"],[0.3333333333333333,\"#9c179e\"],[0.4444444444444444,\"#bd3786\"],[0.5555555555555556,\"#d8576b\"],[0.6666666666666666,\"#ed7953\"],[0.7777777777777778,\"#fb9f3a\"],[0.8888888888888888,\"#fdca26\"],[1.0,\"#f0f921\"]]}],\"surface\":[{\"type\":\"surface\",\"colorbar\":{\"outlinewidth\":0,\"ticks\":\"\"},\"colorscale\":[[0.0,\"#0d0887\"],[0.1111111111111111,\"#46039f\"],[0.2222222222222222,\"#7201a8\"],[0.3333333333333333,\"#9c179e\"],[0.4444444444444444,\"#bd3786\"],[0.5555555555555556,\"#d8576b\"],[0.6666666666666666,\"#ed7953\"],[0.7777777777777778,\"#fb9f3a\"],[0.8888888888888888,\"#fdca26\"],[1.0,\"#f0f921\"]]}],\"mesh3d\":[{\"type\":\"mesh3d\",\"colorbar\":{\"outlinewidth\":0,\"ticks\":\"\"}}],\"scatter\":[{\"fillpattern\":{\"fillmode\":\"overlay\",\"size\":10,\"solidity\":0.2},\"type\":\"scatter\"}],\"parcoords\":[{\"type\":\"parcoords\",\"line\":{\"colorbar\":{\"outlinewidth\":0,\"ticks\":\"\"}}}],\"scatterpolargl\":[{\"type\":\"scatterpolargl\",\"marker\":{\"colorbar\":{\"outlinewidth\":0,\"ticks\":\"\"}}}],\"bar\":[{\"error_x\":{\"color\":\"#2a3f5f\"},\"error_y\":{\"color\":\"#2a3f5f\"},\"marker\":{\"line\":{\"color\":\"#E5ECF6\",\"width\":0.5},\"pattern\":{\"fillmode\":\"overlay\",\"size\":10,\"solidity\":0.2}},\"type\":\"bar\"}],\"scattergeo\":[{\"type\":\"scattergeo\",\"marker\":{\"colorbar\":{\"outlinewidth\":0,\"ticks\":\"\"}}}],\"scatterpolar\":[{\"type\":\"scatterpolar\",\"marker\":{\"colorbar\":{\"outlinewidth\":0,\"ticks\":\"\"}}}],\"histogram\":[{\"marker\":{\"pattern\":{\"fillmode\":\"overlay\",\"size\":10,\"solidity\":0.2}},\"type\":\"histogram\"}],\"scattergl\":[{\"type\":\"scattergl\",\"marker\":{\"colorbar\":{\"outlinewidth\":0,\"ticks\":\"\"}}}],\"scatter3d\":[{\"type\":\"scatter3d\",\"line\":{\"colorbar\":{\"outlinewidth\":0,\"ticks\":\"\"}},\"marker\":{\"colorbar\":{\"outlinewidth\":0,\"ticks\":\"\"}}}],\"scattermapbox\":[{\"type\":\"scattermapbox\",\"marker\":{\"colorbar\":{\"outlinewidth\":0,\"ticks\":\"\"}}}],\"scatterternary\":[{\"type\":\"scatterternary\",\"marker\":{\"colorbar\":{\"outlinewidth\":0,\"ticks\":\"\"}}}],\"scattercarpet\":[{\"type\":\"scattercarpet\",\"marker\":{\"colorbar\":{\"outlinewidth\":0,\"ticks\":\"\"}}}],\"carpet\":[{\"aaxis\":{\"endlinecolor\":\"#2a3f5f\",\"gridcolor\":\"white\",\"linecolor\":\"white\",\"minorgridcolor\":\"white\",\"startlinecolor\":\"#2a3f5f\"},\"baxis\":{\"endlinecolor\":\"#2a3f5f\",\"gridcolor\":\"white\",\"linecolor\":\"white\",\"minorgridcolor\":\"white\",\"startlinecolor\":\"#2a3f5f\"},\"type\":\"carpet\"}],\"table\":[{\"cells\":{\"fill\":{\"color\":\"#EBF0F8\"},\"line\":{\"color\":\"white\"}},\"header\":{\"fill\":{\"color\":\"#C8D4E3\"},\"line\":{\"color\":\"white\"}},\"type\":\"table\"}],\"barpolar\":[{\"marker\":{\"line\":{\"color\":\"#E5ECF6\",\"width\":0.5},\"pattern\":{\"fillmode\":\"overlay\",\"size\":10,\"solidity\":0.2}},\"type\":\"barpolar\"}],\"pie\":[{\"automargin\":true,\"type\":\"pie\"}]},\"layout\":{\"autotypenumbers\":\"strict\",\"colorway\":[\"#636efa\",\"#EF553B\",\"#00cc96\",\"#ab63fa\",\"#FFA15A\",\"#19d3f3\",\"#FF6692\",\"#B6E880\",\"#FF97FF\",\"#FECB52\"],\"font\":{\"color\":\"#2a3f5f\"},\"hovermode\":\"closest\",\"hoverlabel\":{\"align\":\"left\"},\"paper_bgcolor\":\"white\",\"plot_bgcolor\":\"#E5ECF6\",\"polar\":{\"bgcolor\":\"#E5ECF6\",\"angularaxis\":{\"gridcolor\":\"white\",\"linecolor\":\"white\",\"ticks\":\"\"},\"radialaxis\":{\"gridcolor\":\"white\",\"linecolor\":\"white\",\"ticks\":\"\"}},\"ternary\":{\"bgcolor\":\"#E5ECF6\",\"aaxis\":{\"gridcolor\":\"white\",\"linecolor\":\"white\",\"ticks\":\"\"},\"baxis\":{\"gridcolor\":\"white\",\"linecolor\":\"white\",\"ticks\":\"\"},\"caxis\":{\"gridcolor\":\"white\",\"linecolor\":\"white\",\"ticks\":\"\"}},\"coloraxis\":{\"colorbar\":{\"outlinewidth\":0,\"ticks\":\"\"}},\"colorscale\":{\"sequential\":[[0.0,\"#0d0887\"],[0.1111111111111111,\"#46039f\"],[0.2222222222222222,\"#7201a8\"],[0.3333333333333333,\"#9c179e\"],[0.4444444444444444,\"#bd3786\"],[0.5555555555555556,\"#d8576b\"],[0.6666666666666666,\"#ed7953\"],[0.7777777777777778,\"#fb9f3a\"],[0.8888888888888888,\"#fdca26\"],[1.0,\"#f0f921\"]],\"sequentialminus\":[[0.0,\"#0d0887\"],[0.1111111111111111,\"#46039f\"],[0.2222222222222222,\"#7201a8\"],[0.3333333333333333,\"#9c179e\"],[0.4444444444444444,\"#bd3786\"],[0.5555555555555556,\"#d8576b\"],[0.6666666666666666,\"#ed7953\"],[0.7777777777777778,\"#fb9f3a\"],[0.8888888888888888,\"#fdca26\"],[1.0,\"#f0f921\"]],\"diverging\":[[0,\"#8e0152\"],[0.1,\"#c51b7d\"],[0.2,\"#de77ae\"],[0.3,\"#f1b6da\"],[0.4,\"#fde0ef\"],[0.5,\"#f7f7f7\"],[0.6,\"#e6f5d0\"],[0.7,\"#b8e186\"],[0.8,\"#7fbc41\"],[0.9,\"#4d9221\"],[1,\"#276419\"]]},\"xaxis\":{\"gridcolor\":\"white\",\"linecolor\":\"white\",\"ticks\":\"\",\"title\":{\"standoff\":15},\"zerolinecolor\":\"white\",\"automargin\":true,\"zerolinewidth\":2},\"yaxis\":{\"gridcolor\":\"white\",\"linecolor\":\"white\",\"ticks\":\"\",\"title\":{\"standoff\":15},\"zerolinecolor\":\"white\",\"automargin\":true,\"zerolinewidth\":2},\"scene\":{\"xaxis\":{\"backgroundcolor\":\"#E5ECF6\",\"gridcolor\":\"white\",\"linecolor\":\"white\",\"showbackground\":true,\"ticks\":\"\",\"zerolinecolor\":\"white\",\"gridwidth\":2},\"yaxis\":{\"backgroundcolor\":\"#E5ECF6\",\"gridcolor\":\"white\",\"linecolor\":\"white\",\"showbackground\":true,\"ticks\":\"\",\"zerolinecolor\":\"white\",\"gridwidth\":2},\"zaxis\":{\"backgroundcolor\":\"#E5ECF6\",\"gridcolor\":\"white\",\"linecolor\":\"white\",\"showbackground\":true,\"ticks\":\"\",\"zerolinecolor\":\"white\",\"gridwidth\":2}},\"shapedefaults\":{\"line\":{\"color\":\"#2a3f5f\"}},\"annotationdefaults\":{\"arrowcolor\":\"#2a3f5f\",\"arrowhead\":0,\"arrowwidth\":1},\"geo\":{\"bgcolor\":\"white\",\"landcolor\":\"#E5ECF6\",\"subunitcolor\":\"white\",\"showland\":true,\"showlakes\":true,\"lakecolor\":\"white\"},\"title\":{\"x\":0.05},\"mapbox\":{\"style\":\"light\"}}},\"xaxis\":{\"anchor\":\"y\",\"domain\":[0.0,1.0],\"title\":{\"text\":\"Customer Satisfaction\"},\"categoryorder\":\"array\",\"categoryarray\":[\"High\",\"Low\",\"Medium\"]},\"yaxis\":{\"anchor\":\"x\",\"domain\":[0.0,1.0],\"title\":{\"text\":\"Return Customer (%)\"}},\"legend\":{\"title\":{\"text\":\"Customer Satisfaction\"},\"tracegroupgap\":0},\"title\":{\"text\":\"Percentage of Return Customers by Customer Satisfaction\"},\"barmode\":\"relative\"},                        {\"responsive\": true}                    ).then(function(){\n",
              "                            \n",
              "var gd = document.getElementById('490c4f26-6b61-47fb-93a5-3bd650dbf32c');\n",
              "var x = new MutationObserver(function (mutations, observer) {{\n",
              "        var display = window.getComputedStyle(gd).display;\n",
              "        if (!display || display === 'none') {{\n",
              "            console.log([gd, 'removed!']);\n",
              "            Plotly.purge(gd);\n",
              "            observer.disconnect();\n",
              "        }}\n",
              "}});\n",
              "\n",
              "// Listen for the removal of the full notebook cells\n",
              "var notebookContainer = gd.closest('#notebook-container');\n",
              "if (notebookContainer) {{\n",
              "    x.observe(notebookContainer, {childList: true});\n",
              "}}\n",
              "\n",
              "// Listen for the clearing of the current output cell\n",
              "var outputEl = gd.closest('.output');\n",
              "if (outputEl) {{\n",
              "    x.observe(outputEl, {childList: true});\n",
              "}}\n",
              "\n",
              "                        })                };                            </script>        </div>\n",
              "</body>\n",
              "</html>"
            ]
          },
          "metadata": {}
        }
      ]
    },
    {
      "cell_type": "code",
      "source": [
        "\n",
        "return_customer_by_review = df.groupby(['Review Score (1-5)', 'Return Customer'])['Customer ID'].count().unstack()\n",
        "\n",
        "return_customer_percentage = (return_customer_by_review[True] / (return_customer_by_review[True] + return_customer_by_review[False])) * 100\n",
        "\n",
        "print(return_customer_percentage)\n",
        "\n",
        "import plotly.express as px\n",
        "\n",
        "fig = px.bar(\n",
        "    return_customer_percentage.reset_index(),\n",
        "    x='Review Score (1-5)',\n",
        "    y=0,\n",
        "    title='Percentage of Return Customers by Review Score',\n",
        "    labels={'Review Score (1-5)': 'Review Score', 0: 'Percentage of Return Customers'},\n",
        ")\n",
        "fig.show()"
      ],
      "metadata": {
        "colab": {
          "base_uri": "https://localhost:8080/",
          "height": 663
        },
        "id": "pmsXekJMJicz",
        "outputId": "ae4d350b-4b5f-40a9-a6f7-34b3da86dead"
      },
      "execution_count": null,
      "outputs": [
        {
          "output_type": "stream",
          "name": "stdout",
          "text": [
            "Review Score (1-5)\n",
            "1    49.570490\n",
            "2    48.465347\n",
            "3    51.477216\n",
            "4    49.927850\n",
            "5    50.389610\n",
            "dtype: float64\n"
          ]
        },
        {
          "output_type": "display_data",
          "data": {
            "text/html": [
              "<html>\n",
              "<head><meta charset=\"utf-8\" /></head>\n",
              "<body>\n",
              "    <div>            <script src=\"https://cdnjs.cloudflare.com/ajax/libs/mathjax/2.7.5/MathJax.js?config=TeX-AMS-MML_SVG\"></script><script type=\"text/javascript\">if (window.MathJax && window.MathJax.Hub && window.MathJax.Hub.Config) {window.MathJax.Hub.Config({SVG: {font: \"STIX-Web\"}});}</script>                <script type=\"text/javascript\">window.PlotlyConfig = {MathJaxConfig: 'local'};</script>\n",
              "        <script charset=\"utf-8\" src=\"https://cdn.plot.ly/plotly-2.35.2.min.js\"></script>                <div id=\"c4ef83fa-e335-4e55-9917-2a13ecd7ad52\" class=\"plotly-graph-div\" style=\"height:525px; width:100%;\"></div>            <script type=\"text/javascript\">                                    window.PLOTLYENV=window.PLOTLYENV || {};                                    if (document.getElementById(\"c4ef83fa-e335-4e55-9917-2a13ecd7ad52\")) {                    Plotly.newPlot(                        \"c4ef83fa-e335-4e55-9917-2a13ecd7ad52\",                        [{\"alignmentgroup\":\"True\",\"hovertemplate\":\"Review Score=%{x}\\u003cbr\\u003e0=%{y}\\u003cextra\\u003e\\u003c\\u002fextra\\u003e\",\"legendgroup\":\"\",\"marker\":{\"color\":\"#636efa\",\"pattern\":{\"shape\":\"\"}},\"name\":\"\",\"offsetgroup\":\"\",\"orientation\":\"v\",\"showlegend\":false,\"textposition\":\"auto\",\"x\":[1,2,3,4,5],\"xaxis\":\"x\",\"y\":[49.57049014653865,48.46534653465346,51.4772158237356,49.92784992784993,50.38961038961038],\"yaxis\":\"y\",\"type\":\"bar\"}],                        {\"template\":{\"data\":{\"histogram2dcontour\":[{\"type\":\"histogram2dcontour\",\"colorbar\":{\"outlinewidth\":0,\"ticks\":\"\"},\"colorscale\":[[0.0,\"#0d0887\"],[0.1111111111111111,\"#46039f\"],[0.2222222222222222,\"#7201a8\"],[0.3333333333333333,\"#9c179e\"],[0.4444444444444444,\"#bd3786\"],[0.5555555555555556,\"#d8576b\"],[0.6666666666666666,\"#ed7953\"],[0.7777777777777778,\"#fb9f3a\"],[0.8888888888888888,\"#fdca26\"],[1.0,\"#f0f921\"]]}],\"choropleth\":[{\"type\":\"choropleth\",\"colorbar\":{\"outlinewidth\":0,\"ticks\":\"\"}}],\"histogram2d\":[{\"type\":\"histogram2d\",\"colorbar\":{\"outlinewidth\":0,\"ticks\":\"\"},\"colorscale\":[[0.0,\"#0d0887\"],[0.1111111111111111,\"#46039f\"],[0.2222222222222222,\"#7201a8\"],[0.3333333333333333,\"#9c179e\"],[0.4444444444444444,\"#bd3786\"],[0.5555555555555556,\"#d8576b\"],[0.6666666666666666,\"#ed7953\"],[0.7777777777777778,\"#fb9f3a\"],[0.8888888888888888,\"#fdca26\"],[1.0,\"#f0f921\"]]}],\"heatmap\":[{\"type\":\"heatmap\",\"colorbar\":{\"outlinewidth\":0,\"ticks\":\"\"},\"colorscale\":[[0.0,\"#0d0887\"],[0.1111111111111111,\"#46039f\"],[0.2222222222222222,\"#7201a8\"],[0.3333333333333333,\"#9c179e\"],[0.4444444444444444,\"#bd3786\"],[0.5555555555555556,\"#d8576b\"],[0.6666666666666666,\"#ed7953\"],[0.7777777777777778,\"#fb9f3a\"],[0.8888888888888888,\"#fdca26\"],[1.0,\"#f0f921\"]]}],\"heatmapgl\":[{\"type\":\"heatmapgl\",\"colorbar\":{\"outlinewidth\":0,\"ticks\":\"\"},\"colorscale\":[[0.0,\"#0d0887\"],[0.1111111111111111,\"#46039f\"],[0.2222222222222222,\"#7201a8\"],[0.3333333333333333,\"#9c179e\"],[0.4444444444444444,\"#bd3786\"],[0.5555555555555556,\"#d8576b\"],[0.6666666666666666,\"#ed7953\"],[0.7777777777777778,\"#fb9f3a\"],[0.8888888888888888,\"#fdca26\"],[1.0,\"#f0f921\"]]}],\"contourcarpet\":[{\"type\":\"contourcarpet\",\"colorbar\":{\"outlinewidth\":0,\"ticks\":\"\"}}],\"contour\":[{\"type\":\"contour\",\"colorbar\":{\"outlinewidth\":0,\"ticks\":\"\"},\"colorscale\":[[0.0,\"#0d0887\"],[0.1111111111111111,\"#46039f\"],[0.2222222222222222,\"#7201a8\"],[0.3333333333333333,\"#9c179e\"],[0.4444444444444444,\"#bd3786\"],[0.5555555555555556,\"#d8576b\"],[0.6666666666666666,\"#ed7953\"],[0.7777777777777778,\"#fb9f3a\"],[0.8888888888888888,\"#fdca26\"],[1.0,\"#f0f921\"]]}],\"surface\":[{\"type\":\"surface\",\"colorbar\":{\"outlinewidth\":0,\"ticks\":\"\"},\"colorscale\":[[0.0,\"#0d0887\"],[0.1111111111111111,\"#46039f\"],[0.2222222222222222,\"#7201a8\"],[0.3333333333333333,\"#9c179e\"],[0.4444444444444444,\"#bd3786\"],[0.5555555555555556,\"#d8576b\"],[0.6666666666666666,\"#ed7953\"],[0.7777777777777778,\"#fb9f3a\"],[0.8888888888888888,\"#fdca26\"],[1.0,\"#f0f921\"]]}],\"mesh3d\":[{\"type\":\"mesh3d\",\"colorbar\":{\"outlinewidth\":0,\"ticks\":\"\"}}],\"scatter\":[{\"fillpattern\":{\"fillmode\":\"overlay\",\"size\":10,\"solidity\":0.2},\"type\":\"scatter\"}],\"parcoords\":[{\"type\":\"parcoords\",\"line\":{\"colorbar\":{\"outlinewidth\":0,\"ticks\":\"\"}}}],\"scatterpolargl\":[{\"type\":\"scatterpolargl\",\"marker\":{\"colorbar\":{\"outlinewidth\":0,\"ticks\":\"\"}}}],\"bar\":[{\"error_x\":{\"color\":\"#2a3f5f\"},\"error_y\":{\"color\":\"#2a3f5f\"},\"marker\":{\"line\":{\"color\":\"#E5ECF6\",\"width\":0.5},\"pattern\":{\"fillmode\":\"overlay\",\"size\":10,\"solidity\":0.2}},\"type\":\"bar\"}],\"scattergeo\":[{\"type\":\"scattergeo\",\"marker\":{\"colorbar\":{\"outlinewidth\":0,\"ticks\":\"\"}}}],\"scatterpolar\":[{\"type\":\"scatterpolar\",\"marker\":{\"colorbar\":{\"outlinewidth\":0,\"ticks\":\"\"}}}],\"histogram\":[{\"marker\":{\"pattern\":{\"fillmode\":\"overlay\",\"size\":10,\"solidity\":0.2}},\"type\":\"histogram\"}],\"scattergl\":[{\"type\":\"scattergl\",\"marker\":{\"colorbar\":{\"outlinewidth\":0,\"ticks\":\"\"}}}],\"scatter3d\":[{\"type\":\"scatter3d\",\"line\":{\"colorbar\":{\"outlinewidth\":0,\"ticks\":\"\"}},\"marker\":{\"colorbar\":{\"outlinewidth\":0,\"ticks\":\"\"}}}],\"scattermapbox\":[{\"type\":\"scattermapbox\",\"marker\":{\"colorbar\":{\"outlinewidth\":0,\"ticks\":\"\"}}}],\"scatterternary\":[{\"type\":\"scatterternary\",\"marker\":{\"colorbar\":{\"outlinewidth\":0,\"ticks\":\"\"}}}],\"scattercarpet\":[{\"type\":\"scattercarpet\",\"marker\":{\"colorbar\":{\"outlinewidth\":0,\"ticks\":\"\"}}}],\"carpet\":[{\"aaxis\":{\"endlinecolor\":\"#2a3f5f\",\"gridcolor\":\"white\",\"linecolor\":\"white\",\"minorgridcolor\":\"white\",\"startlinecolor\":\"#2a3f5f\"},\"baxis\":{\"endlinecolor\":\"#2a3f5f\",\"gridcolor\":\"white\",\"linecolor\":\"white\",\"minorgridcolor\":\"white\",\"startlinecolor\":\"#2a3f5f\"},\"type\":\"carpet\"}],\"table\":[{\"cells\":{\"fill\":{\"color\":\"#EBF0F8\"},\"line\":{\"color\":\"white\"}},\"header\":{\"fill\":{\"color\":\"#C8D4E3\"},\"line\":{\"color\":\"white\"}},\"type\":\"table\"}],\"barpolar\":[{\"marker\":{\"line\":{\"color\":\"#E5ECF6\",\"width\":0.5},\"pattern\":{\"fillmode\":\"overlay\",\"size\":10,\"solidity\":0.2}},\"type\":\"barpolar\"}],\"pie\":[{\"automargin\":true,\"type\":\"pie\"}]},\"layout\":{\"autotypenumbers\":\"strict\",\"colorway\":[\"#636efa\",\"#EF553B\",\"#00cc96\",\"#ab63fa\",\"#FFA15A\",\"#19d3f3\",\"#FF6692\",\"#B6E880\",\"#FF97FF\",\"#FECB52\"],\"font\":{\"color\":\"#2a3f5f\"},\"hovermode\":\"closest\",\"hoverlabel\":{\"align\":\"left\"},\"paper_bgcolor\":\"white\",\"plot_bgcolor\":\"#E5ECF6\",\"polar\":{\"bgcolor\":\"#E5ECF6\",\"angularaxis\":{\"gridcolor\":\"white\",\"linecolor\":\"white\",\"ticks\":\"\"},\"radialaxis\":{\"gridcolor\":\"white\",\"linecolor\":\"white\",\"ticks\":\"\"}},\"ternary\":{\"bgcolor\":\"#E5ECF6\",\"aaxis\":{\"gridcolor\":\"white\",\"linecolor\":\"white\",\"ticks\":\"\"},\"baxis\":{\"gridcolor\":\"white\",\"linecolor\":\"white\",\"ticks\":\"\"},\"caxis\":{\"gridcolor\":\"white\",\"linecolor\":\"white\",\"ticks\":\"\"}},\"coloraxis\":{\"colorbar\":{\"outlinewidth\":0,\"ticks\":\"\"}},\"colorscale\":{\"sequential\":[[0.0,\"#0d0887\"],[0.1111111111111111,\"#46039f\"],[0.2222222222222222,\"#7201a8\"],[0.3333333333333333,\"#9c179e\"],[0.4444444444444444,\"#bd3786\"],[0.5555555555555556,\"#d8576b\"],[0.6666666666666666,\"#ed7953\"],[0.7777777777777778,\"#fb9f3a\"],[0.8888888888888888,\"#fdca26\"],[1.0,\"#f0f921\"]],\"sequentialminus\":[[0.0,\"#0d0887\"],[0.1111111111111111,\"#46039f\"],[0.2222222222222222,\"#7201a8\"],[0.3333333333333333,\"#9c179e\"],[0.4444444444444444,\"#bd3786\"],[0.5555555555555556,\"#d8576b\"],[0.6666666666666666,\"#ed7953\"],[0.7777777777777778,\"#fb9f3a\"],[0.8888888888888888,\"#fdca26\"],[1.0,\"#f0f921\"]],\"diverging\":[[0,\"#8e0152\"],[0.1,\"#c51b7d\"],[0.2,\"#de77ae\"],[0.3,\"#f1b6da\"],[0.4,\"#fde0ef\"],[0.5,\"#f7f7f7\"],[0.6,\"#e6f5d0\"],[0.7,\"#b8e186\"],[0.8,\"#7fbc41\"],[0.9,\"#4d9221\"],[1,\"#276419\"]]},\"xaxis\":{\"gridcolor\":\"white\",\"linecolor\":\"white\",\"ticks\":\"\",\"title\":{\"standoff\":15},\"zerolinecolor\":\"white\",\"automargin\":true,\"zerolinewidth\":2},\"yaxis\":{\"gridcolor\":\"white\",\"linecolor\":\"white\",\"ticks\":\"\",\"title\":{\"standoff\":15},\"zerolinecolor\":\"white\",\"automargin\":true,\"zerolinewidth\":2},\"scene\":{\"xaxis\":{\"backgroundcolor\":\"#E5ECF6\",\"gridcolor\":\"white\",\"linecolor\":\"white\",\"showbackground\":true,\"ticks\":\"\",\"zerolinecolor\":\"white\",\"gridwidth\":2},\"yaxis\":{\"backgroundcolor\":\"#E5ECF6\",\"gridcolor\":\"white\",\"linecolor\":\"white\",\"showbackground\":true,\"ticks\":\"\",\"zerolinecolor\":\"white\",\"gridwidth\":2},\"zaxis\":{\"backgroundcolor\":\"#E5ECF6\",\"gridcolor\":\"white\",\"linecolor\":\"white\",\"showbackground\":true,\"ticks\":\"\",\"zerolinecolor\":\"white\",\"gridwidth\":2}},\"shapedefaults\":{\"line\":{\"color\":\"#2a3f5f\"}},\"annotationdefaults\":{\"arrowcolor\":\"#2a3f5f\",\"arrowhead\":0,\"arrowwidth\":1},\"geo\":{\"bgcolor\":\"white\",\"landcolor\":\"#E5ECF6\",\"subunitcolor\":\"white\",\"showland\":true,\"showlakes\":true,\"lakecolor\":\"white\"},\"title\":{\"x\":0.05},\"mapbox\":{\"style\":\"light\"}}},\"xaxis\":{\"anchor\":\"y\",\"domain\":[0.0,1.0],\"title\":{\"text\":\"Review Score\"}},\"yaxis\":{\"anchor\":\"x\",\"domain\":[0.0,1.0],\"title\":{\"text\":\"0\"}},\"legend\":{\"tracegroupgap\":0},\"title\":{\"text\":\"Percentage of Return Customers by Review Score\"},\"barmode\":\"relative\"},                        {\"responsive\": true}                    ).then(function(){\n",
              "                            \n",
              "var gd = document.getElementById('c4ef83fa-e335-4e55-9917-2a13ecd7ad52');\n",
              "var x = new MutationObserver(function (mutations, observer) {{\n",
              "        var display = window.getComputedStyle(gd).display;\n",
              "        if (!display || display === 'none') {{\n",
              "            console.log([gd, 'removed!']);\n",
              "            Plotly.purge(gd);\n",
              "            observer.disconnect();\n",
              "        }}\n",
              "}});\n",
              "\n",
              "// Listen for the removal of the full notebook cells\n",
              "var notebookContainer = gd.closest('#notebook-container');\n",
              "if (notebookContainer) {{\n",
              "    x.observe(notebookContainer, {childList: true});\n",
              "}}\n",
              "\n",
              "// Listen for the clearing of the current output cell\n",
              "var outputEl = gd.closest('.output');\n",
              "if (outputEl) {{\n",
              "    x.observe(outputEl, {childList: true});\n",
              "}}\n",
              "\n",
              "                        })                };                            </script>        </div>\n",
              "</body>\n",
              "</html>"
            ]
          },
          "metadata": {}
        }
      ]
    },
    {
      "cell_type": "code",
      "source": [
        "return_customers = df[df['Return Customer'] == 1]\n",
        "\n",
        "return_customers_by_category = return_customers['Product Category'].value_counts()\n",
        "\n",
        "print(\"Return Customers by Product Category:\")\n",
        "print(return_customers_by_category)"
      ],
      "metadata": {
        "colab": {
          "base_uri": "https://localhost:8080/"
        },
        "id": "bxFpBGs5FzqH",
        "outputId": "8f907a85-7868-4806-808a-07dc80ee0d8b"
      },
      "execution_count": null,
      "outputs": [
        {
          "output_type": "stream",
          "name": "stdout",
          "text": [
            "Return Customers by Product Category:\n",
            "Product Category\n",
            "Clothing       666\n",
            "Electronics    666\n",
            "Toys           663\n",
            "Home           630\n",
            "Beauty         613\n",
            "Books          610\n",
            "Groceries      583\n",
            "Sports         565\n",
            "Name: count, dtype: int64\n"
          ]
        }
      ]
    },
    {
      "cell_type": "code",
      "source": [
        "\n",
        "return_customer_purchase_category = df[df['Return Customer'] == True].groupby('Product Category')['Customer ID'].count()\n",
        "\n",
        "return_customer_purchase_category_sorted = return_customer_purchase_category.sort_values(ascending=False)\n",
        "\n",
        "fig = px.bar(\n",
        "    x=return_customer_purchase_category_sorted.index,\n",
        "    y=return_customer_purchase_category_sorted.values,\n",
        "    title='Return Customer Purchase Category',\n",
        "    labels={'x': 'Product Category', 'y': 'Number of Return Customers'},\n",
        "    color=return_customer_purchase_category_sorted.index\n",
        ")\n",
        "\n",
        "\n",
        "fig.update_layout(xaxis_tickangle=-45)\n",
        "\n",
        "fig.show()"
      ],
      "metadata": {
        "colab": {
          "base_uri": "https://localhost:8080/",
          "height": 542
        },
        "id": "KJN0wTfkI0-p",
        "outputId": "457b5b44-7c8e-4ed0-b42c-58ead51341cc"
      },
      "execution_count": null,
      "outputs": [
        {
          "output_type": "display_data",
          "data": {
            "text/html": [
              "<html>\n",
              "<head><meta charset=\"utf-8\" /></head>\n",
              "<body>\n",
              "    <div>            <script src=\"https://cdnjs.cloudflare.com/ajax/libs/mathjax/2.7.5/MathJax.js?config=TeX-AMS-MML_SVG\"></script><script type=\"text/javascript\">if (window.MathJax && window.MathJax.Hub && window.MathJax.Hub.Config) {window.MathJax.Hub.Config({SVG: {font: \"STIX-Web\"}});}</script>                <script type=\"text/javascript\">window.PlotlyConfig = {MathJaxConfig: 'local'};</script>\n",
              "        <script charset=\"utf-8\" src=\"https://cdn.plot.ly/plotly-2.35.2.min.js\"></script>                <div id=\"745824b0-963a-4628-9384-3012f57a21de\" class=\"plotly-graph-div\" style=\"height:525px; width:100%;\"></div>            <script type=\"text/javascript\">                                    window.PLOTLYENV=window.PLOTLYENV || {};                                    if (document.getElementById(\"745824b0-963a-4628-9384-3012f57a21de\")) {                    Plotly.newPlot(                        \"745824b0-963a-4628-9384-3012f57a21de\",                        [{\"alignmentgroup\":\"True\",\"hovertemplate\":\"color=Clothing\\u003cbr\\u003eProduct Category=%{x}\\u003cbr\\u003eNumber of Return Customers=%{y}\\u003cextra\\u003e\\u003c\\u002fextra\\u003e\",\"legendgroup\":\"Clothing\",\"marker\":{\"color\":\"#636efa\",\"pattern\":{\"shape\":\"\"}},\"name\":\"Clothing\",\"offsetgroup\":\"Clothing\",\"orientation\":\"v\",\"showlegend\":true,\"textposition\":\"auto\",\"x\":[\"Clothing\"],\"xaxis\":\"x\",\"y\":[666],\"yaxis\":\"y\",\"type\":\"bar\"},{\"alignmentgroup\":\"True\",\"hovertemplate\":\"color=Electronics\\u003cbr\\u003eProduct Category=%{x}\\u003cbr\\u003eNumber of Return Customers=%{y}\\u003cextra\\u003e\\u003c\\u002fextra\\u003e\",\"legendgroup\":\"Electronics\",\"marker\":{\"color\":\"#EF553B\",\"pattern\":{\"shape\":\"\"}},\"name\":\"Electronics\",\"offsetgroup\":\"Electronics\",\"orientation\":\"v\",\"showlegend\":true,\"textposition\":\"auto\",\"x\":[\"Electronics\"],\"xaxis\":\"x\",\"y\":[666],\"yaxis\":\"y\",\"type\":\"bar\"},{\"alignmentgroup\":\"True\",\"hovertemplate\":\"color=Toys\\u003cbr\\u003eProduct Category=%{x}\\u003cbr\\u003eNumber of Return Customers=%{y}\\u003cextra\\u003e\\u003c\\u002fextra\\u003e\",\"legendgroup\":\"Toys\",\"marker\":{\"color\":\"#00cc96\",\"pattern\":{\"shape\":\"\"}},\"name\":\"Toys\",\"offsetgroup\":\"Toys\",\"orientation\":\"v\",\"showlegend\":true,\"textposition\":\"auto\",\"x\":[\"Toys\"],\"xaxis\":\"x\",\"y\":[663],\"yaxis\":\"y\",\"type\":\"bar\"},{\"alignmentgroup\":\"True\",\"hovertemplate\":\"color=Home\\u003cbr\\u003eProduct Category=%{x}\\u003cbr\\u003eNumber of Return Customers=%{y}\\u003cextra\\u003e\\u003c\\u002fextra\\u003e\",\"legendgroup\":\"Home\",\"marker\":{\"color\":\"#ab63fa\",\"pattern\":{\"shape\":\"\"}},\"name\":\"Home\",\"offsetgroup\":\"Home\",\"orientation\":\"v\",\"showlegend\":true,\"textposition\":\"auto\",\"x\":[\"Home\"],\"xaxis\":\"x\",\"y\":[630],\"yaxis\":\"y\",\"type\":\"bar\"},{\"alignmentgroup\":\"True\",\"hovertemplate\":\"color=Beauty\\u003cbr\\u003eProduct Category=%{x}\\u003cbr\\u003eNumber of Return Customers=%{y}\\u003cextra\\u003e\\u003c\\u002fextra\\u003e\",\"legendgroup\":\"Beauty\",\"marker\":{\"color\":\"#FFA15A\",\"pattern\":{\"shape\":\"\"}},\"name\":\"Beauty\",\"offsetgroup\":\"Beauty\",\"orientation\":\"v\",\"showlegend\":true,\"textposition\":\"auto\",\"x\":[\"Beauty\"],\"xaxis\":\"x\",\"y\":[613],\"yaxis\":\"y\",\"type\":\"bar\"},{\"alignmentgroup\":\"True\",\"hovertemplate\":\"color=Books\\u003cbr\\u003eProduct Category=%{x}\\u003cbr\\u003eNumber of Return Customers=%{y}\\u003cextra\\u003e\\u003c\\u002fextra\\u003e\",\"legendgroup\":\"Books\",\"marker\":{\"color\":\"#19d3f3\",\"pattern\":{\"shape\":\"\"}},\"name\":\"Books\",\"offsetgroup\":\"Books\",\"orientation\":\"v\",\"showlegend\":true,\"textposition\":\"auto\",\"x\":[\"Books\"],\"xaxis\":\"x\",\"y\":[610],\"yaxis\":\"y\",\"type\":\"bar\"},{\"alignmentgroup\":\"True\",\"hovertemplate\":\"color=Groceries\\u003cbr\\u003eProduct Category=%{x}\\u003cbr\\u003eNumber of Return Customers=%{y}\\u003cextra\\u003e\\u003c\\u002fextra\\u003e\",\"legendgroup\":\"Groceries\",\"marker\":{\"color\":\"#FF6692\",\"pattern\":{\"shape\":\"\"}},\"name\":\"Groceries\",\"offsetgroup\":\"Groceries\",\"orientation\":\"v\",\"showlegend\":true,\"textposition\":\"auto\",\"x\":[\"Groceries\"],\"xaxis\":\"x\",\"y\":[583],\"yaxis\":\"y\",\"type\":\"bar\"},{\"alignmentgroup\":\"True\",\"hovertemplate\":\"color=Sports\\u003cbr\\u003eProduct Category=%{x}\\u003cbr\\u003eNumber of Return Customers=%{y}\\u003cextra\\u003e\\u003c\\u002fextra\\u003e\",\"legendgroup\":\"Sports\",\"marker\":{\"color\":\"#B6E880\",\"pattern\":{\"shape\":\"\"}},\"name\":\"Sports\",\"offsetgroup\":\"Sports\",\"orientation\":\"v\",\"showlegend\":true,\"textposition\":\"auto\",\"x\":[\"Sports\"],\"xaxis\":\"x\",\"y\":[565],\"yaxis\":\"y\",\"type\":\"bar\"}],                        {\"template\":{\"data\":{\"histogram2dcontour\":[{\"type\":\"histogram2dcontour\",\"colorbar\":{\"outlinewidth\":0,\"ticks\":\"\"},\"colorscale\":[[0.0,\"#0d0887\"],[0.1111111111111111,\"#46039f\"],[0.2222222222222222,\"#7201a8\"],[0.3333333333333333,\"#9c179e\"],[0.4444444444444444,\"#bd3786\"],[0.5555555555555556,\"#d8576b\"],[0.6666666666666666,\"#ed7953\"],[0.7777777777777778,\"#fb9f3a\"],[0.8888888888888888,\"#fdca26\"],[1.0,\"#f0f921\"]]}],\"choropleth\":[{\"type\":\"choropleth\",\"colorbar\":{\"outlinewidth\":0,\"ticks\":\"\"}}],\"histogram2d\":[{\"type\":\"histogram2d\",\"colorbar\":{\"outlinewidth\":0,\"ticks\":\"\"},\"colorscale\":[[0.0,\"#0d0887\"],[0.1111111111111111,\"#46039f\"],[0.2222222222222222,\"#7201a8\"],[0.3333333333333333,\"#9c179e\"],[0.4444444444444444,\"#bd3786\"],[0.5555555555555556,\"#d8576b\"],[0.6666666666666666,\"#ed7953\"],[0.7777777777777778,\"#fb9f3a\"],[0.8888888888888888,\"#fdca26\"],[1.0,\"#f0f921\"]]}],\"heatmap\":[{\"type\":\"heatmap\",\"colorbar\":{\"outlinewidth\":0,\"ticks\":\"\"},\"colorscale\":[[0.0,\"#0d0887\"],[0.1111111111111111,\"#46039f\"],[0.2222222222222222,\"#7201a8\"],[0.3333333333333333,\"#9c179e\"],[0.4444444444444444,\"#bd3786\"],[0.5555555555555556,\"#d8576b\"],[0.6666666666666666,\"#ed7953\"],[0.7777777777777778,\"#fb9f3a\"],[0.8888888888888888,\"#fdca26\"],[1.0,\"#f0f921\"]]}],\"heatmapgl\":[{\"type\":\"heatmapgl\",\"colorbar\":{\"outlinewidth\":0,\"ticks\":\"\"},\"colorscale\":[[0.0,\"#0d0887\"],[0.1111111111111111,\"#46039f\"],[0.2222222222222222,\"#7201a8\"],[0.3333333333333333,\"#9c179e\"],[0.4444444444444444,\"#bd3786\"],[0.5555555555555556,\"#d8576b\"],[0.6666666666666666,\"#ed7953\"],[0.7777777777777778,\"#fb9f3a\"],[0.8888888888888888,\"#fdca26\"],[1.0,\"#f0f921\"]]}],\"contourcarpet\":[{\"type\":\"contourcarpet\",\"colorbar\":{\"outlinewidth\":0,\"ticks\":\"\"}}],\"contour\":[{\"type\":\"contour\",\"colorbar\":{\"outlinewidth\":0,\"ticks\":\"\"},\"colorscale\":[[0.0,\"#0d0887\"],[0.1111111111111111,\"#46039f\"],[0.2222222222222222,\"#7201a8\"],[0.3333333333333333,\"#9c179e\"],[0.4444444444444444,\"#bd3786\"],[0.5555555555555556,\"#d8576b\"],[0.6666666666666666,\"#ed7953\"],[0.7777777777777778,\"#fb9f3a\"],[0.8888888888888888,\"#fdca26\"],[1.0,\"#f0f921\"]]}],\"surface\":[{\"type\":\"surface\",\"colorbar\":{\"outlinewidth\":0,\"ticks\":\"\"},\"colorscale\":[[0.0,\"#0d0887\"],[0.1111111111111111,\"#46039f\"],[0.2222222222222222,\"#7201a8\"],[0.3333333333333333,\"#9c179e\"],[0.4444444444444444,\"#bd3786\"],[0.5555555555555556,\"#d8576b\"],[0.6666666666666666,\"#ed7953\"],[0.7777777777777778,\"#fb9f3a\"],[0.8888888888888888,\"#fdca26\"],[1.0,\"#f0f921\"]]}],\"mesh3d\":[{\"type\":\"mesh3d\",\"colorbar\":{\"outlinewidth\":0,\"ticks\":\"\"}}],\"scatter\":[{\"fillpattern\":{\"fillmode\":\"overlay\",\"size\":10,\"solidity\":0.2},\"type\":\"scatter\"}],\"parcoords\":[{\"type\":\"parcoords\",\"line\":{\"colorbar\":{\"outlinewidth\":0,\"ticks\":\"\"}}}],\"scatterpolargl\":[{\"type\":\"scatterpolargl\",\"marker\":{\"colorbar\":{\"outlinewidth\":0,\"ticks\":\"\"}}}],\"bar\":[{\"error_x\":{\"color\":\"#2a3f5f\"},\"error_y\":{\"color\":\"#2a3f5f\"},\"marker\":{\"line\":{\"color\":\"#E5ECF6\",\"width\":0.5},\"pattern\":{\"fillmode\":\"overlay\",\"size\":10,\"solidity\":0.2}},\"type\":\"bar\"}],\"scattergeo\":[{\"type\":\"scattergeo\",\"marker\":{\"colorbar\":{\"outlinewidth\":0,\"ticks\":\"\"}}}],\"scatterpolar\":[{\"type\":\"scatterpolar\",\"marker\":{\"colorbar\":{\"outlinewidth\":0,\"ticks\":\"\"}}}],\"histogram\":[{\"marker\":{\"pattern\":{\"fillmode\":\"overlay\",\"size\":10,\"solidity\":0.2}},\"type\":\"histogram\"}],\"scattergl\":[{\"type\":\"scattergl\",\"marker\":{\"colorbar\":{\"outlinewidth\":0,\"ticks\":\"\"}}}],\"scatter3d\":[{\"type\":\"scatter3d\",\"line\":{\"colorbar\":{\"outlinewidth\":0,\"ticks\":\"\"}},\"marker\":{\"colorbar\":{\"outlinewidth\":0,\"ticks\":\"\"}}}],\"scattermapbox\":[{\"type\":\"scattermapbox\",\"marker\":{\"colorbar\":{\"outlinewidth\":0,\"ticks\":\"\"}}}],\"scatterternary\":[{\"type\":\"scatterternary\",\"marker\":{\"colorbar\":{\"outlinewidth\":0,\"ticks\":\"\"}}}],\"scattercarpet\":[{\"type\":\"scattercarpet\",\"marker\":{\"colorbar\":{\"outlinewidth\":0,\"ticks\":\"\"}}}],\"carpet\":[{\"aaxis\":{\"endlinecolor\":\"#2a3f5f\",\"gridcolor\":\"white\",\"linecolor\":\"white\",\"minorgridcolor\":\"white\",\"startlinecolor\":\"#2a3f5f\"},\"baxis\":{\"endlinecolor\":\"#2a3f5f\",\"gridcolor\":\"white\",\"linecolor\":\"white\",\"minorgridcolor\":\"white\",\"startlinecolor\":\"#2a3f5f\"},\"type\":\"carpet\"}],\"table\":[{\"cells\":{\"fill\":{\"color\":\"#EBF0F8\"},\"line\":{\"color\":\"white\"}},\"header\":{\"fill\":{\"color\":\"#C8D4E3\"},\"line\":{\"color\":\"white\"}},\"type\":\"table\"}],\"barpolar\":[{\"marker\":{\"line\":{\"color\":\"#E5ECF6\",\"width\":0.5},\"pattern\":{\"fillmode\":\"overlay\",\"size\":10,\"solidity\":0.2}},\"type\":\"barpolar\"}],\"pie\":[{\"automargin\":true,\"type\":\"pie\"}]},\"layout\":{\"autotypenumbers\":\"strict\",\"colorway\":[\"#636efa\",\"#EF553B\",\"#00cc96\",\"#ab63fa\",\"#FFA15A\",\"#19d3f3\",\"#FF6692\",\"#B6E880\",\"#FF97FF\",\"#FECB52\"],\"font\":{\"color\":\"#2a3f5f\"},\"hovermode\":\"closest\",\"hoverlabel\":{\"align\":\"left\"},\"paper_bgcolor\":\"white\",\"plot_bgcolor\":\"#E5ECF6\",\"polar\":{\"bgcolor\":\"#E5ECF6\",\"angularaxis\":{\"gridcolor\":\"white\",\"linecolor\":\"white\",\"ticks\":\"\"},\"radialaxis\":{\"gridcolor\":\"white\",\"linecolor\":\"white\",\"ticks\":\"\"}},\"ternary\":{\"bgcolor\":\"#E5ECF6\",\"aaxis\":{\"gridcolor\":\"white\",\"linecolor\":\"white\",\"ticks\":\"\"},\"baxis\":{\"gridcolor\":\"white\",\"linecolor\":\"white\",\"ticks\":\"\"},\"caxis\":{\"gridcolor\":\"white\",\"linecolor\":\"white\",\"ticks\":\"\"}},\"coloraxis\":{\"colorbar\":{\"outlinewidth\":0,\"ticks\":\"\"}},\"colorscale\":{\"sequential\":[[0.0,\"#0d0887\"],[0.1111111111111111,\"#46039f\"],[0.2222222222222222,\"#7201a8\"],[0.3333333333333333,\"#9c179e\"],[0.4444444444444444,\"#bd3786\"],[0.5555555555555556,\"#d8576b\"],[0.6666666666666666,\"#ed7953\"],[0.7777777777777778,\"#fb9f3a\"],[0.8888888888888888,\"#fdca26\"],[1.0,\"#f0f921\"]],\"sequentialminus\":[[0.0,\"#0d0887\"],[0.1111111111111111,\"#46039f\"],[0.2222222222222222,\"#7201a8\"],[0.3333333333333333,\"#9c179e\"],[0.4444444444444444,\"#bd3786\"],[0.5555555555555556,\"#d8576b\"],[0.6666666666666666,\"#ed7953\"],[0.7777777777777778,\"#fb9f3a\"],[0.8888888888888888,\"#fdca26\"],[1.0,\"#f0f921\"]],\"diverging\":[[0,\"#8e0152\"],[0.1,\"#c51b7d\"],[0.2,\"#de77ae\"],[0.3,\"#f1b6da\"],[0.4,\"#fde0ef\"],[0.5,\"#f7f7f7\"],[0.6,\"#e6f5d0\"],[0.7,\"#b8e186\"],[0.8,\"#7fbc41\"],[0.9,\"#4d9221\"],[1,\"#276419\"]]},\"xaxis\":{\"gridcolor\":\"white\",\"linecolor\":\"white\",\"ticks\":\"\",\"title\":{\"standoff\":15},\"zerolinecolor\":\"white\",\"automargin\":true,\"zerolinewidth\":2},\"yaxis\":{\"gridcolor\":\"white\",\"linecolor\":\"white\",\"ticks\":\"\",\"title\":{\"standoff\":15},\"zerolinecolor\":\"white\",\"automargin\":true,\"zerolinewidth\":2},\"scene\":{\"xaxis\":{\"backgroundcolor\":\"#E5ECF6\",\"gridcolor\":\"white\",\"linecolor\":\"white\",\"showbackground\":true,\"ticks\":\"\",\"zerolinecolor\":\"white\",\"gridwidth\":2},\"yaxis\":{\"backgroundcolor\":\"#E5ECF6\",\"gridcolor\":\"white\",\"linecolor\":\"white\",\"showbackground\":true,\"ticks\":\"\",\"zerolinecolor\":\"white\",\"gridwidth\":2},\"zaxis\":{\"backgroundcolor\":\"#E5ECF6\",\"gridcolor\":\"white\",\"linecolor\":\"white\",\"showbackground\":true,\"ticks\":\"\",\"zerolinecolor\":\"white\",\"gridwidth\":2}},\"shapedefaults\":{\"line\":{\"color\":\"#2a3f5f\"}},\"annotationdefaults\":{\"arrowcolor\":\"#2a3f5f\",\"arrowhead\":0,\"arrowwidth\":1},\"geo\":{\"bgcolor\":\"white\",\"landcolor\":\"#E5ECF6\",\"subunitcolor\":\"white\",\"showland\":true,\"showlakes\":true,\"lakecolor\":\"white\"},\"title\":{\"x\":0.05},\"mapbox\":{\"style\":\"light\"}}},\"xaxis\":{\"anchor\":\"y\",\"domain\":[0.0,1.0],\"title\":{\"text\":\"Product Category\"},\"tickangle\":-45},\"yaxis\":{\"anchor\":\"x\",\"domain\":[0.0,1.0],\"title\":{\"text\":\"Number of Return Customers\"}},\"legend\":{\"title\":{\"text\":\"color\"},\"tracegroupgap\":0},\"title\":{\"text\":\"Return Customer Purchase Category\"},\"barmode\":\"relative\"},                        {\"responsive\": true}                    ).then(function(){\n",
              "                            \n",
              "var gd = document.getElementById('745824b0-963a-4628-9384-3012f57a21de');\n",
              "var x = new MutationObserver(function (mutations, observer) {{\n",
              "        var display = window.getComputedStyle(gd).display;\n",
              "        if (!display || display === 'none') {{\n",
              "            console.log([gd, 'removed!']);\n",
              "            Plotly.purge(gd);\n",
              "            observer.disconnect();\n",
              "        }}\n",
              "}});\n",
              "\n",
              "// Listen for the removal of the full notebook cells\n",
              "var notebookContainer = gd.closest('#notebook-container');\n",
              "if (notebookContainer) {{\n",
              "    x.observe(notebookContainer, {childList: true});\n",
              "}}\n",
              "\n",
              "// Listen for the clearing of the current output cell\n",
              "var outputEl = gd.closest('.output');\n",
              "if (outputEl) {{\n",
              "    x.observe(outputEl, {childList: true});\n",
              "}}\n",
              "\n",
              "                        })                };                            </script>        </div>\n",
              "</body>\n",
              "</html>"
            ]
          },
          "metadata": {}
        }
      ]
    },
    {
      "cell_type": "code",
      "source": [
        "return_customers_df = df[df['Return Customer'] == 1]\n",
        "return_customers_by_satisfaction = return_customers_df['Customer Satisfaction'].value_counts()\n",
        "\n",
        "print(\"Return Customers by Customer Satisfaction Level:\")\n",
        "print(return_customers_by_satisfaction)"
      ],
      "metadata": {
        "colab": {
          "base_uri": "https://localhost:8080/"
        },
        "id": "96dVIL45KhjJ",
        "outputId": "2d8115d9-9795-4ecf-cc36-3fac4848971f"
      },
      "execution_count": null,
      "outputs": [
        {
          "output_type": "stream",
          "name": "stdout",
          "text": [
            "Return Customers by Customer Satisfaction Level:\n",
            "Customer Satisfaction\n",
            "Low       1694\n",
            "Medium    1680\n",
            "High      1622\n",
            "Name: count, dtype: int64\n"
          ]
        }
      ]
    },
    {
      "cell_type": "code",
      "source": [
        "import plotly.express as px\n",
        "\n",
        "return_customers_by_satisfaction = df[df['Return Customer'] == True]['Customer Satisfaction'].value_counts().reset_index()\n",
        "return_customers_by_satisfaction.columns = ['Customer Satisfaction', 'Count']\n",
        "\n",
        "fig = px.bar(return_customers_by_satisfaction,\n",
        "             x='Customer Satisfaction',\n",
        "             y='Count',\n",
        "             title='Return Customers by Customer Satisfaction Level',\n",
        "             labels={'Customer Satisfaction': 'Customer Satisfaction Level',\n",
        "                     'Count': 'Number of Return Customers'},\n",
        "             color='Customer Satisfaction')\n",
        "\n",
        "fig.show()"
      ],
      "metadata": {
        "colab": {
          "base_uri": "https://localhost:8080/",
          "height": 542
        },
        "id": "_cGiPH-_K-WD",
        "outputId": "2d686de2-ae8b-4a3a-916e-0f311882a0c0"
      },
      "execution_count": null,
      "outputs": [
        {
          "output_type": "display_data",
          "data": {
            "text/html": [
              "<html>\n",
              "<head><meta charset=\"utf-8\" /></head>\n",
              "<body>\n",
              "    <div>            <script src=\"https://cdnjs.cloudflare.com/ajax/libs/mathjax/2.7.5/MathJax.js?config=TeX-AMS-MML_SVG\"></script><script type=\"text/javascript\">if (window.MathJax && window.MathJax.Hub && window.MathJax.Hub.Config) {window.MathJax.Hub.Config({SVG: {font: \"STIX-Web\"}});}</script>                <script type=\"text/javascript\">window.PlotlyConfig = {MathJaxConfig: 'local'};</script>\n",
              "        <script charset=\"utf-8\" src=\"https://cdn.plot.ly/plotly-2.35.2.min.js\"></script>                <div id=\"9208ee5f-76e6-4663-af36-fb324e406231\" class=\"plotly-graph-div\" style=\"height:525px; width:100%;\"></div>            <script type=\"text/javascript\">                                    window.PLOTLYENV=window.PLOTLYENV || {};                                    if (document.getElementById(\"9208ee5f-76e6-4663-af36-fb324e406231\")) {                    Plotly.newPlot(                        \"9208ee5f-76e6-4663-af36-fb324e406231\",                        [{\"alignmentgroup\":\"True\",\"hovertemplate\":\"Customer Satisfaction Level=%{x}\\u003cbr\\u003eNumber of Return Customers=%{y}\\u003cextra\\u003e\\u003c\\u002fextra\\u003e\",\"legendgroup\":\"Low\",\"marker\":{\"color\":\"#636efa\",\"pattern\":{\"shape\":\"\"}},\"name\":\"Low\",\"offsetgroup\":\"Low\",\"orientation\":\"v\",\"showlegend\":true,\"textposition\":\"auto\",\"x\":[\"Low\"],\"xaxis\":\"x\",\"y\":[1694],\"yaxis\":\"y\",\"type\":\"bar\"},{\"alignmentgroup\":\"True\",\"hovertemplate\":\"Customer Satisfaction Level=%{x}\\u003cbr\\u003eNumber of Return Customers=%{y}\\u003cextra\\u003e\\u003c\\u002fextra\\u003e\",\"legendgroup\":\"Medium\",\"marker\":{\"color\":\"#EF553B\",\"pattern\":{\"shape\":\"\"}},\"name\":\"Medium\",\"offsetgroup\":\"Medium\",\"orientation\":\"v\",\"showlegend\":true,\"textposition\":\"auto\",\"x\":[\"Medium\"],\"xaxis\":\"x\",\"y\":[1680],\"yaxis\":\"y\",\"type\":\"bar\"},{\"alignmentgroup\":\"True\",\"hovertemplate\":\"Customer Satisfaction Level=%{x}\\u003cbr\\u003eNumber of Return Customers=%{y}\\u003cextra\\u003e\\u003c\\u002fextra\\u003e\",\"legendgroup\":\"High\",\"marker\":{\"color\":\"#00cc96\",\"pattern\":{\"shape\":\"\"}},\"name\":\"High\",\"offsetgroup\":\"High\",\"orientation\":\"v\",\"showlegend\":true,\"textposition\":\"auto\",\"x\":[\"High\"],\"xaxis\":\"x\",\"y\":[1622],\"yaxis\":\"y\",\"type\":\"bar\"}],                        {\"template\":{\"data\":{\"histogram2dcontour\":[{\"type\":\"histogram2dcontour\",\"colorbar\":{\"outlinewidth\":0,\"ticks\":\"\"},\"colorscale\":[[0.0,\"#0d0887\"],[0.1111111111111111,\"#46039f\"],[0.2222222222222222,\"#7201a8\"],[0.3333333333333333,\"#9c179e\"],[0.4444444444444444,\"#bd3786\"],[0.5555555555555556,\"#d8576b\"],[0.6666666666666666,\"#ed7953\"],[0.7777777777777778,\"#fb9f3a\"],[0.8888888888888888,\"#fdca26\"],[1.0,\"#f0f921\"]]}],\"choropleth\":[{\"type\":\"choropleth\",\"colorbar\":{\"outlinewidth\":0,\"ticks\":\"\"}}],\"histogram2d\":[{\"type\":\"histogram2d\",\"colorbar\":{\"outlinewidth\":0,\"ticks\":\"\"},\"colorscale\":[[0.0,\"#0d0887\"],[0.1111111111111111,\"#46039f\"],[0.2222222222222222,\"#7201a8\"],[0.3333333333333333,\"#9c179e\"],[0.4444444444444444,\"#bd3786\"],[0.5555555555555556,\"#d8576b\"],[0.6666666666666666,\"#ed7953\"],[0.7777777777777778,\"#fb9f3a\"],[0.8888888888888888,\"#fdca26\"],[1.0,\"#f0f921\"]]}],\"heatmap\":[{\"type\":\"heatmap\",\"colorbar\":{\"outlinewidth\":0,\"ticks\":\"\"},\"colorscale\":[[0.0,\"#0d0887\"],[0.1111111111111111,\"#46039f\"],[0.2222222222222222,\"#7201a8\"],[0.3333333333333333,\"#9c179e\"],[0.4444444444444444,\"#bd3786\"],[0.5555555555555556,\"#d8576b\"],[0.6666666666666666,\"#ed7953\"],[0.7777777777777778,\"#fb9f3a\"],[0.8888888888888888,\"#fdca26\"],[1.0,\"#f0f921\"]]}],\"heatmapgl\":[{\"type\":\"heatmapgl\",\"colorbar\":{\"outlinewidth\":0,\"ticks\":\"\"},\"colorscale\":[[0.0,\"#0d0887\"],[0.1111111111111111,\"#46039f\"],[0.2222222222222222,\"#7201a8\"],[0.3333333333333333,\"#9c179e\"],[0.4444444444444444,\"#bd3786\"],[0.5555555555555556,\"#d8576b\"],[0.6666666666666666,\"#ed7953\"],[0.7777777777777778,\"#fb9f3a\"],[0.8888888888888888,\"#fdca26\"],[1.0,\"#f0f921\"]]}],\"contourcarpet\":[{\"type\":\"contourcarpet\",\"colorbar\":{\"outlinewidth\":0,\"ticks\":\"\"}}],\"contour\":[{\"type\":\"contour\",\"colorbar\":{\"outlinewidth\":0,\"ticks\":\"\"},\"colorscale\":[[0.0,\"#0d0887\"],[0.1111111111111111,\"#46039f\"],[0.2222222222222222,\"#7201a8\"],[0.3333333333333333,\"#9c179e\"],[0.4444444444444444,\"#bd3786\"],[0.5555555555555556,\"#d8576b\"],[0.6666666666666666,\"#ed7953\"],[0.7777777777777778,\"#fb9f3a\"],[0.8888888888888888,\"#fdca26\"],[1.0,\"#f0f921\"]]}],\"surface\":[{\"type\":\"surface\",\"colorbar\":{\"outlinewidth\":0,\"ticks\":\"\"},\"colorscale\":[[0.0,\"#0d0887\"],[0.1111111111111111,\"#46039f\"],[0.2222222222222222,\"#7201a8\"],[0.3333333333333333,\"#9c179e\"],[0.4444444444444444,\"#bd3786\"],[0.5555555555555556,\"#d8576b\"],[0.6666666666666666,\"#ed7953\"],[0.7777777777777778,\"#fb9f3a\"],[0.8888888888888888,\"#fdca26\"],[1.0,\"#f0f921\"]]}],\"mesh3d\":[{\"type\":\"mesh3d\",\"colorbar\":{\"outlinewidth\":0,\"ticks\":\"\"}}],\"scatter\":[{\"fillpattern\":{\"fillmode\":\"overlay\",\"size\":10,\"solidity\":0.2},\"type\":\"scatter\"}],\"parcoords\":[{\"type\":\"parcoords\",\"line\":{\"colorbar\":{\"outlinewidth\":0,\"ticks\":\"\"}}}],\"scatterpolargl\":[{\"type\":\"scatterpolargl\",\"marker\":{\"colorbar\":{\"outlinewidth\":0,\"ticks\":\"\"}}}],\"bar\":[{\"error_x\":{\"color\":\"#2a3f5f\"},\"error_y\":{\"color\":\"#2a3f5f\"},\"marker\":{\"line\":{\"color\":\"#E5ECF6\",\"width\":0.5},\"pattern\":{\"fillmode\":\"overlay\",\"size\":10,\"solidity\":0.2}},\"type\":\"bar\"}],\"scattergeo\":[{\"type\":\"scattergeo\",\"marker\":{\"colorbar\":{\"outlinewidth\":0,\"ticks\":\"\"}}}],\"scatterpolar\":[{\"type\":\"scatterpolar\",\"marker\":{\"colorbar\":{\"outlinewidth\":0,\"ticks\":\"\"}}}],\"histogram\":[{\"marker\":{\"pattern\":{\"fillmode\":\"overlay\",\"size\":10,\"solidity\":0.2}},\"type\":\"histogram\"}],\"scattergl\":[{\"type\":\"scattergl\",\"marker\":{\"colorbar\":{\"outlinewidth\":0,\"ticks\":\"\"}}}],\"scatter3d\":[{\"type\":\"scatter3d\",\"line\":{\"colorbar\":{\"outlinewidth\":0,\"ticks\":\"\"}},\"marker\":{\"colorbar\":{\"outlinewidth\":0,\"ticks\":\"\"}}}],\"scattermapbox\":[{\"type\":\"scattermapbox\",\"marker\":{\"colorbar\":{\"outlinewidth\":0,\"ticks\":\"\"}}}],\"scatterternary\":[{\"type\":\"scatterternary\",\"marker\":{\"colorbar\":{\"outlinewidth\":0,\"ticks\":\"\"}}}],\"scattercarpet\":[{\"type\":\"scattercarpet\",\"marker\":{\"colorbar\":{\"outlinewidth\":0,\"ticks\":\"\"}}}],\"carpet\":[{\"aaxis\":{\"endlinecolor\":\"#2a3f5f\",\"gridcolor\":\"white\",\"linecolor\":\"white\",\"minorgridcolor\":\"white\",\"startlinecolor\":\"#2a3f5f\"},\"baxis\":{\"endlinecolor\":\"#2a3f5f\",\"gridcolor\":\"white\",\"linecolor\":\"white\",\"minorgridcolor\":\"white\",\"startlinecolor\":\"#2a3f5f\"},\"type\":\"carpet\"}],\"table\":[{\"cells\":{\"fill\":{\"color\":\"#EBF0F8\"},\"line\":{\"color\":\"white\"}},\"header\":{\"fill\":{\"color\":\"#C8D4E3\"},\"line\":{\"color\":\"white\"}},\"type\":\"table\"}],\"barpolar\":[{\"marker\":{\"line\":{\"color\":\"#E5ECF6\",\"width\":0.5},\"pattern\":{\"fillmode\":\"overlay\",\"size\":10,\"solidity\":0.2}},\"type\":\"barpolar\"}],\"pie\":[{\"automargin\":true,\"type\":\"pie\"}]},\"layout\":{\"autotypenumbers\":\"strict\",\"colorway\":[\"#636efa\",\"#EF553B\",\"#00cc96\",\"#ab63fa\",\"#FFA15A\",\"#19d3f3\",\"#FF6692\",\"#B6E880\",\"#FF97FF\",\"#FECB52\"],\"font\":{\"color\":\"#2a3f5f\"},\"hovermode\":\"closest\",\"hoverlabel\":{\"align\":\"left\"},\"paper_bgcolor\":\"white\",\"plot_bgcolor\":\"#E5ECF6\",\"polar\":{\"bgcolor\":\"#E5ECF6\",\"angularaxis\":{\"gridcolor\":\"white\",\"linecolor\":\"white\",\"ticks\":\"\"},\"radialaxis\":{\"gridcolor\":\"white\",\"linecolor\":\"white\",\"ticks\":\"\"}},\"ternary\":{\"bgcolor\":\"#E5ECF6\",\"aaxis\":{\"gridcolor\":\"white\",\"linecolor\":\"white\",\"ticks\":\"\"},\"baxis\":{\"gridcolor\":\"white\",\"linecolor\":\"white\",\"ticks\":\"\"},\"caxis\":{\"gridcolor\":\"white\",\"linecolor\":\"white\",\"ticks\":\"\"}},\"coloraxis\":{\"colorbar\":{\"outlinewidth\":0,\"ticks\":\"\"}},\"colorscale\":{\"sequential\":[[0.0,\"#0d0887\"],[0.1111111111111111,\"#46039f\"],[0.2222222222222222,\"#7201a8\"],[0.3333333333333333,\"#9c179e\"],[0.4444444444444444,\"#bd3786\"],[0.5555555555555556,\"#d8576b\"],[0.6666666666666666,\"#ed7953\"],[0.7777777777777778,\"#fb9f3a\"],[0.8888888888888888,\"#fdca26\"],[1.0,\"#f0f921\"]],\"sequentialminus\":[[0.0,\"#0d0887\"],[0.1111111111111111,\"#46039f\"],[0.2222222222222222,\"#7201a8\"],[0.3333333333333333,\"#9c179e\"],[0.4444444444444444,\"#bd3786\"],[0.5555555555555556,\"#d8576b\"],[0.6666666666666666,\"#ed7953\"],[0.7777777777777778,\"#fb9f3a\"],[0.8888888888888888,\"#fdca26\"],[1.0,\"#f0f921\"]],\"diverging\":[[0,\"#8e0152\"],[0.1,\"#c51b7d\"],[0.2,\"#de77ae\"],[0.3,\"#f1b6da\"],[0.4,\"#fde0ef\"],[0.5,\"#f7f7f7\"],[0.6,\"#e6f5d0\"],[0.7,\"#b8e186\"],[0.8,\"#7fbc41\"],[0.9,\"#4d9221\"],[1,\"#276419\"]]},\"xaxis\":{\"gridcolor\":\"white\",\"linecolor\":\"white\",\"ticks\":\"\",\"title\":{\"standoff\":15},\"zerolinecolor\":\"white\",\"automargin\":true,\"zerolinewidth\":2},\"yaxis\":{\"gridcolor\":\"white\",\"linecolor\":\"white\",\"ticks\":\"\",\"title\":{\"standoff\":15},\"zerolinecolor\":\"white\",\"automargin\":true,\"zerolinewidth\":2},\"scene\":{\"xaxis\":{\"backgroundcolor\":\"#E5ECF6\",\"gridcolor\":\"white\",\"linecolor\":\"white\",\"showbackground\":true,\"ticks\":\"\",\"zerolinecolor\":\"white\",\"gridwidth\":2},\"yaxis\":{\"backgroundcolor\":\"#E5ECF6\",\"gridcolor\":\"white\",\"linecolor\":\"white\",\"showbackground\":true,\"ticks\":\"\",\"zerolinecolor\":\"white\",\"gridwidth\":2},\"zaxis\":{\"backgroundcolor\":\"#E5ECF6\",\"gridcolor\":\"white\",\"linecolor\":\"white\",\"showbackground\":true,\"ticks\":\"\",\"zerolinecolor\":\"white\",\"gridwidth\":2}},\"shapedefaults\":{\"line\":{\"color\":\"#2a3f5f\"}},\"annotationdefaults\":{\"arrowcolor\":\"#2a3f5f\",\"arrowhead\":0,\"arrowwidth\":1},\"geo\":{\"bgcolor\":\"white\",\"landcolor\":\"#E5ECF6\",\"subunitcolor\":\"white\",\"showland\":true,\"showlakes\":true,\"lakecolor\":\"white\"},\"title\":{\"x\":0.05},\"mapbox\":{\"style\":\"light\"}}},\"xaxis\":{\"anchor\":\"y\",\"domain\":[0.0,1.0],\"title\":{\"text\":\"Customer Satisfaction Level\"},\"categoryorder\":\"array\",\"categoryarray\":[\"Low\",\"Medium\",\"High\"]},\"yaxis\":{\"anchor\":\"x\",\"domain\":[0.0,1.0],\"title\":{\"text\":\"Number of Return Customers\"}},\"legend\":{\"title\":{\"text\":\"Customer Satisfaction Level\"},\"tracegroupgap\":0},\"title\":{\"text\":\"Return Customers by Customer Satisfaction Level\"},\"barmode\":\"relative\"},                        {\"responsive\": true}                    ).then(function(){\n",
              "                            \n",
              "var gd = document.getElementById('9208ee5f-76e6-4663-af36-fb324e406231');\n",
              "var x = new MutationObserver(function (mutations, observer) {{\n",
              "        var display = window.getComputedStyle(gd).display;\n",
              "        if (!display || display === 'none') {{\n",
              "            console.log([gd, 'removed!']);\n",
              "            Plotly.purge(gd);\n",
              "            observer.disconnect();\n",
              "        }}\n",
              "}});\n",
              "\n",
              "// Listen for the removal of the full notebook cells\n",
              "var notebookContainer = gd.closest('#notebook-container');\n",
              "if (notebookContainer) {{\n",
              "    x.observe(notebookContainer, {childList: true});\n",
              "}}\n",
              "\n",
              "// Listen for the clearing of the current output cell\n",
              "var outputEl = gd.closest('.output');\n",
              "if (outputEl) {{\n",
              "    x.observe(outputEl, {childList: true});\n",
              "}}\n",
              "\n",
              "                        })                };                            </script>        </div>\n",
              "</body>\n",
              "</html>"
            ]
          },
          "metadata": {}
        }
      ]
    },
    {
      "cell_type": "code",
      "source": [
        "\n",
        "bins = [18, 25, 35, 45, 55, 65, float('inf')]\n",
        "labels = ['18-24', '25-34', '35-44', '45-54', '55-64', '65+']\n",
        "df['Age Range'] = pd.cut(df['Age'], bins=bins, labels=labels, right=False)\n",
        "\n",
        "return_customers = df[df['Return Customer'] == True]\n",
        "\n",
        "most_purchased_product_by_age = return_customers.groupby(['Age Range', 'Product Category'])['Customer ID'].count().reset_index(name='Purchase Count')\n",
        "most_purchased_product_by_age = most_purchased_product_by_age.loc[most_purchased_product_by_age.groupby('Age Range')['Purchase Count'].idxmax()]\n",
        "\n",
        "\n",
        "plt.figure(figsize=(10, 6))\n",
        "plt.bar(most_purchased_product_by_age['Age Range'], most_purchased_product_by_age['Purchase Count'], color='skyblue')\n",
        "plt.xlabel('Age Range')\n",
        "plt.ylabel('Number of Purchases')\n",
        "plt.title('Most Purchased Product by Return Customer Age Range')\n",
        "plt.xticks(rotation=45)\n",
        "\n",
        "for i, (age_range, purchase_count) in enumerate(zip(most_purchased_product_by_age['Age Range'], most_purchased_product_by_age['Purchase Count'])):\n",
        "    product_category = most_purchased_product_by_age.loc[most_purchased_product_by_age['Age Range'] == age_range, 'Product Category'].iloc[0]\n",
        "    plt.text(i, purchase_count + 1, product_category, ha='center', va='bottom', rotation=45)\n",
        "\n",
        "plt.tight_layout()\n",
        "plt.show()"
      ],
      "metadata": {
        "colab": {
          "base_uri": "https://localhost:8080/",
          "height": 765
        },
        "id": "V4bSUgHiPg5I",
        "outputId": "bcec6f45-6f4f-47bf-ff2f-798ec9523953"
      },
      "execution_count": null,
      "outputs": [
        {
          "output_type": "stream",
          "name": "stderr",
          "text": [
            "<ipython-input-49-05815478cd6b>:7: FutureWarning:\n",
            "\n",
            "The default of observed=False is deprecated and will be changed to True in a future version of pandas. Pass observed=False to retain current behavior or observed=True to adopt the future default and silence this warning.\n",
            "\n",
            "<ipython-input-49-05815478cd6b>:8: FutureWarning:\n",
            "\n",
            "The default of observed=False is deprecated and will be changed to True in a future version of pandas. Pass observed=False to retain current behavior or observed=True to adopt the future default and silence this warning.\n",
            "\n"
          ]
        },
        {
          "output_type": "display_data",
          "data": {
            "text/plain": [
              "<Figure size 1000x600 with 1 Axes>"
            ],
            "image/png": "[encoded data removed]"
          },
          "metadata": {}
        }
      ]
    },
    {
      "cell_type": "code",
      "source": [
        "\n",
        "return_customer_analysis = df[df['Return Customer'] == True].groupby(['Gender', 'Product Category', 'Age Range'])['Customer ID'].count().reset_index(name='Customer Count')\n",
        "\n",
        "most_purchased_category = return_customer_analysis.loc[return_customer_analysis.groupby(['Gender', 'Age Range'])['Customer Count'].idxmax()]\n",
        "fig = px.bar(most_purchased_category,\n",
        "             x='Age Range',\n",
        "             y='Customer Count',\n",
        "             color='Product Category',\n",
        "             facet_col='Gender',\n",
        "             title='Return Customers: Most Purchased Category by Gender and Age Range',\n",
        "             labels={'Customer Count': 'Number of Return Customers'},\n",
        "             category_orders={'Age Range': sorted(df['Age Range'].unique())})\n",
        "\n",
        "fig.show()"
      ],
      "metadata": {
        "colab": {
          "base_uri": "https://localhost:8080/",
          "height": 701
        },
        "id": "bhjMj4u2Lj4S",
        "outputId": "b3c4b67d-99eb-4558-bc13-0c4def74df19"
      },
      "execution_count": null,
      "outputs": [
        {
          "output_type": "stream",
          "name": "stderr",
          "text": [
            "<ipython-input-39-4fc4a5d046cd>:6: FutureWarning:\n",
            "\n",
            "The default of observed=False is deprecated and will be changed to True in a future version of pandas. Pass observed=False to retain current behavior or observed=True to adopt the future default and silence this warning.\n",
            "\n",
            "<ipython-input-39-4fc4a5d046cd>:9: FutureWarning:\n",
            "\n",
            "The default of observed=False is deprecated and will be changed to True in a future version of pandas. Pass observed=False to retain current behavior or observed=True to adopt the future default and silence this warning.\n",
            "\n"
          ]
        },
        {
          "output_type": "display_data",
          "data": {
            "text/html": [
              "<html>\n",
              "<head><meta charset=\"utf-8\" /></head>\n",
              "<body>\n",
              "    <div>            <script src=\"https://cdnjs.cloudflare.com/ajax/libs/mathjax/2.7.5/MathJax.js?config=TeX-AMS-MML_SVG\"></script><script type=\"text/javascript\">if (window.MathJax && window.MathJax.Hub && window.MathJax.Hub.Config) {window.MathJax.Hub.Config({SVG: {font: \"STIX-Web\"}});}</script>                <script type=\"text/javascript\">window.PlotlyConfig = {MathJaxConfig: 'local'};</script>\n",
              "        <script charset=\"utf-8\" src=\"https://cdn.plot.ly/plotly-2.35.2.min.js\"></script>                <div id=\"62becae7-9e77-44f6-a850-ad21a3fe68fe\" class=\"plotly-graph-div\" style=\"height:525px; width:100%;\"></div>            <script type=\"text/javascript\">                                    window.PLOTLYENV=window.PLOTLYENV || {};                                    if (document.getElementById(\"62becae7-9e77-44f6-a850-ad21a3fe68fe\")) {                    Plotly.newPlot(                        \"62becae7-9e77-44f6-a850-ad21a3fe68fe\",                        [{\"alignmentgroup\":\"True\",\"hovertemplate\":\"Product Category=Groceries\\u003cbr\\u003eGender=Female\\u003cbr\\u003eAge Range=%{x}\\u003cbr\\u003eNumber of Return Customers=%{y}\\u003cextra\\u003e\\u003c\\u002fextra\\u003e\",\"legendgroup\":\"Groceries\",\"marker\":{\"color\":\"#636efa\",\"pattern\":{\"shape\":\"\"}},\"name\":\"Groceries\",\"offsetgroup\":\"Groceries\",\"orientation\":\"v\",\"showlegend\":true,\"textposition\":\"auto\",\"x\":[\"18-29\"],\"xaxis\":\"x\",\"y\":[55],\"yaxis\":\"y\",\"type\":\"bar\"},{\"alignmentgroup\":\"True\",\"hovertemplate\":\"Product Category=Groceries\\u003cbr\\u003eGender=Male\\u003cbr\\u003eAge Range=%{x}\\u003cbr\\u003eNumber of Return Customers=%{y}\\u003cextra\\u003e\\u003c\\u002fextra\\u003e\",\"legendgroup\":\"Groceries\",\"marker\":{\"color\":\"#636efa\",\"pattern\":{\"shape\":\"\"}},\"name\":\"Groceries\",\"offsetgroup\":\"Groceries\",\"orientation\":\"v\",\"showlegend\":false,\"textposition\":\"auto\",\"x\":[\"60+\"],\"xaxis\":\"x2\",\"y\":[43],\"yaxis\":\"y2\",\"type\":\"bar\"},{\"alignmentgroup\":\"True\",\"hovertemplate\":\"Product Category=Clothing\\u003cbr\\u003eGender=Female\\u003cbr\\u003eAge Range=%{x}\\u003cbr\\u003eNumber of Return Customers=%{y}\\u003cextra\\u003e\\u003c\\u002fextra\\u003e\",\"legendgroup\":\"Clothing\",\"marker\":{\"color\":\"#EF553B\",\"pattern\":{\"shape\":\"\"}},\"name\":\"Clothing\",\"offsetgroup\":\"Clothing\",\"orientation\":\"v\",\"showlegend\":true,\"textposition\":\"auto\",\"x\":[\"30-39\"],\"xaxis\":\"x\",\"y\":[51],\"yaxis\":\"y\",\"type\":\"bar\"},{\"alignmentgroup\":\"True\",\"hovertemplate\":\"Product Category=Clothing\\u003cbr\\u003eGender=Male\\u003cbr\\u003eAge Range=%{x}\\u003cbr\\u003eNumber of Return Customers=%{y}\\u003cextra\\u003e\\u003c\\u002fextra\\u003e\",\"legendgroup\":\"Clothing\",\"marker\":{\"color\":\"#EF553B\",\"pattern\":{\"shape\":\"\"}},\"name\":\"Clothing\",\"offsetgroup\":\"Clothing\",\"orientation\":\"v\",\"showlegend\":false,\"textposition\":\"auto\",\"x\":[\"40-49\"],\"xaxis\":\"x2\",\"y\":[51],\"yaxis\":\"y2\",\"type\":\"bar\"},{\"alignmentgroup\":\"True\",\"hovertemplate\":\"Product Category=Beauty\\u003cbr\\u003eGender=Female\\u003cbr\\u003eAge Range=%{x}\\u003cbr\\u003eNumber of Return Customers=%{y}\\u003cextra\\u003e\\u003c\\u002fextra\\u003e\",\"legendgroup\":\"Beauty\",\"marker\":{\"color\":\"#00cc96\",\"pattern\":{\"shape\":\"\"}},\"name\":\"Beauty\",\"offsetgroup\":\"Beauty\",\"orientation\":\"v\",\"showlegend\":true,\"textposition\":\"auto\",\"x\":[\"40-49\",\"50-59\"],\"xaxis\":\"x\",\"y\":[44,46],\"yaxis\":\"y\",\"type\":\"bar\"},{\"alignmentgroup\":\"True\",\"hovertemplate\":\"Product Category=Beauty\\u003cbr\\u003eGender=Other\\u003cbr\\u003eAge Range=%{x}\\u003cbr\\u003eNumber of Return Customers=%{y}\\u003cextra\\u003e\\u003c\\u002fextra\\u003e\",\"legendgroup\":\"Beauty\",\"marker\":{\"color\":\"#00cc96\",\"pattern\":{\"shape\":\"\"}},\"name\":\"Beauty\",\"offsetgroup\":\"Beauty\",\"orientation\":\"v\",\"showlegend\":false,\"textposition\":\"auto\",\"x\":[\"18-29\"],\"xaxis\":\"x3\",\"y\":[59],\"yaxis\":\"y3\",\"type\":\"bar\"},{\"alignmentgroup\":\"True\",\"hovertemplate\":\"Product Category=Books\\u003cbr\\u003eGender=Female\\u003cbr\\u003eAge Range=%{x}\\u003cbr\\u003eNumber of Return Customers=%{y}\\u003cextra\\u003e\\u003c\\u002fextra\\u003e\",\"legendgroup\":\"Books\",\"marker\":{\"color\":\"#ab63fa\",\"pattern\":{\"shape\":\"\"}},\"name\":\"Books\",\"offsetgroup\":\"Books\",\"orientation\":\"v\",\"showlegend\":true,\"textposition\":\"auto\",\"x\":[\"60+\"],\"xaxis\":\"x\",\"y\":[48],\"yaxis\":\"y\",\"type\":\"bar\"},{\"alignmentgroup\":\"True\",\"hovertemplate\":\"Product Category=Electronics\\u003cbr\\u003eGender=Male\\u003cbr\\u003eAge Range=%{x}\\u003cbr\\u003eNumber of Return Customers=%{y}\\u003cextra\\u003e\\u003c\\u002fextra\\u003e\",\"legendgroup\":\"Electronics\",\"marker\":{\"color\":\"#FFA15A\",\"pattern\":{\"shape\":\"\"}},\"name\":\"Electronics\",\"offsetgroup\":\"Electronics\",\"orientation\":\"v\",\"showlegend\":true,\"textposition\":\"auto\",\"x\":[\"18-29\",\"50-59\"],\"xaxis\":\"x2\",\"y\":[54,60],\"yaxis\":\"y2\",\"type\":\"bar\"},{\"alignmentgroup\":\"True\",\"hovertemplate\":\"Product Category=Electronics\\u003cbr\\u003eGender=Other\\u003cbr\\u003eAge Range=%{x}\\u003cbr\\u003eNumber of Return Customers=%{y}\\u003cextra\\u003e\\u003c\\u002fextra\\u003e\",\"legendgroup\":\"Electronics\",\"marker\":{\"color\":\"#FFA15A\",\"pattern\":{\"shape\":\"\"}},\"name\":\"Electronics\",\"offsetgroup\":\"Electronics\",\"orientation\":\"v\",\"showlegend\":false,\"textposition\":\"auto\",\"x\":[\"60+\"],\"xaxis\":\"x3\",\"y\":[57],\"yaxis\":\"y3\",\"type\":\"bar\"},{\"alignmentgroup\":\"True\",\"hovertemplate\":\"Product Category=Home\\u003cbr\\u003eGender=Male\\u003cbr\\u003eAge Range=%{x}\\u003cbr\\u003eNumber of Return Customers=%{y}\\u003cextra\\u003e\\u003c\\u002fextra\\u003e\",\"legendgroup\":\"Home\",\"marker\":{\"color\":\"#19d3f3\",\"pattern\":{\"shape\":\"\"}},\"name\":\"Home\",\"offsetgroup\":\"Home\",\"orientation\":\"v\",\"showlegend\":true,\"textposition\":\"auto\",\"x\":[\"30-39\"],\"xaxis\":\"x2\",\"y\":[43],\"yaxis\":\"y2\",\"type\":\"bar\"},{\"alignmentgroup\":\"True\",\"hovertemplate\":\"Product Category=Home\\u003cbr\\u003eGender=Other\\u003cbr\\u003eAge Range=%{x}\\u003cbr\\u003eNumber of Return Customers=%{y}\\u003cextra\\u003e\\u003c\\u002fextra\\u003e\",\"legendgroup\":\"Home\",\"marker\":{\"color\":\"#19d3f3\",\"pattern\":{\"shape\":\"\"}},\"name\":\"Home\",\"offsetgroup\":\"Home\",\"orientation\":\"v\",\"showlegend\":false,\"textposition\":\"auto\",\"x\":[\"40-49\"],\"xaxis\":\"x3\",\"y\":[49],\"yaxis\":\"y3\",\"type\":\"bar\"},{\"alignmentgroup\":\"True\",\"hovertemplate\":\"Product Category=Toys\\u003cbr\\u003eGender=Other\\u003cbr\\u003eAge Range=%{x}\\u003cbr\\u003eNumber of Return Customers=%{y}\\u003cextra\\u003e\\u003c\\u002fextra\\u003e\",\"legendgroup\":\"Toys\",\"marker\":{\"color\":\"#FF6692\",\"pattern\":{\"shape\":\"\"}},\"name\":\"Toys\",\"offsetgroup\":\"Toys\",\"orientation\":\"v\",\"showlegend\":true,\"textposition\":\"auto\",\"x\":[\"30-39\"],\"xaxis\":\"x3\",\"y\":[46],\"yaxis\":\"y3\",\"type\":\"bar\"},{\"alignmentgroup\":\"True\",\"hovertemplate\":\"Product Category=Sports\\u003cbr\\u003eGender=Other\\u003cbr\\u003eAge Range=%{x}\\u003cbr\\u003eNumber of Return Customers=%{y}\\u003cextra\\u003e\\u003c\\u002fextra\\u003e\",\"legendgroup\":\"Sports\",\"marker\":{\"color\":\"#B6E880\",\"pattern\":{\"shape\":\"\"}},\"name\":\"Sports\",\"offsetgroup\":\"Sports\",\"orientation\":\"v\",\"showlegend\":true,\"textposition\":\"auto\",\"x\":[\"50-59\"],\"xaxis\":\"x3\",\"y\":[51],\"yaxis\":\"y3\",\"type\":\"bar\"}],                        {\"template\":{\"data\":{\"histogram2dcontour\":[{\"type\":\"histogram2dcontour\",\"colorbar\":{\"outlinewidth\":0,\"ticks\":\"\"},\"colorscale\":[[0.0,\"#0d0887\"],[0.1111111111111111,\"#46039f\"],[0.2222222222222222,\"#7201a8\"],[0.3333333333333333,\"#9c179e\"],[0.4444444444444444,\"#bd3786\"],[0.5555555555555556,\"#d8576b\"],[0.6666666666666666,\"#ed7953\"],[0.7777777777777778,\"#fb9f3a\"],[0.8888888888888888,\"#fdca26\"],[1.0,\"#f0f921\"]]}],\"choropleth\":[{\"type\":\"choropleth\",\"colorbar\":{\"outlinewidth\":0,\"ticks\":\"\"}}],\"histogram2d\":[{\"type\":\"histogram2d\",\"colorbar\":{\"outlinewidth\":0,\"ticks\":\"\"},\"colorscale\":[[0.0,\"#0d0887\"],[0.1111111111111111,\"#46039f\"],[0.2222222222222222,\"#7201a8\"],[0.3333333333333333,\"#9c179e\"],[0.4444444444444444,\"#bd3786\"],[0.5555555555555556,\"#d8576b\"],[0.6666666666666666,\"#ed7953\"],[0.7777777777777778,\"#fb9f3a\"],[0.8888888888888888,\"#fdca26\"],[1.0,\"#f0f921\"]]}],\"heatmap\":[{\"type\":\"heatmap\",\"colorbar\":{\"outlinewidth\":0,\"ticks\":\"\"},\"colorscale\":[[0.0,\"#0d0887\"],[0.1111111111111111,\"#46039f\"],[0.2222222222222222,\"#7201a8\"],[0.3333333333333333,\"#9c179e\"],[0.4444444444444444,\"#bd3786\"],[0.5555555555555556,\"#d8576b\"],[0.6666666666666666,\"#ed7953\"],[0.7777777777777778,\"#fb9f3a\"],[0.8888888888888888,\"#fdca26\"],[1.0,\"#f0f921\"]]}],\"heatmapgl\":[{\"type\":\"heatmapgl\",\"colorbar\":{\"outlinewidth\":0,\"ticks\":\"\"},\"colorscale\":[[0.0,\"#0d0887\"],[0.1111111111111111,\"#46039f\"],[0.2222222222222222,\"#7201a8\"],[0.3333333333333333,\"#9c179e\"],[0.4444444444444444,\"#bd3786\"],[0.5555555555555556,\"#d8576b\"],[0.6666666666666666,\"#ed7953\"],[0.7777777777777778,\"#fb9f3a\"],[0.8888888888888888,\"#fdca26\"],[1.0,\"#f0f921\"]]}],\"contourcarpet\":[{\"type\":\"contourcarpet\",\"colorbar\":{\"outlinewidth\":0,\"ticks\":\"\"}}],\"contour\":[{\"type\":\"contour\",\"colorbar\":{\"outlinewidth\":0,\"ticks\":\"\"},\"colorscale\":[[0.0,\"#0d0887\"],[0.1111111111111111,\"#46039f\"],[0.2222222222222222,\"#7201a8\"],[0.3333333333333333,\"#9c179e\"],[0.4444444444444444,\"#bd3786\"],[0.5555555555555556,\"#d8576b\"],[0.6666666666666666,\"#ed7953\"],[0.7777777777777778,\"#fb9f3a\"],[0.8888888888888888,\"#fdca26\"],[1.0,\"#f0f921\"]]}],\"surface\":[{\"type\":\"surface\",\"colorbar\":{\"outlinewidth\":0,\"ticks\":\"\"},\"colorscale\":[[0.0,\"#0d0887\"],[0.1111111111111111,\"#46039f\"],[0.2222222222222222,\"#7201a8\"],[0.3333333333333333,\"#9c179e\"],[0.4444444444444444,\"#bd3786\"],[0.5555555555555556,\"#d8576b\"],[0.6666666666666666,\"#ed7953\"],[0.7777777777777778,\"#fb9f3a\"],[0.8888888888888888,\"#fdca26\"],[1.0,\"#f0f921\"]]}],\"mesh3d\":[{\"type\":\"mesh3d\",\"colorbar\":{\"outlinewidth\":0,\"ticks\":\"\"}}],\"scatter\":[{\"fillpattern\":{\"fillmode\":\"overlay\",\"size\":10,\"solidity\":0.2},\"type\":\"scatter\"}],\"parcoords\":[{\"type\":\"parcoords\",\"line\":{\"colorbar\":{\"outlinewidth\":0,\"ticks\":\"\"}}}],\"scatterpolargl\":[{\"type\":\"scatterpolargl\",\"marker\":{\"colorbar\":{\"outlinewidth\":0,\"ticks\":\"\"}}}],\"bar\":[{\"error_x\":{\"color\":\"#2a3f5f\"},\"error_y\":{\"color\":\"#2a3f5f\"},\"marker\":{\"line\":{\"color\":\"#E5ECF6\",\"width\":0.5},\"pattern\":{\"fillmode\":\"overlay\",\"size\":10,\"solidity\":0.2}},\"type\":\"bar\"}],\"scattergeo\":[{\"type\":\"scattergeo\",\"marker\":{\"colorbar\":{\"outlinewidth\":0,\"ticks\":\"\"}}}],\"scatterpolar\":[{\"type\":\"scatterpolar\",\"marker\":{\"colorbar\":{\"outlinewidth\":0,\"ticks\":\"\"}}}],\"histogram\":[{\"marker\":{\"pattern\":{\"fillmode\":\"overlay\",\"size\":10,\"solidity\":0.2}},\"type\":\"histogram\"}],\"scattergl\":[{\"type\":\"scattergl\",\"marker\":{\"colorbar\":{\"outlinewidth\":0,\"ticks\":\"\"}}}],\"scatter3d\":[{\"type\":\"scatter3d\",\"line\":{\"colorbar\":{\"outlinewidth\":0,\"ticks\":\"\"}},\"marker\":{\"colorbar\":{\"outlinewidth\":0,\"ticks\":\"\"}}}],\"scattermapbox\":[{\"type\":\"scattermapbox\",\"marker\":{\"colorbar\":{\"outlinewidth\":0,\"ticks\":\"\"}}}],\"scatterternary\":[{\"type\":\"scatterternary\",\"marker\":{\"colorbar\":{\"outlinewidth\":0,\"ticks\":\"\"}}}],\"scattercarpet\":[{\"type\":\"scattercarpet\",\"marker\":{\"colorbar\":{\"outlinewidth\":0,\"ticks\":\"\"}}}],\"carpet\":[{\"aaxis\":{\"endlinecolor\":\"#2a3f5f\",\"gridcolor\":\"white\",\"linecolor\":\"white\",\"minorgridcolor\":\"white\",\"startlinecolor\":\"#2a3f5f\"},\"baxis\":{\"endlinecolor\":\"#2a3f5f\",\"gridcolor\":\"white\",\"linecolor\":\"white\",\"minorgridcolor\":\"white\",\"startlinecolor\":\"#2a3f5f\"},\"type\":\"carpet\"}],\"table\":[{\"cells\":{\"fill\":{\"color\":\"#EBF0F8\"},\"line\":{\"color\":\"white\"}},\"header\":{\"fill\":{\"color\":\"#C8D4E3\"},\"line\":{\"color\":\"white\"}},\"type\":\"table\"}],\"barpolar\":[{\"marker\":{\"line\":{\"color\":\"#E5ECF6\",\"width\":0.5},\"pattern\":{\"fillmode\":\"overlay\",\"size\":10,\"solidity\":0.2}},\"type\":\"barpolar\"}],\"pie\":[{\"automargin\":true,\"type\":\"pie\"}]},\"layout\":{\"autotypenumbers\":\"strict\",\"colorway\":[\"#636efa\",\"#EF553B\",\"#00cc96\",\"#ab63fa\",\"#FFA15A\",\"#19d3f3\",\"#FF6692\",\"#B6E880\",\"#FF97FF\",\"#FECB52\"],\"font\":{\"color\":\"#2a3f5f\"},\"hovermode\":\"closest\",\"hoverlabel\":{\"align\":\"left\"},\"paper_bgcolor\":\"white\",\"plot_bgcolor\":\"#E5ECF6\",\"polar\":{\"bgcolor\":\"#E5ECF6\",\"angularaxis\":{\"gridcolor\":\"white\",\"linecolor\":\"white\",\"ticks\":\"\"},\"radialaxis\":{\"gridcolor\":\"white\",\"linecolor\":\"white\",\"ticks\":\"\"}},\"ternary\":{\"bgcolor\":\"#E5ECF6\",\"aaxis\":{\"gridcolor\":\"white\",\"linecolor\":\"white\",\"ticks\":\"\"},\"baxis\":{\"gridcolor\":\"white\",\"linecolor\":\"white\",\"ticks\":\"\"},\"caxis\":{\"gridcolor\":\"white\",\"linecolor\":\"white\",\"ticks\":\"\"}},\"coloraxis\":{\"colorbar\":{\"outlinewidth\":0,\"ticks\":\"\"}},\"colorscale\":{\"sequential\":[[0.0,\"#0d0887\"],[0.1111111111111111,\"#46039f\"],[0.2222222222222222,\"#7201a8\"],[0.3333333333333333,\"#9c179e\"],[0.4444444444444444,\"#bd3786\"],[0.5555555555555556,\"#d8576b\"],[0.6666666666666666,\"#ed7953\"],[0.7777777777777778,\"#fb9f3a\"],[0.8888888888888888,\"#fdca26\"],[1.0,\"#f0f921\"]],\"sequentialminus\":[[0.0,\"#0d0887\"],[0.1111111111111111,\"#46039f\"],[0.2222222222222222,\"#7201a8\"],[0.3333333333333333,\"#9c179e\"],[0.4444444444444444,\"#bd3786\"],[0.5555555555555556,\"#d8576b\"],[0.6666666666666666,\"#ed7953\"],[0.7777777777777778,\"#fb9f3a\"],[0.8888888888888888,\"#fdca26\"],[1.0,\"#f0f921\"]],\"diverging\":[[0,\"#8e0152\"],[0.1,\"#c51b7d\"],[0.2,\"#de77ae\"],[0.3,\"#f1b6da\"],[0.4,\"#fde0ef\"],[0.5,\"#f7f7f7\"],[0.6,\"#e6f5d0\"],[0.7,\"#b8e186\"],[0.8,\"#7fbc41\"],[0.9,\"#4d9221\"],[1,\"#276419\"]]},\"xaxis\":{\"gridcolor\":\"white\",\"linecolor\":\"white\",\"ticks\":\"\",\"title\":{\"standoff\":15},\"zerolinecolor\":\"white\",\"automargin\":true,\"zerolinewidth\":2},\"yaxis\":{\"gridcolor\":\"white\",\"linecolor\":\"white\",\"ticks\":\"\",\"title\":{\"standoff\":15},\"zerolinecolor\":\"white\",\"automargin\":true,\"zerolinewidth\":2},\"scene\":{\"xaxis\":{\"backgroundcolor\":\"#E5ECF6\",\"gridcolor\":\"white\",\"linecolor\":\"white\",\"showbackground\":true,\"ticks\":\"\",\"zerolinecolor\":\"white\",\"gridwidth\":2},\"yaxis\":{\"backgroundcolor\":\"#E5ECF6\",\"gridcolor\":\"white\",\"linecolor\":\"white\",\"showbackground\":true,\"ticks\":\"\",\"zerolinecolor\":\"white\",\"gridwidth\":2},\"zaxis\":{\"backgroundcolor\":\"#E5ECF6\",\"gridcolor\":\"white\",\"linecolor\":\"white\",\"showbackground\":true,\"ticks\":\"\",\"zerolinecolor\":\"white\",\"gridwidth\":2}},\"shapedefaults\":{\"line\":{\"color\":\"#2a3f5f\"}},\"annotationdefaults\":{\"arrowcolor\":\"#2a3f5f\",\"arrowhead\":0,\"arrowwidth\":1},\"geo\":{\"bgcolor\":\"white\",\"landcolor\":\"#E5ECF6\",\"subunitcolor\":\"white\",\"showland\":true,\"showlakes\":true,\"lakecolor\":\"white\"},\"title\":{\"x\":0.05},\"mapbox\":{\"style\":\"light\"}}},\"xaxis\":{\"anchor\":\"y\",\"domain\":[0.0,0.31999999999999995],\"title\":{\"text\":\"Age Range\"},\"categoryorder\":\"array\",\"categoryarray\":[\"18-29\",\"30-39\",\"40-49\",\"50-59\",\"60+\"]},\"yaxis\":{\"anchor\":\"x\",\"domain\":[0.0,1.0],\"title\":{\"text\":\"Number of Return Customers\"}},\"xaxis2\":{\"anchor\":\"y2\",\"domain\":[0.33999999999999997,0.6599999999999999],\"matches\":\"x\",\"title\":{\"text\":\"Age Range\"},\"categoryorder\":\"array\",\"categoryarray\":[\"18-29\",\"30-39\",\"40-49\",\"50-59\",\"60+\"]},\"yaxis2\":{\"anchor\":\"x2\",\"domain\":[0.0,1.0],\"matches\":\"y\",\"showticklabels\":false},\"xaxis3\":{\"anchor\":\"y3\",\"domain\":[0.6799999999999999,0.9999999999999999],\"matches\":\"x\",\"title\":{\"text\":\"Age Range\"},\"categoryorder\":\"array\",\"categoryarray\":[\"18-29\",\"30-39\",\"40-49\",\"50-59\",\"60+\"]},\"yaxis3\":{\"anchor\":\"x3\",\"domain\":[0.0,1.0],\"matches\":\"y\",\"showticklabels\":false},\"annotations\":[{\"font\":{},\"showarrow\":false,\"text\":\"Gender=Female\",\"x\":0.15999999999999998,\"xanchor\":\"center\",\"xref\":\"paper\",\"y\":1.0,\"yanchor\":\"bottom\",\"yref\":\"paper\"},{\"font\":{},\"showarrow\":false,\"text\":\"Gender=Male\",\"x\":0.49999999999999994,\"xanchor\":\"center\",\"xref\":\"paper\",\"y\":1.0,\"yanchor\":\"bottom\",\"yref\":\"paper\"},{\"font\":{},\"showarrow\":false,\"text\":\"Gender=Other\",\"x\":0.8399999999999999,\"xanchor\":\"center\",\"xref\":\"paper\",\"y\":1.0,\"yanchor\":\"bottom\",\"yref\":\"paper\"}],\"legend\":{\"title\":{\"text\":\"Product Category\"},\"tracegroupgap\":0},\"title\":{\"text\":\"Return Customers: Most Purchased Category by Gender and Age Range\"},\"barmode\":\"relative\"},                        {\"responsive\": true}                    ).then(function(){\n",
              "                            \n",
              "var gd = document.getElementById('62becae7-9e77-44f6-a850-ad21a3fe68fe');\n",
              "var x = new MutationObserver(function (mutations, observer) {{\n",
              "        var display = window.getComputedStyle(gd).display;\n",
              "        if (!display || display === 'none') {{\n",
              "            console.log([gd, 'removed!']);\n",
              "            Plotly.purge(gd);\n",
              "            observer.disconnect();\n",
              "        }}\n",
              "}});\n",
              "\n",
              "// Listen for the removal of the full notebook cells\n",
              "var notebookContainer = gd.closest('#notebook-container');\n",
              "if (notebookContainer) {{\n",
              "    x.observe(notebookContainer, {childList: true});\n",
              "}}\n",
              "\n",
              "// Listen for the clearing of the current output cell\n",
              "var outputEl = gd.closest('.output');\n",
              "if (outputEl) {{\n",
              "    x.observe(outputEl, {childList: true});\n",
              "}}\n",
              "\n",
              "                        })                };                            </script>        </div>\n",
              "</body>\n",
              "</html>"
            ]
          },
          "metadata": {}
        }
      ]
    },
    {
      "cell_type": "markdown",
      "source": [
        "**We can see that most female**"
      ],
      "metadata": {
        "id": "9HY8DOziM0cy"
      }
    },
    {
      "cell_type": "code",
      "source": [
        "\n",
        "return_customer_payment_counts = df[df['Return Customer'] == True]['Payment Method'].value_counts()\n",
        "\n",
        "fig = px.bar(\n",
        "    return_customer_payment_counts,\n",
        "    x=return_customer_payment_counts.index,\n",
        "    y=return_customer_payment_counts.values,\n",
        "    title=\"Popular Payment Method Choices of Return Customers\",\n",
        "    labels={\"x\": \"Payment Method\", \"y\": \"Number of Return Customers\"},\n",
        "    color=return_customer_payment_counts.index,\n",
        ")\n",
        "\n",
        "fig.update_layout(xaxis_title=\"Payment Method\", yaxis_title=\"Number of Return Customers\")\n",
        "\n",
        "fig.show()"
      ],
      "metadata": {
        "colab": {
          "base_uri": "https://localhost:8080/",
          "height": 542
        },
        "id": "Lw2IsdmvNaKJ",
        "outputId": "4c7a7210-8fb9-4de7-c17a-b8e685dbbb98"
      },
      "execution_count": null,
      "outputs": [
        {
          "output_type": "display_data",
          "data": {
            "text/html": [
              "<html>\n",
              "<head><meta charset=\"utf-8\" /></head>\n",
              "<body>\n",
              "    <div>            <script src=\"https://cdnjs.cloudflare.com/ajax/libs/mathjax/2.7.5/MathJax.js?config=TeX-AMS-MML_SVG\"></script><script type=\"text/javascript\">if (window.MathJax && window.MathJax.Hub && window.MathJax.Hub.Config) {window.MathJax.Hub.Config({SVG: {font: \"STIX-Web\"}});}</script>                <script type=\"text/javascript\">window.PlotlyConfig = {MathJaxConfig: 'local'};</script>\n",
              "        <script charset=\"utf-8\" src=\"https://cdn.plot.ly/plotly-2.35.2.min.js\"></script>                <div id=\"e4b1bc3b-be7e-479b-8aa3-0b9251601315\" class=\"plotly-graph-div\" style=\"height:525px; width:100%;\"></div>            <script type=\"text/javascript\">                                    window.PLOTLYENV=window.PLOTLYENV || {};                                    if (document.getElementById(\"e4b1bc3b-be7e-479b-8aa3-0b9251601315\")) {                    Plotly.newPlot(                        \"e4b1bc3b-be7e-479b-8aa3-0b9251601315\",                        [{\"alignmentgroup\":\"True\",\"hovertemplate\":\"Payment Method=%{x}\\u003cbr\\u003eNumber of Return Customers=%{y}\\u003cextra\\u003e\\u003c\\u002fextra\\u003e\",\"legendgroup\":\"Bank Transfer\",\"marker\":{\"color\":\"#636efa\",\"pattern\":{\"shape\":\"\"}},\"name\":\"Bank Transfer\",\"offsetgroup\":\"Bank Transfer\",\"orientation\":\"v\",\"showlegend\":true,\"textposition\":\"auto\",\"x\":[\"Bank Transfer\"],\"xaxis\":\"x\",\"y\":[1046],\"yaxis\":\"y\",\"type\":\"bar\"},{\"alignmentgroup\":\"True\",\"hovertemplate\":\"Payment Method=%{x}\\u003cbr\\u003eNumber of Return Customers=%{y}\\u003cextra\\u003e\\u003c\\u002fextra\\u003e\",\"legendgroup\":\"Credit Card\",\"marker\":{\"color\":\"#EF553B\",\"pattern\":{\"shape\":\"\"}},\"name\":\"Credit Card\",\"offsetgroup\":\"Credit Card\",\"orientation\":\"v\",\"showlegend\":true,\"textposition\":\"auto\",\"x\":[\"Credit Card\"],\"xaxis\":\"x\",\"y\":[1039],\"yaxis\":\"y\",\"type\":\"bar\"},{\"alignmentgroup\":\"True\",\"hovertemplate\":\"Payment Method=%{x}\\u003cbr\\u003eNumber of Return Customers=%{y}\\u003cextra\\u003e\\u003c\\u002fextra\\u003e\",\"legendgroup\":\"Cash on Delivery\",\"marker\":{\"color\":\"#00cc96\",\"pattern\":{\"shape\":\"\"}},\"name\":\"Cash on Delivery\",\"offsetgroup\":\"Cash on Delivery\",\"orientation\":\"v\",\"showlegend\":true,\"textposition\":\"auto\",\"x\":[\"Cash on Delivery\"],\"xaxis\":\"x\",\"y\":[982],\"yaxis\":\"y\",\"type\":\"bar\"},{\"alignmentgroup\":\"True\",\"hovertemplate\":\"Payment Method=%{x}\\u003cbr\\u003eNumber of Return Customers=%{y}\\u003cextra\\u003e\\u003c\\u002fextra\\u003e\",\"legendgroup\":\"Debit Card\",\"marker\":{\"color\":\"#ab63fa\",\"pattern\":{\"shape\":\"\"}},\"name\":\"Debit Card\",\"offsetgroup\":\"Debit Card\",\"orientation\":\"v\",\"showlegend\":true,\"textposition\":\"auto\",\"x\":[\"Debit Card\"],\"xaxis\":\"x\",\"y\":[974],\"yaxis\":\"y\",\"type\":\"bar\"},{\"alignmentgroup\":\"True\",\"hovertemplate\":\"Payment Method=%{x}\\u003cbr\\u003eNumber of Return Customers=%{y}\\u003cextra\\u003e\\u003c\\u002fextra\\u003e\",\"legendgroup\":\"PayPal\",\"marker\":{\"color\":\"#FFA15A\",\"pattern\":{\"shape\":\"\"}},\"name\":\"PayPal\",\"offsetgroup\":\"PayPal\",\"orientation\":\"v\",\"showlegend\":true,\"textposition\":\"auto\",\"x\":[\"PayPal\"],\"xaxis\":\"x\",\"y\":[955],\"yaxis\":\"y\",\"type\":\"bar\"}],                        {\"template\":{\"data\":{\"histogram2dcontour\":[{\"type\":\"histogram2dcontour\",\"colorbar\":{\"outlinewidth\":0,\"ticks\":\"\"},\"colorscale\":[[0.0,\"#0d0887\"],[0.1111111111111111,\"#46039f\"],[0.2222222222222222,\"#7201a8\"],[0.3333333333333333,\"#9c179e\"],[0.4444444444444444,\"#bd3786\"],[0.5555555555555556,\"#d8576b\"],[0.6666666666666666,\"#ed7953\"],[0.7777777777777778,\"#fb9f3a\"],[0.8888888888888888,\"#fdca26\"],[1.0,\"#f0f921\"]]}],\"choropleth\":[{\"type\":\"choropleth\",\"colorbar\":{\"outlinewidth\":0,\"ticks\":\"\"}}],\"histogram2d\":[{\"type\":\"histogram2d\",\"colorbar\":{\"outlinewidth\":0,\"ticks\":\"\"},\"colorscale\":[[0.0,\"#0d0887\"],[0.1111111111111111,\"#46039f\"],[0.2222222222222222,\"#7201a8\"],[0.3333333333333333,\"#9c179e\"],[0.4444444444444444,\"#bd3786\"],[0.5555555555555556,\"#d8576b\"],[0.6666666666666666,\"#ed7953\"],[0.7777777777777778,\"#fb9f3a\"],[0.8888888888888888,\"#fdca26\"],[1.0,\"#f0f921\"]]}],\"heatmap\":[{\"type\":\"heatmap\",\"colorbar\":{\"outlinewidth\":0,\"ticks\":\"\"},\"colorscale\":[[0.0,\"#0d0887\"],[0.1111111111111111,\"#46039f\"],[0.2222222222222222,\"#7201a8\"],[0.3333333333333333,\"#9c179e\"],[0.4444444444444444,\"#bd3786\"],[0.5555555555555556,\"#d8576b\"],[0.6666666666666666,\"#ed7953\"],[0.7777777777777778,\"#fb9f3a\"],[0.8888888888888888,\"#fdca26\"],[1.0,\"#f0f921\"]]}],\"heatmapgl\":[{\"type\":\"heatmapgl\",\"colorbar\":{\"outlinewidth\":0,\"ticks\":\"\"},\"colorscale\":[[0.0,\"#0d0887\"],[0.1111111111111111,\"#46039f\"],[0.2222222222222222,\"#7201a8\"],[0.3333333333333333,\"#9c179e\"],[0.4444444444444444,\"#bd3786\"],[0.5555555555555556,\"#d8576b\"],[0.6666666666666666,\"#ed7953\"],[0.7777777777777778,\"#fb9f3a\"],[0.8888888888888888,\"#fdca26\"],[1.0,\"#f0f921\"]]}],\"contourcarpet\":[{\"type\":\"contourcarpet\",\"colorbar\":{\"outlinewidth\":0,\"ticks\":\"\"}}],\"contour\":[{\"type\":\"contour\",\"colorbar\":{\"outlinewidth\":0,\"ticks\":\"\"},\"colorscale\":[[0.0,\"#0d0887\"],[0.1111111111111111,\"#46039f\"],[0.2222222222222222,\"#7201a8\"],[0.3333333333333333,\"#9c179e\"],[0.4444444444444444,\"#bd3786\"],[0.5555555555555556,\"#d8576b\"],[0.6666666666666666,\"#ed7953\"],[0.7777777777777778,\"#fb9f3a\"],[0.8888888888888888,\"#fdca26\"],[1.0,\"#f0f921\"]]}],\"surface\":[{\"type\":\"surface\",\"colorbar\":{\"outlinewidth\":0,\"ticks\":\"\"},\"colorscale\":[[0.0,\"#0d0887\"],[0.1111111111111111,\"#46039f\"],[0.2222222222222222,\"#7201a8\"],[0.3333333333333333,\"#9c179e\"],[0.4444444444444444,\"#bd3786\"],[0.5555555555555556,\"#d8576b\"],[0.6666666666666666,\"#ed7953\"],[0.7777777777777778,\"#fb9f3a\"],[0.8888888888888888,\"#fdca26\"],[1.0,\"#f0f921\"]]}],\"mesh3d\":[{\"type\":\"mesh3d\",\"colorbar\":{\"outlinewidth\":0,\"ticks\":\"\"}}],\"scatter\":[{\"fillpattern\":{\"fillmode\":\"overlay\",\"size\":10,\"solidity\":0.2},\"type\":\"scatter\"}],\"parcoords\":[{\"type\":\"parcoords\",\"line\":{\"colorbar\":{\"outlinewidth\":0,\"ticks\":\"\"}}}],\"scatterpolargl\":[{\"type\":\"scatterpolargl\",\"marker\":{\"colorbar\":{\"outlinewidth\":0,\"ticks\":\"\"}}}],\"bar\":[{\"error_x\":{\"color\":\"#2a3f5f\"},\"error_y\":{\"color\":\"#2a3f5f\"},\"marker\":{\"line\":{\"color\":\"#E5ECF6\",\"width\":0.5},\"pattern\":{\"fillmode\":\"overlay\",\"size\":10,\"solidity\":0.2}},\"type\":\"bar\"}],\"scattergeo\":[{\"type\":\"scattergeo\",\"marker\":{\"colorbar\":{\"outlinewidth\":0,\"ticks\":\"\"}}}],\"scatterpolar\":[{\"type\":\"scatterpolar\",\"marker\":{\"colorbar\":{\"outlinewidth\":0,\"ticks\":\"\"}}}],\"histogram\":[{\"marker\":{\"pattern\":{\"fillmode\":\"overlay\",\"size\":10,\"solidity\":0.2}},\"type\":\"histogram\"}],\"scattergl\":[{\"type\":\"scattergl\",\"marker\":{\"colorbar\":{\"outlinewidth\":0,\"ticks\":\"\"}}}],\"scatter3d\":[{\"type\":\"scatter3d\",\"line\":{\"colorbar\":{\"outlinewidth\":0,\"ticks\":\"\"}},\"marker\":{\"colorbar\":{\"outlinewidth\":0,\"ticks\":\"\"}}}],\"scattermapbox\":[{\"type\":\"scattermapbox\",\"marker\":{\"colorbar\":{\"outlinewidth\":0,\"ticks\":\"\"}}}],\"scatterternary\":[{\"type\":\"scatterternary\",\"marker\":{\"colorbar\":{\"outlinewidth\":0,\"ticks\":\"\"}}}],\"scattercarpet\":[{\"type\":\"scattercarpet\",\"marker\":{\"colorbar\":{\"outlinewidth\":0,\"ticks\":\"\"}}}],\"carpet\":[{\"aaxis\":{\"endlinecolor\":\"#2a3f5f\",\"gridcolor\":\"white\",\"linecolor\":\"white\",\"minorgridcolor\":\"white\",\"startlinecolor\":\"#2a3f5f\"},\"baxis\":{\"endlinecolor\":\"#2a3f5f\",\"gridcolor\":\"white\",\"linecolor\":\"white\",\"minorgridcolor\":\"white\",\"startlinecolor\":\"#2a3f5f\"},\"type\":\"carpet\"}],\"table\":[{\"cells\":{\"fill\":{\"color\":\"#EBF0F8\"},\"line\":{\"color\":\"white\"}},\"header\":{\"fill\":{\"color\":\"#C8D4E3\"},\"line\":{\"color\":\"white\"}},\"type\":\"table\"}],\"barpolar\":[{\"marker\":{\"line\":{\"color\":\"#E5ECF6\",\"width\":0.5},\"pattern\":{\"fillmode\":\"overlay\",\"size\":10,\"solidity\":0.2}},\"type\":\"barpolar\"}],\"pie\":[{\"automargin\":true,\"type\":\"pie\"}]},\"layout\":{\"autotypenumbers\":\"strict\",\"colorway\":[\"#636efa\",\"#EF553B\",\"#00cc96\",\"#ab63fa\",\"#FFA15A\",\"#19d3f3\",\"#FF6692\",\"#B6E880\",\"#FF97FF\",\"#FECB52\"],\"font\":{\"color\":\"#2a3f5f\"},\"hovermode\":\"closest\",\"hoverlabel\":{\"align\":\"left\"},\"paper_bgcolor\":\"white\",\"plot_bgcolor\":\"#E5ECF6\",\"polar\":{\"bgcolor\":\"#E5ECF6\",\"angularaxis\":{\"gridcolor\":\"white\",\"linecolor\":\"white\",\"ticks\":\"\"},\"radialaxis\":{\"gridcolor\":\"white\",\"linecolor\":\"white\",\"ticks\":\"\"}},\"ternary\":{\"bgcolor\":\"#E5ECF6\",\"aaxis\":{\"gridcolor\":\"white\",\"linecolor\":\"white\",\"ticks\":\"\"},\"baxis\":{\"gridcolor\":\"white\",\"linecolor\":\"white\",\"ticks\":\"\"},\"caxis\":{\"gridcolor\":\"white\",\"linecolor\":\"white\",\"ticks\":\"\"}},\"coloraxis\":{\"colorbar\":{\"outlinewidth\":0,\"ticks\":\"\"}},\"colorscale\":{\"sequential\":[[0.0,\"#0d0887\"],[0.1111111111111111,\"#46039f\"],[0.2222222222222222,\"#7201a8\"],[0.3333333333333333,\"#9c179e\"],[0.4444444444444444,\"#bd3786\"],[0.5555555555555556,\"#d8576b\"],[0.6666666666666666,\"#ed7953\"],[0.7777777777777778,\"#fb9f3a\"],[0.8888888888888888,\"#fdca26\"],[1.0,\"#f0f921\"]],\"sequentialminus\":[[0.0,\"#0d0887\"],[0.1111111111111111,\"#46039f\"],[0.2222222222222222,\"#7201a8\"],[0.3333333333333333,\"#9c179e\"],[0.4444444444444444,\"#bd3786\"],[0.5555555555555556,\"#d8576b\"],[0.6666666666666666,\"#ed7953\"],[0.7777777777777778,\"#fb9f3a\"],[0.8888888888888888,\"#fdca26\"],[1.0,\"#f0f921\"]],\"diverging\":[[0,\"#8e0152\"],[0.1,\"#c51b7d\"],[0.2,\"#de77ae\"],[0.3,\"#f1b6da\"],[0.4,\"#fde0ef\"],[0.5,\"#f7f7f7\"],[0.6,\"#e6f5d0\"],[0.7,\"#b8e186\"],[0.8,\"#7fbc41\"],[0.9,\"#4d9221\"],[1,\"#276419\"]]},\"xaxis\":{\"gridcolor\":\"white\",\"linecolor\":\"white\",\"ticks\":\"\",\"title\":{\"standoff\":15},\"zerolinecolor\":\"white\",\"automargin\":true,\"zerolinewidth\":2},\"yaxis\":{\"gridcolor\":\"white\",\"linecolor\":\"white\",\"ticks\":\"\",\"title\":{\"standoff\":15},\"zerolinecolor\":\"white\",\"automargin\":true,\"zerolinewidth\":2},\"scene\":{\"xaxis\":{\"backgroundcolor\":\"#E5ECF6\",\"gridcolor\":\"white\",\"linecolor\":\"white\",\"showbackground\":true,\"ticks\":\"\",\"zerolinecolor\":\"white\",\"gridwidth\":2},\"yaxis\":{\"backgroundcolor\":\"#E5ECF6\",\"gridcolor\":\"white\",\"linecolor\":\"white\",\"showbackground\":true,\"ticks\":\"\",\"zerolinecolor\":\"white\",\"gridwidth\":2},\"zaxis\":{\"backgroundcolor\":\"#E5ECF6\",\"gridcolor\":\"white\",\"linecolor\":\"white\",\"showbackground\":true,\"ticks\":\"\",\"zerolinecolor\":\"white\",\"gridwidth\":2}},\"shapedefaults\":{\"line\":{\"color\":\"#2a3f5f\"}},\"annotationdefaults\":{\"arrowcolor\":\"#2a3f5f\",\"arrowhead\":0,\"arrowwidth\":1},\"geo\":{\"bgcolor\":\"white\",\"landcolor\":\"#E5ECF6\",\"subunitcolor\":\"white\",\"showland\":true,\"showlakes\":true,\"lakecolor\":\"white\"},\"title\":{\"x\":0.05},\"mapbox\":{\"style\":\"light\"}}},\"xaxis\":{\"anchor\":\"y\",\"domain\":[0.0,1.0],\"title\":{\"text\":\"Payment Method\"},\"categoryorder\":\"array\",\"categoryarray\":[\"Bank Transfer\",\"Credit Card\",\"Cash on Delivery\",\"Debit Card\",\"PayPal\"]},\"yaxis\":{\"anchor\":\"x\",\"domain\":[0.0,1.0],\"title\":{\"text\":\"Number of Return Customers\"}},\"legend\":{\"title\":{\"text\":\"Payment Method\"},\"tracegroupgap\":0},\"title\":{\"text\":\"Popular Payment Method Choices of Return Customers\"},\"barmode\":\"relative\"},                        {\"responsive\": true}                    ).then(function(){\n",
              "                            \n",
              "var gd = document.getElementById('e4b1bc3b-be7e-479b-8aa3-0b9251601315');\n",
              "var x = new MutationObserver(function (mutations, observer) {{\n",
              "        var display = window.getComputedStyle(gd).display;\n",
              "        if (!display || display === 'none') {{\n",
              "            console.log([gd, 'removed!']);\n",
              "            Plotly.purge(gd);\n",
              "            observer.disconnect();\n",
              "        }}\n",
              "}});\n",
              "\n",
              "// Listen for the removal of the full notebook cells\n",
              "var notebookContainer = gd.closest('#notebook-container');\n",
              "if (notebookContainer) {{\n",
              "    x.observe(notebookContainer, {childList: true});\n",
              "}}\n",
              "\n",
              "// Listen for the clearing of the current output cell\n",
              "var outputEl = gd.closest('.output');\n",
              "if (outputEl) {{\n",
              "    x.observe(outputEl, {childList: true});\n",
              "}}\n",
              "\n",
              "                        })                };                            </script>        </div>\n",
              "</body>\n",
              "</html>"
            ]
          },
          "metadata": {}
        }
      ]
    },
    {
      "cell_type": "code",
      "source": [
        "return_customers_by_payment_method = return_customers_df['Payment Method'].value_counts()\n",
        "\n",
        "print(\"Return Customers by Payment Method:\")\n",
        "print(return_customers_by_payment_method)"
      ],
      "metadata": {
        "colab": {
          "base_uri": "https://localhost:8080/"
        },
        "id": "LKfUc0sKOZoF",
        "outputId": "861c9e95-5632-4335-8be5-3abba4db1d75"
      },
      "execution_count": null,
      "outputs": [
        {
          "output_type": "stream",
          "name": "stdout",
          "text": [
            "Return Customers by Payment Method:\n",
            "Payment Method\n",
            "Bank Transfer       1046\n",
            "Credit Card         1039\n",
            "Cash on Delivery     982\n",
            "Debit Card           974\n",
            "PayPal               955\n",
            "Name: count, dtype: int64\n"
          ]
        }
      ]
    },
    {
      "cell_type": "code",
      "source": [
        "return_customers_by_location = return_customers_df['Location'].value_counts()\n",
        "return_customers_by_location = return_customers_by_location.sort_values(ascending=False)\n",
        "print(\"Return Customers by Location:\")\n",
        "print(return_customers_by_location)"
      ],
      "metadata": {
        "colab": {
          "base_uri": "https://localhost:8080/"
        },
        "id": "LLZNsblFPFE7",
        "outputId": "8d1bd9b2-3a8f-4832-ef9b-74c6d7a3952c"
      },
      "execution_count": null,
      "outputs": [
        {
          "output_type": "stream",
          "name": "stdout",
          "text": [
            "Return Customers by Location:\n",
            "Location\n",
            "Rangpur       644\n",
            "Khulna        640\n",
            "Rajshahi      637\n",
            "Mymensingh    636\n",
            "Chittagong    631\n",
            "Barisal       610\n",
            "Dhaka         603\n",
            "Sylhet        595\n",
            "Name: count, dtype: int64\n"
          ]
        }
      ]
    },
    {
      "cell_type": "code",
      "source": [
        "\n",
        "purchase_return_location_comparison = pd.crosstab(df['Location'], df['Return Customer'])\n",
        "\n",
        "purchase_return_location_comparison = purchase_return_location_comparison.rename(columns={False: 'Not Return Customer', True: 'Return Customer'})\n",
        "\n",
        "fig = px.bar(\n",
        "    purchase_return_location_comparison,\n",
        "    barmode='group',\n",
        "    title='Comparison of Non-return Location and Return Customer Location',\n",
        "    labels={'value': 'Number of Customers'},\n",
        ")\n",
        "\n",
        "fig.show()"
      ],
      "metadata": {
        "colab": {
          "base_uri": "https://localhost:8080/",
          "height": 542
        },
        "id": "znvhfEHDN45Y",
        "outputId": "276aa79f-9b88-47b5-d74c-6890b6362d7e"
      },
      "execution_count": null,
      "outputs": [
        {
          "output_type": "display_data",
          "data": {
            "text/html": [
              "<html>\n",
              "<head><meta charset=\"utf-8\" /></head>\n",
              "<body>\n",
              "    <div>            <script src=\"https://cdnjs.cloudflare.com/ajax/libs/mathjax/2.7.5/MathJax.js?config=TeX-AMS-MML_SVG\"></script><script type=\"text/javascript\">if (window.MathJax && window.MathJax.Hub && window.MathJax.Hub.Config) {window.MathJax.Hub.Config({SVG: {font: \"STIX-Web\"}});}</script>                <script type=\"text/javascript\">window.PlotlyConfig = {MathJaxConfig: 'local'};</script>\n",
              "        <script charset=\"utf-8\" src=\"https://cdn.plot.ly/plotly-2.35.2.min.js\"></script>                <div id=\"9d39473f-22e3-437c-84ee-430440d31962\" class=\"plotly-graph-div\" style=\"height:525px; width:100%;\"></div>            <script type=\"text/javascript\">                                    window.PLOTLYENV=window.PLOTLYENV || {};                                    if (document.getElementById(\"9d39473f-22e3-437c-84ee-430440d31962\")) {                    Plotly.newPlot(                        \"9d39473f-22e3-437c-84ee-430440d31962\",                        [{\"alignmentgroup\":\"True\",\"hovertemplate\":\"variable=Not Return Customer\\u003cbr\\u003eLocation=%{x}\\u003cbr\\u003eNumber of Customers=%{y}\\u003cextra\\u003e\\u003c\\u002fextra\\u003e\",\"legendgroup\":\"Not Return Customer\",\"marker\":{\"color\":\"#636efa\",\"pattern\":{\"shape\":\"\"}},\"name\":\"Not Return Customer\",\"offsetgroup\":\"Not Return Customer\",\"orientation\":\"v\",\"showlegend\":true,\"textposition\":\"auto\",\"x\":[\"Barisal\",\"Chittagong\",\"Dhaka\",\"Khulna\",\"Mymensingh\",\"Rajshahi\",\"Rangpur\",\"Sylhet\"],\"xaxis\":\"x\",\"y\":[640,641,603,651,644,574,609,642],\"yaxis\":\"y\",\"type\":\"bar\"},{\"alignmentgroup\":\"True\",\"hovertemplate\":\"variable=Return Customer\\u003cbr\\u003eLocation=%{x}\\u003cbr\\u003eNumber of Customers=%{y}\\u003cextra\\u003e\\u003c\\u002fextra\\u003e\",\"legendgroup\":\"Return Customer\",\"marker\":{\"color\":\"#EF553B\",\"pattern\":{\"shape\":\"\"}},\"name\":\"Return Customer\",\"offsetgroup\":\"Return Customer\",\"orientation\":\"v\",\"showlegend\":true,\"textposition\":\"auto\",\"x\":[\"Barisal\",\"Chittagong\",\"Dhaka\",\"Khulna\",\"Mymensingh\",\"Rajshahi\",\"Rangpur\",\"Sylhet\"],\"xaxis\":\"x\",\"y\":[610,631,603,640,636,637,644,595],\"yaxis\":\"y\",\"type\":\"bar\"}],                        {\"template\":{\"data\":{\"histogram2dcontour\":[{\"type\":\"histogram2dcontour\",\"colorbar\":{\"outlinewidth\":0,\"ticks\":\"\"},\"colorscale\":[[0.0,\"#0d0887\"],[0.1111111111111111,\"#46039f\"],[0.2222222222222222,\"#7201a8\"],[0.3333333333333333,\"#9c179e\"],[0.4444444444444444,\"#bd3786\"],[0.5555555555555556,\"#d8576b\"],[0.6666666666666666,\"#ed7953\"],[0.7777777777777778,\"#fb9f3a\"],[0.8888888888888888,\"#fdca26\"],[1.0,\"#f0f921\"]]}],\"choropleth\":[{\"type\":\"choropleth\",\"colorbar\":{\"outlinewidth\":0,\"ticks\":\"\"}}],\"histogram2d\":[{\"type\":\"histogram2d\",\"colorbar\":{\"outlinewidth\":0,\"ticks\":\"\"},\"colorscale\":[[0.0,\"#0d0887\"],[0.1111111111111111,\"#46039f\"],[0.2222222222222222,\"#7201a8\"],[0.3333333333333333,\"#9c179e\"],[0.4444444444444444,\"#bd3786\"],[0.5555555555555556,\"#d8576b\"],[0.6666666666666666,\"#ed7953\"],[0.7777777777777778,\"#fb9f3a\"],[0.8888888888888888,\"#fdca26\"],[1.0,\"#f0f921\"]]}],\"heatmap\":[{\"type\":\"heatmap\",\"colorbar\":{\"outlinewidth\":0,\"ticks\":\"\"},\"colorscale\":[[0.0,\"#0d0887\"],[0.1111111111111111,\"#46039f\"],[0.2222222222222222,\"#7201a8\"],[0.3333333333333333,\"#9c179e\"],[0.4444444444444444,\"#bd3786\"],[0.5555555555555556,\"#d8576b\"],[0.6666666666666666,\"#ed7953\"],[0.7777777777777778,\"#fb9f3a\"],[0.8888888888888888,\"#fdca26\"],[1.0,\"#f0f921\"]]}],\"heatmapgl\":[{\"type\":\"heatmapgl\",\"colorbar\":{\"outlinewidth\":0,\"ticks\":\"\"},\"colorscale\":[[0.0,\"#0d0887\"],[0.1111111111111111,\"#46039f\"],[0.2222222222222222,\"#7201a8\"],[0.3333333333333333,\"#9c179e\"],[0.4444444444444444,\"#bd3786\"],[0.5555555555555556,\"#d8576b\"],[0.6666666666666666,\"#ed7953\"],[0.7777777777777778,\"#fb9f3a\"],[0.8888888888888888,\"#fdca26\"],[1.0,\"#f0f921\"]]}],\"contourcarpet\":[{\"type\":\"contourcarpet\",\"colorbar\":{\"outlinewidth\":0,\"ticks\":\"\"}}],\"contour\":[{\"type\":\"contour\",\"colorbar\":{\"outlinewidth\":0,\"ticks\":\"\"},\"colorscale\":[[0.0,\"#0d0887\"],[0.1111111111111111,\"#46039f\"],[0.2222222222222222,\"#7201a8\"],[0.3333333333333333,\"#9c179e\"],[0.4444444444444444,\"#bd3786\"],[0.5555555555555556,\"#d8576b\"],[0.6666666666666666,\"#ed7953\"],[0.7777777777777778,\"#fb9f3a\"],[0.8888888888888888,\"#fdca26\"],[1.0,\"#f0f921\"]]}],\"surface\":[{\"type\":\"surface\",\"colorbar\":{\"outlinewidth\":0,\"ticks\":\"\"},\"colorscale\":[[0.0,\"#0d0887\"],[0.1111111111111111,\"#46039f\"],[0.2222222222222222,\"#7201a8\"],[0.3333333333333333,\"#9c179e\"],[0.4444444444444444,\"#bd3786\"],[0.5555555555555556,\"#d8576b\"],[0.6666666666666666,\"#ed7953\"],[0.7777777777777778,\"#fb9f3a\"],[0.8888888888888888,\"#fdca26\"],[1.0,\"#f0f921\"]]}],\"mesh3d\":[{\"type\":\"mesh3d\",\"colorbar\":{\"outlinewidth\":0,\"ticks\":\"\"}}],\"scatter\":[{\"fillpattern\":{\"fillmode\":\"overlay\",\"size\":10,\"solidity\":0.2},\"type\":\"scatter\"}],\"parcoords\":[{\"type\":\"parcoords\",\"line\":{\"colorbar\":{\"outlinewidth\":0,\"ticks\":\"\"}}}],\"scatterpolargl\":[{\"type\":\"scatterpolargl\",\"marker\":{\"colorbar\":{\"outlinewidth\":0,\"ticks\":\"\"}}}],\"bar\":[{\"error_x\":{\"color\":\"#2a3f5f\"},\"error_y\":{\"color\":\"#2a3f5f\"},\"marker\":{\"line\":{\"color\":\"#E5ECF6\",\"width\":0.5},\"pattern\":{\"fillmode\":\"overlay\",\"size\":10,\"solidity\":0.2}},\"type\":\"bar\"}],\"scattergeo\":[{\"type\":\"scattergeo\",\"marker\":{\"colorbar\":{\"outlinewidth\":0,\"ticks\":\"\"}}}],\"scatterpolar\":[{\"type\":\"scatterpolar\",\"marker\":{\"colorbar\":{\"outlinewidth\":0,\"ticks\":\"\"}}}],\"histogram\":[{\"marker\":{\"pattern\":{\"fillmode\":\"overlay\",\"size\":10,\"solidity\":0.2}},\"type\":\"histogram\"}],\"scattergl\":[{\"type\":\"scattergl\",\"marker\":{\"colorbar\":{\"outlinewidth\":0,\"ticks\":\"\"}}}],\"scatter3d\":[{\"type\":\"scatter3d\",\"line\":{\"colorbar\":{\"outlinewidth\":0,\"ticks\":\"\"}},\"marker\":{\"colorbar\":{\"outlinewidth\":0,\"ticks\":\"\"}}}],\"scattermapbox\":[{\"type\":\"scattermapbox\",\"marker\":{\"colorbar\":{\"outlinewidth\":0,\"ticks\":\"\"}}}],\"scatterternary\":[{\"type\":\"scatterternary\",\"marker\":{\"colorbar\":{\"outlinewidth\":0,\"ticks\":\"\"}}}],\"scattercarpet\":[{\"type\":\"scattercarpet\",\"marker\":{\"colorbar\":{\"outlinewidth\":0,\"ticks\":\"\"}}}],\"carpet\":[{\"aaxis\":{\"endlinecolor\":\"#2a3f5f\",\"gridcolor\":\"white\",\"linecolor\":\"white\",\"minorgridcolor\":\"white\",\"startlinecolor\":\"#2a3f5f\"},\"baxis\":{\"endlinecolor\":\"#2a3f5f\",\"gridcolor\":\"white\",\"linecolor\":\"white\",\"minorgridcolor\":\"white\",\"startlinecolor\":\"#2a3f5f\"},\"type\":\"carpet\"}],\"table\":[{\"cells\":{\"fill\":{\"color\":\"#EBF0F8\"},\"line\":{\"color\":\"white\"}},\"header\":{\"fill\":{\"color\":\"#C8D4E3\"},\"line\":{\"color\":\"white\"}},\"type\":\"table\"}],\"barpolar\":[{\"marker\":{\"line\":{\"color\":\"#E5ECF6\",\"width\":0.5},\"pattern\":{\"fillmode\":\"overlay\",\"size\":10,\"solidity\":0.2}},\"type\":\"barpolar\"}],\"pie\":[{\"automargin\":true,\"type\":\"pie\"}]},\"layout\":{\"autotypenumbers\":\"strict\",\"colorway\":[\"#636efa\",\"#EF553B\",\"#00cc96\",\"#ab63fa\",\"#FFA15A\",\"#19d3f3\",\"#FF6692\",\"#B6E880\",\"#FF97FF\",\"#FECB52\"],\"font\":{\"color\":\"#2a3f5f\"},\"hovermode\":\"closest\",\"hoverlabel\":{\"align\":\"left\"},\"paper_bgcolor\":\"white\",\"plot_bgcolor\":\"#E5ECF6\",\"polar\":{\"bgcolor\":\"#E5ECF6\",\"angularaxis\":{\"gridcolor\":\"white\",\"linecolor\":\"white\",\"ticks\":\"\"},\"radialaxis\":{\"gridcolor\":\"white\",\"linecolor\":\"white\",\"ticks\":\"\"}},\"ternary\":{\"bgcolor\":\"#E5ECF6\",\"aaxis\":{\"gridcolor\":\"white\",\"linecolor\":\"white\",\"ticks\":\"\"},\"baxis\":{\"gridcolor\":\"white\",\"linecolor\":\"white\",\"ticks\":\"\"},\"caxis\":{\"gridcolor\":\"white\",\"linecolor\":\"white\",\"ticks\":\"\"}},\"coloraxis\":{\"colorbar\":{\"outlinewidth\":0,\"ticks\":\"\"}},\"colorscale\":{\"sequential\":[[0.0,\"#0d0887\"],[0.1111111111111111,\"#46039f\"],[0.2222222222222222,\"#7201a8\"],[0.3333333333333333,\"#9c179e\"],[0.4444444444444444,\"#bd3786\"],[0.5555555555555556,\"#d8576b\"],[0.6666666666666666,\"#ed7953\"],[0.7777777777777778,\"#fb9f3a\"],[0.8888888888888888,\"#fdca26\"],[1.0,\"#f0f921\"]],\"sequentialminus\":[[0.0,\"#0d0887\"],[0.1111111111111111,\"#46039f\"],[0.2222222222222222,\"#7201a8\"],[0.3333333333333333,\"#9c179e\"],[0.4444444444444444,\"#bd3786\"],[0.5555555555555556,\"#d8576b\"],[0.6666666666666666,\"#ed7953\"],[0.7777777777777778,\"#fb9f3a\"],[0.8888888888888888,\"#fdca26\"],[1.0,\"#f0f921\"]],\"diverging\":[[0,\"#8e0152\"],[0.1,\"#c51b7d\"],[0.2,\"#de77ae\"],[0.3,\"#f1b6da\"],[0.4,\"#fde0ef\"],[0.5,\"#f7f7f7\"],[0.6,\"#e6f5d0\"],[0.7,\"#b8e186\"],[0.8,\"#7fbc41\"],[0.9,\"#4d9221\"],[1,\"#276419\"]]},\"xaxis\":{\"gridcolor\":\"white\",\"linecolor\":\"white\",\"ticks\":\"\",\"title\":{\"standoff\":15},\"zerolinecolor\":\"white\",\"automargin\":true,\"zerolinewidth\":2},\"yaxis\":{\"gridcolor\":\"white\",\"linecolor\":\"white\",\"ticks\":\"\",\"title\":{\"standoff\":15},\"zerolinecolor\":\"white\",\"automargin\":true,\"zerolinewidth\":2},\"scene\":{\"xaxis\":{\"backgroundcolor\":\"#E5ECF6\",\"gridcolor\":\"white\",\"linecolor\":\"white\",\"showbackground\":true,\"ticks\":\"\",\"zerolinecolor\":\"white\",\"gridwidth\":2},\"yaxis\":{\"backgroundcolor\":\"#E5ECF6\",\"gridcolor\":\"white\",\"linecolor\":\"white\",\"showbackground\":true,\"ticks\":\"\",\"zerolinecolor\":\"white\",\"gridwidth\":2},\"zaxis\":{\"backgroundcolor\":\"#E5ECF6\",\"gridcolor\":\"white\",\"linecolor\":\"white\",\"showbackground\":true,\"ticks\":\"\",\"zerolinecolor\":\"white\",\"gridwidth\":2}},\"shapedefaults\":{\"line\":{\"color\":\"#2a3f5f\"}},\"annotationdefaults\":{\"arrowcolor\":\"#2a3f5f\",\"arrowhead\":0,\"arrowwidth\":1},\"geo\":{\"bgcolor\":\"white\",\"landcolor\":\"#E5ECF6\",\"subunitcolor\":\"white\",\"showland\":true,\"showlakes\":true,\"lakecolor\":\"white\"},\"title\":{\"x\":0.05},\"mapbox\":{\"style\":\"light\"}}},\"xaxis\":{\"anchor\":\"y\",\"domain\":[0.0,1.0],\"title\":{\"text\":\"Location\"}},\"yaxis\":{\"anchor\":\"x\",\"domain\":[0.0,1.0],\"title\":{\"text\":\"Number of Customers\"}},\"legend\":{\"title\":{\"text\":\"variable\"},\"tracegroupgap\":0},\"title\":{\"text\":\"Comparison of Non-return Location and Return Customer Location\"},\"barmode\":\"group\"},                        {\"responsive\": true}                    ).then(function(){\n",
              "                            \n",
              "var gd = document.getElementById('9d39473f-22e3-437c-84ee-430440d31962');\n",
              "var x = new MutationObserver(function (mutations, observer) {{\n",
              "        var display = window.getComputedStyle(gd).display;\n",
              "        if (!display || display === 'none') {{\n",
              "            console.log([gd, 'removed!']);\n",
              "            Plotly.purge(gd);\n",
              "            observer.disconnect();\n",
              "        }}\n",
              "}});\n",
              "\n",
              "// Listen for the removal of the full notebook cells\n",
              "var notebookContainer = gd.closest('#notebook-container');\n",
              "if (notebookContainer) {{\n",
              "    x.observe(notebookContainer, {childList: true});\n",
              "}}\n",
              "\n",
              "// Listen for the clearing of the current output cell\n",
              "var outputEl = gd.closest('.output');\n",
              "if (outputEl) {{\n",
              "    x.observe(outputEl, {childList: true});\n",
              "}}\n",
              "\n",
              "                        })                };                            </script>        </div>\n",
              "</body>\n",
              "</html>"
            ]
          },
          "metadata": {}
        }
      ]
    },
    {
      "cell_type": "code",
      "source": [
        "\n",
        "return_customers = df[df['Return Customer'] == True]\n",
        "\n",
        "bins = [18, 25, 35, 45, 55, 65, float('inf')]\n",
        "labels = ['18-24', '25-34', '35-44', '45-54', '55-64', '65+']\n",
        "\n",
        "return_customers['Age Range'] = pd.cut(return_customers['Age'], bins=bins, labels=labels, right=False)\n",
        "age_range_counts = return_customers['Age Range'].value_counts().reset_index()\n",
        "age_range_counts.columns = ['Age Range', 'Count']\n",
        "\n",
        "print(\"Age Ranges of Return Customers:\")\n",
        "print(age_range_counts)\n",
        "\n",
        "\n",
        "fig = px.bar(age_range_counts, x='Age Range', y='Count', title='Age Distribution of Return Customers')\n",
        "fig.show()"
      ],
      "metadata": {
        "colab": {
          "base_uri": "https://localhost:8080/",
          "height": 820
        },
        "id": "k0TbYmxYPK8r",
        "outputId": "59a1f267-c77e-4a30-fd11-23791d3b32ae"
      },
      "execution_count": null,
      "outputs": [
        {
          "output_type": "stream",
          "name": "stderr",
          "text": [
            "<ipython-input-46-b63b97055e4d>:10: SettingWithCopyWarning:\n",
            "\n",
            "\n",
            "A value is trying to be set on a copy of a slice from a DataFrame.\n",
            "Try using .loc[row_indexer,col_indexer] = value instead\n",
            "\n",
            "See the caveats in the documentation: https://pandas.pydata.org/pandas-docs/stable/user_guide/indexing.html#returning-a-view-versus-a-copy\n",
            "\n"
          ]
        },
        {
          "output_type": "stream",
          "name": "stdout",
          "text": [
            "Age Ranges of Return Customers:\n",
            "  Age Range  Count\n",
            "0     55-64   1006\n",
            "1     35-44    962\n",
            "2     25-34    947\n",
            "3     45-54    945\n",
            "4     18-24    661\n",
            "5       65+    475\n"
          ]
        },
        {
          "output_type": "display_data",
          "data": {
            "text/html": [
              "<html>\n",
              "<head><meta charset=\"utf-8\" /></head>\n",
              "<body>\n",
              "    <div>            <script src=\"https://cdnjs.cloudflare.com/ajax/libs/mathjax/2.7.5/MathJax.js?config=TeX-AMS-MML_SVG\"></script><script type=\"text/javascript\">if (window.MathJax && window.MathJax.Hub && window.MathJax.Hub.Config) {window.MathJax.Hub.Config({SVG: {font: \"STIX-Web\"}});}</script>                <script type=\"text/javascript\">window.PlotlyConfig = {MathJaxConfig: 'local'};</script>\n",
              "        <script charset=\"utf-8\" src=\"https://cdn.plot.ly/plotly-2.35.2.min.js\"></script>                <div id=\"f8a85a27-d911-4813-ab2c-690098ebc11c\" class=\"plotly-graph-div\" style=\"height:525px; width:100%;\"></div>            <script type=\"text/javascript\">                                    window.PLOTLYENV=window.PLOTLYENV || {};                                    if (document.getElementById(\"f8a85a27-d911-4813-ab2c-690098ebc11c\")) {                    Plotly.newPlot(                        \"f8a85a27-d911-4813-ab2c-690098ebc11c\",                        [{\"alignmentgroup\":\"True\",\"hovertemplate\":\"Age Range=%{x}\\u003cbr\\u003eCount=%{y}\\u003cextra\\u003e\\u003c\\u002fextra\\u003e\",\"legendgroup\":\"\",\"marker\":{\"color\":\"#636efa\",\"pattern\":{\"shape\":\"\"}},\"name\":\"\",\"offsetgroup\":\"\",\"orientation\":\"v\",\"showlegend\":false,\"textposition\":\"auto\",\"x\":[\"55-64\",\"35-44\",\"25-34\",\"45-54\",\"18-24\",\"65+\"],\"xaxis\":\"x\",\"y\":[1006,962,947,945,661,475],\"yaxis\":\"y\",\"type\":\"bar\"}],                        {\"template\":{\"data\":{\"histogram2dcontour\":[{\"type\":\"histogram2dcontour\",\"colorbar\":{\"outlinewidth\":0,\"ticks\":\"\"},\"colorscale\":[[0.0,\"#0d0887\"],[0.1111111111111111,\"#46039f\"],[0.2222222222222222,\"#7201a8\"],[0.3333333333333333,\"#9c179e\"],[0.4444444444444444,\"#bd3786\"],[0.5555555555555556,\"#d8576b\"],[0.6666666666666666,\"#ed7953\"],[0.7777777777777778,\"#fb9f3a\"],[0.8888888888888888,\"#fdca26\"],[1.0,\"#f0f921\"]]}],\"choropleth\":[{\"type\":\"choropleth\",\"colorbar\":{\"outlinewidth\":0,\"ticks\":\"\"}}],\"histogram2d\":[{\"type\":\"histogram2d\",\"colorbar\":{\"outlinewidth\":0,\"ticks\":\"\"},\"colorscale\":[[0.0,\"#0d0887\"],[0.1111111111111111,\"#46039f\"],[0.2222222222222222,\"#7201a8\"],[0.3333333333333333,\"#9c179e\"],[0.4444444444444444,\"#bd3786\"],[0.5555555555555556,\"#d8576b\"],[0.6666666666666666,\"#ed7953\"],[0.7777777777777778,\"#fb9f3a\"],[0.8888888888888888,\"#fdca26\"],[1.0,\"#f0f921\"]]}],\"heatmap\":[{\"type\":\"heatmap\",\"colorbar\":{\"outlinewidth\":0,\"ticks\":\"\"},\"colorscale\":[[0.0,\"#0d0887\"],[0.1111111111111111,\"#46039f\"],[0.2222222222222222,\"#7201a8\"],[0.3333333333333333,\"#9c179e\"],[0.4444444444444444,\"#bd3786\"],[0.5555555555555556,\"#d8576b\"],[0.6666666666666666,\"#ed7953\"],[0.7777777777777778,\"#fb9f3a\"],[0.8888888888888888,\"#fdca26\"],[1.0,\"#f0f921\"]]}],\"heatmapgl\":[{\"type\":\"heatmapgl\",\"colorbar\":{\"outlinewidth\":0,\"ticks\":\"\"},\"colorscale\":[[0.0,\"#0d0887\"],[0.1111111111111111,\"#46039f\"],[0.2222222222222222,\"#7201a8\"],[0.3333333333333333,\"#9c179e\"],[0.4444444444444444,\"#bd3786\"],[0.5555555555555556,\"#d8576b\"],[0.6666666666666666,\"#ed7953\"],[0.7777777777777778,\"#fb9f3a\"],[0.8888888888888888,\"#fdca26\"],[1.0,\"#f0f921\"]]}],\"contourcarpet\":[{\"type\":\"contourcarpet\",\"colorbar\":{\"outlinewidth\":0,\"ticks\":\"\"}}],\"contour\":[{\"type\":\"contour\",\"colorbar\":{\"outlinewidth\":0,\"ticks\":\"\"},\"colorscale\":[[0.0,\"#0d0887\"],[0.1111111111111111,\"#46039f\"],[0.2222222222222222,\"#7201a8\"],[0.3333333333333333,\"#9c179e\"],[0.4444444444444444,\"#bd3786\"],[0.5555555555555556,\"#d8576b\"],[0.6666666666666666,\"#ed7953\"],[0.7777777777777778,\"#fb9f3a\"],[0.8888888888888888,\"#fdca26\"],[1.0,\"#f0f921\"]]}],\"surface\":[{\"type\":\"surface\",\"colorbar\":{\"outlinewidth\":0,\"ticks\":\"\"},\"colorscale\":[[0.0,\"#0d0887\"],[0.1111111111111111,\"#46039f\"],[0.2222222222222222,\"#7201a8\"],[0.3333333333333333,\"#9c179e\"],[0.4444444444444444,\"#bd3786\"],[0.5555555555555556,\"#d8576b\"],[0.6666666666666666,\"#ed7953\"],[0.7777777777777778,\"#fb9f3a\"],[0.8888888888888888,\"#fdca26\"],[1.0,\"#f0f921\"]]}],\"mesh3d\":[{\"type\":\"mesh3d\",\"colorbar\":{\"outlinewidth\":0,\"ticks\":\"\"}}],\"scatter\":[{\"fillpattern\":{\"fillmode\":\"overlay\",\"size\":10,\"solidity\":0.2},\"type\":\"scatter\"}],\"parcoords\":[{\"type\":\"parcoords\",\"line\":{\"colorbar\":{\"outlinewidth\":0,\"ticks\":\"\"}}}],\"scatterpolargl\":[{\"type\":\"scatterpolargl\",\"marker\":{\"colorbar\":{\"outlinewidth\":0,\"ticks\":\"\"}}}],\"bar\":[{\"error_x\":{\"color\":\"#2a3f5f\"},\"error_y\":{\"color\":\"#2a3f5f\"},\"marker\":{\"line\":{\"color\":\"#E5ECF6\",\"width\":0.5},\"pattern\":{\"fillmode\":\"overlay\",\"size\":10,\"solidity\":0.2}},\"type\":\"bar\"}],\"scattergeo\":[{\"type\":\"scattergeo\",\"marker\":{\"colorbar\":{\"outlinewidth\":0,\"ticks\":\"\"}}}],\"scatterpolar\":[{\"type\":\"scatterpolar\",\"marker\":{\"colorbar\":{\"outlinewidth\":0,\"ticks\":\"\"}}}],\"histogram\":[{\"marker\":{\"pattern\":{\"fillmode\":\"overlay\",\"size\":10,\"solidity\":0.2}},\"type\":\"histogram\"}],\"scattergl\":[{\"type\":\"scattergl\",\"marker\":{\"colorbar\":{\"outlinewidth\":0,\"ticks\":\"\"}}}],\"scatter3d\":[{\"type\":\"scatter3d\",\"line\":{\"colorbar\":{\"outlinewidth\":0,\"ticks\":\"\"}},\"marker\":{\"colorbar\":{\"outlinewidth\":0,\"ticks\":\"\"}}}],\"scattermapbox\":[{\"type\":\"scattermapbox\",\"marker\":{\"colorbar\":{\"outlinewidth\":0,\"ticks\":\"\"}}}],\"scatterternary\":[{\"type\":\"scatterternary\",\"marker\":{\"colorbar\":{\"outlinewidth\":0,\"ticks\":\"\"}}}],\"scattercarpet\":[{\"type\":\"scattercarpet\",\"marker\":{\"colorbar\":{\"outlinewidth\":0,\"ticks\":\"\"}}}],\"carpet\":[{\"aaxis\":{\"endlinecolor\":\"#2a3f5f\",\"gridcolor\":\"white\",\"linecolor\":\"white\",\"minorgridcolor\":\"white\",\"startlinecolor\":\"#2a3f5f\"},\"baxis\":{\"endlinecolor\":\"#2a3f5f\",\"gridcolor\":\"white\",\"linecolor\":\"white\",\"minorgridcolor\":\"white\",\"startlinecolor\":\"#2a3f5f\"},\"type\":\"carpet\"}],\"table\":[{\"cells\":{\"fill\":{\"color\":\"#EBF0F8\"},\"line\":{\"color\":\"white\"}},\"header\":{\"fill\":{\"color\":\"#C8D4E3\"},\"line\":{\"color\":\"white\"}},\"type\":\"table\"}],\"barpolar\":[{\"marker\":{\"line\":{\"color\":\"#E5ECF6\",\"width\":0.5},\"pattern\":{\"fillmode\":\"overlay\",\"size\":10,\"solidity\":0.2}},\"type\":\"barpolar\"}],\"pie\":[{\"automargin\":true,\"type\":\"pie\"}]},\"layout\":{\"autotypenumbers\":\"strict\",\"colorway\":[\"#636efa\",\"#EF553B\",\"#00cc96\",\"#ab63fa\",\"#FFA15A\",\"#19d3f3\",\"#FF6692\",\"#B6E880\",\"#FF97FF\",\"#FECB52\"],\"font\":{\"color\":\"#2a3f5f\"},\"hovermode\":\"closest\",\"hoverlabel\":{\"align\":\"left\"},\"paper_bgcolor\":\"white\",\"plot_bgcolor\":\"#E5ECF6\",\"polar\":{\"bgcolor\":\"#E5ECF6\",\"angularaxis\":{\"gridcolor\":\"white\",\"linecolor\":\"white\",\"ticks\":\"\"},\"radialaxis\":{\"gridcolor\":\"white\",\"linecolor\":\"white\",\"ticks\":\"\"}},\"ternary\":{\"bgcolor\":\"#E5ECF6\",\"aaxis\":{\"gridcolor\":\"white\",\"linecolor\":\"white\",\"ticks\":\"\"},\"baxis\":{\"gridcolor\":\"white\",\"linecolor\":\"white\",\"ticks\":\"\"},\"caxis\":{\"gridcolor\":\"white\",\"linecolor\":\"white\",\"ticks\":\"\"}},\"coloraxis\":{\"colorbar\":{\"outlinewidth\":0,\"ticks\":\"\"}},\"colorscale\":{\"sequential\":[[0.0,\"#0d0887\"],[0.1111111111111111,\"#46039f\"],[0.2222222222222222,\"#7201a8\"],[0.3333333333333333,\"#9c179e\"],[0.4444444444444444,\"#bd3786\"],[0.5555555555555556,\"#d8576b\"],[0.6666666666666666,\"#ed7953\"],[0.7777777777777778,\"#fb9f3a\"],[0.8888888888888888,\"#fdca26\"],[1.0,\"#f0f921\"]],\"sequentialminus\":[[0.0,\"#0d0887\"],[0.1111111111111111,\"#46039f\"],[0.2222222222222222,\"#7201a8\"],[0.3333333333333333,\"#9c179e\"],[0.4444444444444444,\"#bd3786\"],[0.5555555555555556,\"#d8576b\"],[0.6666666666666666,\"#ed7953\"],[0.7777777777777778,\"#fb9f3a\"],[0.8888888888888888,\"#fdca26\"],[1.0,\"#f0f921\"]],\"diverging\":[[0,\"#8e0152\"],[0.1,\"#c51b7d\"],[0.2,\"#de77ae\"],[0.3,\"#f1b6da\"],[0.4,\"#fde0ef\"],[0.5,\"#f7f7f7\"],[0.6,\"#e6f5d0\"],[0.7,\"#b8e186\"],[0.8,\"#7fbc41\"],[0.9,\"#4d9221\"],[1,\"#276419\"]]},\"xaxis\":{\"gridcolor\":\"white\",\"linecolor\":\"white\",\"ticks\":\"\",\"title\":{\"standoff\":15},\"zerolinecolor\":\"white\",\"automargin\":true,\"zerolinewidth\":2},\"yaxis\":{\"gridcolor\":\"white\",\"linecolor\":\"white\",\"ticks\":\"\",\"title\":{\"standoff\":15},\"zerolinecolor\":\"white\",\"automargin\":true,\"zerolinewidth\":2},\"scene\":{\"xaxis\":{\"backgroundcolor\":\"#E5ECF6\",\"gridcolor\":\"white\",\"linecolor\":\"white\",\"showbackground\":true,\"ticks\":\"\",\"zerolinecolor\":\"white\",\"gridwidth\":2},\"yaxis\":{\"backgroundcolor\":\"#E5ECF6\",\"gridcolor\":\"white\",\"linecolor\":\"white\",\"showbackground\":true,\"ticks\":\"\",\"zerolinecolor\":\"white\",\"gridwidth\":2},\"zaxis\":{\"backgroundcolor\":\"#E5ECF6\",\"gridcolor\":\"white\",\"linecolor\":\"white\",\"showbackground\":true,\"ticks\":\"\",\"zerolinecolor\":\"white\",\"gridwidth\":2}},\"shapedefaults\":{\"line\":{\"color\":\"#2a3f5f\"}},\"annotationdefaults\":{\"arrowcolor\":\"#2a3f5f\",\"arrowhead\":0,\"arrowwidth\":1},\"geo\":{\"bgcolor\":\"white\",\"landcolor\":\"#E5ECF6\",\"subunitcolor\":\"white\",\"showland\":true,\"showlakes\":true,\"lakecolor\":\"white\"},\"title\":{\"x\":0.05},\"mapbox\":{\"style\":\"light\"}}},\"xaxis\":{\"anchor\":\"y\",\"domain\":[0.0,1.0],\"title\":{\"text\":\"Age Range\"}},\"yaxis\":{\"anchor\":\"x\",\"domain\":[0.0,1.0],\"title\":{\"text\":\"Count\"}},\"legend\":{\"tracegroupgap\":0},\"title\":{\"text\":\"Age Distribution of Return Customers\"},\"barmode\":\"relative\"},                        {\"responsive\": true}                    ).then(function(){\n",
              "                            \n",
              "var gd = document.getElementById('f8a85a27-d911-4813-ab2c-690098ebc11c');\n",
              "var x = new MutationObserver(function (mutations, observer) {{\n",
              "        var display = window.getComputedStyle(gd).display;\n",
              "        if (!display || display === 'none') {{\n",
              "            console.log([gd, 'removed!']);\n",
              "            Plotly.purge(gd);\n",
              "            observer.disconnect();\n",
              "        }}\n",
              "}});\n",
              "\n",
              "// Listen for the removal of the full notebook cells\n",
              "var notebookContainer = gd.closest('#notebook-container');\n",
              "if (notebookContainer) {{\n",
              "    x.observe(notebookContainer, {childList: true});\n",
              "}}\n",
              "\n",
              "// Listen for the clearing of the current output cell\n",
              "var outputEl = gd.closest('.output');\n",
              "if (outputEl) {{\n",
              "    x.observe(outputEl, {childList: true});\n",
              "}}\n",
              "\n",
              "                        })                };                            </script>        </div>\n",
              "</body>\n",
              "</html>"
            ]
          },
          "metadata": {}
        }
      ]
    },
    {
      "cell_type": "markdown",
      "source": [
        "**Q2: How do payment methods influence customer satisfaction and return rates?**"
      ],
      "metadata": {
        "id": "gTQo6Q8WFfaE"
      }
    },
    {
      "cell_type": "code",
      "source": [
        "total_pay_method = df['Payment Method'].value_counts()\n",
        "total_pay_method = total_pay_method.sort_values(ascending=False)\n",
        "print(total_pay_method)"
      ],
      "metadata": {
        "id": "YxYFRt7io5oV",
        "colab": {
          "base_uri": "https://localhost:8080/"
        },
        "outputId": "c85ad5ef-2632-410b-891a-1e3b27735633"
      },
      "execution_count": null,
      "outputs": [
        {
          "output_type": "stream",
          "name": "stdout",
          "text": [
            "Payment Method\n",
            "Bank Transfer       2067\n",
            "Credit Card         2028\n",
            "Cash on Delivery    2007\n",
            "Debit Card          1983\n",
            "PayPal              1915\n",
            "Name: count, dtype: int64\n"
          ]
        }
      ]
    },
    {
      "cell_type": "code",
      "source": [
        "satisfaction_by_payment = df.groupby(['Payment Method', 'Customer Satisfaction']).size().unstack(fill_value=0)\n",
        "satisfaction_by_payment = satisfaction_by_payment.sort_values(by='High', ascending=False)\n",
        "print(\"Customer Satisfaction by Payment Method:\")\n",
        "print(satisfaction_by_payment)"
      ],
      "metadata": {
        "colab": {
          "base_uri": "https://localhost:8080/"
        },
        "id": "nq3-nU2eqVCB",
        "outputId": "6330e577-7bd8-461d-a0e9-51a785f78068"
      },
      "execution_count": null,
      "outputs": [
        {
          "output_type": "stream",
          "name": "stdout",
          "text": [
            "Customer Satisfaction by Payment Method:\n",
            "Customer Satisfaction  High  Low  Medium\n",
            "Payment Method                          \n",
            "Credit Card             703  697     628\n",
            "Bank Transfer           702  678     687\n",
            "Debit Card              668  664     651\n",
            "Cash on Delivery        627  703     677\n",
            "PayPal                  604  623     688\n"
          ]
        }
      ]
    },
    {
      "cell_type": "markdown",
      "source": [
        "Bank Transfer payment is popular choice in terms of high and medium satisfaction."
      ],
      "metadata": {
        "id": "PObvJuZuzHJL"
      }
    },
    {
      "cell_type": "code",
      "source": [
        "\n",
        "satisfaction_by_payment = df.groupby(['Payment Method', 'Customer Satisfaction'])['Customer ID'].count().unstack()\n",
        "\n",
        "satisfaction_percentage = satisfaction_by_payment.div(satisfaction_by_payment.sum(axis=1), axis=0) * 100\n",
        "\n",
        "fig = px.bar(\n",
        "    satisfaction_percentage.reset_index(),\n",
        "    x=\"Payment Method\",\n",
        "    y=[\"High\", \"Medium\", \"Low\"],\n",
        "    title=\"Customer Satisfaction by Payment Method\",\n",
        "    labels={\"value\": \"Percentage of Customers\", \"variable\": \"Customer Satisfaction\"},\n",
        "    barmode=\"group\"\n",
        ")\n",
        "\n",
        "fig.show()\n",
        "\n",
        "return_rate_by_payment = df.groupby('Payment Method')['Return Customer'].mean() * 100\n",
        "\n",
        "fig = px.bar(\n",
        "    return_rate_by_payment.reset_index(),\n",
        "    x=\"Payment Method\",\n",
        "    y=\"Return Customer\",\n",
        "    title=\"Return Rate by Payment Method\",\n",
        "    labels={\"Return Customer\": \"Return Rate (%)\"}\n",
        ")\n",
        "\n",
        "fig.show()"
      ],
      "metadata": {
        "colab": {
          "base_uri": "https://localhost:8080/",
          "height": 1000
        },
        "id": "DOAfVC8VQ0Xu",
        "outputId": "4a82b90a-e08a-4052-cf1e-6c0a537d66f5"
      },
      "execution_count": null,
      "outputs": [
        {
          "output_type": "display_data",
          "data": {
            "text/html": [
              "<html>\n",
              "<head><meta charset=\"utf-8\" /></head>\n",
              "<body>\n",
              "    <div>            <script src=\"https://cdnjs.cloudflare.com/ajax/libs/mathjax/2.7.5/MathJax.js?config=TeX-AMS-MML_SVG\"></script><script type=\"text/javascript\">if (window.MathJax && window.MathJax.Hub && window.MathJax.Hub.Config) {window.MathJax.Hub.Config({SVG: {font: \"STIX-Web\"}});}</script>                <script type=\"text/javascript\">window.PlotlyConfig = {MathJaxConfig: 'local'};</script>\n",
              "        <script charset=\"utf-8\" src=\"https://cdn.plot.ly/plotly-2.35.2.min.js\"></script>                <div id=\"fd9e9082-ab0d-4a97-a1fa-c6d70edf2dbf\" class=\"plotly-graph-div\" style=\"height:525px; width:100%;\"></div>            <script type=\"text/javascript\">                                    window.PLOTLYENV=window.PLOTLYENV || {};                                    if (document.getElementById(\"fd9e9082-ab0d-4a97-a1fa-c6d70edf2dbf\")) {                    Plotly.newPlot(                        \"fd9e9082-ab0d-4a97-a1fa-c6d70edf2dbf\",                        [{\"alignmentgroup\":\"True\",\"hovertemplate\":\"Customer Satisfaction=High\\u003cbr\\u003ePayment Method=%{x}\\u003cbr\\u003ePercentage of Customers=%{y}\\u003cextra\\u003e\\u003c\\u002fextra\\u003e\",\"legendgroup\":\"High\",\"marker\":{\"color\":\"#636efa\",\"pattern\":{\"shape\":\"\"}},\"name\":\"High\",\"offsetgroup\":\"High\",\"orientation\":\"v\",\"showlegend\":true,\"textposition\":\"auto\",\"x\":[\"Bank Transfer\",\"Cash on Delivery\",\"Credit Card\",\"Debit Card\",\"PayPal\"],\"xaxis\":\"x\",\"y\":[33.9622641509434,31.2406576980568,34.6646942800789,33.68633383761977,31.54046997389034],\"yaxis\":\"y\",\"type\":\"bar\"},{\"alignmentgroup\":\"True\",\"hovertemplate\":\"Customer Satisfaction=Medium\\u003cbr\\u003ePayment Method=%{x}\\u003cbr\\u003ePercentage of Customers=%{y}\\u003cextra\\u003e\\u003c\\u002fextra\\u003e\",\"legendgroup\":\"Medium\",\"marker\":{\"color\":\"#EF553B\",\"pattern\":{\"shape\":\"\"}},\"name\":\"Medium\",\"offsetgroup\":\"Medium\",\"orientation\":\"v\",\"showlegend\":true,\"textposition\":\"auto\",\"x\":[\"Bank Transfer\",\"Cash on Delivery\",\"Credit Card\",\"Debit Card\",\"PayPal\"],\"xaxis\":\"x\",\"y\":[33.236574746008706,33.73193821624315,30.96646942800789,32.829046898638424,35.92689295039164],\"yaxis\":\"y\",\"type\":\"bar\"},{\"alignmentgroup\":\"True\",\"hovertemplate\":\"Customer Satisfaction=Low\\u003cbr\\u003ePayment Method=%{x}\\u003cbr\\u003ePercentage of Customers=%{y}\\u003cextra\\u003e\\u003c\\u002fextra\\u003e\",\"legendgroup\":\"Low\",\"marker\":{\"color\":\"#00cc96\",\"pattern\":{\"shape\":\"\"}},\"name\":\"Low\",\"offsetgroup\":\"Low\",\"orientation\":\"v\",\"showlegend\":true,\"textposition\":\"auto\",\"x\":[\"Bank Transfer\",\"Cash on Delivery\",\"Credit Card\",\"Debit Card\",\"PayPal\"],\"xaxis\":\"x\",\"y\":[32.801161103047896,35.02740408570005,34.36883629191321,33.484619263741806,32.53263707571802],\"yaxis\":\"y\",\"type\":\"bar\"}],                        {\"template\":{\"data\":{\"histogram2dcontour\":[{\"type\":\"histogram2dcontour\",\"colorbar\":{\"outlinewidth\":0,\"ticks\":\"\"},\"colorscale\":[[0.0,\"#0d0887\"],[0.1111111111111111,\"#46039f\"],[0.2222222222222222,\"#7201a8\"],[0.3333333333333333,\"#9c179e\"],[0.4444444444444444,\"#bd3786\"],[0.5555555555555556,\"#d8576b\"],[0.6666666666666666,\"#ed7953\"],[0.7777777777777778,\"#fb9f3a\"],[0.8888888888888888,\"#fdca26\"],[1.0,\"#f0f921\"]]}],\"choropleth\":[{\"type\":\"choropleth\",\"colorbar\":{\"outlinewidth\":0,\"ticks\":\"\"}}],\"histogram2d\":[{\"type\":\"histogram2d\",\"colorbar\":{\"outlinewidth\":0,\"ticks\":\"\"},\"colorscale\":[[0.0,\"#0d0887\"],[0.1111111111111111,\"#46039f\"],[0.2222222222222222,\"#7201a8\"],[0.3333333333333333,\"#9c179e\"],[0.4444444444444444,\"#bd3786\"],[0.5555555555555556,\"#d8576b\"],[0.6666666666666666,\"#ed7953\"],[0.7777777777777778,\"#fb9f3a\"],[0.8888888888888888,\"#fdca26\"],[1.0,\"#f0f921\"]]}],\"heatmap\":[{\"type\":\"heatmap\",\"colorbar\":{\"outlinewidth\":0,\"ticks\":\"\"},\"colorscale\":[[0.0,\"#0d0887\"],[0.1111111111111111,\"#46039f\"],[0.2222222222222222,\"#7201a8\"],[0.3333333333333333,\"#9c179e\"],[0.4444444444444444,\"#bd3786\"],[0.5555555555555556,\"#d8576b\"],[0.6666666666666666,\"#ed7953\"],[0.7777777777777778,\"#fb9f3a\"],[0.8888888888888888,\"#fdca26\"],[1.0,\"#f0f921\"]]}],\"heatmapgl\":[{\"type\":\"heatmapgl\",\"colorbar\":{\"outlinewidth\":0,\"ticks\":\"\"},\"colorscale\":[[0.0,\"#0d0887\"],[0.1111111111111111,\"#46039f\"],[0.2222222222222222,\"#7201a8\"],[0.3333333333333333,\"#9c179e\"],[0.4444444444444444,\"#bd3786\"],[0.5555555555555556,\"#d8576b\"],[0.6666666666666666,\"#ed7953\"],[0.7777777777777778,\"#fb9f3a\"],[0.8888888888888888,\"#fdca26\"],[1.0,\"#f0f921\"]]}],\"contourcarpet\":[{\"type\":\"contourcarpet\",\"colorbar\":{\"outlinewidth\":0,\"ticks\":\"\"}}],\"contour\":[{\"type\":\"contour\",\"colorbar\":{\"outlinewidth\":0,\"ticks\":\"\"},\"colorscale\":[[0.0,\"#0d0887\"],[0.1111111111111111,\"#46039f\"],[0.2222222222222222,\"#7201a8\"],[0.3333333333333333,\"#9c179e\"],[0.4444444444444444,\"#bd3786\"],[0.5555555555555556,\"#d8576b\"],[0.6666666666666666,\"#ed7953\"],[0.7777777777777778,\"#fb9f3a\"],[0.8888888888888888,\"#fdca26\"],[1.0,\"#f0f921\"]]}],\"surface\":[{\"type\":\"surface\",\"colorbar\":{\"outlinewidth\":0,\"ticks\":\"\"},\"colorscale\":[[0.0,\"#0d0887\"],[0.1111111111111111,\"#46039f\"],[0.2222222222222222,\"#7201a8\"],[0.3333333333333333,\"#9c179e\"],[0.4444444444444444,\"#bd3786\"],[0.5555555555555556,\"#d8576b\"],[0.6666666666666666,\"#ed7953\"],[0.7777777777777778,\"#fb9f3a\"],[0.8888888888888888,\"#fdca26\"],[1.0,\"#f0f921\"]]}],\"mesh3d\":[{\"type\":\"mesh3d\",\"colorbar\":{\"outlinewidth\":0,\"ticks\":\"\"}}],\"scatter\":[{\"fillpattern\":{\"fillmode\":\"overlay\",\"size\":10,\"solidity\":0.2},\"type\":\"scatter\"}],\"parcoords\":[{\"type\":\"parcoords\",\"line\":{\"colorbar\":{\"outlinewidth\":0,\"ticks\":\"\"}}}],\"scatterpolargl\":[{\"type\":\"scatterpolargl\",\"marker\":{\"colorbar\":{\"outlinewidth\":0,\"ticks\":\"\"}}}],\"bar\":[{\"error_x\":{\"color\":\"#2a3f5f\"},\"error_y\":{\"color\":\"#2a3f5f\"},\"marker\":{\"line\":{\"color\":\"#E5ECF6\",\"width\":0.5},\"pattern\":{\"fillmode\":\"overlay\",\"size\":10,\"solidity\":0.2}},\"type\":\"bar\"}],\"scattergeo\":[{\"type\":\"scattergeo\",\"marker\":{\"colorbar\":{\"outlinewidth\":0,\"ticks\":\"\"}}}],\"scatterpolar\":[{\"type\":\"scatterpolar\",\"marker\":{\"colorbar\":{\"outlinewidth\":0,\"ticks\":\"\"}}}],\"histogram\":[{\"marker\":{\"pattern\":{\"fillmode\":\"overlay\",\"size\":10,\"solidity\":0.2}},\"type\":\"histogram\"}],\"scattergl\":[{\"type\":\"scattergl\",\"marker\":{\"colorbar\":{\"outlinewidth\":0,\"ticks\":\"\"}}}],\"scatter3d\":[{\"type\":\"scatter3d\",\"line\":{\"colorbar\":{\"outlinewidth\":0,\"ticks\":\"\"}},\"marker\":{\"colorbar\":{\"outlinewidth\":0,\"ticks\":\"\"}}}],\"scattermapbox\":[{\"type\":\"scattermapbox\",\"marker\":{\"colorbar\":{\"outlinewidth\":0,\"ticks\":\"\"}}}],\"scatterternary\":[{\"type\":\"scatterternary\",\"marker\":{\"colorbar\":{\"outlinewidth\":0,\"ticks\":\"\"}}}],\"scattercarpet\":[{\"type\":\"scattercarpet\",\"marker\":{\"colorbar\":{\"outlinewidth\":0,\"ticks\":\"\"}}}],\"carpet\":[{\"aaxis\":{\"endlinecolor\":\"#2a3f5f\",\"gridcolor\":\"white\",\"linecolor\":\"white\",\"minorgridcolor\":\"white\",\"startlinecolor\":\"#2a3f5f\"},\"baxis\":{\"endlinecolor\":\"#2a3f5f\",\"gridcolor\":\"white\",\"linecolor\":\"white\",\"minorgridcolor\":\"white\",\"startlinecolor\":\"#2a3f5f\"},\"type\":\"carpet\"}],\"table\":[{\"cells\":{\"fill\":{\"color\":\"#EBF0F8\"},\"line\":{\"color\":\"white\"}},\"header\":{\"fill\":{\"color\":\"#C8D4E3\"},\"line\":{\"color\":\"white\"}},\"type\":\"table\"}],\"barpolar\":[{\"marker\":{\"line\":{\"color\":\"#E5ECF6\",\"width\":0.5},\"pattern\":{\"fillmode\":\"overlay\",\"size\":10,\"solidity\":0.2}},\"type\":\"barpolar\"}],\"pie\":[{\"automargin\":true,\"type\":\"pie\"}]},\"layout\":{\"autotypenumbers\":\"strict\",\"colorway\":[\"#636efa\",\"#EF553B\",\"#00cc96\",\"#ab63fa\",\"#FFA15A\",\"#19d3f3\",\"#FF6692\",\"#B6E880\",\"#FF97FF\",\"#FECB52\"],\"font\":{\"color\":\"#2a3f5f\"},\"hovermode\":\"closest\",\"hoverlabel\":{\"align\":\"left\"},\"paper_bgcolor\":\"white\",\"plot_bgcolor\":\"#E5ECF6\",\"polar\":{\"bgcolor\":\"#E5ECF6\",\"angularaxis\":{\"gridcolor\":\"white\",\"linecolor\":\"white\",\"ticks\":\"\"},\"radialaxis\":{\"gridcolor\":\"white\",\"linecolor\":\"white\",\"ticks\":\"\"}},\"ternary\":{\"bgcolor\":\"#E5ECF6\",\"aaxis\":{\"gridcolor\":\"white\",\"linecolor\":\"white\",\"ticks\":\"\"},\"baxis\":{\"gridcolor\":\"white\",\"linecolor\":\"white\",\"ticks\":\"\"},\"caxis\":{\"gridcolor\":\"white\",\"linecolor\":\"white\",\"ticks\":\"\"}},\"coloraxis\":{\"colorbar\":{\"outlinewidth\":0,\"ticks\":\"\"}},\"colorscale\":{\"sequential\":[[0.0,\"#0d0887\"],[0.1111111111111111,\"#46039f\"],[0.2222222222222222,\"#7201a8\"],[0.3333333333333333,\"#9c179e\"],[0.4444444444444444,\"#bd3786\"],[0.5555555555555556,\"#d8576b\"],[0.6666666666666666,\"#ed7953\"],[0.7777777777777778,\"#fb9f3a\"],[0.8888888888888888,\"#fdca26\"],[1.0,\"#f0f921\"]],\"sequentialminus\":[[0.0,\"#0d0887\"],[0.1111111111111111,\"#46039f\"],[0.2222222222222222,\"#7201a8\"],[0.3333333333333333,\"#9c179e\"],[0.4444444444444444,\"#bd3786\"],[0.5555555555555556,\"#d8576b\"],[0.6666666666666666,\"#ed7953\"],[0.7777777777777778,\"#fb9f3a\"],[0.8888888888888888,\"#fdca26\"],[1.0,\"#f0f921\"]],\"diverging\":[[0,\"#8e0152\"],[0.1,\"#c51b7d\"],[0.2,\"#de77ae\"],[0.3,\"#f1b6da\"],[0.4,\"#fde0ef\"],[0.5,\"#f7f7f7\"],[0.6,\"#e6f5d0\"],[0.7,\"#b8e186\"],[0.8,\"#7fbc41\"],[0.9,\"#4d9221\"],[1,\"#276419\"]]},\"xaxis\":{\"gridcolor\":\"white\",\"linecolor\":\"white\",\"ticks\":\"\",\"title\":{\"standoff\":15},\"zerolinecolor\":\"white\",\"automargin\":true,\"zerolinewidth\":2},\"yaxis\":{\"gridcolor\":\"white\",\"linecolor\":\"white\",\"ticks\":\"\",\"title\":{\"standoff\":15},\"zerolinecolor\":\"white\",\"automargin\":true,\"zerolinewidth\":2},\"scene\":{\"xaxis\":{\"backgroundcolor\":\"#E5ECF6\",\"gridcolor\":\"white\",\"linecolor\":\"white\",\"showbackground\":true,\"ticks\":\"\",\"zerolinecolor\":\"white\",\"gridwidth\":2},\"yaxis\":{\"backgroundcolor\":\"#E5ECF6\",\"gridcolor\":\"white\",\"linecolor\":\"white\",\"showbackground\":true,\"ticks\":\"\",\"zerolinecolor\":\"white\",\"gridwidth\":2},\"zaxis\":{\"backgroundcolor\":\"#E5ECF6\",\"gridcolor\":\"white\",\"linecolor\":\"white\",\"showbackground\":true,\"ticks\":\"\",\"zerolinecolor\":\"white\",\"gridwidth\":2}},\"shapedefaults\":{\"line\":{\"color\":\"#2a3f5f\"}},\"annotationdefaults\":{\"arrowcolor\":\"#2a3f5f\",\"arrowhead\":0,\"arrowwidth\":1},\"geo\":{\"bgcolor\":\"white\",\"landcolor\":\"#E5ECF6\",\"subunitcolor\":\"white\",\"showland\":true,\"showlakes\":true,\"lakecolor\":\"white\"},\"title\":{\"x\":0.05},\"mapbox\":{\"style\":\"light\"}}},\"xaxis\":{\"anchor\":\"y\",\"domain\":[0.0,1.0],\"title\":{\"text\":\"Payment Method\"}},\"yaxis\":{\"anchor\":\"x\",\"domain\":[0.0,1.0],\"title\":{\"text\":\"Percentage of Customers\"}},\"legend\":{\"title\":{\"text\":\"Customer Satisfaction\"},\"tracegroupgap\":0},\"title\":{\"text\":\"Customer Satisfaction by Payment Method\"},\"barmode\":\"group\"},                        {\"responsive\": true}                    ).then(function(){\n",
              "                            \n",
              "var gd = document.getElementById('fd9e9082-ab0d-4a97-a1fa-c6d70edf2dbf');\n",
              "var x = new MutationObserver(function (mutations, observer) {{\n",
              "        var display = window.getComputedStyle(gd).display;\n",
              "        if (!display || display === 'none') {{\n",
              "            console.log([gd, 'removed!']);\n",
              "            Plotly.purge(gd);\n",
              "            observer.disconnect();\n",
              "        }}\n",
              "}});\n",
              "\n",
              "// Listen for the removal of the full notebook cells\n",
              "var notebookContainer = gd.closest('#notebook-container');\n",
              "if (notebookContainer) {{\n",
              "    x.observe(notebookContainer, {childList: true});\n",
              "}}\n",
              "\n",
              "// Listen for the clearing of the current output cell\n",
              "var outputEl = gd.closest('.output');\n",
              "if (outputEl) {{\n",
              "    x.observe(outputEl, {childList: true});\n",
              "}}\n",
              "\n",
              "                        })                };                            </script>        </div>\n",
              "</body>\n",
              "</html>"
            ]
          },
          "metadata": {}
        },
        {
          "output_type": "display_data",
          "data": {
            "text/html": [
              "<html>\n",
              "<head><meta charset=\"utf-8\" /></head>\n",
              "<body>\n",
              "    <div>            <script src=\"https://cdnjs.cloudflare.com/ajax/libs/mathjax/2.7.5/MathJax.js?config=TeX-AMS-MML_SVG\"></script><script type=\"text/javascript\">if (window.MathJax && window.MathJax.Hub && window.MathJax.Hub.Config) {window.MathJax.Hub.Config({SVG: {font: \"STIX-Web\"}});}</script>                <script type=\"text/javascript\">window.PlotlyConfig = {MathJaxConfig: 'local'};</script>\n",
              "        <script charset=\"utf-8\" src=\"https://cdn.plot.ly/plotly-2.35.2.min.js\"></script>                <div id=\"f136353f-328a-4e5c-a2f5-fc75f4c3222d\" class=\"plotly-graph-div\" style=\"height:525px; width:100%;\"></div>            <script type=\"text/javascript\">                                    window.PLOTLYENV=window.PLOTLYENV || {};                                    if (document.getElementById(\"f136353f-328a-4e5c-a2f5-fc75f4c3222d\")) {                    Plotly.newPlot(                        \"f136353f-328a-4e5c-a2f5-fc75f4c3222d\",                        [{\"alignmentgroup\":\"True\",\"hovertemplate\":\"Payment Method=%{x}\\u003cbr\\u003eReturn Rate (%)=%{y}\\u003cextra\\u003e\\u003c\\u002fextra\\u003e\",\"legendgroup\":\"\",\"marker\":{\"color\":\"#636efa\",\"pattern\":{\"shape\":\"\"}},\"name\":\"\",\"offsetgroup\":\"\",\"orientation\":\"v\",\"showlegend\":false,\"textposition\":\"auto\",\"x\":[\"Bank Transfer\",\"Cash on Delivery\",\"Credit Card\",\"Debit Card\",\"PayPal\"],\"xaxis\":\"x\",\"y\":[50.60474117077891,48.92874937717987,51.232741617357,49.11749873928392,49.869451697127936],\"yaxis\":\"y\",\"type\":\"bar\"}],                        {\"template\":{\"data\":{\"histogram2dcontour\":[{\"type\":\"histogram2dcontour\",\"colorbar\":{\"outlinewidth\":0,\"ticks\":\"\"},\"colorscale\":[[0.0,\"#0d0887\"],[0.1111111111111111,\"#46039f\"],[0.2222222222222222,\"#7201a8\"],[0.3333333333333333,\"#9c179e\"],[0.4444444444444444,\"#bd3786\"],[0.5555555555555556,\"#d8576b\"],[0.6666666666666666,\"#ed7953\"],[0.7777777777777778,\"#fb9f3a\"],[0.8888888888888888,\"#fdca26\"],[1.0,\"#f0f921\"]]}],\"choropleth\":[{\"type\":\"choropleth\",\"colorbar\":{\"outlinewidth\":0,\"ticks\":\"\"}}],\"histogram2d\":[{\"type\":\"histogram2d\",\"colorbar\":{\"outlinewidth\":0,\"ticks\":\"\"},\"colorscale\":[[0.0,\"#0d0887\"],[0.1111111111111111,\"#46039f\"],[0.2222222222222222,\"#7201a8\"],[0.3333333333333333,\"#9c179e\"],[0.4444444444444444,\"#bd3786\"],[0.5555555555555556,\"#d8576b\"],[0.6666666666666666,\"#ed7953\"],[0.7777777777777778,\"#fb9f3a\"],[0.8888888888888888,\"#fdca26\"],[1.0,\"#f0f921\"]]}],\"heatmap\":[{\"type\":\"heatmap\",\"colorbar\":{\"outlinewidth\":0,\"ticks\":\"\"},\"colorscale\":[[0.0,\"#0d0887\"],[0.1111111111111111,\"#46039f\"],[0.2222222222222222,\"#7201a8\"],[0.3333333333333333,\"#9c179e\"],[0.4444444444444444,\"#bd3786\"],[0.5555555555555556,\"#d8576b\"],[0.6666666666666666,\"#ed7953\"],[0.7777777777777778,\"#fb9f3a\"],[0.8888888888888888,\"#fdca26\"],[1.0,\"#f0f921\"]]}],\"heatmapgl\":[{\"type\":\"heatmapgl\",\"colorbar\":{\"outlinewidth\":0,\"ticks\":\"\"},\"colorscale\":[[0.0,\"#0d0887\"],[0.1111111111111111,\"#46039f\"],[0.2222222222222222,\"#7201a8\"],[0.3333333333333333,\"#9c179e\"],[0.4444444444444444,\"#bd3786\"],[0.5555555555555556,\"#d8576b\"],[0.6666666666666666,\"#ed7953\"],[0.7777777777777778,\"#fb9f3a\"],[0.8888888888888888,\"#fdca26\"],[1.0,\"#f0f921\"]]}],\"contourcarpet\":[{\"type\":\"contourcarpet\",\"colorbar\":{\"outlinewidth\":0,\"ticks\":\"\"}}],\"contour\":[{\"type\":\"contour\",\"colorbar\":{\"outlinewidth\":0,\"ticks\":\"\"},\"colorscale\":[[0.0,\"#0d0887\"],[0.1111111111111111,\"#46039f\"],[0.2222222222222222,\"#7201a8\"],[0.3333333333333333,\"#9c179e\"],[0.4444444444444444,\"#bd3786\"],[0.5555555555555556,\"#d8576b\"],[0.6666666666666666,\"#ed7953\"],[0.7777777777777778,\"#fb9f3a\"],[0.8888888888888888,\"#fdca26\"],[1.0,\"#f0f921\"]]}],\"surface\":[{\"type\":\"surface\",\"colorbar\":{\"outlinewidth\":0,\"ticks\":\"\"},\"colorscale\":[[0.0,\"#0d0887\"],[0.1111111111111111,\"#46039f\"],[0.2222222222222222,\"#7201a8\"],[0.3333333333333333,\"#9c179e\"],[0.4444444444444444,\"#bd3786\"],[0.5555555555555556,\"#d8576b\"],[0.6666666666666666,\"#ed7953\"],[0.7777777777777778,\"#fb9f3a\"],[0.8888888888888888,\"#fdca26\"],[1.0,\"#f0f921\"]]}],\"mesh3d\":[{\"type\":\"mesh3d\",\"colorbar\":{\"outlinewidth\":0,\"ticks\":\"\"}}],\"scatter\":[{\"fillpattern\":{\"fillmode\":\"overlay\",\"size\":10,\"solidity\":0.2},\"type\":\"scatter\"}],\"parcoords\":[{\"type\":\"parcoords\",\"line\":{\"colorbar\":{\"outlinewidth\":0,\"ticks\":\"\"}}}],\"scatterpolargl\":[{\"type\":\"scatterpolargl\",\"marker\":{\"colorbar\":{\"outlinewidth\":0,\"ticks\":\"\"}}}],\"bar\":[{\"error_x\":{\"color\":\"#2a3f5f\"},\"error_y\":{\"color\":\"#2a3f5f\"},\"marker\":{\"line\":{\"color\":\"#E5ECF6\",\"width\":0.5},\"pattern\":{\"fillmode\":\"overlay\",\"size\":10,\"solidity\":0.2}},\"type\":\"bar\"}],\"scattergeo\":[{\"type\":\"scattergeo\",\"marker\":{\"colorbar\":{\"outlinewidth\":0,\"ticks\":\"\"}}}],\"scatterpolar\":[{\"type\":\"scatterpolar\",\"marker\":{\"colorbar\":{\"outlinewidth\":0,\"ticks\":\"\"}}}],\"histogram\":[{\"marker\":{\"pattern\":{\"fillmode\":\"overlay\",\"size\":10,\"solidity\":0.2}},\"type\":\"histogram\"}],\"scattergl\":[{\"type\":\"scattergl\",\"marker\":{\"colorbar\":{\"outlinewidth\":0,\"ticks\":\"\"}}}],\"scatter3d\":[{\"type\":\"scatter3d\",\"line\":{\"colorbar\":{\"outlinewidth\":0,\"ticks\":\"\"}},\"marker\":{\"colorbar\":{\"outlinewidth\":0,\"ticks\":\"\"}}}],\"scattermapbox\":[{\"type\":\"scattermapbox\",\"marker\":{\"colorbar\":{\"outlinewidth\":0,\"ticks\":\"\"}}}],\"scatterternary\":[{\"type\":\"scatterternary\",\"marker\":{\"colorbar\":{\"outlinewidth\":0,\"ticks\":\"\"}}}],\"scattercarpet\":[{\"type\":\"scattercarpet\",\"marker\":{\"colorbar\":{\"outlinewidth\":0,\"ticks\":\"\"}}}],\"carpet\":[{\"aaxis\":{\"endlinecolor\":\"#2a3f5f\",\"gridcolor\":\"white\",\"linecolor\":\"white\",\"minorgridcolor\":\"white\",\"startlinecolor\":\"#2a3f5f\"},\"baxis\":{\"endlinecolor\":\"#2a3f5f\",\"gridcolor\":\"white\",\"linecolor\":\"white\",\"minorgridcolor\":\"white\",\"startlinecolor\":\"#2a3f5f\"},\"type\":\"carpet\"}],\"table\":[{\"cells\":{\"fill\":{\"color\":\"#EBF0F8\"},\"line\":{\"color\":\"white\"}},\"header\":{\"fill\":{\"color\":\"#C8D4E3\"},\"line\":{\"color\":\"white\"}},\"type\":\"table\"}],\"barpolar\":[{\"marker\":{\"line\":{\"color\":\"#E5ECF6\",\"width\":0.5},\"pattern\":{\"fillmode\":\"overlay\",\"size\":10,\"solidity\":0.2}},\"type\":\"barpolar\"}],\"pie\":[{\"automargin\":true,\"type\":\"pie\"}]},\"layout\":{\"autotypenumbers\":\"strict\",\"colorway\":[\"#636efa\",\"#EF553B\",\"#00cc96\",\"#ab63fa\",\"#FFA15A\",\"#19d3f3\",\"#FF6692\",\"#B6E880\",\"#FF97FF\",\"#FECB52\"],\"font\":{\"color\":\"#2a3f5f\"},\"hovermode\":\"closest\",\"hoverlabel\":{\"align\":\"left\"},\"paper_bgcolor\":\"white\",\"plot_bgcolor\":\"#E5ECF6\",\"polar\":{\"bgcolor\":\"#E5ECF6\",\"angularaxis\":{\"gridcolor\":\"white\",\"linecolor\":\"white\",\"ticks\":\"\"},\"radialaxis\":{\"gridcolor\":\"white\",\"linecolor\":\"white\",\"ticks\":\"\"}},\"ternary\":{\"bgcolor\":\"#E5ECF6\",\"aaxis\":{\"gridcolor\":\"white\",\"linecolor\":\"white\",\"ticks\":\"\"},\"baxis\":{\"gridcolor\":\"white\",\"linecolor\":\"white\",\"ticks\":\"\"},\"caxis\":{\"gridcolor\":\"white\",\"linecolor\":\"white\",\"ticks\":\"\"}},\"coloraxis\":{\"colorbar\":{\"outlinewidth\":0,\"ticks\":\"\"}},\"colorscale\":{\"sequential\":[[0.0,\"#0d0887\"],[0.1111111111111111,\"#46039f\"],[0.2222222222222222,\"#7201a8\"],[0.3333333333333333,\"#9c179e\"],[0.4444444444444444,\"#bd3786\"],[0.5555555555555556,\"#d8576b\"],[0.6666666666666666,\"#ed7953\"],[0.7777777777777778,\"#fb9f3a\"],[0.8888888888888888,\"#fdca26\"],[1.0,\"#f0f921\"]],\"sequentialminus\":[[0.0,\"#0d0887\"],[0.1111111111111111,\"#46039f\"],[0.2222222222222222,\"#7201a8\"],[0.3333333333333333,\"#9c179e\"],[0.4444444444444444,\"#bd3786\"],[0.5555555555555556,\"#d8576b\"],[0.6666666666666666,\"#ed7953\"],[0.7777777777777778,\"#fb9f3a\"],[0.8888888888888888,\"#fdca26\"],[1.0,\"#f0f921\"]],\"diverging\":[[0,\"#8e0152\"],[0.1,\"#c51b7d\"],[0.2,\"#de77ae\"],[0.3,\"#f1b6da\"],[0.4,\"#fde0ef\"],[0.5,\"#f7f7f7\"],[0.6,\"#e6f5d0\"],[0.7,\"#b8e186\"],[0.8,\"#7fbc41\"],[0.9,\"#4d9221\"],[1,\"#276419\"]]},\"xaxis\":{\"gridcolor\":\"white\",\"linecolor\":\"white\",\"ticks\":\"\",\"title\":{\"standoff\":15},\"zerolinecolor\":\"white\",\"automargin\":true,\"zerolinewidth\":2},\"yaxis\":{\"gridcolor\":\"white\",\"linecolor\":\"white\",\"ticks\":\"\",\"title\":{\"standoff\":15},\"zerolinecolor\":\"white\",\"automargin\":true,\"zerolinewidth\":2},\"scene\":{\"xaxis\":{\"backgroundcolor\":\"#E5ECF6\",\"gridcolor\":\"white\",\"linecolor\":\"white\",\"showbackground\":true,\"ticks\":\"\",\"zerolinecolor\":\"white\",\"gridwidth\":2},\"yaxis\":{\"backgroundcolor\":\"#E5ECF6\",\"gridcolor\":\"white\",\"linecolor\":\"white\",\"showbackground\":true,\"ticks\":\"\",\"zerolinecolor\":\"white\",\"gridwidth\":2},\"zaxis\":{\"backgroundcolor\":\"#E5ECF6\",\"gridcolor\":\"white\",\"linecolor\":\"white\",\"showbackground\":true,\"ticks\":\"\",\"zerolinecolor\":\"white\",\"gridwidth\":2}},\"shapedefaults\":{\"line\":{\"color\":\"#2a3f5f\"}},\"annotationdefaults\":{\"arrowcolor\":\"#2a3f5f\",\"arrowhead\":0,\"arrowwidth\":1},\"geo\":{\"bgcolor\":\"white\",\"landcolor\":\"#E5ECF6\",\"subunitcolor\":\"white\",\"showland\":true,\"showlakes\":true,\"lakecolor\":\"white\"},\"title\":{\"x\":0.05},\"mapbox\":{\"style\":\"light\"}}},\"xaxis\":{\"anchor\":\"y\",\"domain\":[0.0,1.0],\"title\":{\"text\":\"Payment Method\"}},\"yaxis\":{\"anchor\":\"x\",\"domain\":[0.0,1.0],\"title\":{\"text\":\"Return Rate (%)\"}},\"legend\":{\"tracegroupgap\":0},\"title\":{\"text\":\"Return Rate by Payment Method\"},\"barmode\":\"relative\"},                        {\"responsive\": true}                    ).then(function(){\n",
              "                            \n",
              "var gd = document.getElementById('f136353f-328a-4e5c-a2f5-fc75f4c3222d');\n",
              "var x = new MutationObserver(function (mutations, observer) {{\n",
              "        var display = window.getComputedStyle(gd).display;\n",
              "        if (!display || display === 'none') {{\n",
              "            console.log([gd, 'removed!']);\n",
              "            Plotly.purge(gd);\n",
              "            observer.disconnect();\n",
              "        }}\n",
              "}});\n",
              "\n",
              "// Listen for the removal of the full notebook cells\n",
              "var notebookContainer = gd.closest('#notebook-container');\n",
              "if (notebookContainer) {{\n",
              "    x.observe(notebookContainer, {childList: true});\n",
              "}}\n",
              "\n",
              "// Listen for the clearing of the current output cell\n",
              "var outputEl = gd.closest('.output');\n",
              "if (outputEl) {{\n",
              "    x.observe(outputEl, {childList: true});\n",
              "}}\n",
              "\n",
              "                        })                };                            </script>        </div>\n",
              "</body>\n",
              "</html>"
            ]
          },
          "metadata": {}
        }
      ]
    },
    {
      "cell_type": "code",
      "source": [
        "return_customers_by_payment_method = return_customers_df['Payment Method'].value_counts(normalize=True) * 100\n",
        "return_customers_by_payment_method = return_customers_by_payment_method.sort_values(ascending=False)\n",
        "\n",
        "print(\"Return Customers by Payment Method:\")\n",
        "print(return_customers_by_payment_method)"
      ],
      "metadata": {
        "colab": {
          "base_uri": "https://localhost:8080/"
        },
        "id": "unoeeLOTviyz",
        "outputId": "194981ce-1efc-43fc-c5c8-6a165e5e922a"
      },
      "execution_count": null,
      "outputs": [
        {
          "output_type": "stream",
          "name": "stdout",
          "text": [
            "Return Customers by Payment Method:\n",
            "Payment Method\n",
            "Bank Transfer       20.936749\n",
            "Credit Card         20.796637\n",
            "Cash on Delivery    19.655725\n",
            "Debit Card          19.495596\n",
            "PayPal              19.115292\n",
            "Name: proportion, dtype: float64\n"
          ]
        }
      ]
    },
    {
      "cell_type": "markdown",
      "source": [
        "We can see Bank transfer influence customer to returns and buy again."
      ],
      "metadata": {
        "id": "DgkGfFL_ynpg"
      }
    },
    {
      "cell_type": "markdown",
      "source": [
        "**Q3: How does the location influence both purchase amount and delivery time?**"
      ],
      "metadata": {
        "id": "ELItdeN6Fl-l"
      }
    },
    {
      "cell_type": "code",
      "source": [
        "avg_delivery_time_by_location = df.groupby('Location')['Delivery Time (days)'].mean()\n",
        "\n",
        "avg_delivery_time_by_location = avg_delivery_time_by_location.sort_values(ascending=True)\n",
        "print(\"Average Delivery Time by Location:\")\n",
        "print(avg_delivery_time_by_location)"
      ],
      "metadata": {
        "colab": {
          "base_uri": "https://localhost:8080/"
        },
        "id": "moVGsx0Xwijs",
        "outputId": "7a2983ad-1860-45f9-9b85-90a255810e82"
      },
      "execution_count": null,
      "outputs": [
        {
          "output_type": "stream",
          "name": "stdout",
          "text": [
            "Average Delivery Time by Location:\n",
            "Location\n",
            "Khulna        6.811774\n",
            "Dhaka         6.941957\n",
            "Sylhet        7.018593\n",
            "Chittagong    7.020440\n",
            "Rangpur       7.031125\n",
            "Barisal       7.072800\n",
            "Mymensingh    7.099219\n",
            "Rajshahi      7.113130\n",
            "Name: Delivery Time (days), dtype: float64\n"
          ]
        }
      ]
    },
    {
      "cell_type": "code",
      "source": [
        "\n",
        "import pandas as pd\n",
        "\n",
        "delivery_time_counts = df.groupby(['Location', 'Delivery Time (days)'])['Customer ID'].count().reset_index(name='Count')\n",
        "most_common_delivery_time = delivery_time_counts.loc[delivery_time_counts.groupby('Location')['Count'].idxmax()]\n",
        "\n",
        "print(\"Most common delivery time for each location:\")\n",
        "print(most_common_delivery_time)\n"
      ],
      "metadata": {
        "colab": {
          "base_uri": "https://localhost:8080/"
        },
        "id": "KEHKtnh2jLK_",
        "outputId": "b89b28e7-1380-47bd-e982-c2975e449bcf"
      },
      "execution_count": null,
      "outputs": [
        {
          "output_type": "stream",
          "name": "stdout",
          "text": [
            "Most common delivery time for each location:\n",
            "       Location  Delivery Time (days)  Count\n",
            "10      Barisal                    11    113\n",
            "18   Chittagong                     6    112\n",
            "30        Dhaka                     5    109\n",
            "43       Khulna                     5    113\n",
            "55   Mymensingh                     4    123\n",
            "76     Rajshahi                    12    109\n",
            "83      Rangpur                     6    105\n",
            "100      Sylhet                    10    108\n"
          ]
        }
      ]
    },
    {
      "cell_type": "code",
      "source": [
        "purchases_by_location = df.groupby('Location').size()\n",
        "purchases_by_location = purchases_by_location.sort_values(ascending=False)\n",
        "print(\"Number of Purchases by Location:\")\n",
        "print(purchases_by_location)"
      ],
      "metadata": {
        "colab": {
          "base_uri": "https://localhost:8080/"
        },
        "id": "TNl75UZU3FRi",
        "outputId": "1fe19c90-5b86-4a4e-fbb1-e6dd226fb58d"
      },
      "execution_count": null,
      "outputs": [
        {
          "output_type": "stream",
          "name": "stdout",
          "text": [
            "Number of Purchases by Location:\n",
            "Location\n",
            "Khulna        1291\n",
            "Mymensingh    1280\n",
            "Chittagong    1272\n",
            "Rangpur       1253\n",
            "Barisal       1250\n",
            "Sylhet        1237\n",
            "Rajshahi      1211\n",
            "Dhaka         1206\n",
            "dtype: int64\n"
          ]
        }
      ]
    },
    {
      "cell_type": "code",
      "source": [
        "\n",
        "plt.figure(figsize=(8, 4))\n",
        "\n",
        "plt.subplot(1, 2, 1)\n",
        "purchases_by_location = df.groupby('Location')['Purchase Amount ($)'].sum()\n",
        "purchases_by_location.plot(kind='bar', color='skyblue')\n",
        "plt.title('Purchases by Location')\n",
        "plt.xlabel('Location')\n",
        "plt.ylabel('Total Purchase Amount')\n",
        "plt.xticks(rotation=45, ha='right')\n",
        "\n",
        "plt.subplot(1, 2, 2)\n",
        "avg_delivery_time_by_location = df.groupby('Location')['Delivery Time (days)'].mean()\n",
        "avg_delivery_time_by_location.plot(kind='bar', color='salmon')\n",
        "plt.title('Average Delivery Time by Location')\n",
        "plt.xlabel('Location')\n",
        "plt.ylabel('Average Delivery Time (days)')\n",
        "plt.xticks(rotation=45, ha='right')\n",
        "\n",
        "plt.tight_layout()\n",
        "plt.show()"
      ],
      "metadata": {
        "colab": {
          "base_uri": "https://localhost:8080/",
          "height": 407
        },
        "id": "o97_FQsD5SZg",
        "outputId": "173b731c-ec8c-40c9-ca19-1758b58e4264"
      },
      "execution_count": null,
      "outputs": [
        {
          "output_type": "display_data",
          "data": {
            "text/plain": [
              "<Figure size 800x400 with 2 Axes>"
            ],
            "image/png": "[encoded data removed]"
          },
          "metadata": {}
        }
      ]
    },
    {
      "cell_type": "markdown",
      "source": [
        "**We can see that, Khulna is the most influential location for more product purchases, and less average delivery time**"
      ],
      "metadata": {
        "id": "HUjZ3a2llNji"
      }
    },
    {
      "cell_type": "code",
      "source": [
        "\n",
        "import pandas as pd\n",
        "\n",
        "khulna_data = df[df['Location'] == 'Khulna']\n",
        "\n",
        "category_purchase_khulna = khulna_data.groupby('Product Category')['Purchase Amount ($)'].sum().sort_values(ascending=False)\n",
        "\n",
        "print(category_purchase_khulna)"
      ],
      "metadata": {
        "colab": {
          "base_uri": "https://localhost:8080/"
        },
        "id": "XylBt6KSp3oS",
        "outputId": "a7659071-b8c1-4a2e-9d40-2de45646218c"
      },
      "execution_count": null,
      "outputs": [
        {
          "output_type": "stream",
          "name": "stdout",
          "text": [
            "Product Category\n",
            "Clothing       96342.25\n",
            "Toys           94276.17\n",
            "Electronics    85505.69\n",
            "Groceries      82353.12\n",
            "Home           82309.03\n",
            "Sports         77684.77\n",
            "Books          77258.25\n",
            "Beauty         67763.48\n",
            "Name: Purchase Amount ($), dtype: float64\n"
          ]
        }
      ]
    },
    {
      "cell_type": "code",
      "source": [
        "\n",
        "avg_delivery_time_by_category = df.groupby('Product Category')['Delivery Time (days)'].mean()\n",
        "\n",
        "sorted_avg_delivery_time = avg_delivery_time_by_category.sort_values()\n",
        "\n",
        "print(sorted_avg_delivery_time)"
      ],
      "metadata": {
        "colab": {
          "base_uri": "https://localhost:8080/"
        },
        "id": "Dv_aaFvaqHrG",
        "outputId": "66bd796c-8c54-4abd-c522-7215e8db365a"
      },
      "execution_count": null,
      "outputs": [
        {
          "output_type": "stream",
          "name": "stdout",
          "text": [
            "Product Category\n",
            "Clothing       6.903624\n",
            "Groceries      6.960604\n",
            "Electronics    6.993125\n",
            "Books          7.029134\n",
            "Sports         7.034813\n",
            "Beauty         7.056143\n",
            "Home           7.057708\n",
            "Toys           7.071429\n",
            "Name: Delivery Time (days), dtype: float64\n"
          ]
        }
      ]
    },
    {
      "cell_type": "code",
      "source": [
        "\n",
        "rajshahi_data = df[df['Location'] == 'Rajshahi']\n",
        "\n",
        "category_purchase_rajshahi = rajshahi_data.groupby('Product Category')['Purchase Amount ($)'].sum()\n",
        "category_purchase_rajshahi = category_purchase_rajshahi.sort_values(ascending=False)\n",
        "\n",
        "\n",
        "print(f\"The most purchased category in Rajshahi is: {category_purchase_rajshahi}\")"
      ],
      "metadata": {
        "colab": {
          "base_uri": "https://localhost:8080/"
        },
        "id": "bZAqXd1Nrea_",
        "outputId": "57cc96f3-2399-45ff-c03b-14d96d3becbf"
      },
      "execution_count": null,
      "outputs": [
        {
          "output_type": "stream",
          "name": "stdout",
          "text": [
            "The most purchased category in Rajshahi is: Product Category\n",
            "Clothing       84319.87\n",
            "Toys           82032.49\n",
            "Electronics    79859.53\n",
            "Beauty         74778.48\n",
            "Books          73451.12\n",
            "Home           71301.88\n",
            "Groceries      69719.54\n",
            "Sports         64641.66\n",
            "Name: Purchase Amount ($), dtype: float64\n"
          ]
        }
      ]
    },
    {
      "cell_type": "code",
      "source": [
        "\n",
        "avg_time_spent_by_category = df.groupby('Product Category')['Time Spent on Website (min)'].mean()\n",
        "avg_time_spent_by_category = avg_time_spent_by_category.sort_values(ascending=False)\n",
        "\n",
        "print(avg_time_spent_by_category)"
      ],
      "metadata": {
        "colab": {
          "base_uri": "https://localhost:8080/"
        },
        "id": "Bnc8jsJGv9Yk",
        "outputId": "05515aef-cf67-4fc8-fc6c-1e7b44311f18"
      },
      "execution_count": null,
      "outputs": [
        {
          "output_type": "stream",
          "name": "stdout",
          "text": [
            "Product Category\n",
            "Groceries      30.381391\n",
            "Sports         30.230635\n",
            "Clothing       30.183500\n",
            "Home           30.174704\n",
            "Books          30.053543\n",
            "Toys           29.815217\n",
            "Beauty         29.564687\n",
            "Electronics    29.014515\n",
            "Name: Time Spent on Website (min), dtype: float64\n"
          ]
        }
      ]
    },
    {
      "cell_type": "code",
      "source": [
        "# prompt: total Number of Items Purchased of each category and average price of each item\n",
        "\n",
        "# Group by 'Product Category' and calculate the total number of items purchased for each category\n",
        "total_items_by_category = df.groupby('Product Category')['Number of Items Purchased'].sum()\n",
        "\n",
        "# Calculate the average price for each item in each category\n",
        "average_price_by_category = df.groupby('Product Category')['Purchase Amount ($)'].sum() / df.groupby('Product Category')['Number of Items Purchased'].sum()\n",
        "average_price_by_category = average_price_by_category.sort_values(ascending=False)\n",
        "# Print the results\n",
        "print(\"Total Number of Items Purchased by Category:\\n\", total_items_by_category)\n",
        "print(\"\\nAverage Price of Item by Category:\\n\", average_price_by_category)"
      ],
      "metadata": {
        "colab": {
          "base_uri": "https://localhost:8080/"
        },
        "id": "iIiHFLaIwkOw",
        "outputId": "ee0ccf9f-96ef-4de2-f89a-59f094f8e323"
      },
      "execution_count": null,
      "outputs": [
        {
          "output_type": "stream",
          "name": "stdout",
          "text": [
            "Total Number of Items Purchased by Category:\n",
            " Product Category\n",
            "Beauty         6057\n",
            "Books          6533\n",
            "Clothing       6359\n",
            "Electronics    6469\n",
            "Groceries      6067\n",
            "Home           6214\n",
            "Sports         5706\n",
            "Toys           6580\n",
            "Name: Number of Items Purchased, dtype: int64\n",
            "\n",
            "Average Price of Item by Category:\n",
            " Product Category\n",
            "Home           104.136936\n",
            "Clothing       101.721738\n",
            "Books          101.689634\n",
            "Toys           101.145195\n",
            "Beauty          99.596880\n",
            "Groceries       99.579789\n",
            "Sports          99.361935\n",
            "Electronics     99.045857\n",
            "dtype: float64\n"
          ]
        }
      ]
    }
  ]
}